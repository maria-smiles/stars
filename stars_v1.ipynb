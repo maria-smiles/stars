{
 "cells": [
  {
   "cell_type": "code",
   "execution_count": 1,
   "id": "bca9dc0f",
   "metadata": {},
   "outputs": [
    {
     "name": "stdout",
     "output_type": "stream",
     "text": [
      "GPU is available and being used\n"
     ]
    }
   ],
   "source": [
    "import warnings\n",
    "\n",
    "import pandas as pd\n",
    "import numpy as np\n",
    "import seaborn as sns\n",
    "import matplotlib.pyplot as plt\n",
    "from math import ceil, sqrt\n",
    "import random\n",
    "\n",
    "\n",
    "from sklearn.model_selection import train_test_split\n",
    "from sklearn.preprocessing import OneHotEncoder, StandardScaler\n",
    "from sklearn.metrics import mean_squared_error\n",
    "\n",
    "import torch\n",
    "import torch.nn as nn\n",
    "\n",
    "if torch.cuda.is_available():\n",
    "    device = torch.device(\"cuda\")\n",
    "    print(\"GPU is available and being used\")\n",
    "else:\n",
    "    device = torch.device(\"cpu\")\n",
    "    print(\"GPU is not available, using CPU instead\")\n",
    "\n",
    "warnings.filterwarnings('ignore')\n",
    "random.seed(12345)\n",
    "np.random.seed(12345)\n",
    "torch.manual_seed(12345)\n",
    "#torch.use_deterministic_algorithms(True)\n",
    "#Сброс ограничений на число столбцов\n",
    "#pd.options.display.max_columns = None\n",
    "RANDOM_STATE=12345"
   ]
  },
  {
   "cell_type": "code",
   "execution_count": 2,
   "id": "5aa14086",
   "metadata": {},
   "outputs": [
    {
     "name": "stdout",
     "output_type": "stream",
     "text": [
      "{'ok': True, 'result': []}\n"
     ]
    }
   ],
   "source": [
    "import requests\n",
    "TOKEN = \"6015117129:AAGCdFJKD8mCoJc3CdMN-4b7ktiEbhpAsYA\"\n",
    "url = f\"https://api.telegram.org/bot6015117129:AAGCdFJKD8mCoJc3CdMN-4b7ktiEbhpAsYA/getUpdates\"\n",
    "print(requests.get(url).json())\n",
    "\n",
    "TOKEN = \"6015117129:AAGCdFJKD8mCoJc3CdMN-4b7ktiEbhpAsYA\"\n",
    "chat_id = \"916785354\"\n",
    "message = \"Done!\"\n",
    "url = f\"https://api.telegram.org/bot6015117129:AAGCdFJKD8mCoJc3CdMN-4b7ktiEbhpAsYA/sendMessage?chat_id=916785354&text=Done!\""
   ]
  },
  {
   "cell_type": "markdown",
   "id": "corresponding-armstrong",
   "metadata": {
    "ExecuteTime": {
     "end_time": "2022-05-05T04:58:05.692448Z",
     "start_time": "2022-05-05T04:58:05.688565Z"
    }
   },
   "source": [
    "## Загрузка данных"
   ]
  },
  {
   "cell_type": "code",
   "execution_count": 3,
   "id": "spectacular-folder",
   "metadata": {
    "scrolled": true
   },
   "outputs": [],
   "source": [
    "#df = pd.read_excel('stars.xlsx', sheet_name='stars')\n",
    "\n",
    "\n",
    "df = pd.read_csv('stars.csv', sep='\\t')\n",
    "#df = pd.read_csv('/datasets/6_class.csv')"
   ]
  },
  {
   "cell_type": "markdown",
   "id": "simple-subdivision",
   "metadata": {},
   "source": [
    "## Предобработка и анализ данных"
   ]
  },
  {
   "cell_type": "code",
   "execution_count": 4,
   "id": "561cc6ba",
   "metadata": {},
   "outputs": [
    {
     "data": {
      "text/html": [
       "<div>\n",
       "<style scoped>\n",
       "    .dataframe tbody tr th:only-of-type {\n",
       "        vertical-align: middle;\n",
       "    }\n",
       "\n",
       "    .dataframe tbody tr th {\n",
       "        vertical-align: top;\n",
       "    }\n",
       "\n",
       "    .dataframe thead th {\n",
       "        text-align: right;\n",
       "    }\n",
       "</style>\n",
       "<table border=\"1\" class=\"dataframe\">\n",
       "  <thead>\n",
       "    <tr style=\"text-align: right;\">\n",
       "      <th></th>\n",
       "      <th>Unnamed: 0.1</th>\n",
       "      <th>Unnamed: 0</th>\n",
       "      <th>Temperature (K)</th>\n",
       "      <th>Luminosity(L/Lo)</th>\n",
       "      <th>Radius(R/Ro)</th>\n",
       "      <th>Absolute magnitude(Mv)</th>\n",
       "      <th>Star type</th>\n",
       "      <th>Star color</th>\n",
       "    </tr>\n",
       "  </thead>\n",
       "  <tbody>\n",
       "    <tr>\n",
       "      <th>0</th>\n",
       "      <td>0</td>\n",
       "      <td>0</td>\n",
       "      <td>3068</td>\n",
       "      <td>0.002400</td>\n",
       "      <td>0.1700</td>\n",
       "      <td>16.12</td>\n",
       "      <td>0</td>\n",
       "      <td>Red</td>\n",
       "    </tr>\n",
       "    <tr>\n",
       "      <th>1</th>\n",
       "      <td>1</td>\n",
       "      <td>1</td>\n",
       "      <td>3042</td>\n",
       "      <td>0.000500</td>\n",
       "      <td>0.1542</td>\n",
       "      <td>16.60</td>\n",
       "      <td>0</td>\n",
       "      <td>Red</td>\n",
       "    </tr>\n",
       "    <tr>\n",
       "      <th>2</th>\n",
       "      <td>2</td>\n",
       "      <td>2</td>\n",
       "      <td>2600</td>\n",
       "      <td>0.000300</td>\n",
       "      <td>0.1020</td>\n",
       "      <td>18.70</td>\n",
       "      <td>0</td>\n",
       "      <td>Red</td>\n",
       "    </tr>\n",
       "    <tr>\n",
       "      <th>3</th>\n",
       "      <td>3</td>\n",
       "      <td>3</td>\n",
       "      <td>2800</td>\n",
       "      <td>0.000200</td>\n",
       "      <td>0.1600</td>\n",
       "      <td>16.65</td>\n",
       "      <td>0</td>\n",
       "      <td>Red</td>\n",
       "    </tr>\n",
       "    <tr>\n",
       "      <th>4</th>\n",
       "      <td>4</td>\n",
       "      <td>4</td>\n",
       "      <td>1939</td>\n",
       "      <td>0.000138</td>\n",
       "      <td>0.1030</td>\n",
       "      <td>20.06</td>\n",
       "      <td>0</td>\n",
       "      <td>Red</td>\n",
       "    </tr>\n",
       "    <tr>\n",
       "      <th>...</th>\n",
       "      <td>...</td>\n",
       "      <td>...</td>\n",
       "      <td>...</td>\n",
       "      <td>...</td>\n",
       "      <td>...</td>\n",
       "      <td>...</td>\n",
       "      <td>...</td>\n",
       "      <td>...</td>\n",
       "    </tr>\n",
       "    <tr>\n",
       "      <th>235</th>\n",
       "      <td>235</td>\n",
       "      <td>235</td>\n",
       "      <td>38940</td>\n",
       "      <td>374830.000000</td>\n",
       "      <td>1356.0000</td>\n",
       "      <td>-9.93</td>\n",
       "      <td>5</td>\n",
       "      <td>Blue</td>\n",
       "    </tr>\n",
       "    <tr>\n",
       "      <th>236</th>\n",
       "      <td>236</td>\n",
       "      <td>236</td>\n",
       "      <td>30839</td>\n",
       "      <td>834042.000000</td>\n",
       "      <td>1194.0000</td>\n",
       "      <td>-10.63</td>\n",
       "      <td>5</td>\n",
       "      <td>Blue</td>\n",
       "    </tr>\n",
       "    <tr>\n",
       "      <th>237</th>\n",
       "      <td>237</td>\n",
       "      <td>237</td>\n",
       "      <td>8829</td>\n",
       "      <td>537493.000000</td>\n",
       "      <td>1423.0000</td>\n",
       "      <td>-10.73</td>\n",
       "      <td>5</td>\n",
       "      <td>White</td>\n",
       "    </tr>\n",
       "    <tr>\n",
       "      <th>238</th>\n",
       "      <td>238</td>\n",
       "      <td>238</td>\n",
       "      <td>9235</td>\n",
       "      <td>404940.000000</td>\n",
       "      <td>1112.0000</td>\n",
       "      <td>-11.23</td>\n",
       "      <td>5</td>\n",
       "      <td>White</td>\n",
       "    </tr>\n",
       "    <tr>\n",
       "      <th>239</th>\n",
       "      <td>239</td>\n",
       "      <td>239</td>\n",
       "      <td>37882</td>\n",
       "      <td>294903.000000</td>\n",
       "      <td>1783.0000</td>\n",
       "      <td>-7.80</td>\n",
       "      <td>5</td>\n",
       "      <td>Blue</td>\n",
       "    </tr>\n",
       "  </tbody>\n",
       "</table>\n",
       "<p>240 rows × 8 columns</p>\n",
       "</div>"
      ],
      "text/plain": [
       "     Unnamed: 0.1  Unnamed: 0  Temperature (K)  Luminosity(L/Lo)  \\\n",
       "0               0           0             3068          0.002400   \n",
       "1               1           1             3042          0.000500   \n",
       "2               2           2             2600          0.000300   \n",
       "3               3           3             2800          0.000200   \n",
       "4               4           4             1939          0.000138   \n",
       "..            ...         ...              ...               ...   \n",
       "235           235         235            38940     374830.000000   \n",
       "236           236         236            30839     834042.000000   \n",
       "237           237         237             8829     537493.000000   \n",
       "238           238         238             9235     404940.000000   \n",
       "239           239         239            37882     294903.000000   \n",
       "\n",
       "     Radius(R/Ro)  Absolute magnitude(Mv)  Star type Star color  \n",
       "0          0.1700                   16.12          0        Red  \n",
       "1          0.1542                   16.60          0        Red  \n",
       "2          0.1020                   18.70          0        Red  \n",
       "3          0.1600                   16.65          0        Red  \n",
       "4          0.1030                   20.06          0        Red  \n",
       "..            ...                     ...        ...        ...  \n",
       "235     1356.0000                   -9.93          5       Blue  \n",
       "236     1194.0000                  -10.63          5       Blue  \n",
       "237     1423.0000                  -10.73          5      White  \n",
       "238     1112.0000                  -11.23          5      White  \n",
       "239     1783.0000                   -7.80          5       Blue  \n",
       "\n",
       "[240 rows x 8 columns]"
      ]
     },
     "execution_count": 4,
     "metadata": {},
     "output_type": "execute_result"
    }
   ],
   "source": [
    "df"
   ]
  },
  {
   "cell_type": "code",
   "execution_count": 5,
   "id": "71956b8d",
   "metadata": {
    "scrolled": true
   },
   "outputs": [
    {
     "name": "stdout",
     "output_type": "stream",
     "text": [
      "<class 'pandas.core.frame.DataFrame'>\n",
      "RangeIndex: 240 entries, 0 to 239\n",
      "Data columns (total 8 columns):\n",
      " #   Column                  Non-Null Count  Dtype  \n",
      "---  ------                  --------------  -----  \n",
      " 0   Unnamed: 0.1            240 non-null    int64  \n",
      " 1   Unnamed: 0              240 non-null    int64  \n",
      " 2   Temperature (K)         240 non-null    int64  \n",
      " 3   Luminosity(L/Lo)        240 non-null    float64\n",
      " 4   Radius(R/Ro)            240 non-null    float64\n",
      " 5   Absolute magnitude(Mv)  240 non-null    float64\n",
      " 6   Star type               240 non-null    int64  \n",
      " 7   Star color              240 non-null    object \n",
      "dtypes: float64(3), int64(4), object(1)\n",
      "memory usage: 15.1+ KB\n"
     ]
    }
   ],
   "source": [
    "df.info()"
   ]
  },
  {
   "cell_type": "markdown",
   "id": "71c27141",
   "metadata": {},
   "source": [
    "Без пропусков - это прекрасно. Непонятная первая колонка - без названия, целочисленная."
   ]
  },
  {
   "cell_type": "code",
   "execution_count": 6,
   "id": "8207781b",
   "metadata": {
    "scrolled": true
   },
   "outputs": [
    {
     "data": {
      "text/html": [
       "<div>\n",
       "<style scoped>\n",
       "    .dataframe tbody tr th:only-of-type {\n",
       "        vertical-align: middle;\n",
       "    }\n",
       "\n",
       "    .dataframe tbody tr th {\n",
       "        vertical-align: top;\n",
       "    }\n",
       "\n",
       "    .dataframe thead th {\n",
       "        text-align: right;\n",
       "    }\n",
       "</style>\n",
       "<table border=\"1\" class=\"dataframe\">\n",
       "  <thead>\n",
       "    <tr style=\"text-align: right;\">\n",
       "      <th></th>\n",
       "      <th>Unnamed: 0.1</th>\n",
       "      <th>Unnamed: 0</th>\n",
       "      <th>Temperature (K)</th>\n",
       "      <th>Luminosity(L/Lo)</th>\n",
       "      <th>Radius(R/Ro)</th>\n",
       "      <th>Absolute magnitude(Mv)</th>\n",
       "      <th>Star type</th>\n",
       "      <th>Star color</th>\n",
       "    </tr>\n",
       "  </thead>\n",
       "  <tbody>\n",
       "    <tr>\n",
       "      <th>232</th>\n",
       "      <td>232</td>\n",
       "      <td>232</td>\n",
       "      <td>32489</td>\n",
       "      <td>648430.00000</td>\n",
       "      <td>1948.50</td>\n",
       "      <td>-10.840</td>\n",
       "      <td>5</td>\n",
       "      <td>Blue</td>\n",
       "    </tr>\n",
       "    <tr>\n",
       "      <th>30</th>\n",
       "      <td>30</td>\n",
       "      <td>30</td>\n",
       "      <td>39000</td>\n",
       "      <td>204000.00000</td>\n",
       "      <td>10.60</td>\n",
       "      <td>-4.700</td>\n",
       "      <td>3</td>\n",
       "      <td>Blue</td>\n",
       "    </tr>\n",
       "    <tr>\n",
       "      <th>216</th>\n",
       "      <td>216</td>\n",
       "      <td>216</td>\n",
       "      <td>9320</td>\n",
       "      <td>29.00000</td>\n",
       "      <td>1.91</td>\n",
       "      <td>1.236</td>\n",
       "      <td>3</td>\n",
       "      <td>Blue-white</td>\n",
       "    </tr>\n",
       "    <tr>\n",
       "      <th>52</th>\n",
       "      <td>52</td>\n",
       "      <td>52</td>\n",
       "      <td>3834</td>\n",
       "      <td>272000.00000</td>\n",
       "      <td>1183.00</td>\n",
       "      <td>-9.200</td>\n",
       "      <td>5</td>\n",
       "      <td>Red</td>\n",
       "    </tr>\n",
       "    <tr>\n",
       "      <th>94</th>\n",
       "      <td>94</td>\n",
       "      <td>94</td>\n",
       "      <td>9030</td>\n",
       "      <td>45.00000</td>\n",
       "      <td>2.63</td>\n",
       "      <td>1.450</td>\n",
       "      <td>3</td>\n",
       "      <td>Blue-white</td>\n",
       "    </tr>\n",
       "    <tr>\n",
       "      <th>122</th>\n",
       "      <td>122</td>\n",
       "      <td>122</td>\n",
       "      <td>3218</td>\n",
       "      <td>0.00054</td>\n",
       "      <td>0.11</td>\n",
       "      <td>20.020</td>\n",
       "      <td>0</td>\n",
       "      <td>Red</td>\n",
       "    </tr>\n",
       "    <tr>\n",
       "      <th>213</th>\n",
       "      <td>213</td>\n",
       "      <td>213</td>\n",
       "      <td>22012</td>\n",
       "      <td>6748.00000</td>\n",
       "      <td>6.64</td>\n",
       "      <td>-2.550</td>\n",
       "      <td>3</td>\n",
       "      <td>Blue-white</td>\n",
       "    </tr>\n",
       "    <tr>\n",
       "      <th>95</th>\n",
       "      <td>95</td>\n",
       "      <td>95</td>\n",
       "      <td>11250</td>\n",
       "      <td>672.00000</td>\n",
       "      <td>6.98</td>\n",
       "      <td>-2.300</td>\n",
       "      <td>3</td>\n",
       "      <td>Blue-white</td>\n",
       "    </tr>\n",
       "  </tbody>\n",
       "</table>\n",
       "</div>"
      ],
      "text/plain": [
       "     Unnamed: 0.1  Unnamed: 0  Temperature (K)  Luminosity(L/Lo)  \\\n",
       "232           232         232            32489      648430.00000   \n",
       "30             30          30            39000      204000.00000   \n",
       "216           216         216             9320          29.00000   \n",
       "52             52          52             3834      272000.00000   \n",
       "94             94          94             9030          45.00000   \n",
       "122           122         122             3218           0.00054   \n",
       "213           213         213            22012        6748.00000   \n",
       "95             95          95            11250         672.00000   \n",
       "\n",
       "     Radius(R/Ro)  Absolute magnitude(Mv)  Star type  Star color  \n",
       "232       1948.50                 -10.840          5        Blue  \n",
       "30          10.60                  -4.700          3        Blue  \n",
       "216          1.91                   1.236          3  Blue-white  \n",
       "52        1183.00                  -9.200          5         Red  \n",
       "94           2.63                   1.450          3  Blue-white  \n",
       "122          0.11                  20.020          0         Red  \n",
       "213          6.64                  -2.550          3  Blue-white  \n",
       "95           6.98                  -2.300          3  Blue-white  "
      ]
     },
     "execution_count": 6,
     "metadata": {},
     "output_type": "execute_result"
    }
   ],
   "source": [
    "df.sample(8)"
   ]
  },
  {
   "cell_type": "markdown",
   "id": "93b348a6",
   "metadata": {},
   "source": [
    "Первая колонка - это индекс, удалю. В последней вижу необходимость приведения слов к одинаковому написанию."
   ]
  },
  {
   "cell_type": "code",
   "execution_count": 7,
   "id": "6a4aa0f0",
   "metadata": {
    "scrolled": true
   },
   "outputs": [],
   "source": [
    "#df = df.drop('Unnamed: 0', axis=1)\n",
    "\n",
    "df = df.drop(['Unnamed: 0','Unnamed: 0.1'], axis=1)"
   ]
  },
  {
   "cell_type": "code",
   "execution_count": 8,
   "id": "501836e2",
   "metadata": {},
   "outputs": [
    {
     "data": {
      "text/html": [
       "<div>\n",
       "<style scoped>\n",
       "    .dataframe tbody tr th:only-of-type {\n",
       "        vertical-align: middle;\n",
       "    }\n",
       "\n",
       "    .dataframe tbody tr th {\n",
       "        vertical-align: top;\n",
       "    }\n",
       "\n",
       "    .dataframe thead th {\n",
       "        text-align: right;\n",
       "    }\n",
       "</style>\n",
       "<table border=\"1\" class=\"dataframe\">\n",
       "  <thead>\n",
       "    <tr style=\"text-align: right;\">\n",
       "      <th></th>\n",
       "      <th>Temperature (K)</th>\n",
       "      <th>Luminosity(L/Lo)</th>\n",
       "      <th>Radius(R/Ro)</th>\n",
       "      <th>Absolute magnitude(Mv)</th>\n",
       "      <th>Star type</th>\n",
       "    </tr>\n",
       "  </thead>\n",
       "  <tbody>\n",
       "    <tr>\n",
       "      <th>count</th>\n",
       "      <td>240.000000</td>\n",
       "      <td>240.000000</td>\n",
       "      <td>240.000000</td>\n",
       "      <td>240.000000</td>\n",
       "      <td>240.000000</td>\n",
       "    </tr>\n",
       "    <tr>\n",
       "      <th>mean</th>\n",
       "      <td>10497.462500</td>\n",
       "      <td>107188.361635</td>\n",
       "      <td>237.157781</td>\n",
       "      <td>4.382396</td>\n",
       "      <td>2.500000</td>\n",
       "    </tr>\n",
       "    <tr>\n",
       "      <th>std</th>\n",
       "      <td>9552.425037</td>\n",
       "      <td>179432.244940</td>\n",
       "      <td>517.155763</td>\n",
       "      <td>10.532512</td>\n",
       "      <td>1.711394</td>\n",
       "    </tr>\n",
       "    <tr>\n",
       "      <th>min</th>\n",
       "      <td>1939.000000</td>\n",
       "      <td>0.000080</td>\n",
       "      <td>0.008400</td>\n",
       "      <td>-11.920000</td>\n",
       "      <td>0.000000</td>\n",
       "    </tr>\n",
       "    <tr>\n",
       "      <th>25%</th>\n",
       "      <td>3344.250000</td>\n",
       "      <td>0.000865</td>\n",
       "      <td>0.102750</td>\n",
       "      <td>-6.232500</td>\n",
       "      <td>1.000000</td>\n",
       "    </tr>\n",
       "    <tr>\n",
       "      <th>50%</th>\n",
       "      <td>5776.000000</td>\n",
       "      <td>0.070500</td>\n",
       "      <td>0.762500</td>\n",
       "      <td>8.313000</td>\n",
       "      <td>2.500000</td>\n",
       "    </tr>\n",
       "    <tr>\n",
       "      <th>75%</th>\n",
       "      <td>15055.500000</td>\n",
       "      <td>198050.000000</td>\n",
       "      <td>42.750000</td>\n",
       "      <td>13.697500</td>\n",
       "      <td>4.000000</td>\n",
       "    </tr>\n",
       "    <tr>\n",
       "      <th>max</th>\n",
       "      <td>40000.000000</td>\n",
       "      <td>849420.000000</td>\n",
       "      <td>1948.500000</td>\n",
       "      <td>20.060000</td>\n",
       "      <td>5.000000</td>\n",
       "    </tr>\n",
       "  </tbody>\n",
       "</table>\n",
       "</div>"
      ],
      "text/plain": [
       "       Temperature (K)  Luminosity(L/Lo)  Radius(R/Ro)  \\\n",
       "count       240.000000        240.000000    240.000000   \n",
       "mean      10497.462500     107188.361635    237.157781   \n",
       "std        9552.425037     179432.244940    517.155763   \n",
       "min        1939.000000          0.000080      0.008400   \n",
       "25%        3344.250000          0.000865      0.102750   \n",
       "50%        5776.000000          0.070500      0.762500   \n",
       "75%       15055.500000     198050.000000     42.750000   \n",
       "max       40000.000000     849420.000000   1948.500000   \n",
       "\n",
       "       Absolute magnitude(Mv)   Star type  \n",
       "count              240.000000  240.000000  \n",
       "mean                 4.382396    2.500000  \n",
       "std                 10.532512    1.711394  \n",
       "min                -11.920000    0.000000  \n",
       "25%                 -6.232500    1.000000  \n",
       "50%                  8.313000    2.500000  \n",
       "75%                 13.697500    4.000000  \n",
       "max                 20.060000    5.000000  "
      ]
     },
     "execution_count": 8,
     "metadata": {},
     "output_type": "execute_result"
    }
   ],
   "source": [
    "df.describe()"
   ]
  },
  {
   "cell_type": "markdown",
   "id": "5ee1293e",
   "metadata": {},
   "source": [
    "В этих данных категории в колонке 'Star type' и 'Star color'. Со 'Star type' будет коррелировать абсолютно всё, потому что типы как раз выделяются за счёт группировки объектов в кластеры, так можно сказать. И у каждого кластера определённые параметры.\n",
    "\n",
    "Рассмотрим значения цветов. Вызывают сомнения 'yellowish' и сложные цвета. Оказывается, \"желтоватый\" вполне нормальный термин, а \"Blue-white\" и \"Blue white\" не одинаковые цвета в таблицах классификации (можно ознакомиться, например, здесь => https://kosmosgid.ru/zvyozdy/klassi-zvezd). Однако, у конкретной звезды должен быть один цвет, поэтому считаю уместным в двойных словах ставить тире. Нам дано, что этот параметр определён по спектру, а не по таблице классификации, поэтому должен быть однозначным. "
   ]
  },
  {
   "cell_type": "code",
   "execution_count": 9,
   "id": "2c263ec3",
   "metadata": {},
   "outputs": [
    {
     "data": {
      "text/plain": [
       "array(['Red', 'Blue White', 'White', 'Yellowish White', 'Blue white',\n",
       "       'Pale yellow orange', 'Blue', 'Blue-white', 'Whitish',\n",
       "       'yellow-white', 'Orange', 'White-Yellow', 'white', 'yellowish',\n",
       "       'Yellowish', 'Orange-Red', 'Blue-White'], dtype=object)"
      ]
     },
     "execution_count": 9,
     "metadata": {},
     "output_type": "execute_result"
    }
   ],
   "source": [
    "df['Star color'].unique()"
   ]
  },
  {
   "cell_type": "code",
   "execution_count": 10,
   "id": "c12facaa",
   "metadata": {},
   "outputs": [
    {
     "data": {
      "text/plain": [
       "array(['red', 'blue-white', 'white', 'yellowish-white', 'yellow-orange',\n",
       "       'blue', 'whitish', 'yellow-white', 'orange', 'yellowish',\n",
       "       'orange-red'], dtype=object)"
      ]
     },
     "execution_count": 10,
     "metadata": {},
     "output_type": "execute_result"
    }
   ],
   "source": [
    "star_color = {\n",
    "'Red':'red', \n",
    "'Blue White':'blue-white', \n",
    "'White':'white', \n",
    "'Yellowish White':'yellowish-white', \n",
    "'Blue white':'blue-white',\n",
    "'Pale yellow orange':'yellow-orange', \n",
    "'Blue':'blue', \n",
    "'Blue-white':'blue-white', \n",
    "'Whitish':'whitish',\n",
    "'yellow-white':'yellow-white', \n",
    "'Orange':'orange', \n",
    "'White-Yellow':'yellow-white', \n",
    "'Blue ':'blue',\n",
    "'Yellowish':'yellowish', \n",
    "'Orange-Red':'orange-red', \n",
    "'Blue white ':'blue-white',\n",
    "'Blue-White':'blue-white' }  \n",
    "df['Star color'] = df['Star color'].replace(star_color)\n",
    "df['Star color'].unique()"
   ]
  },
  {
   "cell_type": "code",
   "execution_count": 11,
   "id": "e1b98f57",
   "metadata": {},
   "outputs": [
    {
     "data": {
      "text/html": [
       "<div>\n",
       "<style scoped>\n",
       "    .dataframe tbody tr th:only-of-type {\n",
       "        vertical-align: middle;\n",
       "    }\n",
       "\n",
       "    .dataframe tbody tr th {\n",
       "        vertical-align: top;\n",
       "    }\n",
       "\n",
       "    .dataframe thead tr th {\n",
       "        text-align: left;\n",
       "    }\n",
       "\n",
       "    .dataframe thead tr:last-of-type th {\n",
       "        text-align: right;\n",
       "    }\n",
       "</style>\n",
       "<table border=\"1\" class=\"dataframe\">\n",
       "  <thead>\n",
       "    <tr>\n",
       "      <th></th>\n",
       "      <th colspan=\"3\" halign=\"left\">Temperature (K)</th>\n",
       "    </tr>\n",
       "    <tr>\n",
       "      <th></th>\n",
       "      <th>min</th>\n",
       "      <th>max</th>\n",
       "      <th>count</th>\n",
       "    </tr>\n",
       "    <tr>\n",
       "      <th>Star color</th>\n",
       "      <th></th>\n",
       "      <th></th>\n",
       "      <th></th>\n",
       "    </tr>\n",
       "  </thead>\n",
       "  <tbody>\n",
       "    <tr>\n",
       "      <th>blue</th>\n",
       "      <td>5752</td>\n",
       "      <td>40000</td>\n",
       "      <td>56</td>\n",
       "    </tr>\n",
       "    <tr>\n",
       "      <th>blue-white</th>\n",
       "      <td>8570</td>\n",
       "      <td>30000</td>\n",
       "      <td>41</td>\n",
       "    </tr>\n",
       "    <tr>\n",
       "      <th>orange</th>\n",
       "      <td>3749</td>\n",
       "      <td>4287</td>\n",
       "      <td>2</td>\n",
       "    </tr>\n",
       "    <tr>\n",
       "      <th>orange-red</th>\n",
       "      <td>5112</td>\n",
       "      <td>5112</td>\n",
       "      <td>1</td>\n",
       "    </tr>\n",
       "    <tr>\n",
       "      <th>red</th>\n",
       "      <td>1939</td>\n",
       "      <td>6850</td>\n",
       "      <td>112</td>\n",
       "    </tr>\n",
       "    <tr>\n",
       "      <th>white</th>\n",
       "      <td>7220</td>\n",
       "      <td>14732</td>\n",
       "      <td>10</td>\n",
       "    </tr>\n",
       "    <tr>\n",
       "      <th>whitish</th>\n",
       "      <td>8052</td>\n",
       "      <td>9700</td>\n",
       "      <td>2</td>\n",
       "    </tr>\n",
       "    <tr>\n",
       "      <th>yellow-orange</th>\n",
       "      <td>7230</td>\n",
       "      <td>7230</td>\n",
       "      <td>1</td>\n",
       "    </tr>\n",
       "    <tr>\n",
       "      <th>yellow-white</th>\n",
       "      <td>5300</td>\n",
       "      <td>8250</td>\n",
       "      <td>9</td>\n",
       "    </tr>\n",
       "    <tr>\n",
       "      <th>yellowish</th>\n",
       "      <td>4077</td>\n",
       "      <td>4980</td>\n",
       "      <td>3</td>\n",
       "    </tr>\n",
       "    <tr>\n",
       "      <th>yellowish-white</th>\n",
       "      <td>7700</td>\n",
       "      <td>12990</td>\n",
       "      <td>3</td>\n",
       "    </tr>\n",
       "  </tbody>\n",
       "</table>\n",
       "</div>"
      ],
      "text/plain": [
       "                Temperature (K)             \n",
       "                            min    max count\n",
       "Star color                                  \n",
       "blue                       5752  40000    56\n",
       "blue-white                 8570  30000    41\n",
       "orange                     3749   4287     2\n",
       "orange-red                 5112   5112     1\n",
       "red                        1939   6850   112\n",
       "white                      7220  14732    10\n",
       "whitish                    8052   9700     2\n",
       "yellow-orange              7230   7230     1\n",
       "yellow-white               5300   8250     9\n",
       "yellowish                  4077   4980     3\n",
       "yellowish-white            7700  12990     3"
      ]
     },
     "execution_count": 11,
     "metadata": {},
     "output_type": "execute_result"
    }
   ],
   "source": [
    "df.groupby('Star color').agg({'Temperature (K)':['min','max','count']})"
   ]
  },
  {
   "cell_type": "markdown",
   "id": "0bd3565a",
   "metadata": {},
   "source": [
    "В каких-то категориях будет маловато объектов, но таковы данные. "
   ]
  },
  {
   "cell_type": "code",
   "execution_count": 12,
   "id": "b726b33b",
   "metadata": {},
   "outputs": [
    {
     "data": {
      "text/plain": [
       "0"
      ]
     },
     "execution_count": 12,
     "metadata": {},
     "output_type": "execute_result"
    }
   ],
   "source": [
    "df.duplicated().sum()"
   ]
  },
  {
   "cell_type": "markdown",
   "id": "7aeb5f23",
   "metadata": {},
   "source": [
    "Дубли отсутствуют."
   ]
  },
  {
   "cell_type": "code",
   "execution_count": 13,
   "id": "a5fa36fa",
   "metadata": {},
   "outputs": [
    {
     "data": {
      "image/png": "[encoded data removed]",
      "text/plain": [
       "<Figure size 1075.24x1000 with 20 Axes>"
      ]
     },
     "metadata": {},
     "output_type": "display_data"
    }
   ],
   "source": [
    "sns.pairplot(df, hue='Star type');"
   ]
  },
  {
   "cell_type": "markdown",
   "id": "ddd5cb29",
   "metadata": {},
   "source": [
    "Между абсолютными температурой и звёздной величиной вырисовывается известная зависимость Герцшпрунга-Рассела(спектр/светимость) с главной последовательностью и областями гигантов и молодых звёзд. \n",
    "Радиус нам показывает, что в большинстве звёзды сравнимы с нашим Солнцем и только гипергиганты занимают большую площадь графиков (имеют сильный разброс значений радиуса). \n",
    "Также гипергиганты и сверхгиганты имеют отрицательную абсолютную звёздную величину и группируются в левой части графика.\n",
    "В светимости тоже видим разброс значений для сверхгигантов и гипергигантов, но также и звёзды главной последовательности при высоких температурах могут демонстрировать разнообразие значений светимости. "
   ]
  },
  {
   "cell_type": "code",
   "execution_count": 14,
   "id": "a8899a90",
   "metadata": {},
   "outputs": [],
   "source": [
    "columns = df.columns\n"
   ]
  },
  {
   "cell_type": "code",
   "execution_count": 15,
   "id": "fdeaddf4",
   "metadata": {},
   "outputs": [
    {
     "data": {
      "image/png": "[encoded data removed]",
      "text/plain": [
       "<Figure size 1200x800 with 2 Axes>"
      ]
     },
     "metadata": {},
     "output_type": "display_data"
    },
    {
     "data": {
      "image/png": "[encoded data removed]",
      "text/plain": [
       "<Figure size 1200x800 with 2 Axes>"
      ]
     },
     "metadata": {},
     "output_type": "display_data"
    },
    {
     "data": {
      "image/png": "[encoded data removed]",
      "text/plain": [
       "<Figure size 1200x800 with 2 Axes>"
      ]
     },
     "metadata": {},
     "output_type": "display_data"
    },
    {
     "data": {
      "image/png": "[encoded data removed]",
      "text/plain": [
       "<Figure size 1200x800 with 2 Axes>"
      ]
     },
     "metadata": {},
     "output_type": "display_data"
    }
   ],
   "source": [
    "for i in columns[1:-1]:\n",
    "    fig, (ax_hist, ax_box) = plt.subplots(2, sharex=True, gridspec_kw={\"height_ratios\": (.8, .2)}, figsize=(12, 8))\n",
    "\n",
    "    sns.histplot(x=df[i], ax=ax_hist, color='palevioletred')\n",
    "    sns.boxplot(x=df[i], ax=ax_box, color='palevioletred')\n",
    "\n",
    "    ax_box.set(xlabel=i)\n",
    "    ax_hist.set(ylabel='Count')\n",
    "    ax_hist.set(title=i+' distribution')\n",
    "    plt.show()\n",
    "\n",
    "\n",
    "  "
   ]
  },
  {
   "cell_type": "markdown",
   "id": "d80d1912",
   "metadata": {},
   "source": [
    "Все типы представлены равным количеством звёзд, и при этом их характеристики разнообразны.\n",
    "Светимость в основном низкая с небольшим всплеском в первой четверти, радиус маленький, с промежутком между гигантами и остальными, а звёздная величина имеет два максимума."
   ]
  },
  {
   "cell_type": "markdown",
   "id": "cf9f1d60",
   "metadata": {},
   "source": [
    "Рассмотрим целевой признак."
   ]
  },
  {
   "cell_type": "code",
   "execution_count": 16,
   "id": "8263a22b",
   "metadata": {
    "scrolled": true
   },
   "outputs": [
    {
     "data": {
      "image/png": "[encoded data removed]",
      "text/plain": [
       "<Figure size 1200x800 with 2 Axes>"
      ]
     },
     "metadata": {},
     "output_type": "display_data"
    }
   ],
   "source": [
    "\n",
    "fig, (ax_hist, ax_box) = plt.subplots(2, sharex=True, gridspec_kw={\"height_ratios\": (.8, .2)}, figsize=(12, 8))\n",
    "\n",
    "sns.histplot(x=df['Temperature (K)'], ax=ax_hist, color='palevioletred')\n",
    "sns.boxplot(x=df['Temperature (K)'], ax=ax_box, color='palevioletred')\n",
    "\n",
    "ax_box.set(xlabel='Temperature (K)')\n",
    "ax_hist.set(ylabel='Count')\n",
    "ax_hist.set(title='Temperature distribution')\n",
    "plt.show()"
   ]
  },
  {
   "cell_type": "markdown",
   "id": "fe192837",
   "metadata": {},
   "source": [
    "Основная масса звёзд приходится на низкие температуры и медленное горение, что примерно соответствует ситуации в общем (http://www.astronet.ru/db/msg/1177040/chapter7_05.html - до 90% звёзд относятся к нормальным) . Особенные звёзды не будем отбрасывать - данных мало, и такие объекты действительно обнаружены.\n",
    "\n",
    "Посмотрим, что показывает матрица корреляций."
   ]
  },
  {
   "cell_type": "code",
   "execution_count": 17,
   "id": "c02c951d",
   "metadata": {
    "scrolled": true
   },
   "outputs": [
    {
     "data": {
      "text/plain": [
       "<Axes: >"
      ]
     },
     "execution_count": 17,
     "metadata": {},
     "output_type": "execute_result"
    },
    {
     "data": {
      "image/png": "[encoded data removed]",
      "text/plain": [
       "<Figure size 1600x800 with 2 Axes>"
      ]
     },
     "metadata": {},
     "output_type": "display_data"
    }
   ],
   "source": [
    "correlation_matrix = df.corr()\n",
    "\n",
    "plt.figure(figsize= (16, 8))\n",
    "sns.heatmap(correlation_matrix, annot = True)"
   ]
  },
  {
   "cell_type": "markdown",
   "id": "0f9318d3",
   "metadata": {},
   "source": [
    "Температура напрямую коррелирует со светимостью и типом звезды, и обратно коррелирует с абсолютной звёздной величиной.\n",
    "\n",
    "Абсолютная звёздная величина показывает обратную зависимость от всех признаков, особенно сильно связана с типом звезды, и это действительно так."
   ]
  },
  {
   "cell_type": "markdown",
   "id": "6e75c3b7",
   "metadata": {},
   "source": [
    "Надо перевести значения колонки 'Star type' в строки, иначе дальше не хочет кодировщик обрабатывать числа как категории."
   ]
  },
  {
   "cell_type": "code",
   "execution_count": 18,
   "id": "bca97a8b",
   "metadata": {},
   "outputs": [],
   "source": [
    "df['Star type'] = df['Star type'].astype('str')"
   ]
  },
  {
   "cell_type": "code",
   "execution_count": 19,
   "id": "5b13c33c",
   "metadata": {},
   "outputs": [
    {
     "name": "stdout",
     "output_type": "stream",
     "text": [
      "<class 'pandas.core.frame.DataFrame'>\n",
      "RangeIndex: 240 entries, 0 to 239\n",
      "Data columns (total 6 columns):\n",
      " #   Column                  Non-Null Count  Dtype  \n",
      "---  ------                  --------------  -----  \n",
      " 0   Temperature (K)         240 non-null    int64  \n",
      " 1   Luminosity(L/Lo)        240 non-null    float64\n",
      " 2   Radius(R/Ro)            240 non-null    float64\n",
      " 3   Absolute magnitude(Mv)  240 non-null    float64\n",
      " 4   Star type               240 non-null    object \n",
      " 5   Star color              240 non-null    object \n",
      "dtypes: float64(3), int64(1), object(2)\n",
      "memory usage: 11.4+ KB\n"
     ]
    }
   ],
   "source": [
    "df.info()"
   ]
  },
  {
   "cell_type": "markdown",
   "id": "bb0b49cc",
   "metadata": {},
   "source": [
    "Теперь нужно разделить данные на таргет и фичи, на обучающую, тестовую и валидационную выборки.\n",
    "\n",
    "Отделяю 30 процентов на тест и валидацию, остальное оставляю сети на обучение."
   ]
  },
  {
   "cell_type": "code",
   "execution_count": 20,
   "id": "51007279",
   "metadata": {},
   "outputs": [],
   "source": [
    "X = df.drop('Temperature (K)', axis=1)\n",
    "y = df['Temperature (K)']\n",
    "X_train, X_test, y_train, y_test = train_test_split(X, y, \n",
    "                                                    train_size=0.7, random_state=RANDOM_STATE, shuffle=True)\n",
    "X_test, X_valid, y_test, y_valid = train_test_split(X_test, y_test, train_size=0.5, random_state=RANDOM_STATE, shuffle=True)"
   ]
  },
  {
   "cell_type": "code",
   "execution_count": 21,
   "id": "73ec9c4c",
   "metadata": {},
   "outputs": [
    {
     "name": "stdout",
     "output_type": "stream",
     "text": [
      "Тренировочных признаков 70% от общей выборки.\n",
      "Тренировочных целей 70% от общей выборки.\n",
      "Тестовых признаков 15% от общей выборки.\n",
      "Тестовых целей 15% от общей выборки.\n",
      "Валидационных признаков 15% от общей выборки.\n",
      "Валидационных целей 15% от общей выборки.\n"
     ]
    }
   ],
   "source": [
    "what_words = ['Тренировочных признаков','Тренировочных целей', 'Тестовых признаков', \n",
    "        'Тестовых целей','Валидационных признаков', 'Валидационных целей']\n",
    "what_arrs = [y_train, X_train, y_test, X_test, y_valid, X_valid]\n",
    "\n",
    "for i in range(len(what_words)):\n",
    "    print(f'{what_words[i]} {what_arrs[i].shape[0]*100/df.shape[0]:.0f}% от общей выборки.')"
   ]
  },
  {
   "cell_type": "markdown",
   "id": "9eccc547",
   "metadata": {},
   "source": [
    "Теперь нужно закодировать категориальные данные и масштабировать численные."
   ]
  },
  {
   "cell_type": "code",
   "execution_count": 22,
   "id": "f9b9e387",
   "metadata": {},
   "outputs": [
    {
     "data": {
      "text/plain": [
       "Index(['Temperature (K)', 'Luminosity(L/Lo)', 'Radius(R/Ro)',\n",
       "       'Absolute magnitude(Mv)', 'Star type', 'Star color'],\n",
       "      dtype='object')"
      ]
     },
     "execution_count": 22,
     "metadata": {},
     "output_type": "execute_result"
    }
   ],
   "source": [
    "columns\n"
   ]
  },
  {
   "cell_type": "code",
   "execution_count": 23,
   "id": "4319cbdd",
   "metadata": {},
   "outputs": [],
   "source": [
    "numcol = ['Luminosity(L/Lo)', 'Radius(R/Ro)',\n",
    "       'Absolute magnitude(Mv)']\n",
    "catcol = ['Star type', 'Star color']"
   ]
  },
  {
   "cell_type": "markdown",
   "id": "c155671d",
   "metadata": {},
   "source": [
    "OHE для категорий, StandartScaler для чисел."
   ]
  },
  {
   "cell_type": "code",
   "execution_count": 24,
   "id": "5f203a06",
   "metadata": {},
   "outputs": [],
   "source": [
    "# .reset_index(inplace='True')"
   ]
  },
  {
   "cell_type": "code",
   "execution_count": 25,
   "id": "4659c74e",
   "metadata": {},
   "outputs": [],
   "source": [
    "ohe = OneHotEncoder(sparse=False, drop = 'first', handle_unknown = 'error')"
   ]
  },
  {
   "cell_type": "code",
   "execution_count": 26,
   "id": "3307ea13",
   "metadata": {},
   "outputs": [],
   "source": [
    "ohe = ohe.fit(df[catcol])"
   ]
  },
  {
   "cell_type": "code",
   "execution_count": 27,
   "id": "a7e09068",
   "metadata": {},
   "outputs": [],
   "source": [
    "#X_train.reset_index(inplace=True)\n",
    "\n",
    "\n",
    "X_train_cat = pd.DataFrame(ohe.transform(X_train[catcol]))\n",
    "X_train_cat.columns = ohe.get_feature_names_out(catcol)\n",
    "X_train.drop(catcol, axis = 1, inplace = True)\n",
    "X_train_cat.index=X_train.index\n",
    "X_train = pd.concat([X_train, X_train_cat], axis = 1)"
   ]
  },
  {
   "cell_type": "code",
   "execution_count": 28,
   "id": "bf297ed5",
   "metadata": {},
   "outputs": [],
   "source": [
    "X_test_cat = pd.DataFrame(ohe.transform(X_test[catcol]))\n",
    "X_test_cat.columns = ohe.get_feature_names_out(catcol)\n",
    "X_test.drop(catcol, axis = 1, inplace = True)\n",
    "X_test_cat.index=X_test.index\n",
    "X_test = pd.concat([X_test, X_test_cat], axis = 1)"
   ]
  },
  {
   "cell_type": "code",
   "execution_count": 29,
   "id": "fd5124b0",
   "metadata": {},
   "outputs": [],
   "source": [
    "X_valid_cat = pd.DataFrame(ohe.transform(X_valid[catcol]))\n",
    "X_valid_cat.columns = ohe.get_feature_names_out(catcol)\n",
    "X_valid.drop(catcol, axis = 1, inplace = True)\n",
    "X_valid_cat.index=X_valid.index\n",
    "X_valid = pd.concat([X_valid, X_valid_cat], axis = 1)"
   ]
  },
  {
   "cell_type": "code",
   "execution_count": 30,
   "id": "b8d8b3f4",
   "metadata": {},
   "outputs": [],
   "source": [
    "scaler = StandardScaler()"
   ]
  },
  {
   "cell_type": "code",
   "execution_count": 31,
   "id": "b28b68ea",
   "metadata": {},
   "outputs": [],
   "source": [
    "X_train[numcol] = scaler.fit_transform(X_train[numcol])\n",
    "X_test[numcol] = scaler.transform(X_test[numcol])\n",
    "X_valid[numcol] = scaler.transform(X_valid[numcol])"
   ]
  },
  {
   "cell_type": "markdown",
   "id": "245f1349",
   "metadata": {},
   "source": [
    "Поскольку в нейронной сети используются тензоры, переведём данные в этот тип."
   ]
  },
  {
   "cell_type": "code",
   "execution_count": 32,
   "id": "2f3be56f",
   "metadata": {},
   "outputs": [],
   "source": [
    "X_train = torch.FloatTensor(X_train.values)\n",
    "X_train = X_train.to(device)\n",
    "\n",
    "y_train = torch.FloatTensor(y_train.values)\n",
    "y_train = y_train.to(device)\n",
    "\n",
    "X_test = torch.FloatTensor(X_test.values)\n",
    "X_test = X_test.to(device)\n",
    "\n",
    "y_test = torch.FloatTensor(y_test.values)\n",
    "y_test = y_test.to(device)\n",
    "\n",
    "X_valid = torch.FloatTensor(X_valid.values)\n",
    "X_valid = X_valid.to(device)\n",
    "\n",
    "y_valid = torch.FloatTensor(y_valid.values)\n",
    "y_valid = y_valid.to(device)"
   ]
  },
  {
   "cell_type": "code",
   "execution_count": 33,
   "id": "c445c27e",
   "metadata": {},
   "outputs": [
    {
     "data": {
      "text/plain": [
       "tensor([[ 0.1610, -0.3821, -1.1489,  ...,  0.0000,  0.0000,  0.0000],\n",
       "        [ 1.7366,  1.9128, -1.5272,  ...,  0.0000,  0.0000,  0.0000],\n",
       "        [-0.5925, -0.4325,  1.1053,  ...,  0.0000,  0.0000,  0.0000],\n",
       "        ...,\n",
       "        [-0.5925, -0.4327,  0.8609,  ...,  0.0000,  0.0000,  0.0000],\n",
       "        [ 3.7149, -0.2387, -1.1608,  ...,  0.0000,  0.0000,  0.0000],\n",
       "        [ 2.8235, -0.2640, -1.1528,  ...,  0.0000,  0.0000,  0.0000]],\n",
       "       device='cuda:0')"
      ]
     },
     "execution_count": 33,
     "metadata": {},
     "output_type": "execute_result"
    }
   ],
   "source": [
    "X_train"
   ]
  },
  {
   "cell_type": "code",
   "execution_count": 34,
   "id": "441e9b42",
   "metadata": {},
   "outputs": [
    {
     "data": {
      "text/plain": [
       "tensor([ 7282.,  9235.,  3484.,  9675., 12675.,  3542.,  2856.,  2914.,  3345.,\n",
       "        14732.,  3463.,  3450., 17140., 21904., 13340.,  3270.,  3432., 10930.,\n",
       "         2621., 16500.,  3750., 33300.,  8052., 26373.,  3625.,  3600.,  2968.,\n",
       "         2600., 11900.,  3008., 12990.,  3095., 14100.,  3628., 21020.,  3625.,\n",
       "        14060.,  5587.,  1939., 25390., 11790., 12098.,  3158.,  2831., 13420.,\n",
       "        12010.,  5112.,  3142.,  3598., 16390.,  5300.,  3340.,  3605.,  3192.,\n",
       "         2861.,  2650., 19400., 38940.,  8924., 23000.,  3225., 23092., 11567.,\n",
       "         9383.,  3341., 19920.,  4015.,  3600.,  2871., 18000.,  3531., 23678.,\n",
       "        26000.,  3295.,  7740., 17383., 10012.,  6380.,  3324.,  2637.,  2800.,\n",
       "        15276., 25070., 12100.,  3068.,  3146.,  2835.,  3257., 13089., 12984.,\n",
       "        34190.,  3752.,  3575.,  8930., 12912.,  3365.,  2983., 24490.,  7220.,\n",
       "         2890.,  3550.,  3419., 13720.,  5936., 28700.,  7100.,  3212.,  3134.,\n",
       "        17200., 37882., 12749., 24345.,  2840.,  3304.,  2994.,  3749., 38234.,\n",
       "         3496., 12893., 32460.,  3553., 18734.,  3180.,  3780., 14520.,  2989.,\n",
       "         3511.,  3607.,  2935.,  6757., 10980., 23440.,  7720.,  3523., 30000.,\n",
       "         3218.,  3453., 24145.,  8500.,  3200.,  2600., 19923., 22350., 10574.,\n",
       "         3324.,  3342.,  3129., 15680.,  3610., 17920., 23095.,  4526., 14245.,\n",
       "        18290.,  3535.,  3399.,  6850.,  3042.,  8829.,  5800., 40000.,  2935.,\n",
       "         9373.,  8927.,  2731.,  7230., 21738.,  9892.], device='cuda:0')"
      ]
     },
     "execution_count": 34,
     "metadata": {},
     "output_type": "execute_result"
    }
   ],
   "source": [
    "y_train"
   ]
  },
  {
   "cell_type": "markdown",
   "id": "3f6450eb",
   "metadata": {},
   "source": [
    "Данные готовы, можно приступать к построению базовой сети."
   ]
  },
  {
   "cell_type": "markdown",
   "id": "funded-electric",
   "metadata": {},
   "source": [
    "## Построение базовой нейронной сети"
   ]
  },
  {
   "cell_type": "code",
   "execution_count": 35,
   "id": "5fc0d773",
   "metadata": {
    "scrolled": true
   },
   "outputs": [
    {
     "name": "stdout",
     "output_type": "stream",
     "text": [
      "Входящих нейронов (параметров) сети будет 18\n"
     ]
    }
   ],
   "source": [
    "print('Входящих нейронов (параметров) сети будет', X_train.shape[1])"
   ]
  },
  {
   "cell_type": "code",
   "execution_count": 36,
   "id": "df2333c9",
   "metadata": {},
   "outputs": [],
   "source": [
    "n_in_neurons = X_train.shape[1]\n",
    "h1 = [20, 50, 100, 300, 500, 800, 1000, 1200, 1500, 2000]\n",
    "h2 = [20, 50, 100, 300, 500, 800, 1000, 1200, 1500, 2000]\n",
    "h3 = [20, 50, 100, 300, 500, 800, 1000, 1200, 1500, 2000]\n",
    "n_out_neurons = 1\n",
    "\n",
    " "
   ]
  },
  {
   "cell_type": "markdown",
   "id": "ca67ea28",
   "metadata": {},
   "source": [
    "Создаю подкласс от класса nn.Module и задаю функции создания и работы сети.\n",
    "\n",
    "Подберём количество скрытых слоёв."
   ]
  },
  {
   "cell_type": "code",
   "execution_count": 37,
   "id": "1f6b6c38",
   "metadata": {},
   "outputs": [],
   "source": [
    "class Model1(nn.Module):\n",
    "    def __init__(self, n_in_neurons, n_hidden_neurons_1, n_out_neurons):\n",
    "        super(Model1, self).__init__()\n",
    "        \n",
    "        self.fc1 = nn.Linear(n_in_neurons, n_hidden_neurons_1)\n",
    "        self.act1 = nn.ReLU()\n",
    "        self.fc2 = nn.Linear(n_hidden_neurons_1, n_out_neurons)\n",
    "        \n",
    "        \n",
    "    def forward(self, x):\n",
    "        x = self.fc1(x)\n",
    "        x = self.act1(x)\n",
    "        x = self.fc2(x)\n",
    "        \n",
    "        return x          \n",
    "\n"
   ]
  },
  {
   "cell_type": "code",
   "execution_count": 38,
   "id": "4d3dd2c5",
   "metadata": {},
   "outputs": [],
   "source": [
    "class Model2(nn.Module):\n",
    "    def __init__(self, n_in_neurons, n_hidden_neurons_1, n_hidden_neurons_2, n_out_neurons):\n",
    "        super(Model2, self).__init__()\n",
    "        \n",
    "        self.fc1 = nn.Linear(n_in_neurons, n_hidden_neurons_1)\n",
    "        self.act1 = nn.ReLU()\n",
    "        self.fc2 = nn.Linear(n_hidden_neurons_1, n_hidden_neurons_2)\n",
    "        self.act2 = nn.ReLU()\n",
    "        self.fc3 = nn.Linear(n_hidden_neurons_2, n_out_neurons)\n",
    "\n",
    "        \n",
    "        \n",
    "    def forward(self, x):\n",
    "        x = self.fc1(x)\n",
    "        x = self.act1(x)\n",
    "        x = self.fc2(x)\n",
    "        x = self.act2(x)\n",
    "        x = self.fc3(x)\n",
    "       \n",
    "        return x          \n",
    "\n"
   ]
  },
  {
   "cell_type": "code",
   "execution_count": 39,
   "id": "ebac257b",
   "metadata": {},
   "outputs": [],
   "source": [
    "class Model3(nn.Module):\n",
    "    def __init__(self, n_in_neurons, n_hidden_neurons_1, n_hidden_neurons_2, n_hidden_neurons_3, n_out_neurons):\n",
    "        super(Model3, self).__init__()\n",
    "        \n",
    "        self.fc1 = nn.Linear(n_in_neurons, n_hidden_neurons_1)\n",
    "        self.act1 = nn.ReLU()\n",
    "        self.fc2 = nn.Linear(n_hidden_neurons_1, n_hidden_neurons_2)\n",
    "        self.act2 = nn.ReLU()\n",
    "        self.fc3 = nn.Linear(n_hidden_neurons_2, n_hidden_neurons_3)\n",
    "        self.act3 = nn.ReLU()\n",
    "        self.fc4 = nn.Linear(n_hidden_neurons_3, n_out_neurons)\n",
    "        \n",
    "        \n",
    "    def forward(self, x):\n",
    "        x = self.fc1(x)\n",
    "        x = self.act1(x)\n",
    "        x = self.fc2(x)\n",
    "        x = self.act2(x)\n",
    "        x = self.fc3(x)\n",
    "        x = self.act3(x)\n",
    "        x = self.fc4(x)\n",
    "        #x = self.act4(x)\n",
    "        return x          \n",
    "\n"
   ]
  },
  {
   "cell_type": "markdown",
   "id": "9b350b50",
   "metadata": {},
   "source": [
    "Выбираю функцию потерь MSE и оптимизатор."
   ]
  },
  {
   "cell_type": "code",
   "execution_count": 40,
   "id": "abe2be1d",
   "metadata": {},
   "outputs": [],
   "source": [
    "#loss = nn.MSELoss()\n",
    "\n",
    "def optimizer_make(net):\n",
    "    optimizer1 = torch.optim.Adam(net.parameters(), lr=1e-3)\n",
    "    optimizer2 = torch.optim.RMSprop(net.parameters(), lr=1e-3)\n",
    "    return [optimizer1, optimizer2]"
   ]
  },
  {
   "cell_type": "code",
   "execution_count": 41,
   "id": "c584dd55",
   "metadata": {},
   "outputs": [],
   "source": [
    "def learn_model(net, optimizer, num_epochs, batch_size, X_train, y_train, X_test, y_test,):\n",
    "    loss = nn.MSELoss()\n",
    "    \n",
    "    num_batches = ceil(len(X_train)/batch_size)\n",
    "    \n",
    "    for epoch in range(num_epochs):\n",
    "        \n",
    "        order = np.random.permutation(len(X_train)) # создайте случайную перестановку индексов объектов\n",
    "        \n",
    "        optimizer.zero_grad()\n",
    "        \n",
    "        for batch_idx in range(num_batches):\n",
    "            start_index = batch_idx * batch_size\n",
    "            # получение индексов текущего батча\n",
    "            batch_indexes = order[start_index:start_index+batch_size]\n",
    "            X_batch = X_train[batch_indexes]\n",
    "            y_batch = y_train[batch_indexes]\n",
    "    \n",
    "            preds = net.forward(X_batch) \n",
    "                \n",
    "            loss_value = loss(preds, y_batch)\n",
    "            loss_value.backward()\n",
    "            \n",
    "            if ((batch_idx + 1) % accumulation_iteration == 0) or (batch_idx + 1 == num_batches):\n",
    "                \n",
    "                optimizer.step()\n",
    "                optimizer.zero_grad()\n",
    "                \n",
    "        if epoch == num_epochs - 1:\n",
    "            net.eval()\n",
    "            test_preds = net.forward(X_test)\n",
    "            RMSE = torch.sqrt(loss(preds, y_test))\n",
    "        \n",
    "            return torch.detach(RMSE).cpu().numpy()"
   ]
  },
  {
   "cell_type": "code",
   "execution_count": 42,
   "id": "flush-dream",
   "metadata": {},
   "outputs": [],
   "source": [
    "rmse1 = [['n_hidden_neurons_1', 'optimizer type', 'rmse']]\n",
    "rmse2 = [['n_hidden_neurons_1', 'optimizer type', 'n_hidden_neurons_2', 'rmse']]\n",
    "rmse3 = [['n_hidden_neurons_1', 'optimizer type', 'n_hidden_neurons_2', 'n_hidden_neurons_3', 'rmse']]\n",
    "num_epochs = 200\n",
    "batch_size = 40\n",
    "accumulation_iteration = 5\n",
    "for i in range(10):\n",
    "\n",
    "    n_hidden_neurons_1 = h1[i]\n",
    "    net1 = Model1(n_in_neurons, n_hidden_neurons_1, n_out_neurons)\n",
    "    net1 = net1.to(device)\n",
    "    optimizer_arr = optimizer_make(net1)\n",
    "    for ind in range(len(optimizer_arr)): \n",
    "        optimizer = optimizer_arr[ind]\n",
    "        rmse1.append([n_hidden_neurons_1, type(optimizer), \n",
    "            learn_model(net1, optimizer_arr[ind], num_epochs, batch_size, X_train, y_train, X_test, y_test,)])\n",
    "        \n",
    "    for j in range (10):\n",
    "        if i*j % 15 == 0:\n",
    "            n_hidden_neurons_2 = h2[j] \n",
    "    \n",
    "            net2 = Model2(n_in_neurons, n_hidden_neurons_1, n_hidden_neurons_2, n_out_neurons)\n",
    "            net2.to(device)\n",
    "            optimizer_arr = optimizer_make(net2)    \n",
    "            for ind in range(len(optimizer_arr)): \n",
    "                optimizer = optimizer_arr[ind]\n",
    "                rmse2.append([n_hidden_neurons_1, n_hidden_neurons_2, type(optimizer),\n",
    "                      learn_model(net2, optimizer_arr[ind], num_epochs, batch_size, X_train, y_train, X_test, y_test,)])\n",
    "        for k in range(10):\n",
    "            if i*j*k % 250 == 0:\n",
    "                n_hidden_neurons_3 = h3[np.random.randint(0, len(h1))]\n",
    "\n",
    "                net3 = Model3(n_in_neurons, n_hidden_neurons_1, n_hidden_neurons_2, n_hidden_neurons_3, n_out_neurons)\n",
    "                net3.to(device)\n",
    "                optimizer_arr = optimizer_make(net3)\n",
    "                for ind in range(len(optimizer_arr)): \n",
    "                    optimizer = optimizer_arr[ind]                    \n",
    "                    rmse3.append([n_hidden_neurons_1, n_hidden_neurons_2, n_hidden_neurons_3, type(optimizer),\n",
    "                          learn_model(net3, optimizer_arr[ind], num_epochs, batch_size, X_train, y_train, X_test, y_test,)])\n",
    "  \n",
    "\n",
    "\n",
    "    #net1 = Model1(n_in_neurons, n_hidden_neurons_1, n_out_neurons)\n",
    "    #net2 = Model2(n_in_neurons, n_hidden_neurons_1, n_hidden_neurons_2, n_out_neurons)\n",
    "    #net3 = Model3(n_in_neurons, n_hidden_neurons_1, n_hidden_neurons_2, n_hidden_neurons_3, n_out_neurons)\n",
    "    \n",
    "            \n",
    "    \n",
    "    #rmse1.append([n_hidden_neurons_1, learn_model(net1, num_epochs, X_train, y_train, X_test, y_test,)])\n",
    "    #rmse2.append([n_hidden_neurons_1, n_hidden_neurons_2, \n",
    "                  #learn_model(net2, num_epochs, X_train, y_train, X_test, y_test,)])\n",
    "    #rmse3.append([n_hidden_neurons_1, n_hidden_neurons_2, n_hidden_neurons_3, \n",
    "                  #learn_model(net3, num_epochs, X_train, y_train, X_test, y_test,)])\n"
   ]
  },
  {
   "cell_type": "code",
   "execution_count": 43,
   "id": "69de0f4d",
   "metadata": {},
   "outputs": [
    {
     "data": {
      "text/plain": [
       "[['n_hidden_neurons_1', 'optimizer type', 'rmse'],\n",
       " [20, torch.optim.adam.Adam, array(15315.738, dtype=float32)],\n",
       " [20, torch.optim.rmsprop.RMSprop, array(15305.0625, dtype=float32)],\n",
       " [50, torch.optim.adam.Adam, array(15313.052, dtype=float32)],\n",
       " [50, torch.optim.rmsprop.RMSprop, array(15287.822, dtype=float32)],\n",
       " [100, torch.optim.adam.Adam, array(15303.871, dtype=float32)],\n",
       " [100, torch.optim.rmsprop.RMSprop, array(15240.832, dtype=float32)],\n",
       " [300, torch.optim.adam.Adam, array(15277.4795, dtype=float32)],\n",
       " [300, torch.optim.rmsprop.RMSprop, array(15061.463, dtype=float32)],\n",
       " [500, torch.optim.adam.Adam, array(15237.09, dtype=float32)],\n",
       " [500, torch.optim.rmsprop.RMSprop, array(14944.067, dtype=float32)],\n",
       " [800, torch.optim.adam.Adam, array(15198.992, dtype=float32)],\n",
       " [800, torch.optim.rmsprop.RMSprop, array(14730.334, dtype=float32)],\n",
       " [1000, torch.optim.adam.Adam, array(15159.622, dtype=float32)],\n",
       " [1000, torch.optim.rmsprop.RMSprop, array(14523.409, dtype=float32)],\n",
       " [1200, torch.optim.adam.Adam, array(15137.545, dtype=float32)],\n",
       " [1200, torch.optim.rmsprop.RMSprop, array(14366.02, dtype=float32)],\n",
       " [1500, torch.optim.adam.Adam, array(15077.595, dtype=float32)],\n",
       " [1500, torch.optim.rmsprop.RMSprop, array(14190.473, dtype=float32)],\n",
       " [2000, torch.optim.adam.Adam, array(14966.698, dtype=float32)],\n",
       " [2000, torch.optim.rmsprop.RMSprop, array(13761.03, dtype=float32)]]"
      ]
     },
     "execution_count": 43,
     "metadata": {},
     "output_type": "execute_result"
    }
   ],
   "source": [
    "rmse1"
   ]
  },
  {
   "cell_type": "code",
   "execution_count": 44,
   "id": "22797a55",
   "metadata": {
    "scrolled": true
   },
   "outputs": [
    {
     "data": {
      "text/plain": [
       "[['n_hidden_neurons_1', 'optimizer type', 'n_hidden_neurons_2', 'rmse'],\n",
       " [20, 20, torch.optim.adam.Adam, array(15301.363, dtype=float32)],\n",
       " [20, 20, torch.optim.rmsprop.RMSprop, array(15150.85, dtype=float32)],\n",
       " [20, 50, torch.optim.adam.Adam, array(15274.453, dtype=float32)],\n",
       " [20, 50, torch.optim.rmsprop.RMSprop, array(14842.404, dtype=float32)],\n",
       " [20, 100, torch.optim.adam.Adam, array(15233.682, dtype=float32)],\n",
       " [20, 100, torch.optim.rmsprop.RMSprop, array(14388.576, dtype=float32)],\n",
       " [20, 300, torch.optim.adam.Adam, array(14911.381, dtype=float32)],\n",
       " [20, 300, torch.optim.rmsprop.RMSprop, array(12628.874, dtype=float32)],\n",
       " [20, 500, torch.optim.adam.Adam, array(14721.885, dtype=float32)],\n",
       " [20, 500, torch.optim.rmsprop.RMSprop, array(11505.226, dtype=float32)],\n",
       " [20, 800, torch.optim.adam.Adam, array(14130.293, dtype=float32)],\n",
       " [20, 800, torch.optim.rmsprop.RMSprop, array(10658.209, dtype=float32)],\n",
       " [20, 1000, torch.optim.adam.Adam, array(14028.612, dtype=float32)],\n",
       " [20, 1000, torch.optim.rmsprop.RMSprop, array(10625.071, dtype=float32)],\n",
       " [20, 1200, torch.optim.adam.Adam, array(13705.593, dtype=float32)],\n",
       " [20, 1200, torch.optim.rmsprop.RMSprop, array(10489.326, dtype=float32)],\n",
       " [20, 1500, torch.optim.adam.Adam, array(13466.29, dtype=float32)],\n",
       " [20, 1500, torch.optim.rmsprop.RMSprop, array(10520.053, dtype=float32)],\n",
       " [20, 2000, torch.optim.adam.Adam, array(12477.868, dtype=float32)],\n",
       " [20, 2000, torch.optim.rmsprop.RMSprop, array(10451.471, dtype=float32)],\n",
       " [50, 20, torch.optim.adam.Adam, array(15252.883, dtype=float32)],\n",
       " [50, 20, torch.optim.rmsprop.RMSprop, array(14745.932, dtype=float32)],\n",
       " [100, 20, torch.optim.adam.Adam, array(15214.308, dtype=float32)],\n",
       " [100, 20, torch.optim.rmsprop.RMSprop, array(14394.959, dtype=float32)],\n",
       " [300, 20, torch.optim.adam.Adam, array(15184.27, dtype=float32)],\n",
       " [300, 20, torch.optim.rmsprop.RMSprop, array(14131.1455, dtype=float32)],\n",
       " [300, 800, torch.optim.adam.Adam, array(10610.418, dtype=float32)],\n",
       " [300, 800, torch.optim.rmsprop.RMSprop, array(10404.135, dtype=float32)],\n",
       " [500, 20, torch.optim.adam.Adam, array(14884.671, dtype=float32)],\n",
       " [500, 20, torch.optim.rmsprop.RMSprop, array(12219.26, dtype=float32)],\n",
       " [800, 20, torch.optim.adam.Adam, array(14744.276, dtype=float32)],\n",
       " [800, 20, torch.optim.rmsprop.RMSprop, array(11698.614, dtype=float32)],\n",
       " [800, 300, torch.optim.adam.Adam, array(10519.107, dtype=float32)],\n",
       " [800, 300, torch.optim.rmsprop.RMSprop, array(10445.419, dtype=float32)],\n",
       " [800, 1000, torch.optim.adam.Adam, array(10434.234, dtype=float32)],\n",
       " [800, 1000, torch.optim.rmsprop.RMSprop, array(10400.809, dtype=float32)],\n",
       " [800, 2000, torch.optim.adam.Adam, array(10452.159, dtype=float32)],\n",
       " [800, 2000, torch.optim.rmsprop.RMSprop, array(10420.886, dtype=float32)],\n",
       " [1000, 20, torch.optim.adam.Adam, array(14435.014, dtype=float32)],\n",
       " [1000, 20, torch.optim.rmsprop.RMSprop, array(11078.563, dtype=float32)],\n",
       " [1000, 800, torch.optim.adam.Adam, array(10475.582, dtype=float32)],\n",
       " [1000, 800, torch.optim.rmsprop.RMSprop, array(10394.873, dtype=float32)],\n",
       " [1200, 20, torch.optim.adam.Adam, array(14136.561, dtype=float32)],\n",
       " [1200, 20, torch.optim.rmsprop.RMSprop, array(10511.56, dtype=float32)],\n",
       " [1500, 20, torch.optim.adam.Adam, array(14081.721, dtype=float32)],\n",
       " [1500, 20, torch.optim.rmsprop.RMSprop, array(10650.233, dtype=float32)],\n",
       " [2000, 20, torch.optim.adam.Adam, array(13747.453, dtype=float32)],\n",
       " [2000, 20, torch.optim.rmsprop.RMSprop, array(10539.662, dtype=float32)],\n",
       " [2000, 800, torch.optim.adam.Adam, array(10520.645, dtype=float32)],\n",
       " [2000, 800, torch.optim.rmsprop.RMSprop, array(10444.779, dtype=float32)]]"
      ]
     },
     "execution_count": 44,
     "metadata": {},
     "output_type": "execute_result"
    }
   ],
   "source": [
    "rmse2"
   ]
  },
  {
   "cell_type": "code",
   "execution_count": 45,
   "id": "00cbe84f",
   "metadata": {
    "scrolled": true
   },
   "outputs": [
    {
     "data": {
      "text/plain": [
       "[['n_hidden_neurons_1',\n",
       "  'optimizer type',\n",
       "  'n_hidden_neurons_2',\n",
       "  'n_hidden_neurons_3',\n",
       "  'rmse'],\n",
       " [20, 20, 800, torch.optim.adam.Adam, array(12318.084, dtype=float32)],\n",
       " [20, 20, 800, torch.optim.rmsprop.RMSprop, array(10445.543, dtype=float32)],\n",
       " [20, 20, 1000, torch.optim.adam.Adam, array(10621.53, dtype=float32)],\n",
       " [20, 20, 1000, torch.optim.rmsprop.RMSprop, array(10417.702, dtype=float32)],\n",
       " [20, 20, 800, torch.optim.adam.Adam, array(11247.459, dtype=float32)],\n",
       " [20, 20, 800, torch.optim.rmsprop.RMSprop, array(10395.662, dtype=float32)],\n",
       " [20, 20, 500, torch.optim.adam.Adam, array(12285.932, dtype=float32)],\n",
       " [20, 20, 500, torch.optim.rmsprop.RMSprop, array(10483.784, dtype=float32)],\n",
       " [20, 20, 50, torch.optim.adam.Adam, array(15095.592, dtype=float32)],\n",
       " [20, 20, 50, torch.optim.rmsprop.RMSprop, array(12223.472, dtype=float32)],\n",
       " [20, 20, 100, torch.optim.adam.Adam, array(14605.995, dtype=float32)],\n",
       " [20, 20, 100, torch.optim.rmsprop.RMSprop, array(10590.056, dtype=float32)],\n",
       " [20, 20, 1000, torch.optim.adam.Adam, array(10607.75, dtype=float32)],\n",
       " [20, 20, 1000, torch.optim.rmsprop.RMSprop, array(10433.292, dtype=float32)],\n",
       " [20, 20, 2000, torch.optim.adam.Adam, array(10480.965, dtype=float32)],\n",
       " [20, 20, 2000, torch.optim.rmsprop.RMSprop, array(10478.434, dtype=float32)],\n",
       " [20, 20, 800, torch.optim.adam.Adam, array(11130.692, dtype=float32)],\n",
       " [20, 20, 800, torch.optim.rmsprop.RMSprop, array(10441.251, dtype=float32)],\n",
       " [20, 20, 500, torch.optim.adam.Adam, array(12098.437, dtype=float32)],\n",
       " [20, 20, 500, torch.optim.rmsprop.RMSprop, array(10412.277, dtype=float32)],\n",
       " [20, 50, 50, torch.optim.adam.Adam, array(14652.194, dtype=float32)],\n",
       " [20, 50, 50, torch.optim.rmsprop.RMSprop, array(10673.717, dtype=float32)],\n",
       " [20, 50, 500, torch.optim.adam.Adam, array(10531.38, dtype=float32)],\n",
       " [20, 50, 500, torch.optim.rmsprop.RMSprop, array(10400.224, dtype=float32)],\n",
       " [20, 50, 1000, torch.optim.adam.Adam, array(10424.925, dtype=float32)],\n",
       " [20, 50, 1000, torch.optim.rmsprop.RMSprop, array(10397.142, dtype=float32)],\n",
       " [20, 50, 1500, torch.optim.adam.Adam, array(10475.215, dtype=float32)],\n",
       " [20, 50, 1500, torch.optim.rmsprop.RMSprop, array(10416.065, dtype=float32)],\n",
       " [20, 50, 2000, torch.optim.adam.Adam, array(10482.724, dtype=float32)],\n",
       " [20, 50, 2000, torch.optim.rmsprop.RMSprop, array(10418.457, dtype=float32)],\n",
       " [20, 50, 500, torch.optim.adam.Adam, array(11064.713, dtype=float32)],\n",
       " [20, 50, 500, torch.optim.rmsprop.RMSprop, array(10442.563, dtype=float32)],\n",
       " [20, 50, 500, torch.optim.adam.Adam, array(10661.609, dtype=float32)],\n",
       " [20, 50, 500, torch.optim.rmsprop.RMSprop, array(10402.44, dtype=float32)],\n",
       " [20, 50, 500, torch.optim.adam.Adam, array(10546.307, dtype=float32)],\n",
       " [20, 50, 500, torch.optim.rmsprop.RMSprop, array(10435.341, dtype=float32)],\n",
       " [20, 50, 1200, torch.optim.adam.Adam, array(10498.793, dtype=float32)],\n",
       " [20, 50, 1200, torch.optim.rmsprop.RMSprop, array(10421.767, dtype=float32)],\n",
       " [20, 50, 500, torch.optim.adam.Adam, array(10793.433, dtype=float32)],\n",
       " [20, 50, 500, torch.optim.rmsprop.RMSprop, array(10428.006, dtype=float32)],\n",
       " [20, 100, 100, torch.optim.adam.Adam, array(12673.052, dtype=float32)],\n",
       " [20, 100, 100, torch.optim.rmsprop.RMSprop, array(10479.753, dtype=float32)],\n",
       " [20, 100, 1000, torch.optim.adam.Adam, array(10424.988, dtype=float32)],\n",
       " [20, 100, 1000, torch.optim.rmsprop.RMSprop, array(10435.96, dtype=float32)],\n",
       " [20, 100, 300, torch.optim.adam.Adam, array(10813.733, dtype=float32)],\n",
       " [20, 100, 300, torch.optim.rmsprop.RMSprop, array(10460.355, dtype=float32)],\n",
       " [20, 100, 50, torch.optim.adam.Adam, array(14217.531, dtype=float32)],\n",
       " [20, 100, 50, torch.optim.rmsprop.RMSprop, array(10566.108, dtype=float32)],\n",
       " [20, 100, 100, torch.optim.adam.Adam, array(12305.2, dtype=float32)],\n",
       " [20, 100, 100, torch.optim.rmsprop.RMSprop, array(10444.783, dtype=float32)],\n",
       " [20, 100, 20, torch.optim.adam.Adam, array(14722.188, dtype=float32)],\n",
       " [20, 100, 20, torch.optim.rmsprop.RMSprop, array(10627.1, dtype=float32)],\n",
       " [20, 100, 2000, torch.optim.adam.Adam, array(10406.595, dtype=float32)],\n",
       " [20, 100, 2000, torch.optim.rmsprop.RMSprop, array(10413.585, dtype=float32)],\n",
       " [20, 100, 20, torch.optim.adam.Adam, array(14654.97, dtype=float32)],\n",
       " [20, 100, 20, torch.optim.rmsprop.RMSprop, array(10476.059, dtype=float32)],\n",
       " [20, 100, 1500, torch.optim.adam.Adam, array(10525.669, dtype=float32)],\n",
       " [20, 100, 1500, torch.optim.rmsprop.RMSprop, array(10376.649, dtype=float32)],\n",
       " [20, 100, 500, torch.optim.adam.Adam, array(10530.747, dtype=float32)],\n",
       " [20, 100, 500, torch.optim.rmsprop.RMSprop, array(10427.004, dtype=float32)],\n",
       " [20, 300, 300, torch.optim.adam.Adam, array(10576.137, dtype=float32)],\n",
       " [20, 300, 300, torch.optim.rmsprop.RMSprop, array(10452.067, dtype=float32)],\n",
       " [20, 300, 300, torch.optim.adam.Adam, array(10495.04, dtype=float32)],\n",
       " [20, 300, 300, torch.optim.rmsprop.RMSprop, array(10397.845, dtype=float32)],\n",
       " [20, 300, 1200, torch.optim.adam.Adam, array(10423.504, dtype=float32)],\n",
       " [20, 300, 1200, torch.optim.rmsprop.RMSprop, array(10393.525, dtype=float32)],\n",
       " [20, 300, 20, torch.optim.adam.Adam, array(12893.43, dtype=float32)],\n",
       " [20, 300, 20, torch.optim.rmsprop.RMSprop, array(10440.492, dtype=float32)],\n",
       " [20, 300, 1500, torch.optim.adam.Adam, array(10465.097, dtype=float32)],\n",
       " [20, 300, 1500, torch.optim.rmsprop.RMSprop, array(10424.082, dtype=float32)],\n",
       " [20, 300, 500, torch.optim.adam.Adam, array(10508.281, dtype=float32)],\n",
       " [20, 300, 500, torch.optim.rmsprop.RMSprop, array(10397.546, dtype=float32)],\n",
       " [20, 300, 1000, torch.optim.adam.Adam, array(10422.036, dtype=float32)],\n",
       " [20, 300, 1000, torch.optim.rmsprop.RMSprop, array(10407.589, dtype=float32)],\n",
       " [20, 300, 300, torch.optim.adam.Adam, array(10641.992, dtype=float32)],\n",
       " [20, 300, 300, torch.optim.rmsprop.RMSprop, array(10388.591, dtype=float32)],\n",
       " [20, 300, 500, torch.optim.adam.Adam, array(10477.276, dtype=float32)],\n",
       " [20, 300, 500, torch.optim.rmsprop.RMSprop, array(10383.982, dtype=float32)],\n",
       " [20, 300, 1000, torch.optim.adam.Adam, array(10427.627, dtype=float32)],\n",
       " [20, 300, 1000, torch.optim.rmsprop.RMSprop, array(10421.729, dtype=float32)],\n",
       " [20, 500, 1000, torch.optim.adam.Adam, array(10473.6875, dtype=float32)],\n",
       " [20, 500, 1000, torch.optim.rmsprop.RMSprop, array(10410.915, dtype=float32)],\n",
       " [20, 500, 1200, torch.optim.adam.Adam, array(10466.214, dtype=float32)],\n",
       " [20, 500, 1200, torch.optim.rmsprop.RMSprop, array(10470.245, dtype=float32)],\n",
       " [20, 500, 1000, torch.optim.adam.Adam, array(10436.642, dtype=float32)],\n",
       " [20, 500, 1000, torch.optim.rmsprop.RMSprop, array(10419.069, dtype=float32)],\n",
       " [20, 500, 2000, torch.optim.adam.Adam, array(10457.729, dtype=float32)],\n",
       " [20, 500, 2000, torch.optim.rmsprop.RMSprop, array(10420.627, dtype=float32)],\n",
       " [20, 500, 20, torch.optim.adam.Adam, array(11738.234, dtype=float32)],\n",
       " [20, 500, 20, torch.optim.rmsprop.RMSprop, array(10445.668, dtype=float32)],\n",
       " [20, 500, 1000, torch.optim.adam.Adam, array(10421.563, dtype=float32)],\n",
       " [20, 500, 1000, torch.optim.rmsprop.RMSprop, array(10395.068, dtype=float32)],\n",
       " [20, 500, 1200, torch.optim.adam.Adam, array(10409.91, dtype=float32)],\n",
       " [20, 500, 1200, torch.optim.rmsprop.RMSprop, array(10392.279, dtype=float32)],\n",
       " [20, 500, 800, torch.optim.adam.Adam, array(10519.896, dtype=float32)],\n",
       " [20, 500, 800, torch.optim.rmsprop.RMSprop, array(10363.132, dtype=float32)],\n",
       " [20, 500, 800, torch.optim.adam.Adam, array(10456.5625, dtype=float32)],\n",
       " [20, 500, 800, torch.optim.rmsprop.RMSprop, array(10409.358, dtype=float32)],\n",
       " [20, 500, 100, torch.optim.adam.Adam, array(10470.529, dtype=float32)],\n",
       " [20, 500, 100, torch.optim.rmsprop.RMSprop, array(10402.094, dtype=float32)],\n",
       " [20, 800, 1500, torch.optim.adam.Adam, array(10486.124, dtype=float32)],\n",
       " [20, 800, 1500, torch.optim.rmsprop.RMSprop, array(10410.452, dtype=float32)],\n",
       " [20, 800, 1500, torch.optim.adam.Adam, array(10414.84, dtype=float32)],\n",
       " [20, 800, 1500, torch.optim.rmsprop.RMSprop, array(10458.245, dtype=float32)],\n",
       " [20, 800, 1200, torch.optim.adam.Adam, array(10403.317, dtype=float32)],\n",
       " [20, 800, 1200, torch.optim.rmsprop.RMSprop, array(10396.141, dtype=float32)],\n",
       " [20, 800, 2000, torch.optim.adam.Adam, array(10402.27, dtype=float32)],\n",
       " [20, 800, 2000, torch.optim.rmsprop.RMSprop, array(10403.685, dtype=float32)],\n",
       " [20, 800, 1200, torch.optim.adam.Adam, array(10404.977, dtype=float32)],\n",
       " [20, 800, 1200, torch.optim.rmsprop.RMSprop, array(10348.852, dtype=float32)],\n",
       " [20, 800, 50, torch.optim.adam.Adam, array(10451.633, dtype=float32)],\n",
       " [20, 800, 50, torch.optim.rmsprop.RMSprop, array(10417.9375, dtype=float32)],\n",
       " [20, 800, 800, torch.optim.adam.Adam, array(10434.923, dtype=float32)],\n",
       " [20, 800, 800, torch.optim.rmsprop.RMSprop, array(10376.921, dtype=float32)],\n",
       " [20, 800, 1200, torch.optim.adam.Adam, array(10395.659, dtype=float32)],\n",
       " [20, 800, 1200, torch.optim.rmsprop.RMSprop, array(10445.48, dtype=float32)],\n",
       " [20, 800, 20, torch.optim.adam.Adam, array(11533.558, dtype=float32)],\n",
       " [20, 800, 20, torch.optim.rmsprop.RMSprop, array(10423.402, dtype=float32)],\n",
       " [20, 800, 300, torch.optim.adam.Adam, array(10454.906, dtype=float32)],\n",
       " [20, 800, 300, torch.optim.rmsprop.RMSprop, array(10425.196, dtype=float32)],\n",
       " [20, 1000, 1500, torch.optim.adam.Adam, array(10386.269, dtype=float32)],\n",
       " [20,\n",
       "  1000,\n",
       "  1500,\n",
       "  torch.optim.rmsprop.RMSprop,\n",
       "  array(10472.128, dtype=float32)],\n",
       " [20, 1000, 100, torch.optim.adam.Adam, array(10532.013, dtype=float32)],\n",
       " [20, 1000, 100, torch.optim.rmsprop.RMSprop, array(10412.985, dtype=float32)],\n",
       " [20, 1000, 20, torch.optim.adam.Adam, array(10693.601, dtype=float32)],\n",
       " [20, 1000, 20, torch.optim.rmsprop.RMSprop, array(10425.613, dtype=float32)],\n",
       " [20, 1000, 300, torch.optim.adam.Adam, array(10423.369, dtype=float32)],\n",
       " [20, 1000, 300, torch.optim.rmsprop.RMSprop, array(10483.805, dtype=float32)],\n",
       " [20, 1000, 300, torch.optim.adam.Adam, array(10500.258, dtype=float32)],\n",
       " [20, 1000, 300, torch.optim.rmsprop.RMSprop, array(10454.963, dtype=float32)],\n",
       " [20, 1000, 100, torch.optim.adam.Adam, array(10469.01, dtype=float32)],\n",
       " [20, 1000, 100, torch.optim.rmsprop.RMSprop, array(10441.952, dtype=float32)],\n",
       " [20, 1000, 1500, torch.optim.adam.Adam, array(10427.3125, dtype=float32)],\n",
       " [20,\n",
       "  1000,\n",
       "  1500,\n",
       "  torch.optim.rmsprop.RMSprop,\n",
       "  array(10415.166, dtype=float32)],\n",
       " [20, 1000, 100, torch.optim.adam.Adam, array(10472.335, dtype=float32)],\n",
       " [20, 1000, 100, torch.optim.rmsprop.RMSprop, array(10420.39, dtype=float32)],\n",
       " [20, 1000, 100, torch.optim.adam.Adam, array(10546.139, dtype=float32)],\n",
       " [20, 1000, 100, torch.optim.rmsprop.RMSprop, array(10426.75, dtype=float32)],\n",
       " [20, 1000, 20, torch.optim.adam.Adam, array(11747.526, dtype=float32)],\n",
       " [20, 1000, 20, torch.optim.rmsprop.RMSprop, array(10486.494, dtype=float32)],\n",
       " [20, 1200, 300, torch.optim.adam.Adam, array(10448.576, dtype=float32)],\n",
       " [20, 1200, 300, torch.optim.rmsprop.RMSprop, array(10442.93, dtype=float32)],\n",
       " [20, 1200, 50, torch.optim.adam.Adam, array(10472.8, dtype=float32)],\n",
       " [20, 1200, 50, torch.optim.rmsprop.RMSprop, array(10420.752, dtype=float32)],\n",
       " [20, 1200, 100, torch.optim.adam.Adam, array(10395.303, dtype=float32)],\n",
       " [20, 1200, 100, torch.optim.rmsprop.RMSprop, array(10402.399, dtype=float32)],\n",
       " [20, 1200, 300, torch.optim.adam.Adam, array(10445.697, dtype=float32)],\n",
       " [20, 1200, 300, torch.optim.rmsprop.RMSprop, array(10409.36, dtype=float32)],\n",
       " [20, 1200, 1200, torch.optim.adam.Adam, array(10443.5625, dtype=float32)],\n",
       " [20,\n",
       "  1200,\n",
       "  1200,\n",
       "  torch.optim.rmsprop.RMSprop,\n",
       "  array(10457.9375, dtype=float32)],\n",
       " [20, 1200, 800, torch.optim.adam.Adam, array(10509.861, dtype=float32)],\n",
       " [20, 1200, 800, torch.optim.rmsprop.RMSprop, array(10422.192, dtype=float32)],\n",
       " [20, 1200, 500, torch.optim.adam.Adam, array(10462.422, dtype=float32)],\n",
       " [20, 1200, 500, torch.optim.rmsprop.RMSprop, array(10415.659, dtype=float32)],\n",
       " [20, 1200, 500, torch.optim.adam.Adam, array(10441.651, dtype=float32)],\n",
       " [20, 1200, 500, torch.optim.rmsprop.RMSprop, array(10374.762, dtype=float32)],\n",
       " [20, 1200, 1200, torch.optim.adam.Adam, array(10400.731, dtype=float32)],\n",
       " [20,\n",
       "  1200,\n",
       "  1200,\n",
       "  torch.optim.rmsprop.RMSprop,\n",
       "  array(10395.931, dtype=float32)],\n",
       " [20, 1200, 1200, torch.optim.adam.Adam, array(10504.556, dtype=float32)],\n",
       " [20,\n",
       "  1200,\n",
       "  1200,\n",
       "  torch.optim.rmsprop.RMSprop,\n",
       "  array(10480.187, dtype=float32)],\n",
       " [20, 1500, 100, torch.optim.adam.Adam, array(10432.712, dtype=float32)],\n",
       " [20, 1500, 100, torch.optim.rmsprop.RMSprop, array(10402.549, dtype=float32)],\n",
       " [20, 1500, 1000, torch.optim.adam.Adam, array(10454.229, dtype=float32)],\n",
       " [20,\n",
       "  1500,\n",
       "  1000,\n",
       "  torch.optim.rmsprop.RMSprop,\n",
       "  array(10418.885, dtype=float32)],\n",
       " [20, 1500, 300, torch.optim.adam.Adam, array(10442.395, dtype=float32)],\n",
       " [20, 1500, 300, torch.optim.rmsprop.RMSprop, array(10369.159, dtype=float32)],\n",
       " [20, 1500, 800, torch.optim.adam.Adam, array(10438.022, dtype=float32)],\n",
       " [20, 1500, 800, torch.optim.rmsprop.RMSprop, array(10441.444, dtype=float32)],\n",
       " [20, 1500, 500, torch.optim.adam.Adam, array(10408.9375, dtype=float32)],\n",
       " [20, 1500, 500, torch.optim.rmsprop.RMSprop, array(10385.525, dtype=float32)],\n",
       " [20, 1500, 20, torch.optim.adam.Adam, array(10414.046, dtype=float32)],\n",
       " [20, 1500, 20, torch.optim.rmsprop.RMSprop, array(10382.475, dtype=float32)],\n",
       " [20, 1500, 800, torch.optim.adam.Adam, array(10443.725, dtype=float32)],\n",
       " [20, 1500, 800, torch.optim.rmsprop.RMSprop, array(10419.573, dtype=float32)],\n",
       " [20, 1500, 2000, torch.optim.adam.Adam, array(10464.246, dtype=float32)],\n",
       " [20,\n",
       "  1500,\n",
       "  2000,\n",
       "  torch.optim.rmsprop.RMSprop,\n",
       "  array(10394.758, dtype=float32)],\n",
       " [20, 1500, 20, torch.optim.adam.Adam, array(10455.097, dtype=float32)],\n",
       " [20, 1500, 20, torch.optim.rmsprop.RMSprop, array(10393.175, dtype=float32)],\n",
       " [20, 1500, 800, torch.optim.adam.Adam, array(10394.457, dtype=float32)],\n",
       " [20, 1500, 800, torch.optim.rmsprop.RMSprop, array(10373.297, dtype=float32)],\n",
       " [20, 2000, 1500, torch.optim.adam.Adam, array(10501.236, dtype=float32)],\n",
       " [20,\n",
       "  2000,\n",
       "  1500,\n",
       "  torch.optim.rmsprop.RMSprop,\n",
       "  array(10421.441, dtype=float32)],\n",
       " [20, 2000, 20, torch.optim.adam.Adam, array(10566.433, dtype=float32)],\n",
       " [20, 2000, 20, torch.optim.rmsprop.RMSprop, array(10463.866, dtype=float32)],\n",
       " [20, 2000, 1000, torch.optim.adam.Adam, array(10416.425, dtype=float32)],\n",
       " [20,\n",
       "  2000,\n",
       "  1000,\n",
       "  torch.optim.rmsprop.RMSprop,\n",
       "  array(10342.664, dtype=float32)],\n",
       " [20, 2000, 1200, torch.optim.adam.Adam, array(10477.342, dtype=float32)],\n",
       " [20,\n",
       "  2000,\n",
       "  1200,\n",
       "  torch.optim.rmsprop.RMSprop,\n",
       "  array(10443.968, dtype=float32)],\n",
       " [20, 2000, 100, torch.optim.adam.Adam, array(10440.935, dtype=float32)],\n",
       " [20, 2000, 100, torch.optim.rmsprop.RMSprop, array(10399.245, dtype=float32)],\n",
       " [20, 2000, 300, torch.optim.adam.Adam, array(10415.525, dtype=float32)],\n",
       " [20, 2000, 300, torch.optim.rmsprop.RMSprop, array(10402.885, dtype=float32)],\n",
       " [20, 2000, 1500, torch.optim.adam.Adam, array(10405.025, dtype=float32)],\n",
       " [20,\n",
       "  2000,\n",
       "  1500,\n",
       "  torch.optim.rmsprop.RMSprop,\n",
       "  array(10409.787, dtype=float32)],\n",
       " [20, 2000, 300, torch.optim.adam.Adam, array(10414.899, dtype=float32)],\n",
       " [20, 2000, 300, torch.optim.rmsprop.RMSprop, array(10427.869, dtype=float32)],\n",
       " [20, 2000, 100, torch.optim.adam.Adam, array(10633.152, dtype=float32)],\n",
       " [20, 2000, 100, torch.optim.rmsprop.RMSprop, array(10495.782, dtype=float32)],\n",
       " [20, 2000, 2000, torch.optim.adam.Adam, array(10406.653, dtype=float32)],\n",
       " [20,\n",
       "  2000,\n",
       "  2000,\n",
       "  torch.optim.rmsprop.RMSprop,\n",
       "  array(10425.171, dtype=float32)],\n",
       " [50, 20, 800, torch.optim.adam.Adam, array(10448.859, dtype=float32)],\n",
       " [50, 20, 800, torch.optim.rmsprop.RMSprop, array(10483.367, dtype=float32)],\n",
       " [50, 20, 100, torch.optim.adam.Adam, array(13567.473, dtype=float32)],\n",
       " [50, 20, 100, torch.optim.rmsprop.RMSprop, array(10407.232, dtype=float32)],\n",
       " [50, 20, 50, torch.optim.adam.Adam, array(14702.557, dtype=float32)],\n",
       " [50, 20, 50, torch.optim.rmsprop.RMSprop, array(10659.56, dtype=float32)],\n",
       " [50, 20, 800, torch.optim.adam.Adam, array(10519.089, dtype=float32)],\n",
       " [50, 20, 800, torch.optim.rmsprop.RMSprop, array(10427.626, dtype=float32)],\n",
       " [50, 20, 20, torch.optim.adam.Adam, array(15080.233, dtype=float32)],\n",
       " [50, 20, 20, torch.optim.rmsprop.RMSprop, array(12345.189, dtype=float32)],\n",
       " [50, 20, 2000, torch.optim.adam.Adam, array(10445.534, dtype=float32)],\n",
       " [50, 20, 2000, torch.optim.rmsprop.RMSprop, array(10387.156, dtype=float32)],\n",
       " [50, 20, 2000, torch.optim.adam.Adam, array(10527.555, dtype=float32)],\n",
       " [50, 20, 2000, torch.optim.rmsprop.RMSprop, array(10394.362, dtype=float32)],\n",
       " [50, 20, 1500, torch.optim.adam.Adam, array(10476.536, dtype=float32)],\n",
       " [50, 20, 1500, torch.optim.rmsprop.RMSprop, array(10402.058, dtype=float32)],\n",
       " [50, 20, 1200, torch.optim.adam.Adam, array(10552.959, dtype=float32)],\n",
       " [50, 20, 1200, torch.optim.rmsprop.RMSprop, array(10409.717, dtype=float32)],\n",
       " [50, 20, 1500, torch.optim.adam.Adam, array(10562.885, dtype=float32)],\n",
       " [50, 20, 1500, torch.optim.rmsprop.RMSprop, array(10425.963, dtype=float32)],\n",
       " [50, 20, 1000, torch.optim.adam.Adam, array(10561.58, dtype=float32)],\n",
       " [50, 20, 1000, torch.optim.rmsprop.RMSprop, array(10407.866, dtype=float32)],\n",
       " [50, 20, 1500, torch.optim.adam.Adam, array(10478.21, dtype=float32)],\n",
       " [50, 20, 1500, torch.optim.rmsprop.RMSprop, array(10388.22, dtype=float32)],\n",
       " [50, 20, 50, torch.optim.adam.Adam, array(14728.813, dtype=float32)],\n",
       " [50, 20, 50, torch.optim.rmsprop.RMSprop, array(10702.993, dtype=float32)],\n",
       " [50, 20, 100, torch.optim.adam.Adam, array(13937.116, dtype=float32)],\n",
       " [50, 20, 100, torch.optim.rmsprop.RMSprop, array(10564.255, dtype=float32)],\n",
       " [50, 20, 1000, torch.optim.adam.Adam, array(10415.486, dtype=float32)],\n",
       " [50, 20, 1000, torch.optim.rmsprop.RMSprop, array(10442.074, dtype=float32)],\n",
       " [50, 20, 500, torch.optim.adam.Adam, array(10539.162, dtype=float32)],\n",
       " [50, 20, 500, torch.optim.rmsprop.RMSprop, array(10394.459, dtype=float32)],\n",
       " [50, 20, 300, torch.optim.adam.Adam, array(11432.261, dtype=float32)],\n",
       " [50, 20, 300, torch.optim.rmsprop.RMSprop, array(10409.514, dtype=float32)],\n",
       " [50, 20, 2000, torch.optim.adam.Adam, array(10433.146, dtype=float32)],\n",
       " [50, 20, 2000, torch.optim.rmsprop.RMSprop, array(10362.359, dtype=float32)],\n",
       " [50, 20, 1500, torch.optim.adam.Adam, array(10513.36, dtype=float32)],\n",
       " [50, 20, 1500, torch.optim.rmsprop.RMSprop, array(10410.5205, dtype=float32)],\n",
       " [100, 20, 800, torch.optim.adam.Adam, array(10425.525, dtype=float32)],\n",
       " [100, 20, 800, torch.optim.rmsprop.RMSprop, array(10456.785, dtype=float32)],\n",
       " [100, 20, 1000, torch.optim.adam.Adam, array(10444.6875, dtype=float32)],\n",
       " [100, 20, 1000, torch.optim.rmsprop.RMSprop, array(10389.383, dtype=float32)],\n",
       " [100, 20, 500, torch.optim.adam.Adam, array(10382.349, dtype=float32)],\n",
       " [100, 20, 500, torch.optim.rmsprop.RMSprop, array(10446.303, dtype=float32)],\n",
       " [100, 20, 2000, torch.optim.adam.Adam, array(10403.423, dtype=float32)],\n",
       " [100, 20, 2000, torch.optim.rmsprop.RMSprop, array(10427.56, dtype=float32)],\n",
       " [100, 20, 2000, torch.optim.adam.Adam, array(10521.055, dtype=float32)],\n",
       " [100, 20, 2000, torch.optim.rmsprop.RMSprop, array(10402.574, dtype=float32)],\n",
       " [100, 20, 1500, torch.optim.adam.Adam, array(10488.686, dtype=float32)],\n",
       " [100, 20, 1500, torch.optim.rmsprop.RMSprop, array(10354.334, dtype=float32)],\n",
       " [100, 20, 2000, torch.optim.adam.Adam, array(10483.672, dtype=float32)],\n",
       " [100, 20, 2000, torch.optim.rmsprop.RMSprop, array(10455.487, dtype=float32)],\n",
       " [100, 20, 300, torch.optim.adam.Adam, array(10715.579, dtype=float32)],\n",
       " [100, 20, 300, torch.optim.rmsprop.RMSprop, array(10421.362, dtype=float32)],\n",
       " [100, 20, 800, torch.optim.adam.Adam, array(10468.429, dtype=float32)],\n",
       " [100, 20, 800, torch.optim.rmsprop.RMSprop, array(10399.688, dtype=float32)],\n",
       " [100, 20, 800, torch.optim.adam.Adam, array(10439.077, dtype=float32)],\n",
       " [100, 20, 800, torch.optim.rmsprop.RMSprop, array(10412.975, dtype=float32)],\n",
       " [100, 20, 1200, torch.optim.adam.Adam, array(10424.57, dtype=float32)],\n",
       " [100, 20, 1200, torch.optim.rmsprop.RMSprop, array(10407.779, dtype=float32)],\n",
       " [100, 20, 1500, torch.optim.adam.Adam, array(10416.822, dtype=float32)],\n",
       " [100, 20, 1500, torch.optim.rmsprop.RMSprop, array(10402.442, dtype=float32)],\n",
       " [100, 20, 2000, torch.optim.adam.Adam, array(10420.127, dtype=float32)],\n",
       " [100, 20, 2000, torch.optim.rmsprop.RMSprop, array(10422.648, dtype=float32)],\n",
       " [100, 20, 1500, torch.optim.adam.Adam, array(10429.8545, dtype=float32)],\n",
       " [100, 20, 1500, torch.optim.rmsprop.RMSprop, array(10434.88, dtype=float32)],\n",
       " [100, 20, 800, torch.optim.adam.Adam, array(10469.795, dtype=float32)],\n",
       " [100, 20, 800, torch.optim.rmsprop.RMSprop, array(10498.98, dtype=float32)],\n",
       " [100, 20, 1000, torch.optim.adam.Adam, array(10432.857, dtype=float32)],\n",
       " [100, 20, 1000, torch.optim.rmsprop.RMSprop, array(10435.307, dtype=float32)],\n",
       " [100, 20, 100, torch.optim.adam.Adam, array(13041.618, dtype=float32)],\n",
       " [100, 20, 100, torch.optim.rmsprop.RMSprop, array(10472.702, dtype=float32)],\n",
       " [100, 20, 50, torch.optim.adam.Adam, array(14392.37, dtype=float32)],\n",
       " [100, 20, 50, torch.optim.rmsprop.RMSprop, array(10560.826, dtype=float32)],\n",
       " [100, 20, 500, torch.optim.adam.Adam, array(10513.217, dtype=float32)],\n",
       " [100, 20, 500, torch.optim.rmsprop.RMSprop, array(10385.053, dtype=float32)],\n",
       " [300, 20, 1200, torch.optim.adam.Adam, array(10492.623, dtype=float32)],\n",
       " [300, 20, 1200, torch.optim.rmsprop.RMSprop, array(10387.452, dtype=float32)],\n",
       " [300, 20, 1500, torch.optim.adam.Adam, array(10541.551, dtype=float32)],\n",
       " [300, 20, 1500, torch.optim.rmsprop.RMSprop, array(10381.685, dtype=float32)],\n",
       " [300, 20, 1000, torch.optim.adam.Adam, array(10459.693, dtype=float32)],\n",
       " [300, 20, 1000, torch.optim.rmsprop.RMSprop, array(10398.476, dtype=float32)],\n",
       " [300, 20, 500, torch.optim.adam.Adam, array(10551., dtype=float32)],\n",
       " [300, 20, 500, torch.optim.rmsprop.RMSprop, array(10460.459, dtype=float32)],\n",
       " [300, 20, 1500, torch.optim.adam.Adam, array(10439.136, dtype=float32)],\n",
       " [300, 20, 1500, torch.optim.rmsprop.RMSprop, array(10441.481, dtype=float32)],\n",
       " [300, 20, 300, torch.optim.adam.Adam, array(10522.434, dtype=float32)],\n",
       " [300, 20, 300, torch.optim.rmsprop.RMSprop, array(10475.775, dtype=float32)],\n",
       " [300, 20, 1200, torch.optim.adam.Adam, array(10425.786, dtype=float32)],\n",
       " [300, 20, 1200, torch.optim.rmsprop.RMSprop, array(10455.842, dtype=float32)],\n",
       " [300, 20, 50, torch.optim.adam.Adam, array(13618.778, dtype=float32)],\n",
       " [300, 20, 50, torch.optim.rmsprop.RMSprop, array(10438.779, dtype=float32)],\n",
       " [300, 20, 2000, torch.optim.adam.Adam, array(10435.845, dtype=float32)],\n",
       " [300, 20, 2000, torch.optim.rmsprop.RMSprop, array(10433.003, dtype=float32)],\n",
       " [300, 20, 1200, torch.optim.adam.Adam, array(10505.902, dtype=float32)],\n",
       " [300, 20, 1200, torch.optim.rmsprop.RMSprop, array(10387.037, dtype=float32)],\n",
       " [300, 20, 2000, torch.optim.adam.Adam, array(10420.561, dtype=float32)],\n",
       " [300, 20, 2000, torch.optim.rmsprop.RMSprop, array(10395.555, dtype=float32)],\n",
       " [300, 20, 20, torch.optim.adam.Adam, array(13824.724, dtype=float32)],\n",
       " [300, 20, 20, torch.optim.rmsprop.RMSprop, array(10480.359, dtype=float32)],\n",
       " [300, 20, 500, torch.optim.adam.Adam, array(10358.303, dtype=float32)],\n",
       " [300, 20, 500, torch.optim.rmsprop.RMSprop, array(10448.713, dtype=float32)],\n",
       " [300, 20, 1000, torch.optim.adam.Adam, array(10467.932, dtype=float32)],\n",
       " [300, 20, 1000, torch.optim.rmsprop.RMSprop, array(10402.595, dtype=float32)],\n",
       " [300, 800, 20, torch.optim.adam.Adam, array(10441.333, dtype=float32)],\n",
       " [300, 800, 20, torch.optim.rmsprop.RMSprop, array(10414.04, dtype=float32)],\n",
       " [300, 800, 500, torch.optim.adam.Adam, array(10474.016, dtype=float32)],\n",
       " [300, 800, 500, torch.optim.rmsprop.RMSprop, array(10409.127, dtype=float32)],\n",
       " [300, 800, 800, torch.optim.adam.Adam, array(10426.371, dtype=float32)],\n",
       " [300, 800, 800, torch.optim.rmsprop.RMSprop, array(10445.465, dtype=float32)],\n",
       " [300, 800, 1000, torch.optim.adam.Adam, array(10418.649, dtype=float32)],\n",
       " [300,\n",
       "  800,\n",
       "  1000,\n",
       "  torch.optim.rmsprop.RMSprop,\n",
       "  array(10470.506, dtype=float32)],\n",
       " [300, 800, 100, torch.optim.adam.Adam, array(10437.496, dtype=float32)],\n",
       " [300, 800, 100, torch.optim.rmsprop.RMSprop, array(10382.077, dtype=float32)],\n",
       " [500, 20, 500, torch.optim.adam.Adam, array(10497.833, dtype=float32)],\n",
       " [500, 20, 500, torch.optim.rmsprop.RMSprop, array(10436.301, dtype=float32)],\n",
       " [500, 20, 2000, torch.optim.adam.Adam, array(10475.241, dtype=float32)],\n",
       " [500, 20, 2000, torch.optim.rmsprop.RMSprop, array(10424.482, dtype=float32)],\n",
       " [500, 20, 50, torch.optim.adam.Adam, array(11974.897, dtype=float32)],\n",
       " [500, 20, 50, torch.optim.rmsprop.RMSprop, array(10450.446, dtype=float32)],\n",
       " [500, 20, 2000, torch.optim.adam.Adam, array(10404.81, dtype=float32)],\n",
       " [500, 20, 2000, torch.optim.rmsprop.RMSprop, array(10399.106, dtype=float32)],\n",
       " [500, 20, 500, torch.optim.adam.Adam, array(10581.812, dtype=float32)],\n",
       " [500, 20, 500, torch.optim.rmsprop.RMSprop, array(10437.62, dtype=float32)],\n",
       " [500, 20, 50, torch.optim.adam.Adam, array(11521.497, dtype=float32)],\n",
       " [500, 20, 50, torch.optim.rmsprop.RMSprop, array(10399.613, dtype=float32)],\n",
       " [500, 20, 800, torch.optim.adam.Adam, array(10433.104, dtype=float32)],\n",
       " [500, 20, 800, torch.optim.rmsprop.RMSprop, array(10438.542, dtype=float32)],\n",
       " [500, 20, 50, torch.optim.adam.Adam, array(10698.684, dtype=float32)],\n",
       " [500, 20, 50, torch.optim.rmsprop.RMSprop, array(10479.752, dtype=float32)],\n",
       " [500, 20, 300, torch.optim.adam.Adam, array(10549.394, dtype=float32)],\n",
       " [500, 20, 300, torch.optim.rmsprop.RMSprop, array(10438.912, dtype=float32)],\n",
       " [500, 20, 1200, torch.optim.adam.Adam, array(10441.936, dtype=float32)],\n",
       " [500, 20, 1200, torch.optim.rmsprop.RMSprop, array(10413.664, dtype=float32)],\n",
       " [500, 20, 1200, torch.optim.adam.Adam, array(10467.098, dtype=float32)],\n",
       " [500, 20, 1200, torch.optim.rmsprop.RMSprop, array(10360.873, dtype=float32)],\n",
       " [500, 20, 20, torch.optim.adam.Adam, array(12686.675, dtype=float32)],\n",
       " [500, 20, 20, torch.optim.rmsprop.RMSprop, array(10438.842, dtype=float32)],\n",
       " [500, 20, 500, torch.optim.adam.Adam, array(10464.891, dtype=float32)],\n",
       " [500, 20, 500, torch.optim.rmsprop.RMSprop, array(10373.581, dtype=float32)],\n",
       " [500, 20, 1200, torch.optim.adam.Adam, array(10478.599, dtype=float32)],\n",
       " [500, 20, 1200, torch.optim.rmsprop.RMSprop, array(10370.477, dtype=float32)],\n",
       " [500, 20, 300, torch.optim.adam.Adam, array(10484.649, dtype=float32)],\n",
       " [500, 20, 300, torch.optim.rmsprop.RMSprop, array(10394.522, dtype=float32)],\n",
       " [500, 20, 50, torch.optim.adam.Adam, array(11926.081, dtype=float32)],\n",
       " [500, 20, 50, torch.optim.rmsprop.RMSprop, array(10454.591, dtype=float32)],\n",
       " [500, 20, 1000, torch.optim.adam.Adam, array(10390.12, dtype=float32)],\n",
       " [500, 20, 1000, torch.optim.rmsprop.RMSprop, array(10414.126, dtype=float32)],\n",
       " [500, 20, 50, torch.optim.adam.Adam, array(11917.179, dtype=float32)],\n",
       " [500, 20, 50, torch.optim.rmsprop.RMSprop, array(10488.568, dtype=float32)],\n",
       " [500, 20, 800, torch.optim.adam.Adam, array(10452.315, dtype=float32)],\n",
       " [500, 20, 800, torch.optim.rmsprop.RMSprop, array(10391.729, dtype=float32)],\n",
       " [800, 20, 800, torch.optim.adam.Adam, array(10528.545, dtype=float32)],\n",
       " [800, 20, 800, torch.optim.rmsprop.RMSprop, array(10369.947, dtype=float32)],\n",
       " [800, 20, 1500, torch.optim.adam.Adam, array(10433.528, dtype=float32)],\n",
       " [800, 20, 1500, torch.optim.rmsprop.RMSprop, array(10389.021, dtype=float32)],\n",
       " [800, 20, 1200, torch.optim.adam.Adam, array(10473.726, dtype=float32)],\n",
       " [800, 20, 1200, torch.optim.rmsprop.RMSprop, array(10427.688, dtype=float32)],\n",
       " [800, 20, 2000, torch.optim.adam.Adam, array(10464.139, dtype=float32)],\n",
       " [800, 20, 2000, torch.optim.rmsprop.RMSprop, array(10399.33, dtype=float32)],\n",
       " [800, 20, 1200, torch.optim.adam.Adam, array(10407.012, dtype=float32)],\n",
       " [800, 20, 1200, torch.optim.rmsprop.RMSprop, array(10467.35, dtype=float32)],\n",
       " [800, 20, 20, torch.optim.adam.Adam, array(12279.307, dtype=float32)],\n",
       " [800, 20, 20, torch.optim.rmsprop.RMSprop, array(10445.52, dtype=float32)],\n",
       " [800, 20, 50, torch.optim.adam.Adam, array(10543.917, dtype=float32)],\n",
       " [800, 20, 50, torch.optim.rmsprop.RMSprop, array(10425.686, dtype=float32)],\n",
       " [800, 20, 1200, torch.optim.adam.Adam, array(10389.073, dtype=float32)],\n",
       " [800,\n",
       "  20,\n",
       "  1200,\n",
       "  torch.optim.rmsprop.RMSprop,\n",
       "  array(10431.2295, dtype=float32)],\n",
       " [800, 20, 1000, torch.optim.adam.Adam, array(10489.509, dtype=float32)],\n",
       " [800, 20, 1000, torch.optim.rmsprop.RMSprop, array(10449.62, dtype=float32)],\n",
       " [800, 20, 1200, torch.optim.adam.Adam, array(10480.31, dtype=float32)],\n",
       " [800, 20, 1200, torch.optim.rmsprop.RMSprop, array(10396.169, dtype=float32)],\n",
       " [800, 20, 500, torch.optim.adam.Adam, array(10547.082, dtype=float32)],\n",
       " [800, 20, 500, torch.optim.rmsprop.RMSprop, array(10424.837, dtype=float32)],\n",
       " [800, 20, 1500, torch.optim.adam.Adam, array(10500.498, dtype=float32)],\n",
       " [800, 20, 1500, torch.optim.rmsprop.RMSprop, array(10390.964, dtype=float32)],\n",
       " [800, 300, 300, torch.optim.adam.Adam, array(10489.653, dtype=float32)],\n",
       " [800, 300, 300, torch.optim.rmsprop.RMSprop, array(10384.96, dtype=float32)],\n",
       " [800, 300, 300, torch.optim.adam.Adam, array(10513.846, dtype=float32)],\n",
       " [800, 300, 300, torch.optim.rmsprop.RMSprop, array(10386.504, dtype=float32)],\n",
       " [800, 300, 100, torch.optim.adam.Adam, array(10433.402, dtype=float32)],\n",
       " [800, 300, 100, torch.optim.rmsprop.RMSprop, array(10386.173, dtype=float32)],\n",
       " [800, 1000, 500, torch.optim.adam.Adam, array(10419.648, dtype=float32)],\n",
       " [800,\n",
       "  1000,\n",
       "  500,\n",
       "  torch.optim.rmsprop.RMSprop,\n",
       "  array(10393.668, dtype=float32)],\n",
       " [800, 1000, 800, torch.optim.adam.Adam, array(10399.765, dtype=float32)],\n",
       " [800,\n",
       "  1000,\n",
       "  800,\n",
       "  torch.optim.rmsprop.RMSprop,\n",
       "  array(10424.378, dtype=float32)],\n",
       " [800, 1000, 20, torch.optim.adam.Adam, array(10449.775, dtype=float32)],\n",
       " [800, 1000, 20, torch.optim.rmsprop.RMSprop, array(10425.35, dtype=float32)],\n",
       " [800, 2000, 300, torch.optim.adam.Adam, array(10409.526, dtype=float32)],\n",
       " [800,\n",
       "  2000,\n",
       "  300,\n",
       "  torch.optim.rmsprop.RMSprop,\n",
       "  array(10373.325, dtype=float32)],\n",
       " [1000, 20, 2000, torch.optim.adam.Adam, array(10414.4, dtype=float32)],\n",
       " [1000,\n",
       "  20,\n",
       "  2000,\n",
       "  torch.optim.rmsprop.RMSprop,\n",
       "  array(10416.683, dtype=float32)],\n",
       " [1000, 20, 20, torch.optim.adam.Adam, array(13001.246, dtype=float32)],\n",
       " [1000, 20, 20, torch.optim.rmsprop.RMSprop, array(10457.151, dtype=float32)],\n",
       " [1000, 20, 500, torch.optim.adam.Adam, array(10442.911, dtype=float32)],\n",
       " [1000, 20, 500, torch.optim.rmsprop.RMSprop, array(10355.49, dtype=float32)],\n",
       " [1000, 20, 50, torch.optim.adam.Adam, array(11160.515, dtype=float32)],\n",
       " [1000, 20, 50, torch.optim.rmsprop.RMSprop, array(10415.028, dtype=float32)],\n",
       " [1000, 20, 1500, torch.optim.adam.Adam, array(10368.613, dtype=float32)],\n",
       " [1000,\n",
       "  20,\n",
       "  1500,\n",
       "  torch.optim.rmsprop.RMSprop,\n",
       "  array(10417.311, dtype=float32)],\n",
       " [1000, 20, 50, torch.optim.adam.Adam, array(10430.493, dtype=float32)],\n",
       " [1000, 20, 50, torch.optim.rmsprop.RMSprop, array(10433.815, dtype=float32)],\n",
       " [1000, 20, 500, torch.optim.adam.Adam, array(10481.222, dtype=float32)],\n",
       " [1000, 20, 500, torch.optim.rmsprop.RMSprop, array(10403.036, dtype=float32)],\n",
       " [1000, 20, 300, torch.optim.adam.Adam, array(10377.13, dtype=float32)],\n",
       " [1000, 20, 300, torch.optim.rmsprop.RMSprop, array(10430.413, dtype=float32)],\n",
       " [1000, 20, 500, torch.optim.adam.Adam, array(10539.81, dtype=float32)],\n",
       " [1000, 20, 500, torch.optim.rmsprop.RMSprop, array(10432.861, dtype=float32)],\n",
       " [1000, 20, 500, torch.optim.adam.Adam, array(10384.309, dtype=float32)],\n",
       " [1000, 20, 500, torch.optim.rmsprop.RMSprop, array(10409.785, dtype=float32)],\n",
       " [1000, 20, 1000, torch.optim.adam.Adam, array(10401.384, dtype=float32)],\n",
       " [1000, 20, 1000, torch.optim.rmsprop.RMSprop, array(10403.19, dtype=float32)],\n",
       " [1000, 20, 1000, torch.optim.adam.Adam, array(10426.178, dtype=float32)],\n",
       " [1000,\n",
       "  20,\n",
       "  1000,\n",
       "  torch.optim.rmsprop.RMSprop,\n",
       "  array(10416.596, dtype=float32)],\n",
       " [1000, 20, 1000, torch.optim.adam.Adam, array(10440.574, dtype=float32)],\n",
       " [1000,\n",
       "  20,\n",
       "  1000,\n",
       "  torch.optim.rmsprop.RMSprop,\n",
       "  array(10437.507, dtype=float32)],\n",
       " [1000, 20, 100, torch.optim.adam.Adam, array(10940.987, dtype=float32)],\n",
       " [1000, 20, 100, torch.optim.rmsprop.RMSprop, array(10432.229, dtype=float32)],\n",
       " [1000, 800, 800, torch.optim.adam.Adam, array(10401.869, dtype=float32)],\n",
       " [1000,\n",
       "  800,\n",
       "  800,\n",
       "  torch.optim.rmsprop.RMSprop,\n",
       "  array(10389.548, dtype=float32)],\n",
       " [1000, 800, 2000, torch.optim.adam.Adam, array(10424.187, dtype=float32)],\n",
       " [1000,\n",
       "  800,\n",
       "  2000,\n",
       "  torch.optim.rmsprop.RMSprop,\n",
       "  array(10525.628, dtype=float32)],\n",
       " [1000, 800, 100, torch.optim.adam.Adam, array(10466.935, dtype=float32)],\n",
       " [1000,\n",
       "  800,\n",
       "  100,\n",
       "  torch.optim.rmsprop.RMSprop,\n",
       "  array(10366.286, dtype=float32)],\n",
       " [1000, 800, 100, torch.optim.adam.Adam, array(10375.837, dtype=float32)],\n",
       " [1000,\n",
       "  800,\n",
       "  100,\n",
       "  torch.optim.rmsprop.RMSprop,\n",
       "  array(10371.218, dtype=float32)],\n",
       " [1000, 800, 1500, torch.optim.adam.Adam, array(10423.677, dtype=float32)],\n",
       " [1000,\n",
       "  800,\n",
       "  1500,\n",
       "  torch.optim.rmsprop.RMSprop,\n",
       "  array(10419.441, dtype=float32)],\n",
       " [1200, 20, 1200, torch.optim.adam.Adam, array(10444.455, dtype=float32)],\n",
       " [1200,\n",
       "  20,\n",
       "  1200,\n",
       "  torch.optim.rmsprop.RMSprop,\n",
       "  array(10378.767, dtype=float32)],\n",
       " [1200, 20, 20, torch.optim.adam.Adam, array(13064.95, dtype=float32)],\n",
       " [1200, 20, 20, torch.optim.rmsprop.RMSprop, array(10450.885, dtype=float32)],\n",
       " [1200, 20, 1000, torch.optim.adam.Adam, array(10478.801, dtype=float32)],\n",
       " [1200, 20, 1000, torch.optim.rmsprop.RMSprop, array(10391.01, dtype=float32)],\n",
       " [1200, 20, 1200, torch.optim.adam.Adam, array(10467.782, dtype=float32)],\n",
       " [1200,\n",
       "  20,\n",
       "  1200,\n",
       "  torch.optim.rmsprop.RMSprop,\n",
       "  array(10372.208, dtype=float32)],\n",
       " [1200, 20, 2000, torch.optim.adam.Adam, array(10455.522, dtype=float32)],\n",
       " [1200,\n",
       "  20,\n",
       "  2000,\n",
       "  torch.optim.rmsprop.RMSprop,\n",
       "  array(10385.154, dtype=float32)],\n",
       " [1200, 20, 300, torch.optim.adam.Adam, array(10465.902, dtype=float32)],\n",
       " [1200, 20, 300, torch.optim.rmsprop.RMSprop, array(10440.228, dtype=float32)],\n",
       " [1200, 20, 800, torch.optim.adam.Adam, array(10416.296, dtype=float32)],\n",
       " [1200, 20, 800, torch.optim.rmsprop.RMSprop, array(10356.371, dtype=float32)],\n",
       " [1200, 20, 800, torch.optim.adam.Adam, array(10398.265, dtype=float32)],\n",
       " [1200, 20, 800, torch.optim.rmsprop.RMSprop, array(10378.599, dtype=float32)],\n",
       " [1200, 20, 800, torch.optim.adam.Adam, array(10411.583, dtype=float32)],\n",
       " [1200, 20, 800, torch.optim.rmsprop.RMSprop, array(10411.146, dtype=float32)],\n",
       " [1200, 20, 500, torch.optim.adam.Adam, array(10514.15, dtype=float32)],\n",
       " [1200, 20, 500, torch.optim.rmsprop.RMSprop, array(10405.238, dtype=float32)],\n",
       " [1200, 20, 1000, torch.optim.adam.Adam, array(10460.208, dtype=float32)],\n",
       " [1200,\n",
       "  20,\n",
       "  1000,\n",
       "  torch.optim.rmsprop.RMSprop,\n",
       "  array(10403.539, dtype=float32)],\n",
       " [1200, 20, 1500, torch.optim.adam.Adam, array(10398.419, dtype=float32)],\n",
       " [1200,\n",
       "  20,\n",
       "  1500,\n",
       "  torch.optim.rmsprop.RMSprop,\n",
       "  array(10394.006, dtype=float32)],\n",
       " [1200, 20, 1500, torch.optim.adam.Adam, array(10466.666, dtype=float32)],\n",
       " [1200,\n",
       "  20,\n",
       "  1500,\n",
       "  torch.optim.rmsprop.RMSprop,\n",
       "  array(10424.136, dtype=float32)],\n",
       " [1200, 20, 1500, torch.optim.adam.Adam, array(10371.85, dtype=float32)],\n",
       " [1200,\n",
       "  20,\n",
       "  1500,\n",
       "  torch.optim.rmsprop.RMSprop,\n",
       "  array(10457.749, dtype=float32)],\n",
       " [1200, 20, 100, torch.optim.adam.Adam, array(10452.898, dtype=float32)],\n",
       " [1200, 20, 100, torch.optim.rmsprop.RMSprop, array(10385.154, dtype=float32)],\n",
       " [1200, 20, 300, torch.optim.adam.Adam, array(10474.629, dtype=float32)],\n",
       " [1200, 20, 300, torch.optim.rmsprop.RMSprop, array(10383.829, dtype=float32)],\n",
       " [1200, 20, 1000, torch.optim.adam.Adam, array(10457.678, dtype=float32)],\n",
       " [1200,\n",
       "  20,\n",
       "  1000,\n",
       "  torch.optim.rmsprop.RMSprop,\n",
       "  array(10406.241, dtype=float32)],\n",
       " [1200, 20, 1000, torch.optim.adam.Adam, array(10485.694, dtype=float32)],\n",
       " [1200,\n",
       "  20,\n",
       "  1000,\n",
       "  torch.optim.rmsprop.RMSprop,\n",
       "  array(10382.258, dtype=float32)],\n",
       " [1200, 20, 1200, torch.optim.adam.Adam, array(10465.127, dtype=float32)],\n",
       " [1200,\n",
       "  20,\n",
       "  1200,\n",
       "  torch.optim.rmsprop.RMSprop,\n",
       "  array(10420.632, dtype=float32)],\n",
       " [1500, 20, 20, torch.optim.adam.Adam, array(11326.9375, dtype=float32)],\n",
       " [1500, 20, 20, torch.optim.rmsprop.RMSprop, array(10393.103, dtype=float32)],\n",
       " [1500, 20, 1000, torch.optim.adam.Adam, array(10414.301, dtype=float32)],\n",
       " [1500,\n",
       "  20,\n",
       "  1000,\n",
       "  torch.optim.rmsprop.RMSprop,\n",
       "  array(10410.455, dtype=float32)],\n",
       " [1500, 20, 800, torch.optim.adam.Adam, array(10387.032, dtype=float32)],\n",
       " [1500, 20, 800, torch.optim.rmsprop.RMSprop, array(10363.407, dtype=float32)],\n",
       " [1500, 20, 20, torch.optim.adam.Adam, array(11362.323, dtype=float32)],\n",
       " [1500, 20, 20, torch.optim.rmsprop.RMSprop, array(10478.388, dtype=float32)],\n",
       " [1500, 20, 800, torch.optim.adam.Adam, array(10450.288, dtype=float32)],\n",
       " [1500, 20, 800, torch.optim.rmsprop.RMSprop, array(10377.851, dtype=float32)],\n",
       " [1500, 20, 500, torch.optim.adam.Adam, array(10478.05, dtype=float32)],\n",
       " [1500, 20, 500, torch.optim.rmsprop.RMSprop, array(10415.317, dtype=float32)],\n",
       " [1500, 20, 300, torch.optim.adam.Adam, array(10442.588, dtype=float32)],\n",
       " [1500, 20, 300, torch.optim.rmsprop.RMSprop, array(10379.356, dtype=float32)],\n",
       " [1500, 20, 1000, torch.optim.adam.Adam, array(10584.726, dtype=float32)],\n",
       " [1500,\n",
       "  20,\n",
       "  1000,\n",
       "  torch.optim.rmsprop.RMSprop,\n",
       "  array(10422.033, dtype=float32)],\n",
       " [1500, 20, 100, torch.optim.adam.Adam, array(10499.418, dtype=float32)],\n",
       " [1500, 20, 100, torch.optim.rmsprop.RMSprop, array(10417.62, dtype=float32)],\n",
       " [1500, 20, 20, torch.optim.adam.Adam, array(12814.235, dtype=float32)],\n",
       " [1500, 20, 20, torch.optim.rmsprop.RMSprop, array(10405.655, dtype=float32)],\n",
       " [1500, 20, 1500, torch.optim.adam.Adam, array(10451.023, dtype=float32)],\n",
       " [1500,\n",
       "  20,\n",
       "  1500,\n",
       "  torch.optim.rmsprop.RMSprop,\n",
       "  array(10403.195, dtype=float32)],\n",
       " [1500, 20, 20, torch.optim.adam.Adam, array(10904.02, dtype=float32)],\n",
       " [1500, 20, 20, torch.optim.rmsprop.RMSprop, array(10477.002, dtype=float32)],\n",
       " [1500, 20, 500, torch.optim.adam.Adam, array(10469.067, dtype=float32)],\n",
       " [1500, 20, 500, torch.optim.rmsprop.RMSprop, array(10394.072, dtype=float32)],\n",
       " [1500, 20, 20, torch.optim.adam.Adam, array(11283.198, dtype=float32)],\n",
       " [1500, 20, 20, torch.optim.rmsprop.RMSprop, array(10527.937, dtype=float32)],\n",
       " [1500, 20, 800, torch.optim.adam.Adam, array(10502.135, dtype=float32)],\n",
       " [1500, 20, 800, torch.optim.rmsprop.RMSprop, array(10410.848, dtype=float32)],\n",
       " [1500, 20, 50, torch.optim.adam.Adam, array(10370.193, dtype=float32)],\n",
       " [1500, 20, 50, torch.optim.rmsprop.RMSprop, array(10392.918, dtype=float32)],\n",
       " [1500, 20, 800, torch.optim.adam.Adam, array(10423.83, dtype=float32)],\n",
       " [1500, 20, 800, torch.optim.rmsprop.RMSprop, array(10410.38, dtype=float32)],\n",
       " [1500, 20, 800, torch.optim.adam.Adam, array(10467.262, dtype=float32)],\n",
       " [1500, 20, 800, torch.optim.rmsprop.RMSprop, array(10459.74, dtype=float32)],\n",
       " [1500, 20, 1200, torch.optim.adam.Adam, array(10382.169, dtype=float32)],\n",
       " [1500,\n",
       "  20,\n",
       "  1200,\n",
       "  torch.optim.rmsprop.RMSprop,\n",
       "  array(10398.075, dtype=float32)],\n",
       " [2000, 20, 300, torch.optim.adam.Adam, array(10507.39, dtype=float32)],\n",
       " [2000, 20, 300, torch.optim.rmsprop.RMSprop, array(10433.91, dtype=float32)],\n",
       " [2000, 20, 2000, torch.optim.adam.Adam, array(10495.691, dtype=float32)],\n",
       " [2000,\n",
       "  20,\n",
       "  2000,\n",
       "  torch.optim.rmsprop.RMSprop,\n",
       "  array(10401.909, dtype=float32)],\n",
       " [2000, 20, 20, torch.optim.adam.Adam, array(10609.222, dtype=float32)],\n",
       " [2000, 20, 20, torch.optim.rmsprop.RMSprop, array(10470.606, dtype=float32)],\n",
       " [2000, 20, 100, torch.optim.adam.Adam, array(10550.432, dtype=float32)],\n",
       " [2000, 20, 100, torch.optim.rmsprop.RMSprop, array(10437.87, dtype=float32)],\n",
       " [2000, 20, 1500, torch.optim.adam.Adam, array(10341.851, dtype=float32)],\n",
       " [2000,\n",
       "  20,\n",
       "  1500,\n",
       "  torch.optim.rmsprop.RMSprop,\n",
       "  array(10431.785, dtype=float32)],\n",
       " [2000, 20, 500, torch.optim.adam.Adam, array(10421.704, dtype=float32)],\n",
       " [2000, 20, 500, torch.optim.rmsprop.RMSprop, array(10423.917, dtype=float32)],\n",
       " [2000, 20, 1000, torch.optim.adam.Adam, array(10420.023, dtype=float32)],\n",
       " [2000,\n",
       "  20,\n",
       "  1000,\n",
       "  torch.optim.rmsprop.RMSprop,\n",
       "  array(10391.513, dtype=float32)],\n",
       " [2000, 20, 300, torch.optim.adam.Adam, array(10418.52, dtype=float32)],\n",
       " [2000, 20, 300, torch.optim.rmsprop.RMSprop, array(10421.252, dtype=float32)],\n",
       " [2000, 20, 300, torch.optim.adam.Adam, array(10468.673, dtype=float32)],\n",
       " [2000, 20, 300, torch.optim.rmsprop.RMSprop, array(10461.978, dtype=float32)],\n",
       " [2000, 20, 20, torch.optim.adam.Adam, array(10758.866, dtype=float32)],\n",
       " [2000, 20, 20, torch.optim.rmsprop.RMSprop, array(10422.698, dtype=float32)],\n",
       " [2000, 20, 20, torch.optim.adam.Adam, array(11096.133, dtype=float32)],\n",
       " [2000, 20, 20, torch.optim.rmsprop.RMSprop, array(10418.816, dtype=float32)],\n",
       " [2000, 20, 1000, torch.optim.adam.Adam, array(10438.713, dtype=float32)],\n",
       " [2000,\n",
       "  20,\n",
       "  1000,\n",
       "  torch.optim.rmsprop.RMSprop,\n",
       "  array(10358.277, dtype=float32)],\n",
       " [2000, 20, 1200, torch.optim.adam.Adam, array(10441.161, dtype=float32)],\n",
       " [2000, 20, 1200, torch.optim.rmsprop.RMSprop, array(10453.94, dtype=float32)],\n",
       " [2000, 20, 500, torch.optim.adam.Adam, array(10440.316, dtype=float32)],\n",
       " [2000, 20, 500, torch.optim.rmsprop.RMSprop, array(10390.369, dtype=float32)],\n",
       " [2000, 800, 800, torch.optim.adam.Adam, array(10443.718, dtype=float32)],\n",
       " [2000,\n",
       "  800,\n",
       "  800,\n",
       "  torch.optim.rmsprop.RMSprop,\n",
       "  array(10466.143, dtype=float32)],\n",
       " [2000, 800, 800, torch.optim.adam.Adam, array(10424.1455, dtype=float32)],\n",
       " [2000, 800, 800, torch.optim.rmsprop.RMSprop, array(10471.9, dtype=float32)],\n",
       " [2000, 800, 20, torch.optim.adam.Adam, array(10419.316, dtype=float32)],\n",
       " [2000, 800, 20, torch.optim.rmsprop.RMSprop, array(10388.144, dtype=float32)],\n",
       " [2000, 800, 50, torch.optim.adam.Adam, array(10390.887, dtype=float32)],\n",
       " [2000, 800, 50, torch.optim.rmsprop.RMSprop, array(10402.826, dtype=float32)],\n",
       " [2000, 800, 20, torch.optim.adam.Adam, array(10429.299, dtype=float32)],\n",
       " [2000, 800, 20, torch.optim.rmsprop.RMSprop, array(10438.135, dtype=float32)]]"
      ]
     },
     "execution_count": 45,
     "metadata": {},
     "output_type": "execute_result"
    }
   ],
   "source": [
    "rmse3"
   ]
  },
  {
   "cell_type": "markdown",
   "id": "2bc74900",
   "metadata": {},
   "source": [
    "Нейросеть с двумя скрытыми слоями показала динамику лучше, да вообще динамику, чем другие варианты. Оптимизатор Адам разгоняется дольше, но в конце выходит всё-таки на меньшую ошибку, чем RMSprop. Посмотрим, как она предсказывает температуру звезды на графике. обучим нейросеть на лучших на текущий момент параметрах. "
   ]
  },
  {
   "cell_type": "code",
   "execution_count": 46,
   "id": "2d174750",
   "metadata": {},
   "outputs": [
    {
     "name": "stdout",
     "output_type": "stream",
     "text": [
      "10480.478\n"
     ]
    }
   ],
   "source": [
    "n_hidden_neurons_1 = 2000\n",
    "n_hidden_neurons_2 = 800\n",
    "net = Model2(n_in_neurons, n_hidden_neurons_1, n_hidden_neurons_2, n_out_neurons)\n",
    "net = net.to(device)\n",
    "optimizer = torch.optim.Adam(net.parameters(), lr=1e-3)\n",
    "loss = nn.MSELoss()\n",
    "num_batches = ceil(len(X_train)/batch_size)\n",
    "    \n",
    "for epoch in range(num_epochs):\n",
    "        \n",
    "    order = np.random.permutation(len(X_train)) # создайте случайную перестановку индексов объектов\n",
    "        \n",
    "    optimizer.zero_grad()\n",
    "        \n",
    "    for batch_idx in range(num_batches):\n",
    "        start_index = batch_idx * batch_size\n",
    "        # получение индексов текущего батча\n",
    "        batch_indexes = order[start_index:start_index+batch_size]\n",
    "        X_batch = X_train[batch_indexes]\n",
    "        y_batch = y_train[batch_indexes]\n",
    "    \n",
    "        preds = net.forward(X_batch) \n",
    "                \n",
    "        loss_value = loss(preds, y_batch)\n",
    "        loss_value.backward()\n",
    "            \n",
    "        if ((batch_idx + 1) % accumulation_iteration == 0) or (batch_idx + 1 == num_batches):\n",
    "                \n",
    "            optimizer.step()\n",
    "            optimizer.zero_grad()\n",
    "                \n",
    "    if epoch == num_epochs - 1:\n",
    "        net.eval()\n",
    "        test_preds = net.forward(X_test)\n",
    "        RMSE = torch.sqrt(loss(preds, y_test))\n",
    "print(torch.detach(RMSE).cpu().numpy())        "
   ]
  },
  {
   "cell_type": "code",
   "execution_count": 47,
   "id": "aab74fb5",
   "metadata": {},
   "outputs": [
    {
     "data": {
      "image/png": "[encoded data removed]",
      "text/plain": [
       "<Figure size 1800x800 with 1 Axes>"
      ]
     },
     "metadata": {},
     "output_type": "display_data"
    }
   ],
   "source": [
    "y1 = torch.FloatTensor(test_preds.cpu()).detach().numpy().reshape([-1])\n",
    "y2 = y_test.detach().cpu().numpy().reshape([-1])\n",
    "x = np.arange(len(y1))\n",
    "\n",
    "fig,ax = plt.subplots()\n",
    "fig.set_figwidth(18)\n",
    "fig.set_figheight(8)\n",
    "ax.set_xticks(x)\n",
    "fact = ax.bar(x, y2, width = 0.6, label = 'Факт')\n",
    "forecast = ax.bar(x, y1, width = 0.3, label = 'Прогноз')\n",
    "ax.legend()\n",
    "ax.set_title('Факт-прогноз', fontsize=20)\n",
    "ax.set_xlabel('Номер звезды в таблице')\n",
    "ax.set_ylabel('Температура звезды')\n",
    "plt.show()"
   ]
  },
  {
   "cell_type": "markdown",
   "id": "b8ad11e4",
   "metadata": {},
   "source": [
    "Как-то не очень, даже очень не. Давайте улучшим модель."
   ]
  },
  {
   "cell_type": "code",
   "execution_count": 48,
   "id": "4dd38f19",
   "metadata": {},
   "outputs": [],
   "source": [
    "\n",
    "\n",
    "del(rmse1, rmse2, rmse3, net1, optimizer_arr, i, j, k, ind, Model1, Model2, Model3)\n"
   ]
  },
  {
   "cell_type": "markdown",
   "id": "growing-supply",
   "metadata": {},
   "source": [
    "## Улучшение нейронной сети"
   ]
  },
  {
   "cell_type": "markdown",
   "id": "4d21ba70",
   "metadata": {},
   "source": [
    "Введём регуляризацию двух типов - нормализация батчей и отключение нейронов."
   ]
  },
  {
   "cell_type": "code",
   "execution_count": 49,
   "id": "45736c2e",
   "metadata": {},
   "outputs": [],
   "source": [
    "class Model(nn.Module):\n",
    "    def __init__(self, n_in_neurons, n_hidden_neurons_1, n_hidden_neurons_2, n_out_neurons, p):\n",
    "        super(Model, self).__init__()\n",
    "        \n",
    "        self.fc1 = nn.Linear(n_in_neurons, n_hidden_neurons_1)\n",
    "        self.bn1 = nn.BatchNorm1d(n_hidden_neurons_1)\n",
    "        self.act1 = nn.ReLU()\n",
    "        self.dp2 = nn.Dropout(p=p)\n",
    "        self.fc2 = nn.Linear(n_hidden_neurons_1, n_hidden_neurons_2)\n",
    "        self.bn2 = nn.BatchNorm1d(n_hidden_neurons_2)\n",
    "        self.act2 = nn.ReLU()\n",
    "        self.fc3 = nn.Linear(n_hidden_neurons_2, n_out_neurons)\n",
    "     \n",
    "    def forward(self, x):\n",
    "        x = self.fc1(x)\n",
    "        x = self.bn1(x)\n",
    "        x = self.act1(x)\n",
    "        x = self.dp2(x)\n",
    "        x = self.fc2(x)\n",
    "        x = self.bn2(x)\n",
    "        x = self.act2(x)\n",
    "        x = self.fc3(x)\n",
    "       \n",
    "        return x     "
   ]
  },
  {
   "cell_type": "markdown",
   "id": "c64f48c9",
   "metadata": {},
   "source": [
    "Введём диапазоны параметров сети, которые попробуем перебрать для поиска лучшей модели и желаемой точности. ("
   ]
  },
  {
   "cell_type": "code",
   "execution_count": 50,
   "id": "5c8c1490",
   "metadata": {},
   "outputs": [],
   "source": [
    "p_arr = [0.8, 0.5, 0.1, 0]\n",
    "lr_arr = [0.01, 0.02, 0.025, 0.03, 0.035, 0.04]\n",
    "batch_size_arr = [10,20,30,40,50,60,70,80,90,100,110,120,240]\n",
    "num_epochs_arr = [1000, 1500, 2000, 10000]\n",
    "logs = []"
   ]
  },
  {
   "cell_type": "code",
   "execution_count": 51,
   "id": "09ff779c",
   "metadata": {},
   "outputs": [],
   "source": [
    "def finding_neverland(p, lr, batch_size, num_epochs):\n",
    "    \n",
    "    net = Model(n_in_neurons, n_hidden_neurons_1, n_hidden_neurons_2, n_out_neurons, p)\n",
    "    net = net.to(device)\n",
    "    optimizer = torch.optim.Adam(net.parameters(), lr=lr)\n",
    "    loss = nn.MSELoss()\n",
    "    num_batches = ceil(len(X_train)/batch_size)\n",
    "    \n",
    "    for epoch in range(num_epochs):\n",
    "        \n",
    "        order = np.random.permutation(len(X_train)) # создайте случайную перестановку индексов объектов\n",
    "        \n",
    "        optimizer.zero_grad()\n",
    "        \n",
    "        for batch_idx in range(num_batches):\n",
    "            start_index = batch_idx * batch_size\n",
    "            # получение индексов текущего батча\n",
    "            batch_indexes = order[start_index:start_index+batch_size]\n",
    "            X_batch = X_train[batch_indexes]\n",
    "            y_batch = y_train[batch_indexes]\n",
    "    \n",
    "            preds = net.forward(X_batch) \n",
    "                \n",
    "            loss_value = loss(preds, y_batch)\n",
    "            loss_value.backward()\n",
    "            \n",
    "            if ((batch_idx + 1) % accumulation_iteration == 0) or (batch_idx + 1 == num_batches):\n",
    "                \n",
    "                optimizer.step()\n",
    "                optimizer.zero_grad()\n",
    "                \n",
    "        if epoch == num_epochs - 1:\n",
    "            net.eval()\n",
    "            test_preds = net.forward(X_test)\n",
    "            RMSE = torch.sqrt(loss(preds, y_test))\n",
    "            return [torch.detach(RMSE).cpu().numpy(), p, lr, batch_size, num_epochs]\n",
    "    "
   ]
  },
  {
   "cell_type": "code",
   "execution_count": 52,
   "id": "a1c03d5a",
   "metadata": {},
   "outputs": [
    {
     "name": "stdout",
     "output_type": "stream",
     "text": [
      "{'ok': True, 'result': {'message_id': 58, 'from': {'id': 6015117129, 'is_bot': True, 'first_name': 'hi_from_jup', 'username': 'hi_from_jup_bot'}, 'chat': {'id': 916785354, 'first_name': 'Maria', 'username': 'maria_smiles', 'type': 'private'}, 'date': 1692448387, 'text': 'all_done'}}\n"
     ]
    }
   ],
   "source": [
    "for p in p_arr:\n",
    "    for lr in lr_arr:\n",
    "        for batch_size in batch_size_arr:\n",
    "            for num_epochs in num_epochs_arr:\n",
    "                logs.append(finding_neverland(p, lr, batch_size, num_epochs))\n",
    "                \n",
    "url = f\"https://api.telegram.org/bot6015117129:AAGCdFJKD8mCoJc3CdMN-4b7ktiEbhpAsYA/sendMessage?chat_id=916785354&text=all_done\"\n",
    "print(requests.get(url).json())"
   ]
  },
  {
   "cell_type": "code",
   "execution_count": 53,
   "id": "5e45df43",
   "metadata": {},
   "outputs": [
    {
     "name": "stdout",
     "output_type": "stream",
     "text": [
      "{'ok': True, 'result': {'message_id': 59, 'from': {'id': 6015117129, 'is_bot': True, 'first_name': 'hi_from_jup', 'username': 'hi_from_jup_bot'}, 'chat': {'id': 916785354, 'first_name': 'Maria', 'username': 'maria_smiles', 'type': 'private'}, 'date': 1692448388, 'text': 'dataFrame'}}\n"
     ]
    },
    {
     "data": {
      "text/html": [
       "<div>\n",
       "<style scoped>\n",
       "    .dataframe tbody tr th:only-of-type {\n",
       "        vertical-align: middle;\n",
       "    }\n",
       "\n",
       "    .dataframe tbody tr th {\n",
       "        vertical-align: top;\n",
       "    }\n",
       "\n",
       "    .dataframe thead th {\n",
       "        text-align: right;\n",
       "    }\n",
       "</style>\n",
       "<table border=\"1\" class=\"dataframe\">\n",
       "  <thead>\n",
       "    <tr style=\"text-align: right;\">\n",
       "      <th></th>\n",
       "      <th>RMSE</th>\n",
       "      <th>p</th>\n",
       "      <th>lr</th>\n",
       "      <th>batch_size</th>\n",
       "      <th>num_epochs</th>\n",
       "    </tr>\n",
       "  </thead>\n",
       "  <tbody>\n",
       "    <tr>\n",
       "      <th>0</th>\n",
       "      <td>10526.186</td>\n",
       "      <td>0.8</td>\n",
       "      <td>0.01</td>\n",
       "      <td>10</td>\n",
       "      <td>1000</td>\n",
       "    </tr>\n",
       "    <tr>\n",
       "      <th>1</th>\n",
       "      <td>10575.8545</td>\n",
       "      <td>0.8</td>\n",
       "      <td>0.01</td>\n",
       "      <td>10</td>\n",
       "      <td>1500</td>\n",
       "    </tr>\n",
       "    <tr>\n",
       "      <th>2</th>\n",
       "      <td>10364.548</td>\n",
       "      <td>0.8</td>\n",
       "      <td>0.01</td>\n",
       "      <td>10</td>\n",
       "      <td>2000</td>\n",
       "    </tr>\n",
       "    <tr>\n",
       "      <th>3</th>\n",
       "      <td>10367.82</td>\n",
       "      <td>0.8</td>\n",
       "      <td>0.01</td>\n",
       "      <td>10</td>\n",
       "      <td>10000</td>\n",
       "    </tr>\n",
       "    <tr>\n",
       "      <th>4</th>\n",
       "      <td>10489.587</td>\n",
       "      <td>0.8</td>\n",
       "      <td>0.01</td>\n",
       "      <td>20</td>\n",
       "      <td>1000</td>\n",
       "    </tr>\n",
       "    <tr>\n",
       "      <th>...</th>\n",
       "      <td>...</td>\n",
       "      <td>...</td>\n",
       "      <td>...</td>\n",
       "      <td>...</td>\n",
       "      <td>...</td>\n",
       "    </tr>\n",
       "    <tr>\n",
       "      <th>1243</th>\n",
       "      <td>10379.467</td>\n",
       "      <td>0.0</td>\n",
       "      <td>0.04</td>\n",
       "      <td>120</td>\n",
       "      <td>10000</td>\n",
       "    </tr>\n",
       "    <tr>\n",
       "      <th>1244</th>\n",
       "      <td>10397.704</td>\n",
       "      <td>0.0</td>\n",
       "      <td>0.04</td>\n",
       "      <td>240</td>\n",
       "      <td>1000</td>\n",
       "    </tr>\n",
       "    <tr>\n",
       "      <th>1245</th>\n",
       "      <td>10397.725</td>\n",
       "      <td>0.0</td>\n",
       "      <td>0.04</td>\n",
       "      <td>240</td>\n",
       "      <td>1500</td>\n",
       "    </tr>\n",
       "    <tr>\n",
       "      <th>1246</th>\n",
       "      <td>10397.715</td>\n",
       "      <td>0.0</td>\n",
       "      <td>0.04</td>\n",
       "      <td>240</td>\n",
       "      <td>2000</td>\n",
       "    </tr>\n",
       "    <tr>\n",
       "      <th>1247</th>\n",
       "      <td>10397.956</td>\n",
       "      <td>0.0</td>\n",
       "      <td>0.04</td>\n",
       "      <td>240</td>\n",
       "      <td>10000</td>\n",
       "    </tr>\n",
       "  </tbody>\n",
       "</table>\n",
       "<p>1248 rows × 5 columns</p>\n",
       "</div>"
      ],
      "text/plain": [
       "            RMSE    p    lr  batch_size  num_epochs\n",
       "0      10526.186  0.8  0.01          10        1000\n",
       "1     10575.8545  0.8  0.01          10        1500\n",
       "2      10364.548  0.8  0.01          10        2000\n",
       "3       10367.82  0.8  0.01          10       10000\n",
       "4      10489.587  0.8  0.01          20        1000\n",
       "...          ...  ...   ...         ...         ...\n",
       "1243   10379.467  0.0  0.04         120       10000\n",
       "1244   10397.704  0.0  0.04         240        1000\n",
       "1245   10397.725  0.0  0.04         240        1500\n",
       "1246   10397.715  0.0  0.04         240        2000\n",
       "1247   10397.956  0.0  0.04         240       10000\n",
       "\n",
       "[1248 rows x 5 columns]"
      ]
     },
     "execution_count": 53,
     "metadata": {},
     "output_type": "execute_result"
    }
   ],
   "source": [
    "url = f\"https://api.telegram.org/bot6015117129:AAGCdFJKD8mCoJc3CdMN-4b7ktiEbhpAsYA/sendMessage?chat_id=916785354&text=dataFrame\"\n",
    "print(requests.get(url).json())\n",
    "pd.DataFrame(logs, columns=['RMSE', 'p', 'lr', 'batch_size', 'num_epochs'])"
   ]
  },
  {
   "cell_type": "code",
   "execution_count": 54,
   "id": "541b68d6",
   "metadata": {},
   "outputs": [
    {
     "data": {
      "image/png": "[encoded data removed]",
      "text/plain": [
       "<Figure size 1800x800 with 1 Axes>"
      ]
     },
     "metadata": {},
     "output_type": "display_data"
    }
   ],
   "source": [
    "y1 = torch.FloatTensor(test_preds.cpu()).detach().numpy().reshape([-1])\n",
    "y2 = y_test.detach().cpu().numpy().reshape([-1])\n",
    "x = np.arange(len(y1))\n",
    "\n",
    "fig,ax = plt.subplots()\n",
    "fig.set_figwidth(18)\n",
    "fig.set_figheight(8)\n",
    "ax.set_xticks(x)\n",
    "fact = ax.bar(x, y2, width = 0.6, label = 'Факт')\n",
    "forecast = ax.bar(x, y1, width = 0.3, label = 'Прогноз')\n",
    "ax.legend()\n",
    "ax.set_title('Факт-прогноз', fontsize=20)\n",
    "ax.set_xlabel('Номер звезды в таблице')\n",
    "ax.set_ylabel('Температура звезды')\n",
    "plt.show()"
   ]
  },
  {
   "cell_type": "code",
   "execution_count": null,
   "id": "a0b4903c",
   "metadata": {},
   "outputs": [],
   "source": []
  },
  {
   "cell_type": "code",
   "execution_count": 55,
   "id": "acceptable-forwarding",
   "metadata": {},
   "outputs": [
    {
     "ename": "NameError",
     "evalue": "name 'scaler_list' is not defined",
     "output_type": "error",
     "traceback": [
      "\u001b[1;31m---------------------------------------------------------------------------\u001b[0m",
      "\u001b[1;31mNameError\u001b[0m                                 Traceback (most recent call last)",
      "Cell \u001b[1;32mIn[55], line 2\u001b[0m\n\u001b[0;32m      1\u001b[0m net_params \u001b[38;5;241m=\u001b[39m {\n\u001b[1;32m----> 2\u001b[0m     \u001b[38;5;124m'\u001b[39m\u001b[38;5;124mscaler\u001b[39m\u001b[38;5;124m'\u001b[39m : \u001b[43mscaler_list\u001b[49m,\n\u001b[0;32m      3\u001b[0m     \u001b[38;5;124m'\u001b[39m\u001b[38;5;124mregressor__batch_size\u001b[39m\u001b[38;5;124m'\u001b[39m : [\u001b[38;5;241m10\u001b[39m,\u001b[38;5;241m20\u001b[39m,\u001b[38;5;241m30\u001b[39m,\u001b[38;5;241m40\u001b[39m,\u001b[38;5;241m50\u001b[39m,\u001b[38;5;241m60\u001b[39m,\u001b[38;5;241m70\u001b[39m,\u001b[38;5;241m80\u001b[39m,\u001b[38;5;241m90\u001b[39m,\u001b[38;5;241m100\u001b[39m,\u001b[38;5;241m110\u001b[39m,\u001b[38;5;241m120\u001b[39m,\u001b[38;5;241m240\u001b[39m],\n\u001b[0;32m      4\u001b[0m     \u001b[38;5;124m'\u001b[39m\u001b[38;5;124mregressor__lr\u001b[39m\u001b[38;5;124m'\u001b[39m: [\u001b[38;5;241m0.01\u001b[39m, \u001b[38;5;241m0.02\u001b[39m, \u001b[38;5;241m0.025\u001b[39m, \u001b[38;5;241m0.03\u001b[39m, \u001b[38;5;241m0.035\u001b[39m, \u001b[38;5;241m0.04\u001b[39m],\n\u001b[0;32m      5\u001b[0m     \u001b[38;5;124m'\u001b[39m\u001b[38;5;124mregerssor__max_epoch\u001b[39m\u001b[38;5;124m'\u001b[39m:[\u001b[38;5;241m1000\u001b[39m, \u001b[38;5;241m1500\u001b[39m, \u001b[38;5;241m2000\u001b[39m, \u001b[38;5;241m10000\u001b[39m],\n\u001b[0;32m      6\u001b[0m     \u001b[38;5;124m'\u001b[39m\u001b[38;5;124mregressor__optimizer\u001b[39m\u001b[38;5;124m'\u001b[39m:[Adam, SGD, RMSprop],\n\u001b[0;32m      7\u001b[0m     \u001b[38;5;124m'\u001b[39m\u001b[38;5;124mregressor__module__dropout\u001b[39m\u001b[38;5;124m'\u001b[39m:[\u001b[38;5;241m0.8\u001b[39m, \u001b[38;5;241m0.5\u001b[39m, \u001b[38;5;241m0.1\u001b[39m, \u001b[38;5;241m0\u001b[39m]\n\u001b[0;32m      8\u001b[0m }\n",
      "\u001b[1;31mNameError\u001b[0m: name 'scaler_list' is not defined"
     ]
    }
   ],
   "source": [
    "net_params = {\n",
    "    'scaler' : scaler_list,\n",
    "    'regressor__batch_size' : [10,20,30,40,50,60,70,80,90,100,110,120,240],\n",
    "    'regressor__lr': [0.01, 0.02, 0.025, 0.03, 0.035, 0.04],\n",
    "    'regerssor__max_epoch':[1000, 1500, 2000, 10000],\n",
    "    'regressor__optimizer':[Adam, SGD, RMSprop],\n",
    "    'regressor__module__dropout':[0.8, 0.5, 0.1, 0]\n",
    "}"
   ]
  },
  {
   "cell_type": "markdown",
   "id": "accurate-infrastructure",
   "metadata": {},
   "source": [
    "## Выводы"
   ]
  }
 ],
 "metadata": {
  "ExecuteTimeLog": [
   {
    "duration": 2158,
    "start_time": "2023-08-14T14:53:58.469Z"
   },
   {
    "duration": 64,
    "start_time": "2023-08-14T14:54:03.267Z"
   },
   {
    "duration": 101,
    "start_time": "2023-08-14T14:54:22.012Z"
   },
   {
    "duration": 16,
    "start_time": "2023-08-14T14:54:30.907Z"
   },
   {
    "duration": 30,
    "start_time": "2023-08-14T14:54:46.855Z"
   },
   {
    "duration": 11,
    "start_time": "2023-08-14T14:55:05.467Z"
   },
   {
    "duration": 4,
    "start_time": "2023-08-14T19:36:48.180Z"
   },
   {
    "duration": 137,
    "start_time": "2023-08-14T19:37:21.515Z"
   },
   {
    "duration": 12,
    "start_time": "2023-08-14T19:37:39.123Z"
   },
   {
    "duration": 11,
    "start_time": "2023-08-14T19:37:56.819Z"
   },
   {
    "duration": 14,
    "start_time": "2023-08-14T19:38:05.818Z"
   },
   {
    "duration": 13,
    "start_time": "2023-08-14T19:38:20.184Z"
   },
   {
    "duration": 10,
    "start_time": "2023-08-14T19:38:26.987Z"
   },
   {
    "duration": 3,
    "start_time": "2023-08-14T19:38:35.091Z"
   },
   {
    "duration": 3,
    "start_time": "2023-08-14T19:38:46.153Z"
   },
   {
    "duration": 5,
    "start_time": "2023-08-14T19:38:56.130Z"
   },
   {
    "duration": 12,
    "start_time": "2023-08-14T19:41:17.658Z"
   },
   {
    "duration": 11,
    "start_time": "2023-08-14T19:41:25.314Z"
   },
   {
    "duration": 3,
    "start_time": "2023-08-14T19:42:11.954Z"
   },
   {
    "duration": 5,
    "start_time": "2023-08-14T19:42:31.209Z"
   },
   {
    "duration": 16,
    "start_time": "2023-08-14T19:51:52.165Z"
   },
   {
    "duration": 13,
    "start_time": "2023-08-14T19:52:16.604Z"
   },
   {
    "duration": 3,
    "start_time": "2023-08-14T19:59:34.689Z"
   },
   {
    "duration": 20,
    "start_time": "2023-08-14T20:00:19.952Z"
   },
   {
    "duration": 4,
    "start_time": "2023-08-14T20:00:48.842Z"
   },
   {
    "duration": 15,
    "start_time": "2023-08-14T20:00:49.385Z"
   },
   {
    "duration": 126,
    "start_time": "2023-08-14T20:02:56.137Z"
   },
   {
    "duration": 4,
    "start_time": "2023-08-14T20:04:30.758Z"
   },
   {
    "duration": 3,
    "start_time": "2023-08-14T20:04:31.969Z"
   },
   {
    "duration": 4,
    "start_time": "2023-08-14T20:04:48.399Z"
   },
   {
    "duration": 5,
    "start_time": "2023-08-14T20:05:22.656Z"
   },
   {
    "duration": 4,
    "start_time": "2023-08-14T20:05:23.230Z"
   },
   {
    "duration": 5,
    "start_time": "2023-08-14T20:05:23.927Z"
   },
   {
    "duration": 5,
    "start_time": "2023-08-14T20:05:50.694Z"
   },
   {
    "duration": 6,
    "start_time": "2023-08-14T20:05:54.095Z"
   },
   {
    "duration": 9,
    "start_time": "2023-08-14T20:14:40.083Z"
   },
   {
    "duration": 4,
    "start_time": "2023-08-14T20:14:54.931Z"
   },
   {
    "duration": 4,
    "start_time": "2023-08-14T20:15:08.850Z"
   },
   {
    "duration": 5,
    "start_time": "2023-08-14T20:15:10.282Z"
   },
   {
    "duration": 3,
    "start_time": "2023-08-14T20:16:09.786Z"
   },
   {
    "duration": 5,
    "start_time": "2023-08-14T20:16:10.898Z"
   },
   {
    "duration": 2278,
    "start_time": "2023-08-14T20:16:21.546Z"
   },
   {
    "duration": 29,
    "start_time": "2023-08-14T20:16:23.826Z"
   },
   {
    "duration": 14,
    "start_time": "2023-08-14T20:16:23.857Z"
   },
   {
    "duration": 107,
    "start_time": "2023-08-14T20:16:25.650Z"
   },
   {
    "duration": 26,
    "start_time": "2023-08-14T20:16:27.842Z"
   },
   {
    "duration": 5,
    "start_time": "2023-08-14T20:16:29.938Z"
   },
   {
    "duration": 84,
    "start_time": "2023-08-14T20:16:31.562Z"
   },
   {
    "duration": 4,
    "start_time": "2023-08-14T20:17:01.754Z"
   },
   {
    "duration": 5,
    "start_time": "2023-08-14T20:17:02.841Z"
   },
   {
    "duration": 5,
    "start_time": "2023-08-14T20:17:04.329Z"
   },
   {
    "duration": 1863,
    "start_time": "2023-08-14T20:17:19.236Z"
   },
   {
    "duration": 28,
    "start_time": "2023-08-14T20:17:21.101Z"
   },
   {
    "duration": 16,
    "start_time": "2023-08-14T20:17:21.131Z"
   },
   {
    "duration": 126,
    "start_time": "2023-08-14T20:17:21.149Z"
   },
   {
    "duration": 25,
    "start_time": "2023-08-14T20:17:21.278Z"
   },
   {
    "duration": 44,
    "start_time": "2023-08-14T20:17:21.304Z"
   },
   {
    "duration": 18,
    "start_time": "2023-08-14T20:17:21.349Z"
   },
   {
    "duration": 40,
    "start_time": "2023-08-14T20:17:21.368Z"
   },
   {
    "duration": 50,
    "start_time": "2023-08-14T20:17:21.410Z"
   },
   {
    "duration": 3,
    "start_time": "2023-08-14T20:20:07.232Z"
   },
   {
    "duration": 28,
    "start_time": "2023-08-14T20:20:08.063Z"
   },
   {
    "duration": 139,
    "start_time": "2023-08-14T20:21:06.824Z"
   },
   {
    "duration": 1353,
    "start_time": "2023-08-14T20:21:22.968Z"
   },
   {
    "duration": 34,
    "start_time": "2023-08-14T20:21:38.000Z"
   },
   {
    "duration": 7,
    "start_time": "2023-08-14T20:24:33.726Z"
   },
   {
    "duration": 6399,
    "start_time": "2023-08-14T20:25:05.158Z"
   },
   {
    "duration": 2278,
    "start_time": "2023-08-15T07:56:03.297Z"
   },
   {
    "duration": 74,
    "start_time": "2023-08-15T07:56:05.577Z"
   },
   {
    "duration": 119,
    "start_time": "2023-08-15T07:56:05.652Z"
   },
   {
    "duration": 42,
    "start_time": "2023-08-15T07:56:05.774Z"
   },
   {
    "duration": 21,
    "start_time": "2023-08-15T07:56:05.818Z"
   },
   {
    "duration": 86,
    "start_time": "2023-08-15T07:56:05.842Z"
   },
   {
    "duration": 4,
    "start_time": "2023-08-15T07:56:06.359Z"
   },
   {
    "duration": 9,
    "start_time": "2023-08-15T07:56:06.673Z"
   },
   {
    "duration": 17,
    "start_time": "2023-08-15T07:56:07.029Z"
   },
   {
    "duration": 7,
    "start_time": "2023-08-15T07:56:07.725Z"
   },
   {
    "duration": 6762,
    "start_time": "2023-08-15T07:56:10.109Z"
   },
   {
    "duration": 15,
    "start_time": "2023-08-15T07:56:27.308Z"
   },
   {
    "duration": 141,
    "start_time": "2023-08-15T07:56:38.642Z"
   },
   {
    "duration": 4,
    "start_time": "2023-08-15T07:56:44.000Z"
   },
   {
    "duration": 16,
    "start_time": "2023-08-15T07:56:45.167Z"
   },
   {
    "duration": 7,
    "start_time": "2023-08-15T07:56:48.996Z"
   },
   {
    "duration": 4389,
    "start_time": "2023-08-15T07:56:51.289Z"
   },
   {
    "duration": 2972,
    "start_time": "2023-08-15T08:20:10.697Z"
   },
   {
    "duration": 202,
    "start_time": "2023-08-15T08:25:41.986Z"
   },
   {
    "duration": 2297,
    "start_time": "2023-08-15T08:26:02.896Z"
   },
   {
    "duration": 253,
    "start_time": "2023-08-15T08:26:51.859Z"
   },
   {
    "duration": 426,
    "start_time": "2023-08-15T08:27:11.499Z"
   },
   {
    "duration": 231,
    "start_time": "2023-08-15T08:27:29.469Z"
   },
   {
    "duration": 215,
    "start_time": "2023-08-15T08:27:56.126Z"
   },
   {
    "duration": 260,
    "start_time": "2023-08-15T08:31:37.784Z"
   },
   {
    "duration": 354,
    "start_time": "2023-08-15T08:38:25.490Z"
   },
   {
    "duration": 270,
    "start_time": "2023-08-15T08:39:00.851Z"
   },
   {
    "duration": 253,
    "start_time": "2023-08-15T08:40:33.896Z"
   },
   {
    "duration": 218,
    "start_time": "2023-08-15T08:41:03.491Z"
   },
   {
    "duration": 249,
    "start_time": "2023-08-15T08:41:31.855Z"
   },
   {
    "duration": 239,
    "start_time": "2023-08-15T08:41:53.572Z"
   },
   {
    "duration": 431,
    "start_time": "2023-08-15T08:42:16.257Z"
   },
   {
    "duration": 242,
    "start_time": "2023-08-15T08:42:35.494Z"
   },
   {
    "duration": 246,
    "start_time": "2023-08-15T08:43:40.865Z"
   },
   {
    "duration": 275,
    "start_time": "2023-08-15T08:44:35.886Z"
   },
   {
    "duration": 255,
    "start_time": "2023-08-15T08:45:01.590Z"
   },
   {
    "duration": 234,
    "start_time": "2023-08-15T08:45:54.586Z"
   },
   {
    "duration": 244,
    "start_time": "2023-08-15T08:46:51.046Z"
   },
   {
    "duration": 1984,
    "start_time": "2023-08-15T10:41:36.306Z"
   },
   {
    "duration": 31,
    "start_time": "2023-08-15T10:41:38.292Z"
   },
   {
    "duration": 134,
    "start_time": "2023-08-15T10:41:38.325Z"
   },
   {
    "duration": 65,
    "start_time": "2023-08-15T10:41:38.461Z"
   },
   {
    "duration": 27,
    "start_time": "2023-08-15T10:41:38.529Z"
   },
   {
    "duration": 69,
    "start_time": "2023-08-15T10:41:38.558Z"
   },
   {
    "duration": 98,
    "start_time": "2023-08-15T10:41:38.629Z"
   },
   {
    "duration": 21,
    "start_time": "2023-08-15T10:41:38.729Z"
   },
   {
    "duration": 96,
    "start_time": "2023-08-15T10:41:38.751Z"
   },
   {
    "duration": 35,
    "start_time": "2023-08-15T10:41:38.849Z"
   },
   {
    "duration": 61,
    "start_time": "2023-08-15T10:41:38.886Z"
   },
   {
    "duration": 4322,
    "start_time": "2023-08-15T10:41:38.949Z"
   },
   {
    "duration": 253,
    "start_time": "2023-08-15T10:41:43.273Z"
   },
   {
    "duration": 10,
    "start_time": "2023-08-15T10:43:08.957Z"
   },
   {
    "duration": 143,
    "start_time": "2023-08-15T10:43:25.315Z"
   },
   {
    "duration": 8,
    "start_time": "2023-08-15T10:43:31.924Z"
   },
   {
    "duration": 20,
    "start_time": "2023-08-15T10:43:36.121Z"
   },
   {
    "duration": 8,
    "start_time": "2023-08-15T10:43:53.330Z"
   },
   {
    "duration": 13,
    "start_time": "2023-08-15T10:45:57.578Z"
   },
   {
    "duration": 303,
    "start_time": "2023-08-15T10:47:33.127Z"
   },
   {
    "duration": 141,
    "start_time": "2023-08-15T10:47:57.899Z"
   },
   {
    "duration": 20,
    "start_time": "2023-08-15T10:48:15.731Z"
   },
   {
    "duration": 255,
    "start_time": "2023-08-15T10:48:22.591Z"
   },
   {
    "duration": 171,
    "start_time": "2023-08-15T10:48:37.088Z"
   },
   {
    "duration": 13,
    "start_time": "2023-08-15T10:49:06.370Z"
   },
   {
    "duration": 12,
    "start_time": "2023-08-15T10:50:51.798Z"
   },
   {
    "duration": 77,
    "start_time": "2023-08-15T10:58:46.127Z"
   },
   {
    "duration": 54,
    "start_time": "2023-08-15T10:59:17.882Z"
   },
   {
    "duration": 68,
    "start_time": "2023-08-15T10:59:22.259Z"
   },
   {
    "duration": 115,
    "start_time": "2023-08-15T10:59:33.822Z"
   },
   {
    "duration": 28,
    "start_time": "2023-08-15T11:00:07.321Z"
   },
   {
    "duration": 26,
    "start_time": "2023-08-15T11:01:23.686Z"
   },
   {
    "duration": 28,
    "start_time": "2023-08-15T11:01:29.109Z"
   },
   {
    "duration": 26,
    "start_time": "2023-08-15T11:01:42.631Z"
   },
   {
    "duration": 24,
    "start_time": "2023-08-15T11:02:08.656Z"
   },
   {
    "duration": 1948,
    "start_time": "2023-08-15T11:04:43.481Z"
   },
   {
    "duration": 31,
    "start_time": "2023-08-15T11:04:45.431Z"
   },
   {
    "duration": 274,
    "start_time": "2023-08-15T11:04:45.464Z"
   },
   {
    "duration": 264,
    "start_time": "2023-08-15T11:04:45.741Z"
   },
   {
    "duration": 75,
    "start_time": "2023-08-15T11:04:46.007Z"
   },
   {
    "duration": 15,
    "start_time": "2023-08-15T11:04:46.084Z"
   },
   {
    "duration": 32,
    "start_time": "2023-08-15T11:04:46.101Z"
   },
   {
    "duration": 5,
    "start_time": "2023-08-15T11:04:46.134Z"
   },
   {
    "duration": 44,
    "start_time": "2023-08-15T11:04:46.140Z"
   },
   {
    "duration": 16,
    "start_time": "2023-08-15T11:04:46.187Z"
   },
   {
    "duration": 18,
    "start_time": "2023-08-15T11:04:46.205Z"
   },
   {
    "duration": 27,
    "start_time": "2023-08-15T11:04:46.225Z"
   },
   {
    "duration": 13,
    "start_time": "2023-08-15T11:04:46.254Z"
   },
   {
    "duration": 4361,
    "start_time": "2023-08-15T11:04:46.270Z"
   },
   {
    "duration": 254,
    "start_time": "2023-08-15T11:04:50.633Z"
   },
   {
    "duration": 28,
    "start_time": "2023-08-15T11:06:16.248Z"
   },
   {
    "duration": 2065,
    "start_time": "2023-08-15T11:11:00.057Z"
   },
   {
    "duration": 31,
    "start_time": "2023-08-15T11:11:02.124Z"
   },
   {
    "duration": 143,
    "start_time": "2023-08-15T11:11:02.157Z"
   },
   {
    "duration": 27,
    "start_time": "2023-08-15T11:11:02.309Z"
   },
   {
    "duration": 5,
    "start_time": "2023-08-15T11:11:02.339Z"
   },
   {
    "duration": 5,
    "start_time": "2023-08-15T11:11:02.347Z"
   },
   {
    "duration": 34,
    "start_time": "2023-08-15T11:11:02.355Z"
   },
   {
    "duration": 23,
    "start_time": "2023-08-15T11:11:02.391Z"
   },
   {
    "duration": 39,
    "start_time": "2023-08-15T11:11:02.416Z"
   },
   {
    "duration": 19,
    "start_time": "2023-08-15T11:11:02.458Z"
   },
   {
    "duration": 37,
    "start_time": "2023-08-15T11:11:02.480Z"
   },
   {
    "duration": 34,
    "start_time": "2023-08-15T11:11:02.519Z"
   },
   {
    "duration": 20,
    "start_time": "2023-08-15T11:11:02.555Z"
   },
   {
    "duration": 4429,
    "start_time": "2023-08-15T11:11:02.578Z"
   },
   {
    "duration": 274,
    "start_time": "2023-08-15T11:11:07.008Z"
   },
   {
    "duration": 512,
    "start_time": "2023-08-15T11:18:55.300Z"
   },
   {
    "duration": 259,
    "start_time": "2023-08-15T11:19:05.363Z"
   },
   {
    "duration": 218,
    "start_time": "2023-08-15T11:19:18.846Z"
   },
   {
    "duration": 258,
    "start_time": "2023-08-15T11:19:31.087Z"
   },
   {
    "duration": 4,
    "start_time": "2023-08-15T11:30:28.142Z"
   },
   {
    "duration": 12,
    "start_time": "2023-08-15T11:30:55.746Z"
   },
   {
    "duration": 168,
    "start_time": "2023-08-15T11:31:01.014Z"
   },
   {
    "duration": 2293,
    "start_time": "2023-08-15T11:32:59.039Z"
   },
   {
    "duration": 3,
    "start_time": "2023-08-15T11:33:59.912Z"
   },
   {
    "duration": 1538,
    "start_time": "2023-08-15T11:34:00.797Z"
   },
   {
    "duration": 1344,
    "start_time": "2023-08-15T11:34:12.061Z"
   },
   {
    "duration": 1606,
    "start_time": "2023-08-15T11:34:19.066Z"
   },
   {
    "duration": 892,
    "start_time": "2023-08-15T11:34:53.638Z"
   },
   {
    "duration": 3,
    "start_time": "2023-08-15T11:34:59.584Z"
   },
   {
    "duration": 1373,
    "start_time": "2023-08-15T11:35:00.016Z"
   },
   {
    "duration": 212,
    "start_time": "2023-08-15T11:35:32.523Z"
   },
   {
    "duration": 1325,
    "start_time": "2023-08-15T11:35:38.811Z"
   },
   {
    "duration": 230,
    "start_time": "2023-08-15T11:35:56.887Z"
   },
   {
    "duration": 1225,
    "start_time": "2023-08-15T11:36:01.864Z"
   },
   {
    "duration": 1290,
    "start_time": "2023-08-15T11:36:08.976Z"
   },
   {
    "duration": 1106,
    "start_time": "2023-08-15T11:36:36.180Z"
   },
   {
    "duration": 6,
    "start_time": "2023-08-15T15:00:49.672Z"
   },
   {
    "duration": 6,
    "start_time": "2023-08-15T15:02:44.294Z"
   },
   {
    "duration": 9,
    "start_time": "2023-08-15T15:03:30.363Z"
   },
   {
    "duration": 17,
    "start_time": "2023-08-15T15:04:46.846Z"
   },
   {
    "duration": 1935,
    "start_time": "2023-08-15T15:05:04.742Z"
   },
   {
    "duration": 13,
    "start_time": "2023-08-15T15:06:03.333Z"
   },
   {
    "duration": 17,
    "start_time": "2023-08-15T15:06:09.117Z"
   },
   {
    "duration": 439,
    "start_time": "2023-08-15T15:07:18.861Z"
   },
   {
    "duration": 6,
    "start_time": "2023-08-15T15:24:52.684Z"
   },
   {
    "duration": 5,
    "start_time": "2023-08-15T15:24:59.484Z"
   },
   {
    "duration": 4,
    "start_time": "2023-08-15T15:25:12.076Z"
   },
   {
    "duration": 6,
    "start_time": "2023-08-15T15:25:27.300Z"
   },
   {
    "duration": 5,
    "start_time": "2023-08-15T15:25:39.788Z"
   },
   {
    "duration": 6,
    "start_time": "2023-08-15T15:25:45.291Z"
   },
   {
    "duration": 16,
    "start_time": "2023-08-15T15:25:50.819Z"
   },
   {
    "duration": 6,
    "start_time": "2023-08-15T15:25:54.455Z"
   },
   {
    "duration": 14,
    "start_time": "2023-08-15T15:55:03.188Z"
   },
   {
    "duration": 3,
    "start_time": "2023-08-15T15:55:06.847Z"
   },
   {
    "duration": 17,
    "start_time": "2023-08-15T15:55:08.084Z"
   },
   {
    "duration": 6,
    "start_time": "2023-08-15T15:56:01.164Z"
   },
   {
    "duration": 4,
    "start_time": "2023-08-15T16:15:19.102Z"
   },
   {
    "duration": 4,
    "start_time": "2023-08-15T16:15:43.805Z"
   },
   {
    "duration": 4,
    "start_time": "2023-08-15T16:17:08.516Z"
   },
   {
    "duration": 22,
    "start_time": "2023-08-15T16:17:09.148Z"
   },
   {
    "duration": 32,
    "start_time": "2023-08-15T16:17:35.821Z"
   },
   {
    "duration": 17,
    "start_time": "2023-08-15T16:18:00.236Z"
   },
   {
    "duration": 6,
    "start_time": "2023-08-15T16:18:32.747Z"
   },
   {
    "duration": 20,
    "start_time": "2023-08-15T16:18:38.035Z"
   },
   {
    "duration": 20,
    "start_time": "2023-08-15T16:19:39.564Z"
   },
   {
    "duration": 4,
    "start_time": "2023-08-15T16:19:59.523Z"
   },
   {
    "duration": 17,
    "start_time": "2023-08-15T16:20:01.082Z"
   },
   {
    "duration": 29,
    "start_time": "2023-08-15T16:20:27.403Z"
   },
   {
    "duration": 3,
    "start_time": "2023-08-15T16:30:49.014Z"
   },
   {
    "duration": 19,
    "start_time": "2023-08-15T16:30:49.591Z"
   },
   {
    "duration": 19,
    "start_time": "2023-08-15T16:31:06.055Z"
   },
   {
    "duration": 19,
    "start_time": "2023-08-15T16:31:34.703Z"
   },
   {
    "duration": 21,
    "start_time": "2023-08-15T16:32:03.127Z"
   },
   {
    "duration": 5,
    "start_time": "2023-08-15T16:36:25.853Z"
   },
   {
    "duration": 18,
    "start_time": "2023-08-15T16:36:34.053Z"
   },
   {
    "duration": 13,
    "start_time": "2023-08-15T16:36:42.477Z"
   },
   {
    "duration": 2103,
    "start_time": "2023-08-15T16:37:09.158Z"
   },
   {
    "duration": 31,
    "start_time": "2023-08-15T16:37:11.263Z"
   },
   {
    "duration": 124,
    "start_time": "2023-08-15T16:37:11.296Z"
   },
   {
    "duration": 25,
    "start_time": "2023-08-15T16:37:11.422Z"
   },
   {
    "duration": 4,
    "start_time": "2023-08-15T16:37:11.450Z"
   },
   {
    "duration": 30,
    "start_time": "2023-08-15T16:37:11.456Z"
   },
   {
    "duration": 4,
    "start_time": "2023-08-15T16:37:11.488Z"
   },
   {
    "duration": 24,
    "start_time": "2023-08-15T16:37:11.494Z"
   },
   {
    "duration": 24,
    "start_time": "2023-08-15T16:37:11.520Z"
   },
   {
    "duration": 13,
    "start_time": "2023-08-15T16:37:11.546Z"
   },
   {
    "duration": 4715,
    "start_time": "2023-08-15T16:37:11.560Z"
   },
   {
    "duration": 4,
    "start_time": "2023-08-15T16:37:16.278Z"
   },
   {
    "duration": 1375,
    "start_time": "2023-08-15T16:37:16.285Z"
   },
   {
    "duration": 288,
    "start_time": "2023-08-15T16:37:17.663Z"
   },
   {
    "duration": 487,
    "start_time": "2023-08-15T16:37:17.953Z"
   },
   {
    "duration": 4,
    "start_time": "2023-08-15T16:37:18.442Z"
   },
   {
    "duration": 77,
    "start_time": "2023-08-15T16:37:18.448Z"
   },
   {
    "duration": 30,
    "start_time": "2023-08-15T16:37:18.527Z"
   },
   {
    "duration": 84,
    "start_time": "2023-08-15T16:37:18.558Z"
   },
   {
    "duration": 14,
    "start_time": "2023-08-15T16:37:18.644Z"
   },
   {
    "duration": 41,
    "start_time": "2023-08-15T16:37:18.660Z"
   },
   {
    "duration": 15,
    "start_time": "2023-08-15T16:37:18.703Z"
   },
   {
    "duration": 153,
    "start_time": "2023-08-15T16:37:18.720Z"
   },
   {
    "duration": 0,
    "start_time": "2023-08-15T16:37:18.875Z"
   },
   {
    "duration": 0,
    "start_time": "2023-08-15T16:37:18.876Z"
   },
   {
    "duration": 16,
    "start_time": "2023-08-15T16:39:11.379Z"
   },
   {
    "duration": 13,
    "start_time": "2023-08-15T16:41:52.859Z"
   },
   {
    "duration": 13,
    "start_time": "2023-08-15T16:42:39.619Z"
   },
   {
    "duration": 6,
    "start_time": "2023-08-15T16:43:00.635Z"
   },
   {
    "duration": 4,
    "start_time": "2023-08-15T16:43:09.320Z"
   },
   {
    "duration": 17,
    "start_time": "2023-08-15T16:43:10.642Z"
   },
   {
    "duration": 3,
    "start_time": "2023-08-15T16:45:11.455Z"
   },
   {
    "duration": 16,
    "start_time": "2023-08-15T16:45:54.905Z"
   },
   {
    "duration": 10,
    "start_time": "2023-08-15T16:46:01.993Z"
   },
   {
    "duration": 8,
    "start_time": "2023-08-15T16:46:12.201Z"
   },
   {
    "duration": 8,
    "start_time": "2023-08-15T16:48:50.666Z"
   },
   {
    "duration": 9,
    "start_time": "2023-08-15T16:49:30.772Z"
   },
   {
    "duration": 7,
    "start_time": "2023-08-15T16:49:33.074Z"
   },
   {
    "duration": 4,
    "start_time": "2023-08-15T16:50:16.671Z"
   },
   {
    "duration": 16,
    "start_time": "2023-08-15T16:50:54.240Z"
   },
   {
    "duration": 29,
    "start_time": "2023-08-15T16:51:13.378Z"
   },
   {
    "duration": 36,
    "start_time": "2023-08-15T16:51:55.783Z"
   },
   {
    "duration": 7,
    "start_time": "2023-08-15T16:53:11.925Z"
   },
   {
    "duration": 2046,
    "start_time": "2023-08-15T16:53:22.180Z"
   },
   {
    "duration": 31,
    "start_time": "2023-08-15T16:53:24.229Z"
   },
   {
    "duration": 122,
    "start_time": "2023-08-15T16:53:24.263Z"
   },
   {
    "duration": 24,
    "start_time": "2023-08-15T16:53:24.387Z"
   },
   {
    "duration": 4,
    "start_time": "2023-08-15T16:53:24.413Z"
   },
   {
    "duration": 26,
    "start_time": "2023-08-15T16:53:24.419Z"
   },
   {
    "duration": 5,
    "start_time": "2023-08-15T16:53:24.447Z"
   },
   {
    "duration": 14,
    "start_time": "2023-08-15T16:53:24.453Z"
   },
   {
    "duration": 14,
    "start_time": "2023-08-15T16:53:24.469Z"
   },
   {
    "duration": 19,
    "start_time": "2023-08-15T16:53:24.508Z"
   },
   {
    "duration": 4502,
    "start_time": "2023-08-15T16:53:24.529Z"
   },
   {
    "duration": 3,
    "start_time": "2023-08-15T16:53:29.034Z"
   },
   {
    "duration": 1406,
    "start_time": "2023-08-15T16:53:29.042Z"
   },
   {
    "duration": 280,
    "start_time": "2023-08-15T16:53:30.450Z"
   },
   {
    "duration": 429,
    "start_time": "2023-08-15T16:53:30.733Z"
   },
   {
    "duration": 4,
    "start_time": "2023-08-15T16:53:31.165Z"
   },
   {
    "duration": 30,
    "start_time": "2023-08-15T16:53:31.171Z"
   },
   {
    "duration": 17,
    "start_time": "2023-08-15T16:53:31.203Z"
   },
   {
    "duration": 33,
    "start_time": "2023-08-15T16:53:31.223Z"
   },
   {
    "duration": 22,
    "start_time": "2023-08-15T16:53:31.259Z"
   },
   {
    "duration": 8,
    "start_time": "2023-08-15T16:53:31.283Z"
   },
   {
    "duration": 22,
    "start_time": "2023-08-15T16:53:31.293Z"
   },
   {
    "duration": 14,
    "start_time": "2023-08-15T16:53:31.318Z"
   },
   {
    "duration": 46,
    "start_time": "2023-08-15T16:53:31.334Z"
   },
   {
    "duration": 40,
    "start_time": "2023-08-15T16:53:31.383Z"
   },
   {
    "duration": 57,
    "start_time": "2023-08-15T16:53:31.425Z"
   },
   {
    "duration": 39,
    "start_time": "2023-08-15T16:53:31.484Z"
   },
   {
    "duration": 64,
    "start_time": "2023-08-15T16:53:31.525Z"
   },
   {
    "duration": 52,
    "start_time": "2023-08-15T16:53:31.591Z"
   },
   {
    "duration": 61,
    "start_time": "2023-08-15T16:53:31.645Z"
   },
   {
    "duration": 6,
    "start_time": "2023-08-15T16:55:28.398Z"
   },
   {
    "duration": 2140,
    "start_time": "2023-08-15T16:55:36.500Z"
   },
   {
    "duration": 31,
    "start_time": "2023-08-15T16:55:38.643Z"
   },
   {
    "duration": 118,
    "start_time": "2023-08-15T16:55:38.675Z"
   },
   {
    "duration": 17,
    "start_time": "2023-08-15T16:55:38.809Z"
   },
   {
    "duration": 4,
    "start_time": "2023-08-15T16:55:38.828Z"
   },
   {
    "duration": 39,
    "start_time": "2023-08-15T16:55:38.834Z"
   },
   {
    "duration": 6,
    "start_time": "2023-08-15T16:55:38.874Z"
   },
   {
    "duration": 31,
    "start_time": "2023-08-15T16:55:38.882Z"
   },
   {
    "duration": 23,
    "start_time": "2023-08-15T16:55:38.916Z"
   },
   {
    "duration": 30,
    "start_time": "2023-08-15T16:55:38.941Z"
   },
   {
    "duration": 4822,
    "start_time": "2023-08-15T16:55:38.973Z"
   },
   {
    "duration": 3,
    "start_time": "2023-08-15T16:55:43.797Z"
   },
   {
    "duration": 1414,
    "start_time": "2023-08-15T16:55:43.802Z"
   },
   {
    "duration": 275,
    "start_time": "2023-08-15T16:55:45.219Z"
   },
   {
    "duration": 456,
    "start_time": "2023-08-15T16:55:45.495Z"
   },
   {
    "duration": 5,
    "start_time": "2023-08-15T16:55:45.953Z"
   },
   {
    "duration": 38,
    "start_time": "2023-08-15T16:55:45.959Z"
   },
   {
    "duration": 36,
    "start_time": "2023-08-15T16:55:46.000Z"
   },
   {
    "duration": 30,
    "start_time": "2023-08-15T16:55:46.038Z"
   },
   {
    "duration": 60,
    "start_time": "2023-08-15T16:55:46.070Z"
   },
   {
    "duration": 33,
    "start_time": "2023-08-15T16:55:46.132Z"
   },
   {
    "duration": 26,
    "start_time": "2023-08-15T16:55:46.167Z"
   },
   {
    "duration": 27,
    "start_time": "2023-08-15T16:55:46.195Z"
   },
   {
    "duration": 41,
    "start_time": "2023-08-15T16:55:46.223Z"
   },
   {
    "duration": 30,
    "start_time": "2023-08-15T16:55:46.266Z"
   },
   {
    "duration": 44,
    "start_time": "2023-08-15T16:55:46.297Z"
   },
   {
    "duration": 27,
    "start_time": "2023-08-15T16:55:46.343Z"
   },
   {
    "duration": 40,
    "start_time": "2023-08-15T16:55:46.371Z"
   },
   {
    "duration": 51,
    "start_time": "2023-08-15T16:55:46.413Z"
   },
   {
    "duration": 48,
    "start_time": "2023-08-15T16:55:46.467Z"
   },
   {
    "duration": 1991,
    "start_time": "2023-08-15T16:58:32.186Z"
   },
   {
    "duration": 31,
    "start_time": "2023-08-15T16:58:34.179Z"
   },
   {
    "duration": 120,
    "start_time": "2023-08-15T16:58:34.212Z"
   },
   {
    "duration": 20,
    "start_time": "2023-08-15T16:58:34.334Z"
   },
   {
    "duration": 5,
    "start_time": "2023-08-15T16:58:34.358Z"
   },
   {
    "duration": 51,
    "start_time": "2023-08-15T16:58:34.366Z"
   },
   {
    "duration": 7,
    "start_time": "2023-08-15T16:58:34.419Z"
   },
   {
    "duration": 13,
    "start_time": "2023-08-15T16:58:34.428Z"
   },
   {
    "duration": 19,
    "start_time": "2023-08-15T16:58:34.444Z"
   },
   {
    "duration": 20,
    "start_time": "2023-08-15T16:58:34.465Z"
   },
   {
    "duration": 4816,
    "start_time": "2023-08-15T16:58:34.487Z"
   },
   {
    "duration": 4,
    "start_time": "2023-08-15T16:58:39.305Z"
   },
   {
    "duration": 1418,
    "start_time": "2023-08-15T16:58:39.311Z"
   },
   {
    "duration": 276,
    "start_time": "2023-08-15T16:58:40.733Z"
   },
   {
    "duration": 459,
    "start_time": "2023-08-15T16:58:41.011Z"
   },
   {
    "duration": 5,
    "start_time": "2023-08-15T16:58:41.472Z"
   },
   {
    "duration": 30,
    "start_time": "2023-08-15T16:58:41.479Z"
   },
   {
    "duration": 15,
    "start_time": "2023-08-15T16:58:41.511Z"
   },
   {
    "duration": 10,
    "start_time": "2023-08-15T16:58:41.528Z"
   },
   {
    "duration": 22,
    "start_time": "2023-08-15T16:58:41.540Z"
   },
   {
    "duration": 9,
    "start_time": "2023-08-15T16:58:41.564Z"
   },
   {
    "duration": 17,
    "start_time": "2023-08-15T16:58:41.575Z"
   },
   {
    "duration": 618,
    "start_time": "2023-08-15T16:58:41.595Z"
   },
   {
    "duration": 0,
    "start_time": "2023-08-15T16:58:42.215Z"
   },
   {
    "duration": 0,
    "start_time": "2023-08-15T16:58:42.216Z"
   },
   {
    "duration": 0,
    "start_time": "2023-08-15T16:58:42.217Z"
   },
   {
    "duration": 0,
    "start_time": "2023-08-15T16:58:42.218Z"
   },
   {
    "duration": 0,
    "start_time": "2023-08-15T16:58:42.220Z"
   },
   {
    "duration": 0,
    "start_time": "2023-08-15T16:58:42.221Z"
   },
   {
    "duration": 0,
    "start_time": "2023-08-15T16:58:42.223Z"
   },
   {
    "duration": 6,
    "start_time": "2023-08-15T16:59:00.317Z"
   },
   {
    "duration": 10,
    "start_time": "2023-08-15T16:59:10.772Z"
   },
   {
    "duration": 11,
    "start_time": "2023-08-15T16:59:11.509Z"
   },
   {
    "duration": 11,
    "start_time": "2023-08-15T16:59:11.981Z"
   },
   {
    "duration": 39,
    "start_time": "2023-08-15T16:59:21.293Z"
   },
   {
    "duration": 40,
    "start_time": "2023-08-15T17:00:30.909Z"
   },
   {
    "duration": 2164,
    "start_time": "2023-08-15T17:04:37.191Z"
   },
   {
    "duration": 31,
    "start_time": "2023-08-15T17:04:39.359Z"
   },
   {
    "duration": 129,
    "start_time": "2023-08-15T17:04:39.392Z"
   },
   {
    "duration": 36,
    "start_time": "2023-08-15T17:04:39.523Z"
   },
   {
    "duration": 6,
    "start_time": "2023-08-15T17:04:39.562Z"
   },
   {
    "duration": 53,
    "start_time": "2023-08-15T17:04:39.570Z"
   },
   {
    "duration": 7,
    "start_time": "2023-08-15T17:04:39.625Z"
   },
   {
    "duration": 31,
    "start_time": "2023-08-15T17:04:39.633Z"
   },
   {
    "duration": 24,
    "start_time": "2023-08-15T17:04:39.667Z"
   },
   {
    "duration": 17,
    "start_time": "2023-08-15T17:04:39.693Z"
   },
   {
    "duration": 4764,
    "start_time": "2023-08-15T17:04:39.712Z"
   },
   {
    "duration": 3,
    "start_time": "2023-08-15T17:04:44.478Z"
   },
   {
    "duration": 1349,
    "start_time": "2023-08-15T17:04:44.483Z"
   },
   {
    "duration": 278,
    "start_time": "2023-08-15T17:04:45.835Z"
   },
   {
    "duration": 433,
    "start_time": "2023-08-15T17:04:46.115Z"
   },
   {
    "duration": 4,
    "start_time": "2023-08-15T17:04:46.550Z"
   },
   {
    "duration": 31,
    "start_time": "2023-08-15T17:04:46.555Z"
   },
   {
    "duration": 16,
    "start_time": "2023-08-15T17:04:46.587Z"
   },
   {
    "duration": 24,
    "start_time": "2023-08-15T17:04:46.605Z"
   },
   {
    "duration": 46,
    "start_time": "2023-08-15T17:04:46.632Z"
   },
   {
    "duration": 27,
    "start_time": "2023-08-15T17:04:46.681Z"
   },
   {
    "duration": 25,
    "start_time": "2023-08-15T17:04:46.710Z"
   },
   {
    "duration": 17,
    "start_time": "2023-08-15T17:04:46.738Z"
   },
   {
    "duration": 16,
    "start_time": "2023-08-15T17:04:46.757Z"
   },
   {
    "duration": 186,
    "start_time": "2023-08-15T17:04:46.775Z"
   },
   {
    "duration": 0,
    "start_time": "2023-08-15T17:04:46.963Z"
   },
   {
    "duration": 1,
    "start_time": "2023-08-15T17:04:46.966Z"
   },
   {
    "duration": 0,
    "start_time": "2023-08-15T17:04:46.968Z"
   },
   {
    "duration": 0,
    "start_time": "2023-08-15T17:04:46.969Z"
   },
   {
    "duration": 0,
    "start_time": "2023-08-15T17:04:46.971Z"
   },
   {
    "duration": 0,
    "start_time": "2023-08-15T17:04:46.973Z"
   },
   {
    "duration": 20,
    "start_time": "2023-08-15T17:05:01.547Z"
   },
   {
    "duration": 12,
    "start_time": "2023-08-15T17:05:21.578Z"
   },
   {
    "duration": 8,
    "start_time": "2023-08-15T17:05:26.882Z"
   },
   {
    "duration": 9,
    "start_time": "2023-08-15T17:05:27.266Z"
   },
   {
    "duration": 32,
    "start_time": "2023-08-15T17:05:29.681Z"
   },
   {
    "duration": 6,
    "start_time": "2023-08-15T17:07:03.167Z"
   },
   {
    "duration": 2026,
    "start_time": "2023-08-15T17:09:44.061Z"
   },
   {
    "duration": 41,
    "start_time": "2023-08-15T17:09:46.090Z"
   },
   {
    "duration": 127,
    "start_time": "2023-08-15T17:09:46.133Z"
   },
   {
    "duration": 35,
    "start_time": "2023-08-15T17:09:46.262Z"
   },
   {
    "duration": 46,
    "start_time": "2023-08-15T17:09:46.300Z"
   },
   {
    "duration": 51,
    "start_time": "2023-08-15T17:09:46.348Z"
   },
   {
    "duration": 32,
    "start_time": "2023-08-15T17:09:46.401Z"
   },
   {
    "duration": 55,
    "start_time": "2023-08-15T17:09:46.435Z"
   },
   {
    "duration": 57,
    "start_time": "2023-08-15T17:09:46.491Z"
   },
   {
    "duration": 18,
    "start_time": "2023-08-15T17:09:46.550Z"
   },
   {
    "duration": 4597,
    "start_time": "2023-08-15T17:09:46.570Z"
   },
   {
    "duration": 4,
    "start_time": "2023-08-15T17:09:51.168Z"
   },
   {
    "duration": 1353,
    "start_time": "2023-08-15T17:09:51.173Z"
   },
   {
    "duration": 257,
    "start_time": "2023-08-15T17:09:52.529Z"
   },
   {
    "duration": 471,
    "start_time": "2023-08-15T17:09:52.788Z"
   },
   {
    "duration": 5,
    "start_time": "2023-08-15T17:09:53.261Z"
   },
   {
    "duration": 32,
    "start_time": "2023-08-15T17:09:53.268Z"
   },
   {
    "duration": 34,
    "start_time": "2023-08-15T17:09:53.302Z"
   },
   {
    "duration": 18,
    "start_time": "2023-08-15T17:09:53.338Z"
   },
   {
    "duration": 16,
    "start_time": "2023-08-15T17:09:53.358Z"
   },
   {
    "duration": 14,
    "start_time": "2023-08-15T17:09:53.376Z"
   },
   {
    "duration": 6,
    "start_time": "2023-08-15T17:09:53.393Z"
   },
   {
    "duration": 49,
    "start_time": "2023-08-15T17:09:53.400Z"
   },
   {
    "duration": 90,
    "start_time": "2023-08-15T17:09:53.451Z"
   },
   {
    "duration": 29,
    "start_time": "2023-08-15T17:09:53.543Z"
   },
   {
    "duration": 19,
    "start_time": "2023-08-15T17:09:53.573Z"
   },
   {
    "duration": 27,
    "start_time": "2023-08-15T17:09:53.594Z"
   },
   {
    "duration": 24,
    "start_time": "2023-08-15T17:09:53.623Z"
   },
   {
    "duration": 176,
    "start_time": "2023-08-15T17:09:53.649Z"
   },
   {
    "duration": 0,
    "start_time": "2023-08-15T17:09:53.827Z"
   },
   {
    "duration": 0,
    "start_time": "2023-08-15T17:09:53.828Z"
   },
   {
    "duration": 0,
    "start_time": "2023-08-15T17:09:53.829Z"
   },
   {
    "duration": 30,
    "start_time": "2023-08-15T17:10:06.543Z"
   },
   {
    "duration": 29,
    "start_time": "2023-08-15T17:10:11.659Z"
   },
   {
    "duration": 2019,
    "start_time": "2023-08-15T17:11:45.035Z"
   },
   {
    "duration": 31,
    "start_time": "2023-08-15T17:11:47.056Z"
   },
   {
    "duration": 170,
    "start_time": "2023-08-15T17:11:47.089Z"
   },
   {
    "duration": 59,
    "start_time": "2023-08-15T17:11:47.261Z"
   },
   {
    "duration": 115,
    "start_time": "2023-08-15T17:11:47.323Z"
   },
   {
    "duration": 199,
    "start_time": "2023-08-15T17:11:47.440Z"
   },
   {
    "duration": 6,
    "start_time": "2023-08-15T17:11:47.641Z"
   },
   {
    "duration": 55,
    "start_time": "2023-08-15T17:11:47.648Z"
   },
   {
    "duration": 62,
    "start_time": "2023-08-15T17:11:47.705Z"
   },
   {
    "duration": 88,
    "start_time": "2023-08-15T17:11:47.769Z"
   },
   {
    "duration": 4384,
    "start_time": "2023-08-15T17:11:47.859Z"
   },
   {
    "duration": 3,
    "start_time": "2023-08-15T17:11:52.244Z"
   },
   {
    "duration": 1326,
    "start_time": "2023-08-15T17:11:52.249Z"
   },
   {
    "duration": 266,
    "start_time": "2023-08-15T17:11:53.580Z"
   },
   {
    "duration": 462,
    "start_time": "2023-08-15T17:11:53.849Z"
   },
   {
    "duration": 5,
    "start_time": "2023-08-15T17:11:54.313Z"
   },
   {
    "duration": 43,
    "start_time": "2023-08-15T17:11:54.319Z"
   },
   {
    "duration": 28,
    "start_time": "2023-08-15T17:11:54.364Z"
   },
   {
    "duration": 11,
    "start_time": "2023-08-15T17:11:54.394Z"
   },
   {
    "duration": 14,
    "start_time": "2023-08-15T17:11:54.407Z"
   },
   {
    "duration": 24,
    "start_time": "2023-08-15T17:11:54.423Z"
   },
   {
    "duration": 18,
    "start_time": "2023-08-15T17:11:54.449Z"
   },
   {
    "duration": 21,
    "start_time": "2023-08-15T17:11:54.468Z"
   },
   {
    "duration": 17,
    "start_time": "2023-08-15T17:11:54.491Z"
   },
   {
    "duration": 50,
    "start_time": "2023-08-15T17:11:54.510Z"
   },
   {
    "duration": 18,
    "start_time": "2023-08-15T17:11:54.562Z"
   },
   {
    "duration": 26,
    "start_time": "2023-08-15T17:11:54.582Z"
   },
   {
    "duration": 18,
    "start_time": "2023-08-15T17:11:54.610Z"
   },
   {
    "duration": 21,
    "start_time": "2023-08-15T17:11:54.630Z"
   },
   {
    "duration": 37,
    "start_time": "2023-08-15T17:11:54.653Z"
   },
   {
    "duration": 50,
    "start_time": "2023-08-15T17:11:54.691Z"
   },
   {
    "duration": 60,
    "start_time": "2023-08-15T17:11:54.742Z"
   },
   {
    "duration": 1986,
    "start_time": "2023-08-15T17:13:16.029Z"
   },
   {
    "duration": 30,
    "start_time": "2023-08-15T17:13:18.017Z"
   },
   {
    "duration": 117,
    "start_time": "2023-08-15T17:13:18.049Z"
   },
   {
    "duration": 25,
    "start_time": "2023-08-15T17:13:18.168Z"
   },
   {
    "duration": 4,
    "start_time": "2023-08-15T17:13:18.196Z"
   },
   {
    "duration": 25,
    "start_time": "2023-08-15T17:13:18.209Z"
   },
   {
    "duration": 6,
    "start_time": "2023-08-15T17:13:18.236Z"
   },
   {
    "duration": 17,
    "start_time": "2023-08-15T17:13:18.244Z"
   },
   {
    "duration": 21,
    "start_time": "2023-08-15T17:13:18.264Z"
   },
   {
    "duration": 28,
    "start_time": "2023-08-15T17:13:18.287Z"
   },
   {
    "duration": 4446,
    "start_time": "2023-08-15T17:13:18.317Z"
   },
   {
    "duration": 3,
    "start_time": "2023-08-15T17:13:22.765Z"
   },
   {
    "duration": 1322,
    "start_time": "2023-08-15T17:13:22.770Z"
   },
   {
    "duration": 263,
    "start_time": "2023-08-15T17:13:24.095Z"
   },
   {
    "duration": 457,
    "start_time": "2023-08-15T17:13:24.360Z"
   },
   {
    "duration": 4,
    "start_time": "2023-08-15T17:13:24.819Z"
   },
   {
    "duration": 35,
    "start_time": "2023-08-15T17:13:24.824Z"
   },
   {
    "duration": 35,
    "start_time": "2023-08-15T17:13:24.861Z"
   },
   {
    "duration": 27,
    "start_time": "2023-08-15T17:13:24.898Z"
   },
   {
    "duration": 102,
    "start_time": "2023-08-15T17:13:24.927Z"
   },
   {
    "duration": 58,
    "start_time": "2023-08-15T17:13:25.031Z"
   },
   {
    "duration": 40,
    "start_time": "2023-08-15T17:13:25.091Z"
   },
   {
    "duration": 22,
    "start_time": "2023-08-15T17:13:25.133Z"
   },
   {
    "duration": 38,
    "start_time": "2023-08-15T17:13:25.157Z"
   },
   {
    "duration": 152,
    "start_time": "2023-08-15T17:13:25.197Z"
   },
   {
    "duration": 0,
    "start_time": "2023-08-15T17:13:25.351Z"
   },
   {
    "duration": 0,
    "start_time": "2023-08-15T17:13:25.353Z"
   },
   {
    "duration": 0,
    "start_time": "2023-08-15T17:13:25.354Z"
   },
   {
    "duration": 0,
    "start_time": "2023-08-15T17:13:25.356Z"
   },
   {
    "duration": 0,
    "start_time": "2023-08-15T17:13:25.357Z"
   },
   {
    "duration": 0,
    "start_time": "2023-08-15T17:13:25.359Z"
   },
   {
    "duration": 0,
    "start_time": "2023-08-15T17:13:25.361Z"
   },
   {
    "duration": 19,
    "start_time": "2023-08-15T17:13:33.557Z"
   },
   {
    "duration": 18,
    "start_time": "2023-08-15T17:15:17.532Z"
   },
   {
    "duration": 2027,
    "start_time": "2023-08-15T17:15:30.520Z"
   },
   {
    "duration": 31,
    "start_time": "2023-08-15T17:15:32.549Z"
   },
   {
    "duration": 116,
    "start_time": "2023-08-15T17:15:32.582Z"
   },
   {
    "duration": 34,
    "start_time": "2023-08-15T17:15:32.700Z"
   },
   {
    "duration": 7,
    "start_time": "2023-08-15T17:15:32.737Z"
   },
   {
    "duration": 30,
    "start_time": "2023-08-15T17:15:32.746Z"
   },
   {
    "duration": 5,
    "start_time": "2023-08-15T17:15:32.778Z"
   },
   {
    "duration": 53,
    "start_time": "2023-08-15T17:15:32.784Z"
   },
   {
    "duration": 34,
    "start_time": "2023-08-15T17:15:32.839Z"
   },
   {
    "duration": 28,
    "start_time": "2023-08-15T17:15:32.875Z"
   },
   {
    "duration": 4503,
    "start_time": "2023-08-15T17:15:32.904Z"
   },
   {
    "duration": 3,
    "start_time": "2023-08-15T17:15:37.408Z"
   },
   {
    "duration": 1280,
    "start_time": "2023-08-15T17:15:37.413Z"
   },
   {
    "duration": 268,
    "start_time": "2023-08-15T17:15:38.696Z"
   },
   {
    "duration": 485,
    "start_time": "2023-08-15T17:15:38.966Z"
   },
   {
    "duration": 4,
    "start_time": "2023-08-15T17:15:39.454Z"
   },
   {
    "duration": 19,
    "start_time": "2023-08-15T17:15:39.460Z"
   },
   {
    "duration": 31,
    "start_time": "2023-08-15T17:15:39.481Z"
   },
   {
    "duration": 5,
    "start_time": "2023-08-15T17:15:39.514Z"
   },
   {
    "duration": 11,
    "start_time": "2023-08-15T17:15:39.521Z"
   },
   {
    "duration": 11,
    "start_time": "2023-08-15T17:15:39.534Z"
   },
   {
    "duration": 9,
    "start_time": "2023-08-15T17:15:39.547Z"
   },
   {
    "duration": 6,
    "start_time": "2023-08-15T17:15:39.557Z"
   },
   {
    "duration": 8,
    "start_time": "2023-08-15T17:15:39.564Z"
   },
   {
    "duration": 15,
    "start_time": "2023-08-15T17:15:39.573Z"
   },
   {
    "duration": 20,
    "start_time": "2023-08-15T17:15:39.590Z"
   },
   {
    "duration": 34,
    "start_time": "2023-08-15T17:15:39.612Z"
   },
   {
    "duration": 9,
    "start_time": "2023-08-15T17:15:39.648Z"
   },
   {
    "duration": 40,
    "start_time": "2023-08-15T17:15:39.659Z"
   },
   {
    "duration": 27,
    "start_time": "2023-08-15T17:15:39.701Z"
   },
   {
    "duration": 35,
    "start_time": "2023-08-15T17:15:39.730Z"
   },
   {
    "duration": 18,
    "start_time": "2023-08-15T17:15:39.767Z"
   },
   {
    "duration": 2054,
    "start_time": "2023-08-15T17:19:49.151Z"
   },
   {
    "duration": 31,
    "start_time": "2023-08-15T17:19:51.207Z"
   },
   {
    "duration": 123,
    "start_time": "2023-08-15T17:19:51.240Z"
   },
   {
    "duration": 33,
    "start_time": "2023-08-15T17:19:51.365Z"
   },
   {
    "duration": 16,
    "start_time": "2023-08-15T17:19:51.400Z"
   },
   {
    "duration": 33,
    "start_time": "2023-08-15T17:19:51.419Z"
   },
   {
    "duration": 7,
    "start_time": "2023-08-15T17:19:51.455Z"
   },
   {
    "duration": 21,
    "start_time": "2023-08-15T17:19:51.464Z"
   },
   {
    "duration": 28,
    "start_time": "2023-08-15T17:19:51.487Z"
   },
   {
    "duration": 16,
    "start_time": "2023-08-15T17:19:51.516Z"
   },
   {
    "duration": 4520,
    "start_time": "2023-08-15T17:19:51.534Z"
   },
   {
    "duration": 4,
    "start_time": "2023-08-15T17:19:56.056Z"
   },
   {
    "duration": 1341,
    "start_time": "2023-08-15T17:19:56.061Z"
   },
   {
    "duration": 262,
    "start_time": "2023-08-15T17:19:57.408Z"
   },
   {
    "duration": 458,
    "start_time": "2023-08-15T17:19:57.672Z"
   },
   {
    "duration": 5,
    "start_time": "2023-08-15T17:19:58.132Z"
   },
   {
    "duration": 31,
    "start_time": "2023-08-15T17:19:58.138Z"
   },
   {
    "duration": 37,
    "start_time": "2023-08-15T17:19:58.171Z"
   },
   {
    "duration": 36,
    "start_time": "2023-08-15T17:19:58.210Z"
   },
   {
    "duration": 12,
    "start_time": "2023-08-15T17:19:58.247Z"
   },
   {
    "duration": 7,
    "start_time": "2023-08-15T17:19:58.261Z"
   },
   {
    "duration": 10,
    "start_time": "2023-08-15T17:19:58.270Z"
   },
   {
    "duration": 8,
    "start_time": "2023-08-15T17:19:58.282Z"
   },
   {
    "duration": 16,
    "start_time": "2023-08-15T17:19:58.292Z"
   },
   {
    "duration": 42,
    "start_time": "2023-08-15T17:19:58.310Z"
   },
   {
    "duration": 19,
    "start_time": "2023-08-15T17:19:58.354Z"
   },
   {
    "duration": 11,
    "start_time": "2023-08-15T17:19:58.375Z"
   },
   {
    "duration": 5,
    "start_time": "2023-08-15T17:19:58.388Z"
   },
   {
    "duration": 26,
    "start_time": "2023-08-15T17:19:58.395Z"
   },
   {
    "duration": 32,
    "start_time": "2023-08-15T17:19:58.423Z"
   },
   {
    "duration": 62,
    "start_time": "2023-08-15T17:19:58.457Z"
   },
   {
    "duration": 10,
    "start_time": "2023-08-15T17:19:58.521Z"
   },
   {
    "duration": 5,
    "start_time": "2023-08-15T17:25:31.575Z"
   },
   {
    "duration": 3,
    "start_time": "2023-08-15T17:26:23.887Z"
   },
   {
    "duration": 4,
    "start_time": "2023-08-15T17:26:29.447Z"
   },
   {
    "duration": 4,
    "start_time": "2023-08-15T17:26:34.068Z"
   },
   {
    "duration": 3,
    "start_time": "2023-08-15T17:30:02.053Z"
   },
   {
    "duration": 152,
    "start_time": "2023-08-15T17:33:10.595Z"
   },
   {
    "duration": 29,
    "start_time": "2023-08-15T17:37:21.531Z"
   },
   {
    "duration": 16,
    "start_time": "2023-08-15T17:38:59.529Z"
   },
   {
    "duration": 5,
    "start_time": "2023-08-15T17:43:20.486Z"
   },
   {
    "duration": 5,
    "start_time": "2023-08-15T17:46:52.237Z"
   },
   {
    "duration": 3,
    "start_time": "2023-08-15T17:47:33.269Z"
   },
   {
    "duration": 375,
    "start_time": "2023-08-15T17:48:16.357Z"
   },
   {
    "duration": 708,
    "start_time": "2023-08-15T17:51:04.803Z"
   },
   {
    "duration": 6007,
    "start_time": "2023-08-15T17:51:29.002Z"
   },
   {
    "duration": 5088,
    "start_time": "2023-08-15T17:51:53.138Z"
   },
   {
    "duration": 6,
    "start_time": "2023-08-15T17:56:04.696Z"
   },
   {
    "duration": 4,
    "start_time": "2023-08-15T17:56:07.808Z"
   },
   {
    "duration": 4,
    "start_time": "2023-08-15T17:56:09.720Z"
   },
   {
    "duration": 5820,
    "start_time": "2023-08-15T17:56:11.692Z"
   },
   {
    "duration": 5,
    "start_time": "2023-08-15T17:57:59.495Z"
   },
   {
    "duration": 6753,
    "start_time": "2023-08-15T17:58:01.687Z"
   },
   {
    "duration": 4,
    "start_time": "2023-08-15T17:58:29.487Z"
   },
   {
    "duration": 6861,
    "start_time": "2023-08-15T17:58:31.371Z"
   },
   {
    "duration": 4,
    "start_time": "2023-08-15T18:00:57.566Z"
   },
   {
    "duration": 6,
    "start_time": "2023-08-15T18:00:58.934Z"
   },
   {
    "duration": 4,
    "start_time": "2023-08-15T18:01:00.647Z"
   },
   {
    "duration": 4,
    "start_time": "2023-08-15T18:01:02.365Z"
   },
   {
    "duration": 10383,
    "start_time": "2023-08-15T18:01:03.734Z"
   },
   {
    "duration": 8,
    "start_time": "2023-08-15T18:01:47.989Z"
   },
   {
    "duration": 4,
    "start_time": "2023-08-15T18:01:52.158Z"
   },
   {
    "duration": 5,
    "start_time": "2023-08-15T18:01:53.397Z"
   },
   {
    "duration": 18590,
    "start_time": "2023-08-15T18:01:54.542Z"
   },
   {
    "duration": 2153,
    "start_time": "2023-08-15T18:02:28.565Z"
   },
   {
    "duration": 548,
    "start_time": "2023-08-15T18:05:15.128Z"
   },
   {
    "duration": 12,
    "start_time": "2023-08-15T18:06:30.203Z"
   },
   {
    "duration": 9,
    "start_time": "2023-08-15T18:07:42.429Z"
   },
   {
    "duration": 181,
    "start_time": "2023-08-15T18:09:43.873Z"
   },
   {
    "duration": 19,
    "start_time": "2023-08-15T18:10:15.525Z"
   },
   {
    "duration": 47,
    "start_time": "2023-08-15T18:10:30.306Z"
   },
   {
    "duration": 6,
    "start_time": "2023-08-15T18:11:10.857Z"
   },
   {
    "duration": 4,
    "start_time": "2023-08-15T18:11:13.497Z"
   },
   {
    "duration": 4,
    "start_time": "2023-08-15T18:11:14.481Z"
   },
   {
    "duration": 590,
    "start_time": "2023-08-15T18:11:15.832Z"
   },
   {
    "duration": 2704,
    "start_time": "2023-08-15T18:11:51.342Z"
   },
   {
    "duration": 7,
    "start_time": "2023-08-15T18:14:30.759Z"
   },
   {
    "duration": 22,
    "start_time": "2023-08-15T18:14:33.047Z"
   },
   {
    "duration": 8,
    "start_time": "2023-08-15T18:16:25.535Z"
   },
   {
    "duration": 5,
    "start_time": "2023-08-15T18:16:27.246Z"
   },
   {
    "duration": 9,
    "start_time": "2023-08-15T18:16:53.935Z"
   },
   {
    "duration": 9,
    "start_time": "2023-08-15T18:16:54.847Z"
   },
   {
    "duration": 5,
    "start_time": "2023-08-15T18:16:56.862Z"
   },
   {
    "duration": 7,
    "start_time": "2023-08-15T18:16:58.420Z"
   },
   {
    "duration": 3397,
    "start_time": "2023-08-15T18:16:59.940Z"
   },
   {
    "duration": 549,
    "start_time": "2023-08-15T18:17:05.439Z"
   },
   {
    "duration": 16,
    "start_time": "2023-08-15T18:17:08.620Z"
   },
   {
    "duration": 6,
    "start_time": "2023-08-15T18:17:50.173Z"
   },
   {
    "duration": 4,
    "start_time": "2023-08-15T18:17:53.069Z"
   },
   {
    "duration": 4,
    "start_time": "2023-08-15T18:17:54.439Z"
   },
   {
    "duration": 2440,
    "start_time": "2023-08-15T18:17:55.805Z"
   },
   {
    "duration": 678,
    "start_time": "2023-08-15T18:18:04.583Z"
   },
   {
    "duration": 5,
    "start_time": "2023-08-15T18:18:08.173Z"
   },
   {
    "duration": 5,
    "start_time": "2023-08-15T18:20:05.448Z"
   },
   {
    "duration": 4,
    "start_time": "2023-08-15T18:20:07.284Z"
   },
   {
    "duration": 3,
    "start_time": "2023-08-15T18:20:08.460Z"
   },
   {
    "duration": 2153,
    "start_time": "2023-08-15T18:20:09.892Z"
   },
   {
    "duration": 503,
    "start_time": "2023-08-15T18:20:13.748Z"
   },
   {
    "duration": 4,
    "start_time": "2023-08-15T18:20:17.186Z"
   },
   {
    "duration": 5,
    "start_time": "2023-08-15T18:20:52.179Z"
   },
   {
    "duration": 8,
    "start_time": "2023-08-15T18:20:55.996Z"
   },
   {
    "duration": 3,
    "start_time": "2023-08-15T18:20:57.396Z"
   },
   {
    "duration": 1321,
    "start_time": "2023-08-15T18:20:58.510Z"
   },
   {
    "duration": 503,
    "start_time": "2023-08-15T18:21:01.179Z"
   },
   {
    "duration": 10,
    "start_time": "2023-08-15T18:21:03.756Z"
   },
   {
    "duration": 3,
    "start_time": "2023-08-15T18:21:23.883Z"
   },
   {
    "duration": 7,
    "start_time": "2023-08-15T18:21:26.587Z"
   },
   {
    "duration": 12,
    "start_time": "2023-08-15T18:21:28.625Z"
   },
   {
    "duration": 14989,
    "start_time": "2023-08-15T18:21:30.437Z"
   },
   {
    "duration": 595,
    "start_time": "2023-08-15T18:21:45.433Z"
   },
   {
    "duration": 36,
    "start_time": "2023-08-15T18:21:46.034Z"
   },
   {
    "duration": 115631,
    "start_time": "2023-08-15T18:22:12.212Z"
   },
   {
    "duration": 497,
    "start_time": "2023-08-15T18:25:03.258Z"
   },
   {
    "duration": 2214,
    "start_time": "2023-08-15T18:25:39.380Z"
   },
   {
    "duration": 60,
    "start_time": "2023-08-15T18:25:41.596Z"
   },
   {
    "duration": 126,
    "start_time": "2023-08-15T18:25:41.658Z"
   },
   {
    "duration": 57,
    "start_time": "2023-08-15T18:25:41.786Z"
   },
   {
    "duration": 10,
    "start_time": "2023-08-15T18:25:41.850Z"
   },
   {
    "duration": 31,
    "start_time": "2023-08-15T18:25:41.863Z"
   },
   {
    "duration": 7,
    "start_time": "2023-08-15T18:25:41.896Z"
   },
   {
    "duration": 54,
    "start_time": "2023-08-15T18:25:41.905Z"
   },
   {
    "duration": 36,
    "start_time": "2023-08-15T18:25:41.961Z"
   },
   {
    "duration": 43,
    "start_time": "2023-08-15T18:25:41.999Z"
   },
   {
    "duration": 4988,
    "start_time": "2023-08-15T18:25:42.048Z"
   },
   {
    "duration": 4,
    "start_time": "2023-08-15T18:25:47.044Z"
   },
   {
    "duration": 1550,
    "start_time": "2023-08-15T18:25:47.050Z"
   },
   {
    "duration": 295,
    "start_time": "2023-08-15T18:25:48.611Z"
   },
   {
    "duration": 470,
    "start_time": "2023-08-15T18:25:48.911Z"
   },
   {
    "duration": 5,
    "start_time": "2023-08-15T18:25:49.383Z"
   },
   {
    "duration": 33,
    "start_time": "2023-08-15T18:25:49.390Z"
   },
   {
    "duration": 59,
    "start_time": "2023-08-15T18:25:49.425Z"
   },
   {
    "duration": 17,
    "start_time": "2023-08-15T18:25:49.486Z"
   },
   {
    "duration": 65,
    "start_time": "2023-08-15T18:25:49.506Z"
   },
   {
    "duration": 6,
    "start_time": "2023-08-15T18:25:49.573Z"
   },
   {
    "duration": 7,
    "start_time": "2023-08-15T18:25:49.581Z"
   },
   {
    "duration": 7,
    "start_time": "2023-08-15T18:25:49.590Z"
   },
   {
    "duration": 55,
    "start_time": "2023-08-15T18:25:49.599Z"
   },
   {
    "duration": 15,
    "start_time": "2023-08-15T18:25:49.656Z"
   },
   {
    "duration": 18,
    "start_time": "2023-08-15T18:25:49.673Z"
   },
   {
    "duration": 52,
    "start_time": "2023-08-15T18:25:49.693Z"
   },
   {
    "duration": 28,
    "start_time": "2023-08-15T18:25:49.746Z"
   },
   {
    "duration": 31,
    "start_time": "2023-08-15T18:25:49.777Z"
   },
   {
    "duration": 63,
    "start_time": "2023-08-15T18:25:49.811Z"
   },
   {
    "duration": 11,
    "start_time": "2023-08-15T18:25:49.876Z"
   },
   {
    "duration": 13,
    "start_time": "2023-08-15T18:25:49.889Z"
   },
   {
    "duration": 53,
    "start_time": "2023-08-15T18:25:49.904Z"
   },
   {
    "duration": 7,
    "start_time": "2023-08-15T18:25:49.959Z"
   },
   {
    "duration": 13,
    "start_time": "2023-08-15T18:25:49.969Z"
   },
   {
    "duration": 23,
    "start_time": "2023-08-15T18:25:49.984Z"
   },
   {
    "duration": 66,
    "start_time": "2023-08-15T18:25:50.011Z"
   },
   {
    "duration": 20738,
    "start_time": "2023-08-15T18:25:50.079Z"
   },
   {
    "duration": 549,
    "start_time": "2023-08-15T18:26:10.821Z"
   },
   {
    "duration": 5,
    "start_time": "2023-08-15T18:26:11.372Z"
   }
  ],
  "kernelspec": {
   "display_name": "Python 3 (ipykernel)",
   "language": "python",
   "name": "python3"
  },
  "language_info": {
   "codemirror_mode": {
    "name": "ipython",
    "version": 3
   },
   "file_extension": ".py",
   "mimetype": "text/x-python",
   "name": "python",
   "nbconvert_exporter": "python",
   "pygments_lexer": "ipython3",
   "version": "3.9.7"
  },
  "toc": {
   "base_numbering": 1,
   "nav_menu": {},
   "number_sections": false,
   "sideBar": true,
   "skip_h1_title": false,
   "title_cell": "Table of Contents",
   "title_sidebar": "Contents",
   "toc_cell": false,
   "toc_position": {},
   "toc_section_display": true,
   "toc_window_display": false
  },
  "varInspector": {
   "cols": {
    "lenName": 16,
    "lenType": 16,
    "lenVar": 40
   },
   "kernels_config": {
    "python": {
     "delete_cmd_postfix": "",
     "delete_cmd_prefix": "del ",
     "library": "var_list.py",
     "varRefreshCmd": "print(var_dic_list())"
    },
    "r": {
     "delete_cmd_postfix": ") ",
     "delete_cmd_prefix": "rm(",
     "library": "var_list.r",
     "varRefreshCmd": "cat(var_dic_list()) "
    }
   },
   "types_to_exclude": [
    "module",
    "function",
    "builtin_function_or_method",
    "instance",
    "_Feature"
   ],
   "window_display": false
  }
 },
 "nbformat": 4,
 "nbformat_minor": 5
}
