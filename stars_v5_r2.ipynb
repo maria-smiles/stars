{
 "cells": [
  {
   "cell_type": "markdown",
   "id": "d1e09534",
   "metadata": {},
   "source": [
    "Привет, меня зовут Максим и я буду проверять твой проект.\n",
    "<br>Небольшая вступительная часть и начнем работу)\n",
    "<br> Если не против, то предлагаю общаться на \"ты\". Если это не удобно - дай знать, и мы перейдем на \"вы\". Моя основная цель — не указать на совершенные ошибки, а поделиться своим опытом и помочь сделать твой проект лучше. Для этого я буду использовать разный стиль оформления комментариев. \n",
    "<div class=\"alert alert-block alert-success\">\n",
    "✔️ Все хорошо.\n",
    "</div>\n",
    "\n",
    "<div class=\"alert alert-warning\">\n",
    "⚠️ Критических замечаний нет, но есть возможность сделать твою работу лучше.\n",
    "</div>\n",
    "\n",
    "<div class=\"alert alert-block alert-danger\">\n",
    "❌ Если требуются исправления. Работа не может быть принята с красными комментариями.\n",
    "</div>\n",
    "\n",
    "\n",
    "Давай работать над проектом в диалоге: если ты что-то меняешь в проекте по моим рекомендациям — пиши об этом.\n",
    "Будет очень хорошо, если ты будешь помечать свои действия следующим образом:\n",
    "<div class=\"alert alert-block alert-info\">\n",
    "<b>Комментарий студента:</b> ...\n",
    "</div>\n",
    "Пожалуйста, не перемещай, не изменяй и не удаляй мои комментарии. Всё это поможет выполнить повторную проверку твоего проекта оперативнее».  "
   ]
  },
  {
   "cell_type": "markdown",
   "id": "37f82149-0091-41f6-977f-9c6b41743982",
   "metadata": {},
   "source": [
    "Привет, дорогой ревьюер. Я не знаю, что мне делать дальше. Я попробовала разные функции активации, разные слои, разные параметры, но ошибка остаётся на уровне 10 тысяч. Я удалила некоторые данные, но это тоже не помогло. Попобовала инициализацию весов. По итогу получается что-то невразумительное, и что ещё можно сделать, не представляю."
   ]
  },
  {
   "cell_type": "markdown",
   "id": "10f4441d",
   "metadata": {},
   "source": [
    "<div class=\"alert alert-success\">\n",
    "<h4>✔️ Комментарий ревьюера</h4>\n",
    "Спасибо, что сразу сообщаешь о возникших трудностях. Давай вместе разбираться по ходу ревью)\n",
    "</div>"
   ]
  },
  {
   "cell_type": "markdown",
   "id": "b7d7e409-9492-48be-a116-020ec238213a",
   "metadata": {},
   "source": [
    "## Прогнозирование температуры звезды\n",
    "Вам пришла задача от обсерватории «Небо на ладони»: придумать, как с помощью нейросети определять температуру на поверхности обнаруженных звёзд. Обычно для расчёта температуры учёные пользуются следующими методами:\n",
    "\n",
    "    Закон смещения Вина.\n",
    "    Закон Стефана-Больцмана.\n",
    "    Спектральный анализ.\n",
    "\n",
    "Каждый из них имеет плюсы и минусы. Обсерватория хочет внедрить технологии машинного обучения для предсказания температуры звёзд, надеясь, что этот метод будет наиболее точным и удобным.\n",
    "В базе обсерватории есть характеристики уже изученных 240 звёзд.\n",
    "Характеристики\n",
    "\n",
    "    Относительная светимость L/Lo — светимость звезды относительно Солнца.\n",
    "    Относительный радиус R/Ro — радиус звезды относительно радиуса Солнца.\n",
    "    Абсолютная звёздная величина Mv — физическая величина, характеризующая блеск звезды.\n",
    "    Звёздный цвет (white, red, blue, yellow, yellow-orange и др.) — цвет звезды, который определяют на основе спектрального анализа.\n",
    "    Тип звезды.\n",
    "    Тип звезды\tНомер, соответствующий типу\n",
    "    Коричневый карлик\t0\n",
    "    Красный карлик\t1\n",
    "    Белый карлик\t2\n",
    "    Звёзды главной последовательности\t3\n",
    "    Сверхгигант\t4\n",
    "    Гипергигант\t5\n",
    "\n",
    "    Абсолютная температура T(K) — температура на поверхности звезды в Кельвинах.\n",
    "\n",
    "В этом проекте необходимо разработать нейронную сеть, которая поможет предсказывать абсолютную температуру на поверхности звезды.\n",
    "💡 Справочная информация:\n",
    " Светимость Солнца (англ. Average Luminosity of Sun)\n",
    " L0=3.828⋅1026 ВтL0​=3.828⋅1026Вт\n",
    " Радиус Солнца (англ. Average Radius of Sun) \n",
    " R0=6.9551⋅108 мR0​=6.9551⋅108м\n",
    "Алгоритм решения задачи\n",
    "\n",
    "Шаг 1. Загрузка исходных данных из файла\n",
    "\n",
    "/datasets/6_class.csv \n",
    "\n",
    "Шаг 2. Исследовательский анализ\n",
    "Проведите исследовательский анализ:\n",
    "\n",
    "    количественных данных,\n",
    "    категориальных данных.\n",
    "\n",
    "Обязательно используйте графический анализ и сделайте вывод.\n",
    "Шаг 3. Подготовка данных к построению модели\n",
    "\n",
    "    По результату исследовательского анализа внесите корректировки, если они нужны. Сделайте вывод.\n",
    "    Если необходимо, категоризируйте исходные данные.\n",
    "    Подготовьте обучающую и тестовую выборки.\n",
    "    Проведите масштабирование количественных данных.\n",
    "\n",
    "Шаг 4. Построение простой модели нейронной сети — baseline\n",
    "\n",
    "    Создайте класс для задания архитектуры нейронной сети.\n",
    "    Самостоятельно выберите количество скрытых слоёв, количество нейронов на них, функции активации на скрытых и выходном слоях. Попробуйте и сравните несколько подобных комбинаций.\n",
    "    Проведите обучение нейронной сети:\n",
    "     \n",
    "        Создайте функцию для обучения нейронной сети.\n",
    "        Проведите обучение модели.\n",
    "        Постройте график «Факт — Прогноз», где по горизонтальной оси будут отложены условные номера звёзд, а по вертикальной — температура в Кельвинах.\n",
    "\n",
    "image\n",
    "\n",
    "    Сделайте вывод.\n",
    "\n",
    "Шаг 5. Улучшение сети\n",
    "\n",
    "    Создайте решение с перебором параметров нейросети. Список параметров для перебора должен включать как минимум «dropout» и «размер батча». Архитектуру нейронной сети: количество слоёв, нейронов, вид функции активации — оставьте как в Baseline, чтобы сравнить результат.\n",
    "    Проведите обучение нейронной сети. Выведите метрику RMSE и график «Факт — прогноз». Метрика RMSE не должна превышать 4500.\n",
    "    Сделайте вывод. Желательно оформить его в виде таблицы или графика.\n",
    "\n",
    "Шаг 6. Выводы по проекту\n",
    "\n",
    "    Кратко опишите результаты каждого типа модели.\n",
    "    Напишите выводы сравнения двух моделей."
   ]
  },
  {
   "cell_type": "markdown",
   "id": "79704b99",
   "metadata": {},
   "source": [
    "<div class=\"alert alert-success\">\n",
    "<h4>✔️ Комментарий ревьюера</h4>\n",
    "Здорово, что во вступлении к проекту есть заголовок, краткое описание проекта и его цель, а также описание данных и план работы. Так получатель отчета сможет быстрей его понять.\n",
    "\n",
    "</div>"
   ]
  },
  {
   "cell_type": "code",
   "execution_count": 1,
   "id": "bca9dc0f",
   "metadata": {
    "scrolled": true
   },
   "outputs": [
    {
     "name": "stdout",
     "output_type": "stream",
     "text": [
      "GPU is available and being used\n"
     ]
    }
   ],
   "source": [
    "import warnings\n",
    "\n",
    "import pandas as pd\n",
    "import numpy as np\n",
    "import seaborn as sns\n",
    "import matplotlib.pyplot as plt\n",
    "from math import ceil\n",
    "\n",
    "\n",
    "\n",
    "from sklearn.model_selection import train_test_split\n",
    "from sklearn.preprocessing import OneHotEncoder, StandardScaler\n",
    "from sklearn.metrics import mean_squared_error\n",
    "\n",
    "import torch\n",
    "import torch.nn as nn\n",
    "\n",
    "torch.backends.cudnn.benchmark = True\n",
    "\n",
    "if torch.cuda.is_available():\n",
    "    device = torch.device(\"cuda\")\n",
    "    print(\"GPU is available and being used\")\n",
    "else:\n",
    "    device = torch.device(\"cpu\")\n",
    "    print(\"GPU is not available, using CPU instead\")\n",
    "\n",
    "warnings.filterwarnings('ignore')\n",
    "\n",
    "torch.manual_seed(12345)\n",
    "#torch.use_deterministic_algorithms(True)\n",
    "np.random.seed(12345)\n",
    "#Сброс ограничений на число столбцов\n",
    "pd.options.display.max_columns = None\n",
    "RANDOM_STATE=12345"
   ]
  },
  {
   "cell_type": "code",
   "execution_count": 2,
   "id": "5aa14086",
   "metadata": {},
   "outputs": [],
   "source": [
    "import requests"
   ]
  },
  {
   "cell_type": "code",
   "execution_count": 3,
   "id": "96493c84",
   "metadata": {},
   "outputs": [],
   "source": [
    "#!pip install --upgrade pandas\n",
    "#!pip install --upgrade scikit-learn"
   ]
  },
  {
   "cell_type": "markdown",
   "id": "60650c55",
   "metadata": {},
   "source": [
    "<div class=\"alert alert-success\">\n",
    "<h4>✔️ Комментарий ревьюера</h4>\n",
    "Отлично, все нужные библиотеки импортированы в начале ноутбука. Это хорошая практика.\n",
    "</div>"
   ]
  },
  {
   "cell_type": "markdown",
   "id": "corresponding-armstrong",
   "metadata": {
    "ExecuteTime": {
     "end_time": "2022-05-05T04:58:05.692448Z",
     "start_time": "2022-05-05T04:58:05.688565Z"
    }
   },
   "source": [
    "## Загрузка данных"
   ]
  },
  {
   "cell_type": "code",
   "execution_count": 4,
   "id": "spectacular-folder",
   "metadata": {
    "scrolled": true
   },
   "outputs": [],
   "source": [
    "df = pd.read_csv('stars.csv', sep='\\t')\n",
    "#df = pd.read_csv('/datasets/6_class.csv')"
   ]
  },
  {
   "cell_type": "markdown",
   "id": "simple-subdivision",
   "metadata": {},
   "source": [
    "## Предобработка и анализ данных"
   ]
  },
  {
   "cell_type": "code",
   "execution_count": 5,
   "id": "561cc6ba",
   "metadata": {},
   "outputs": [
    {
     "data": {
      "text/html": [
       "<div>\n",
       "<style scoped>\n",
       "    .dataframe tbody tr th:only-of-type {\n",
       "        vertical-align: middle;\n",
       "    }\n",
       "\n",
       "    .dataframe tbody tr th {\n",
       "        vertical-align: top;\n",
       "    }\n",
       "\n",
       "    .dataframe thead th {\n",
       "        text-align: right;\n",
       "    }\n",
       "</style>\n",
       "<table border=\"1\" class=\"dataframe\">\n",
       "  <thead>\n",
       "    <tr style=\"text-align: right;\">\n",
       "      <th></th>\n",
       "      <th>Unnamed: 0.1</th>\n",
       "      <th>Unnamed: 0</th>\n",
       "      <th>Temperature (K)</th>\n",
       "      <th>Luminosity(L/Lo)</th>\n",
       "      <th>Radius(R/Ro)</th>\n",
       "      <th>Absolute magnitude(Mv)</th>\n",
       "      <th>Star type</th>\n",
       "      <th>Star color</th>\n",
       "    </tr>\n",
       "  </thead>\n",
       "  <tbody>\n",
       "    <tr>\n",
       "      <th>0</th>\n",
       "      <td>0</td>\n",
       "      <td>0</td>\n",
       "      <td>3068</td>\n",
       "      <td>0.002400</td>\n",
       "      <td>0.1700</td>\n",
       "      <td>16.12</td>\n",
       "      <td>0</td>\n",
       "      <td>Red</td>\n",
       "    </tr>\n",
       "    <tr>\n",
       "      <th>1</th>\n",
       "      <td>1</td>\n",
       "      <td>1</td>\n",
       "      <td>3042</td>\n",
       "      <td>0.000500</td>\n",
       "      <td>0.1542</td>\n",
       "      <td>16.60</td>\n",
       "      <td>0</td>\n",
       "      <td>Red</td>\n",
       "    </tr>\n",
       "    <tr>\n",
       "      <th>2</th>\n",
       "      <td>2</td>\n",
       "      <td>2</td>\n",
       "      <td>2600</td>\n",
       "      <td>0.000300</td>\n",
       "      <td>0.1020</td>\n",
       "      <td>18.70</td>\n",
       "      <td>0</td>\n",
       "      <td>Red</td>\n",
       "    </tr>\n",
       "    <tr>\n",
       "      <th>3</th>\n",
       "      <td>3</td>\n",
       "      <td>3</td>\n",
       "      <td>2800</td>\n",
       "      <td>0.000200</td>\n",
       "      <td>0.1600</td>\n",
       "      <td>16.65</td>\n",
       "      <td>0</td>\n",
       "      <td>Red</td>\n",
       "    </tr>\n",
       "    <tr>\n",
       "      <th>4</th>\n",
       "      <td>4</td>\n",
       "      <td>4</td>\n",
       "      <td>1939</td>\n",
       "      <td>0.000138</td>\n",
       "      <td>0.1030</td>\n",
       "      <td>20.06</td>\n",
       "      <td>0</td>\n",
       "      <td>Red</td>\n",
       "    </tr>\n",
       "    <tr>\n",
       "      <th>...</th>\n",
       "      <td>...</td>\n",
       "      <td>...</td>\n",
       "      <td>...</td>\n",
       "      <td>...</td>\n",
       "      <td>...</td>\n",
       "      <td>...</td>\n",
       "      <td>...</td>\n",
       "      <td>...</td>\n",
       "    </tr>\n",
       "    <tr>\n",
       "      <th>235</th>\n",
       "      <td>235</td>\n",
       "      <td>235</td>\n",
       "      <td>38940</td>\n",
       "      <td>374830.000000</td>\n",
       "      <td>1356.0000</td>\n",
       "      <td>-9.93</td>\n",
       "      <td>5</td>\n",
       "      <td>Blue</td>\n",
       "    </tr>\n",
       "    <tr>\n",
       "      <th>236</th>\n",
       "      <td>236</td>\n",
       "      <td>236</td>\n",
       "      <td>30839</td>\n",
       "      <td>834042.000000</td>\n",
       "      <td>1194.0000</td>\n",
       "      <td>-10.63</td>\n",
       "      <td>5</td>\n",
       "      <td>Blue</td>\n",
       "    </tr>\n",
       "    <tr>\n",
       "      <th>237</th>\n",
       "      <td>237</td>\n",
       "      <td>237</td>\n",
       "      <td>8829</td>\n",
       "      <td>537493.000000</td>\n",
       "      <td>1423.0000</td>\n",
       "      <td>-10.73</td>\n",
       "      <td>5</td>\n",
       "      <td>White</td>\n",
       "    </tr>\n",
       "    <tr>\n",
       "      <th>238</th>\n",
       "      <td>238</td>\n",
       "      <td>238</td>\n",
       "      <td>9235</td>\n",
       "      <td>404940.000000</td>\n",
       "      <td>1112.0000</td>\n",
       "      <td>-11.23</td>\n",
       "      <td>5</td>\n",
       "      <td>White</td>\n",
       "    </tr>\n",
       "    <tr>\n",
       "      <th>239</th>\n",
       "      <td>239</td>\n",
       "      <td>239</td>\n",
       "      <td>37882</td>\n",
       "      <td>294903.000000</td>\n",
       "      <td>1783.0000</td>\n",
       "      <td>-7.80</td>\n",
       "      <td>5</td>\n",
       "      <td>Blue</td>\n",
       "    </tr>\n",
       "  </tbody>\n",
       "</table>\n",
       "<p>240 rows × 8 columns</p>\n",
       "</div>"
      ],
      "text/plain": [
       "     Unnamed: 0.1  Unnamed: 0  Temperature (K)  Luminosity(L/Lo)  \\\n",
       "0               0           0             3068          0.002400   \n",
       "1               1           1             3042          0.000500   \n",
       "2               2           2             2600          0.000300   \n",
       "3               3           3             2800          0.000200   \n",
       "4               4           4             1939          0.000138   \n",
       "..            ...         ...              ...               ...   \n",
       "235           235         235            38940     374830.000000   \n",
       "236           236         236            30839     834042.000000   \n",
       "237           237         237             8829     537493.000000   \n",
       "238           238         238             9235     404940.000000   \n",
       "239           239         239            37882     294903.000000   \n",
       "\n",
       "     Radius(R/Ro)  Absolute magnitude(Mv)  Star type Star color  \n",
       "0          0.1700                   16.12          0        Red  \n",
       "1          0.1542                   16.60          0        Red  \n",
       "2          0.1020                   18.70          0        Red  \n",
       "3          0.1600                   16.65          0        Red  \n",
       "4          0.1030                   20.06          0        Red  \n",
       "..            ...                     ...        ...        ...  \n",
       "235     1356.0000                   -9.93          5       Blue  \n",
       "236     1194.0000                  -10.63          5       Blue  \n",
       "237     1423.0000                  -10.73          5      White  \n",
       "238     1112.0000                  -11.23          5      White  \n",
       "239     1783.0000                   -7.80          5       Blue  \n",
       "\n",
       "[240 rows x 8 columns]"
      ]
     },
     "execution_count": 5,
     "metadata": {},
     "output_type": "execute_result"
    }
   ],
   "source": [
    "df"
   ]
  },
  {
   "cell_type": "code",
   "execution_count": 6,
   "id": "71956b8d",
   "metadata": {},
   "outputs": [
    {
     "name": "stdout",
     "output_type": "stream",
     "text": [
      "<class 'pandas.core.frame.DataFrame'>\n",
      "RangeIndex: 240 entries, 0 to 239\n",
      "Data columns (total 8 columns):\n",
      " #   Column                  Non-Null Count  Dtype  \n",
      "---  ------                  --------------  -----  \n",
      " 0   Unnamed: 0.1            240 non-null    int64  \n",
      " 1   Unnamed: 0              240 non-null    int64  \n",
      " 2   Temperature (K)         240 non-null    int64  \n",
      " 3   Luminosity(L/Lo)        240 non-null    float64\n",
      " 4   Radius(R/Ro)            240 non-null    float64\n",
      " 5   Absolute magnitude(Mv)  240 non-null    float64\n",
      " 6   Star type               240 non-null    int64  \n",
      " 7   Star color              240 non-null    object \n",
      "dtypes: float64(3), int64(4), object(1)\n",
      "memory usage: 15.1+ KB\n"
     ]
    }
   ],
   "source": [
    "df.info()"
   ]
  },
  {
   "cell_type": "markdown",
   "id": "71c27141",
   "metadata": {},
   "source": [
    "Без пропусков - это прекрасно. Непонятная первая колонка - без названия, целочисленная."
   ]
  },
  {
   "cell_type": "code",
   "execution_count": 7,
   "id": "8207781b",
   "metadata": {},
   "outputs": [
    {
     "data": {
      "text/html": [
       "<div>\n",
       "<style scoped>\n",
       "    .dataframe tbody tr th:only-of-type {\n",
       "        vertical-align: middle;\n",
       "    }\n",
       "\n",
       "    .dataframe tbody tr th {\n",
       "        vertical-align: top;\n",
       "    }\n",
       "\n",
       "    .dataframe thead th {\n",
       "        text-align: right;\n",
       "    }\n",
       "</style>\n",
       "<table border=\"1\" class=\"dataframe\">\n",
       "  <thead>\n",
       "    <tr style=\"text-align: right;\">\n",
       "      <th></th>\n",
       "      <th>Unnamed: 0.1</th>\n",
       "      <th>Unnamed: 0</th>\n",
       "      <th>Temperature (K)</th>\n",
       "      <th>Luminosity(L/Lo)</th>\n",
       "      <th>Radius(R/Ro)</th>\n",
       "      <th>Absolute magnitude(Mv)</th>\n",
       "      <th>Star type</th>\n",
       "      <th>Star color</th>\n",
       "    </tr>\n",
       "  </thead>\n",
       "  <tbody>\n",
       "    <tr>\n",
       "      <th>232</th>\n",
       "      <td>232</td>\n",
       "      <td>232</td>\n",
       "      <td>32489</td>\n",
       "      <td>648430.00000</td>\n",
       "      <td>1948.50</td>\n",
       "      <td>-10.840</td>\n",
       "      <td>5</td>\n",
       "      <td>Blue</td>\n",
       "    </tr>\n",
       "    <tr>\n",
       "      <th>30</th>\n",
       "      <td>30</td>\n",
       "      <td>30</td>\n",
       "      <td>39000</td>\n",
       "      <td>204000.00000</td>\n",
       "      <td>10.60</td>\n",
       "      <td>-4.700</td>\n",
       "      <td>3</td>\n",
       "      <td>Blue</td>\n",
       "    </tr>\n",
       "    <tr>\n",
       "      <th>216</th>\n",
       "      <td>216</td>\n",
       "      <td>216</td>\n",
       "      <td>9320</td>\n",
       "      <td>29.00000</td>\n",
       "      <td>1.91</td>\n",
       "      <td>1.236</td>\n",
       "      <td>3</td>\n",
       "      <td>Blue-white</td>\n",
       "    </tr>\n",
       "    <tr>\n",
       "      <th>52</th>\n",
       "      <td>52</td>\n",
       "      <td>52</td>\n",
       "      <td>3834</td>\n",
       "      <td>272000.00000</td>\n",
       "      <td>1183.00</td>\n",
       "      <td>-9.200</td>\n",
       "      <td>5</td>\n",
       "      <td>Red</td>\n",
       "    </tr>\n",
       "    <tr>\n",
       "      <th>94</th>\n",
       "      <td>94</td>\n",
       "      <td>94</td>\n",
       "      <td>9030</td>\n",
       "      <td>45.00000</td>\n",
       "      <td>2.63</td>\n",
       "      <td>1.450</td>\n",
       "      <td>3</td>\n",
       "      <td>Blue-white</td>\n",
       "    </tr>\n",
       "    <tr>\n",
       "      <th>122</th>\n",
       "      <td>122</td>\n",
       "      <td>122</td>\n",
       "      <td>3218</td>\n",
       "      <td>0.00054</td>\n",
       "      <td>0.11</td>\n",
       "      <td>20.020</td>\n",
       "      <td>0</td>\n",
       "      <td>Red</td>\n",
       "    </tr>\n",
       "    <tr>\n",
       "      <th>213</th>\n",
       "      <td>213</td>\n",
       "      <td>213</td>\n",
       "      <td>22012</td>\n",
       "      <td>6748.00000</td>\n",
       "      <td>6.64</td>\n",
       "      <td>-2.550</td>\n",
       "      <td>3</td>\n",
       "      <td>Blue-white</td>\n",
       "    </tr>\n",
       "    <tr>\n",
       "      <th>95</th>\n",
       "      <td>95</td>\n",
       "      <td>95</td>\n",
       "      <td>11250</td>\n",
       "      <td>672.00000</td>\n",
       "      <td>6.98</td>\n",
       "      <td>-2.300</td>\n",
       "      <td>3</td>\n",
       "      <td>Blue-white</td>\n",
       "    </tr>\n",
       "  </tbody>\n",
       "</table>\n",
       "</div>"
      ],
      "text/plain": [
       "     Unnamed: 0.1  Unnamed: 0  Temperature (K)  Luminosity(L/Lo)  \\\n",
       "232           232         232            32489      648430.00000   \n",
       "30             30          30            39000      204000.00000   \n",
       "216           216         216             9320          29.00000   \n",
       "52             52          52             3834      272000.00000   \n",
       "94             94          94             9030          45.00000   \n",
       "122           122         122             3218           0.00054   \n",
       "213           213         213            22012        6748.00000   \n",
       "95             95          95            11250         672.00000   \n",
       "\n",
       "     Radius(R/Ro)  Absolute magnitude(Mv)  Star type  Star color  \n",
       "232       1948.50                 -10.840          5        Blue  \n",
       "30          10.60                  -4.700          3        Blue  \n",
       "216          1.91                   1.236          3  Blue-white  \n",
       "52        1183.00                  -9.200          5         Red  \n",
       "94           2.63                   1.450          3  Blue-white  \n",
       "122          0.11                  20.020          0         Red  \n",
       "213          6.64                  -2.550          3  Blue-white  \n",
       "95           6.98                  -2.300          3  Blue-white  "
      ]
     },
     "execution_count": 7,
     "metadata": {},
     "output_type": "execute_result"
    }
   ],
   "source": [
    "df.sample(8)"
   ]
  },
  {
   "cell_type": "markdown",
   "id": "93b348a6",
   "metadata": {},
   "source": [
    "Первая колонка - это индекс, удалю. В последней вижу необходимость приведения слов к одинаковому написанию."
   ]
  },
  {
   "cell_type": "code",
   "execution_count": 8,
   "id": "6a4aa0f0",
   "metadata": {
    "scrolled": true
   },
   "outputs": [],
   "source": [
    "#df = df.drop('Unnamed: 0', axis=1)\n",
    "\n",
    "df = df.drop(['Unnamed: 0','Unnamed: 0.1'], axis=1)"
   ]
  },
  {
   "cell_type": "code",
   "execution_count": 9,
   "id": "501836e2",
   "metadata": {},
   "outputs": [
    {
     "data": {
      "text/html": [
       "<div>\n",
       "<style scoped>\n",
       "    .dataframe tbody tr th:only-of-type {\n",
       "        vertical-align: middle;\n",
       "    }\n",
       "\n",
       "    .dataframe tbody tr th {\n",
       "        vertical-align: top;\n",
       "    }\n",
       "\n",
       "    .dataframe thead th {\n",
       "        text-align: right;\n",
       "    }\n",
       "</style>\n",
       "<table border=\"1\" class=\"dataframe\">\n",
       "  <thead>\n",
       "    <tr style=\"text-align: right;\">\n",
       "      <th></th>\n",
       "      <th>Temperature (K)</th>\n",
       "      <th>Luminosity(L/Lo)</th>\n",
       "      <th>Radius(R/Ro)</th>\n",
       "      <th>Absolute magnitude(Mv)</th>\n",
       "      <th>Star type</th>\n",
       "    </tr>\n",
       "  </thead>\n",
       "  <tbody>\n",
       "    <tr>\n",
       "      <th>count</th>\n",
       "      <td>240.000000</td>\n",
       "      <td>240.000000</td>\n",
       "      <td>240.000000</td>\n",
       "      <td>240.000000</td>\n",
       "      <td>240.000000</td>\n",
       "    </tr>\n",
       "    <tr>\n",
       "      <th>mean</th>\n",
       "      <td>10497.462500</td>\n",
       "      <td>107188.361635</td>\n",
       "      <td>237.157781</td>\n",
       "      <td>4.382396</td>\n",
       "      <td>2.500000</td>\n",
       "    </tr>\n",
       "    <tr>\n",
       "      <th>std</th>\n",
       "      <td>9552.425037</td>\n",
       "      <td>179432.244940</td>\n",
       "      <td>517.155763</td>\n",
       "      <td>10.532512</td>\n",
       "      <td>1.711394</td>\n",
       "    </tr>\n",
       "    <tr>\n",
       "      <th>min</th>\n",
       "      <td>1939.000000</td>\n",
       "      <td>0.000080</td>\n",
       "      <td>0.008400</td>\n",
       "      <td>-11.920000</td>\n",
       "      <td>0.000000</td>\n",
       "    </tr>\n",
       "    <tr>\n",
       "      <th>25%</th>\n",
       "      <td>3344.250000</td>\n",
       "      <td>0.000865</td>\n",
       "      <td>0.102750</td>\n",
       "      <td>-6.232500</td>\n",
       "      <td>1.000000</td>\n",
       "    </tr>\n",
       "    <tr>\n",
       "      <th>50%</th>\n",
       "      <td>5776.000000</td>\n",
       "      <td>0.070500</td>\n",
       "      <td>0.762500</td>\n",
       "      <td>8.313000</td>\n",
       "      <td>2.500000</td>\n",
       "    </tr>\n",
       "    <tr>\n",
       "      <th>75%</th>\n",
       "      <td>15055.500000</td>\n",
       "      <td>198050.000000</td>\n",
       "      <td>42.750000</td>\n",
       "      <td>13.697500</td>\n",
       "      <td>4.000000</td>\n",
       "    </tr>\n",
       "    <tr>\n",
       "      <th>max</th>\n",
       "      <td>40000.000000</td>\n",
       "      <td>849420.000000</td>\n",
       "      <td>1948.500000</td>\n",
       "      <td>20.060000</td>\n",
       "      <td>5.000000</td>\n",
       "    </tr>\n",
       "  </tbody>\n",
       "</table>\n",
       "</div>"
      ],
      "text/plain": [
       "       Temperature (K)  Luminosity(L/Lo)  Radius(R/Ro)  \\\n",
       "count       240.000000        240.000000    240.000000   \n",
       "mean      10497.462500     107188.361635    237.157781   \n",
       "std        9552.425037     179432.244940    517.155763   \n",
       "min        1939.000000          0.000080      0.008400   \n",
       "25%        3344.250000          0.000865      0.102750   \n",
       "50%        5776.000000          0.070500      0.762500   \n",
       "75%       15055.500000     198050.000000     42.750000   \n",
       "max       40000.000000     849420.000000   1948.500000   \n",
       "\n",
       "       Absolute magnitude(Mv)   Star type  \n",
       "count              240.000000  240.000000  \n",
       "mean                 4.382396    2.500000  \n",
       "std                 10.532512    1.711394  \n",
       "min                -11.920000    0.000000  \n",
       "25%                 -6.232500    1.000000  \n",
       "50%                  8.313000    2.500000  \n",
       "75%                 13.697500    4.000000  \n",
       "max                 20.060000    5.000000  "
      ]
     },
     "execution_count": 9,
     "metadata": {},
     "output_type": "execute_result"
    }
   ],
   "source": [
    "df.describe()"
   ]
  },
  {
   "cell_type": "markdown",
   "id": "5ee1293e",
   "metadata": {},
   "source": [
    "В этих данных категории в колонке 'Star type' и 'Star color'. Со 'Star type' будет коррелировать абсолютно всё, потому что типы как раз выделяются за счёт группировки объектов в кластеры, так можно сказать. И у каждого кластера определённые параметры.\n",
    "\n",
    "Рассмотрим значения цветов. Вызывают сомнения 'yellowish' и сложные цвета. Оказывается, \"желтоватый\" вполне нормальный термин, а \"Blue-white\" и \"Blue white\" не одинаковые цвета в таблицах классификации (можно ознакомиться, например, здесь => https://kosmosgid.ru/zvyozdy/klassi-zvezd). Однако, у конкретной звезды должен быть один цвет, поэтому считаю уместным в двойных словах ставить тире. Нам дано, что этот параметр определён по спектру, а не по таблице классификации, поэтому должен быть однозначным. \n",
    "\n",
    "Также, для возможности применить стратификацию в дальнейшем, я решила все оранжевые звёзды сделать просто оранжевыми. И вообще избавиться от суффиксов, потому что при попытке раздобыть дополнительные данные столкнулась с тем, что в доступных местах не делят эти оттенки на беловатые и желтоватые, используют простые термины."
   ]
  },
  {
   "cell_type": "code",
   "execution_count": null,
   "id": "54392279-a0e3-403a-86ea-b9628ca8ea40",
   "metadata": {},
   "outputs": [],
   "source": []
  },
  {
   "cell_type": "code",
   "execution_count": 10,
   "id": "2c263ec3",
   "metadata": {},
   "outputs": [
    {
     "data": {
      "text/plain": [
       "array(['Red', 'Blue White', 'White', 'Yellowish White', 'Blue white',\n",
       "       'Pale yellow orange', 'Blue', 'Blue-white', 'Whitish',\n",
       "       'yellow-white', 'Orange', 'White-Yellow', 'white', 'yellowish',\n",
       "       'Yellowish', 'Orange-Red', 'Blue-White'], dtype=object)"
      ]
     },
     "execution_count": 10,
     "metadata": {},
     "output_type": "execute_result"
    }
   ],
   "source": [
    "df['Star color'].unique()"
   ]
  },
  {
   "cell_type": "code",
   "execution_count": 11,
   "id": "c12facaa",
   "metadata": {},
   "outputs": [
    {
     "data": {
      "text/plain": [
       "array(['red', 'blue-white', 'white', 'yellow-white', 'orange', 'blue',\n",
       "       'yellow'], dtype=object)"
      ]
     },
     "execution_count": 11,
     "metadata": {},
     "output_type": "execute_result"
    }
   ],
   "source": [
    "star_color = {\n",
    "'Red':'red', \n",
    "'Blue White':'blue-white', \n",
    "'White':'white', \n",
    "'Yellowish White':'yellow-white', \n",
    "'Blue white':'blue-white',\n",
    "'Pale yellow orange':'orange', \n",
    "'Blue':'blue', \n",
    "'Blue-white':'blue-white', \n",
    "'Whitish':'white',\n",
    "'yellow-white':'yellow-white', \n",
    "'Orange':'orange', \n",
    "'White-Yellow':'yellow-white', \n",
    "'Blue ':'blue',\n",
    "'Yellowish':'yellow', \n",
    "'yellowish':'yellow',\n",
    "'Orange-Red':'orange', \n",
    "'Blue white ':'blue-white',\n",
    "'Blue-White':'blue-white' }  \n",
    "df['Star color'] = df['Star color'].replace(star_color)\n",
    "df['Star color'].unique()"
   ]
  },
  {
   "cell_type": "code",
   "execution_count": 12,
   "id": "e1b98f57",
   "metadata": {},
   "outputs": [
    {
     "data": {
      "text/html": [
       "<div>\n",
       "<style scoped>\n",
       "    .dataframe tbody tr th:only-of-type {\n",
       "        vertical-align: middle;\n",
       "    }\n",
       "\n",
       "    .dataframe tbody tr th {\n",
       "        vertical-align: top;\n",
       "    }\n",
       "\n",
       "    .dataframe thead tr th {\n",
       "        text-align: left;\n",
       "    }\n",
       "\n",
       "    .dataframe thead tr:last-of-type th {\n",
       "        text-align: right;\n",
       "    }\n",
       "</style>\n",
       "<table border=\"1\" class=\"dataframe\">\n",
       "  <thead>\n",
       "    <tr>\n",
       "      <th></th>\n",
       "      <th colspan=\"3\" halign=\"left\">Temperature (K)</th>\n",
       "    </tr>\n",
       "    <tr>\n",
       "      <th></th>\n",
       "      <th>min</th>\n",
       "      <th>max</th>\n",
       "      <th>count</th>\n",
       "    </tr>\n",
       "    <tr>\n",
       "      <th>Star color</th>\n",
       "      <th></th>\n",
       "      <th></th>\n",
       "      <th></th>\n",
       "    </tr>\n",
       "  </thead>\n",
       "  <tbody>\n",
       "    <tr>\n",
       "      <th>blue</th>\n",
       "      <td>5752</td>\n",
       "      <td>40000</td>\n",
       "      <td>56</td>\n",
       "    </tr>\n",
       "    <tr>\n",
       "      <th>blue-white</th>\n",
       "      <td>8570</td>\n",
       "      <td>30000</td>\n",
       "      <td>41</td>\n",
       "    </tr>\n",
       "    <tr>\n",
       "      <th>orange</th>\n",
       "      <td>3749</td>\n",
       "      <td>7230</td>\n",
       "      <td>4</td>\n",
       "    </tr>\n",
       "    <tr>\n",
       "      <th>red</th>\n",
       "      <td>1939</td>\n",
       "      <td>6850</td>\n",
       "      <td>112</td>\n",
       "    </tr>\n",
       "    <tr>\n",
       "      <th>white</th>\n",
       "      <td>7220</td>\n",
       "      <td>14732</td>\n",
       "      <td>12</td>\n",
       "    </tr>\n",
       "    <tr>\n",
       "      <th>yellow</th>\n",
       "      <td>4077</td>\n",
       "      <td>4980</td>\n",
       "      <td>3</td>\n",
       "    </tr>\n",
       "    <tr>\n",
       "      <th>yellow-white</th>\n",
       "      <td>5300</td>\n",
       "      <td>12990</td>\n",
       "      <td>12</td>\n",
       "    </tr>\n",
       "  </tbody>\n",
       "</table>\n",
       "</div>"
      ],
      "text/plain": [
       "             Temperature (K)             \n",
       "                         min    max count\n",
       "Star color                               \n",
       "blue                    5752  40000    56\n",
       "blue-white              8570  30000    41\n",
       "orange                  3749   7230     4\n",
       "red                     1939   6850   112\n",
       "white                   7220  14732    12\n",
       "yellow                  4077   4980     3\n",
       "yellow-white            5300  12990    12"
      ]
     },
     "execution_count": 12,
     "metadata": {},
     "output_type": "execute_result"
    }
   ],
   "source": [
    "df.groupby('Star color').agg({'Temperature (K)':['min','max','count']})"
   ]
  },
  {
   "cell_type": "code",
   "execution_count": 13,
   "id": "b726b33b",
   "metadata": {},
   "outputs": [
    {
     "data": {
      "text/plain": [
       "0"
      ]
     },
     "execution_count": 13,
     "metadata": {},
     "output_type": "execute_result"
    }
   ],
   "source": [
    "df.duplicated().sum()"
   ]
  },
  {
   "cell_type": "markdown",
   "id": "7aeb5f23",
   "metadata": {},
   "source": [
    "Дубли отсутствуют."
   ]
  },
  {
   "cell_type": "code",
   "execution_count": 14,
   "id": "a5fa36fa",
   "metadata": {},
   "outputs": [
    {
     "data": {
      "image/png": "[encoded data removed]",
      "text/plain": [
       "<Figure size 1075.24x1000 with 20 Axes>"
      ]
     },
     "metadata": {},
     "output_type": "display_data"
    }
   ],
   "source": [
    "sns.pairplot(df, hue='Star type');"
   ]
  },
  {
   "cell_type": "markdown",
   "id": "ddd5cb29",
   "metadata": {},
   "source": [
    "Между абсолютными температурой и звёздной величиной вырисовывается известная зависимость Герцшпрунга-Рассела(спектр/светимость) с главной последовательностью и областями гигантов и молодых звёзд. \n",
    "Радиус нам показывает, что в большинстве звёзды сравнимы с нашим Солнцем и только гипергиганты занимают большую площадь графиков (имеют сильный разброс значений радиуса). \n",
    "Также гипергиганты и сверхгиганты имеют отрицательную абсолютную звёздную величину и группируются в левой части графика.\n",
    "В светимости тоже видим разброс значений для сверхгигантов и гипергигантов, но также и звёзды главной последовательности при высоких температурах могут демонстрировать разнообразие значений светимости.\n",
    "Скорее всего, большие звёзды надо рассматривать отдельно."
   ]
  },
  {
   "cell_type": "code",
   "execution_count": 15,
   "id": "a8899a90",
   "metadata": {},
   "outputs": [],
   "source": [
    "columns = df.columns\n"
   ]
  },
  {
   "cell_type": "code",
   "execution_count": 16,
   "id": "fdeaddf4",
   "metadata": {},
   "outputs": [
    {
     "data": {
      "image/png": "[encoded data removed]",
      "text/plain": [
       "<Figure size 1000x600 with 2 Axes>"
      ]
     },
     "metadata": {},
     "output_type": "display_data"
    },
    {
     "data": {
      "image/png": "[encoded data removed]",
      "text/plain": [
       "<Figure size 1000x600 with 2 Axes>"
      ]
     },
     "metadata": {},
     "output_type": "display_data"
    },
    {
     "data": {
      "image/png": "[encoded data removed]",
      "text/plain": [
       "<Figure size 1000x600 with 2 Axes>"
      ]
     },
     "metadata": {},
     "output_type": "display_data"
    },
    {
     "data": {
      "image/png": "[encoded data removed]",
      "text/plain": [
       "<Figure size 1000x600 with 2 Axes>"
      ]
     },
     "metadata": {},
     "output_type": "display_data"
    }
   ],
   "source": [
    "for i in columns[1:-1]:\n",
    "    fig, (ax_hist, ax_box) = plt.subplots(2, sharex=True, gridspec_kw={\"height_ratios\": (.8, .2)}, figsize=(10, 6))\n",
    "\n",
    "    sns.histplot(x=df[i], ax=ax_hist, color='palevioletred')\n",
    "    sns.boxplot(x=df[i], ax=ax_box, color='palevioletred')\n",
    "\n",
    "    ax_box.set(xlabel=i)\n",
    "    ax_hist.set(ylabel='Count')\n",
    "    ax_hist.set(title=i+' distribution')\n",
    "    plt.show()\n",
    "\n",
    "\n",
    "  "
   ]
  },
  {
   "cell_type": "markdown",
   "id": "d80d1912",
   "metadata": {},
   "source": [
    "Все типы представлены равным количеством звёзд, и при этом их характеристики разнообразны.\n",
    "Светимость в основном низкая с небольшим всплеском в первой четверти, радиус маленький, с промежутком между гигантами и остальными, а звёздная величина имеет два максимума.\n",
    "\n",
    "Поскольку у мня никак не получается выстроить модель нужного качества на всём объёме данных, я решила выделить сет со сверхгигантами из обучающей выборки. Возможно, надо и впредь делить звёзды по размеру, чтоб лучше понимать их физику и адекватней предсказывать параметры.."
   ]
  },
  {
   "cell_type": "markdown",
   "id": "cf9f1d60",
   "metadata": {},
   "source": [
    "Рассмотрим целевой признак."
   ]
  },
  {
   "cell_type": "code",
   "execution_count": 17,
   "id": "8263a22b",
   "metadata": {},
   "outputs": [
    {
     "data": {
      "image/png": "[encoded data removed]",
      "text/plain": [
       "<Figure size 1000x600 with 2 Axes>"
      ]
     },
     "metadata": {},
     "output_type": "display_data"
    }
   ],
   "source": [
    "\n",
    "fig, (ax_hist, ax_box) = plt.subplots(2, sharex=True, gridspec_kw={\"height_ratios\": (.8, .2)}, figsize=(10, 6))\n",
    "\n",
    "sns.histplot(x=df['Temperature (K)'], ax=ax_hist, color='palevioletred')\n",
    "sns.boxplot(x=df['Temperature (K)'], ax=ax_box, color='palevioletred')\n",
    "\n",
    "ax_box.set(xlabel='Temperature (K)')\n",
    "ax_hist.set(ylabel='Count')\n",
    "ax_hist.set(title='Temperature distribution')\n",
    "plt.show()"
   ]
  },
  {
   "cell_type": "markdown",
   "id": "fe192837",
   "metadata": {},
   "source": [
    "Основная масса звёзд приходится на низкие температуры и медленное горение, что примерно соответствует ситуации в общем (http://www.astronet.ru/db/msg/1177040/chapter7_05.html - до 90% звёзд относятся к нормальным) . Особенные звёзды не будем отбрасывать - данных мало, и такие объекты действительно обнаружены.\n",
    "\n",
    "Посмотрим, что показывает матрица корреляций."
   ]
  },
  {
   "cell_type": "code",
   "execution_count": 18,
   "id": "c02c951d",
   "metadata": {},
   "outputs": [
    {
     "data": {
      "text/plain": [
       "<Axes: >"
      ]
     },
     "execution_count": 18,
     "metadata": {},
     "output_type": "execute_result"
    },
    {
     "data": {
      "image/png": "[encoded data removed]",
      "text/plain": [
       "<Figure size 800x400 with 2 Axes>"
      ]
     },
     "metadata": {},
     "output_type": "display_data"
    }
   ],
   "source": [
    "correlation_matrix = df.corr(numeric_only=True)#numeric_only=True\n",
    "\n",
    "plt.figure(figsize= (8, 4))\n",
    "sns.heatmap(correlation_matrix, annot = True)"
   ]
  },
  {
   "cell_type": "markdown",
   "id": "0f9318d3",
   "metadata": {},
   "source": [
    "Температура напрямую коррелирует со светимостью и типом звезды, и обратно коррелирует с абсолютной звёздной величиной.\n",
    "\n",
    "Абсолютная звёздная величина показывает обратную зависимость от всех признаков, особенно сильно связана с типом звезды, и это действительно так."
   ]
  },
  {
   "cell_type": "markdown",
   "id": "6e75c3b7",
   "metadata": {},
   "source": [
    "Надо перевести значения колонки 'Star type' в строки, иначе дальше не хочет кодировщик обрабатывать числа как категории."
   ]
  },
  {
   "cell_type": "code",
   "execution_count": 19,
   "id": "bca97a8b",
   "metadata": {},
   "outputs": [],
   "source": [
    "df['Star type'] = df['Star type'].astype('str')"
   ]
  },
  {
   "cell_type": "code",
   "execution_count": 20,
   "id": "5b13c33c",
   "metadata": {},
   "outputs": [
    {
     "name": "stdout",
     "output_type": "stream",
     "text": [
      "<class 'pandas.core.frame.DataFrame'>\n",
      "RangeIndex: 240 entries, 0 to 239\n",
      "Data columns (total 6 columns):\n",
      " #   Column                  Non-Null Count  Dtype  \n",
      "---  ------                  --------------  -----  \n",
      " 0   Temperature (K)         240 non-null    int64  \n",
      " 1   Luminosity(L/Lo)        240 non-null    float64\n",
      " 2   Radius(R/Ro)            240 non-null    float64\n",
      " 3   Absolute magnitude(Mv)  240 non-null    float64\n",
      " 4   Star type               240 non-null    object \n",
      " 5   Star color              240 non-null    object \n",
      "dtypes: float64(3), int64(1), object(2)\n",
      "memory usage: 11.4+ KB\n"
     ]
    }
   ],
   "source": [
    "df.info()"
   ]
  },
  {
   "cell_type": "markdown",
   "id": "8c29b4a7",
   "metadata": {},
   "source": [
    "<div class=\"alert alert-success\">\n",
    "<h4>✔️ Комментарий ревьюера</h4>\n",
    "Хороший, подробный анализ данных. Наглядно показано, с чем идет работа в проекте. Отлично, что были замечены и исправлены неявные дубликаты в цветах звезд - они могли негативно повлиять на будущую модель.\n",
    "    \n",
    "Возможно, отделение сверхгигантов несколько излишне, так как разбивает и так маленький датасет на части.\n",
    "</div>"
   ]
  },
  {
   "cell_type": "markdown",
   "id": "bb0b49cc",
   "metadata": {},
   "source": [
    "Теперь нужно разделить данные на таргет и фичи, на обучающую, тестовую и валидационную выборки.\n",
    "\n",
    "Отделяю 30 процентов на тест и валидацию, остальное оставляю сети на обучение."
   ]
  },
  {
   "cell_type": "code",
   "execution_count": 21,
   "id": "51007279",
   "metadata": {},
   "outputs": [],
   "source": [
    "X = df.drop('Temperature (K)', axis=1)\n",
    "y = df['Temperature (K)']\n",
    "X_train, X_test, y_train, y_test = train_test_split(X, y, train_size=0.8, random_state=RANDOM_STATE, shuffle=True,\n",
    "                                                   stratify=df['Star color'])\n"
   ]
  },
  {
   "cell_type": "code",
   "execution_count": 22,
   "id": "73ec9c4c",
   "metadata": {},
   "outputs": [
    {
     "name": "stdout",
     "output_type": "stream",
     "text": [
      "Тренировочных признаков 80% от общей выборки.\n",
      "Тренировочных целей 80% от общей выборки.\n",
      "Тестовых признаков 20% от общей выборки.\n",
      "Тестовых целей 20% от общей выборки.\n"
     ]
    }
   ],
   "source": [
    "what_words = ['Тренировочных признаков','Тренировочных целей', 'Тестовых признаков', \n",
    "        'Тестовых целей']\n",
    "what_arrs = [y_train, X_train, y_test, X_test]\n",
    "\n",
    "for i in range(len(what_words)):\n",
    "    print(f'{what_words[i]} {what_arrs[i].shape[0]*100/df.shape[0]:.0f}% от общей выборки.')"
   ]
  },
  {
   "cell_type": "markdown",
   "id": "7c7a3b1a",
   "metadata": {},
   "source": [
    "<div class=\"alert alert-warning\">\n",
    "<h4>⚠️ Комментарий ревьюера</h4>\n",
    "Разделять выборки на три части для проведения отдельного теста и валидации - это хорошая практика. Однако в данном проекте размер общей выборки очень мал. В таких случаях можно разделять данные только на обучающую и тестовую выборку.\n",
    "</div> "
   ]
  },
  {
   "cell_type": "markdown",
   "id": "57defbd5",
   "metadata": {},
   "source": [
    "<div class=\"alert alert-block alert-info\">\n",
    "<b>Комментарий студента:</b> Оставила две.\n",
    "</div>"
   ]
  },
  {
   "cell_type": "markdown",
   "id": "d8e4d65d",
   "metadata": {},
   "source": [
    "<div class=\"alert alert-success\">\n",
    "<h4>✔️ Комментарий ревьюера v2</h4>\n",
    "👍\n",
    "</div>"
   ]
  },
  {
   "cell_type": "markdown",
   "id": "9eccc547",
   "metadata": {},
   "source": [
    "Теперь нужно закодировать категориальные данные и масштабировать численные."
   ]
  },
  {
   "cell_type": "code",
   "execution_count": 23,
   "id": "f9b9e387",
   "metadata": {},
   "outputs": [
    {
     "data": {
      "text/plain": [
       "Index(['Temperature (K)', 'Luminosity(L/Lo)', 'Radius(R/Ro)',\n",
       "       'Absolute magnitude(Mv)', 'Star type', 'Star color'],\n",
       "      dtype='object')"
      ]
     },
     "execution_count": 23,
     "metadata": {},
     "output_type": "execute_result"
    }
   ],
   "source": [
    "columns\n"
   ]
  },
  {
   "cell_type": "code",
   "execution_count": 24,
   "id": "4319cbdd",
   "metadata": {},
   "outputs": [],
   "source": [
    "numcol = ['Luminosity(L/Lo)', 'Radius(R/Ro)',\n",
    "       'Absolute magnitude(Mv)']\n",
    "catcol = ['Star type', 'Star color']"
   ]
  },
  {
   "cell_type": "markdown",
   "id": "c155671d",
   "metadata": {},
   "source": [
    "OHE для категорий, StandartScaler для чисел."
   ]
  },
  {
   "cell_type": "code",
   "execution_count": 25,
   "id": "4659c74e",
   "metadata": {},
   "outputs": [],
   "source": [
    "ohe = OneHotEncoder(sparse=False, drop = 'first', handle_unknown = 'error')"
   ]
  },
  {
   "cell_type": "code",
   "execution_count": 26,
   "id": "3307ea13",
   "metadata": {},
   "outputs": [],
   "source": [
    "ohe = ohe.fit(df[catcol])"
   ]
  },
  {
   "cell_type": "code",
   "execution_count": 27,
   "id": "a7e09068",
   "metadata": {},
   "outputs": [],
   "source": [
    "X_train_cat = pd.DataFrame(ohe.transform(X_train[catcol]))\n",
    "X_train_cat.columns = ohe.get_feature_names_out(catcol)  #_out\n",
    "X_train.drop(catcol, axis = 1, inplace = True)\n",
    "X_train_cat.index=X_train.index\n",
    "X_train = pd.concat([X_train, X_train_cat], axis = 1)"
   ]
  },
  {
   "cell_type": "code",
   "execution_count": 28,
   "id": "bf297ed5",
   "metadata": {},
   "outputs": [],
   "source": [
    "X_test_cat = pd.DataFrame(ohe.transform(X_test[catcol]))\n",
    "X_test_cat.columns = ohe.get_feature_names_out(catcol) #_out\n",
    "X_test.drop(catcol, axis = 1, inplace = True)\n",
    "X_test_cat.index=X_test.index\n",
    "X_test = pd.concat([X_test, X_test_cat], axis = 1)"
   ]
  },
  {
   "cell_type": "code",
   "execution_count": 29,
   "id": "b8d8b3f4",
   "metadata": {},
   "outputs": [],
   "source": [
    "scaler = StandardScaler()"
   ]
  },
  {
   "cell_type": "code",
   "execution_count": 30,
   "id": "b28b68ea",
   "metadata": {},
   "outputs": [],
   "source": [
    "X_train[numcol] = scaler.fit_transform(X_train[numcol])\n",
    "X_test[numcol] = scaler.transform(X_test[numcol])"
   ]
  },
  {
   "cell_type": "markdown",
   "id": "245f1349",
   "metadata": {},
   "source": [
    "Поскольку в нейронной сети используются тензоры, переведём данные в этот тип."
   ]
  },
  {
   "cell_type": "code",
   "execution_count": 31,
   "id": "2f3be56f",
   "metadata": {},
   "outputs": [],
   "source": [
    "X_train = torch.FloatTensor(X_train.values)\n",
    "X_train = X_train.to(device)\n",
    "\n",
    "y_train = torch.FloatTensor(y_train.values)\n",
    "y_train = y_train.to(device)\n",
    "\n",
    "X_test = torch.FloatTensor(X_test.values)\n",
    "X_test = X_test.to(device)\n",
    "\n",
    "y_test = torch.FloatTensor(y_test.values)\n",
    "y_test = y_test.to(device)\n"
   ]
  },
  {
   "cell_type": "code",
   "execution_count": 32,
   "id": "c445c27e",
   "metadata": {},
   "outputs": [
    {
     "data": {
      "text/plain": [
       "tensor([[ 0.9419,  2.5986, -1.2816,  ...,  0.0000,  0.0000,  0.0000],\n",
       "        [-0.6137, -0.4340, -0.5682,  ...,  0.0000,  0.0000,  0.0000],\n",
       "        [ 0.7626, -0.3783, -1.0838,  ...,  0.0000,  0.0000,  0.0000],\n",
       "        ...,\n",
       "        [-0.6203, -0.4484,  1.0486,  ...,  0.0000,  0.0000,  0.0000],\n",
       "        [ 0.5537, -0.4347, -0.8169,  ...,  0.0000,  0.0000,  0.0000],\n",
       "        [-0.6203, -0.4477,  0.6943,  ...,  0.0000,  0.0000,  0.0000]],\n",
       "       device='cuda:0')"
      ]
     },
     "execution_count": 32,
     "metadata": {},
     "output_type": "execute_result"
    }
   ],
   "source": [
    "X_train"
   ]
  },
  {
   "cell_type": "code",
   "execution_count": 33,
   "id": "441e9b42",
   "metadata": {},
   "outputs": [
    {
     "data": {
      "text/plain": [
       "tensor([ 3490., 15276.,  8927.,  3484.,  3134.,  3365., 30000., 28700.,  9320.,\n",
       "         2935.,  3323., 36108., 18340.,  8829., 10012.,  2800.,  3600.,  2856.,\n",
       "         7720., 19923.,  4287.,  8930., 17200., 22350.,  3780., 24630.,  5587.,\n",
       "         3463., 18000., 19400.,  7100.,  3610.,  3218.,  2835.,  2650., 13023.,\n",
       "         3146.,  3200.,  2600.,  3749.,  3341.,  3752., 15680., 12010., 14245.,\n",
       "        18290.,  3542., 24345.,  3523., 26373.,  3129.,  3158.,  3541.,  3095.,\n",
       "        21738.,  3324.,  4077., 12675., 18734.,  2989.,  3008.,  2994.,  8570.,\n",
       "         7740.,  3459., 14732.,  9700., 14100.,  3270.,  3598.,  3692.,  5936.,\n",
       "        19860.,  3535., 27739.,  3500., 38940., 23095., 14520., 13089., 34190.,\n",
       "         7723.,  3042.,  3834.,  3218.,  3419.,  8052., 12100., 11567.,  2861.,\n",
       "        11900.,  6757., 16390.,  3598.,  2983., 11790.,  3450.,  2914.,  3523.,\n",
       "         3826., 19360., 29560.,  9892.,  3342.,  7282.,  3399., 24020., 16500.,\n",
       "         2935.,  9373., 17383.,  2831.,  3660.,  3553., 40000., 24145.,  3570.,\n",
       "        33421., 22012.,  2840.,  3628.,  2778., 10574., 13340., 10930., 16787.,\n",
       "         2889.,  3257.,  8500.,  2621.,  8945., 24490., 23440., 12893., 17120.,\n",
       "         3345.,  3304.,  3432.,  2890., 12990.,  8250.,  6850., 25390.,  3615.,\n",
       "         2637.,  3607., 32460.,  2945.,  2968.,  3100.,  3068.,  5800., 11096.,\n",
       "        12098.,  3150., 13720.,  3091.,  3574., 33300., 13420.,  3750.,  3575.,\n",
       "         2799., 11250.,  3614., 11000.,  3550., 26140., 12749., 14982.,  9383.,\n",
       "         3212., 38234., 10980., 39000.,  5112.,  2817.,  3180.,  5752.,  4980.,\n",
       "         9030., 23000.,  3605.,  2871.,  3450.,  5300., 17140.,  3225.,  3511.,\n",
       "         8924., 37800.,  3441.], device='cuda:0')"
      ]
     },
     "execution_count": 33,
     "metadata": {},
     "output_type": "execute_result"
    }
   ],
   "source": [
    "y_train"
   ]
  },
  {
   "cell_type": "markdown",
   "id": "3f6450eb",
   "metadata": {},
   "source": [
    "Данные готовы, можно приступать к построению базовой сети."
   ]
  },
  {
   "cell_type": "markdown",
   "id": "b99b1e36",
   "metadata": {},
   "source": [
    "<div class=\"alert alert-success\">\n",
    "<h4>✔️ Комментарий ревьюера</h4>\n",
    "Предобработка данных проведена корректно. Такие данные можно подавать в нейросеть.\n",
    "</div>"
   ]
  },
  {
   "cell_type": "markdown",
   "id": "funded-electric",
   "metadata": {},
   "source": [
    "## Построение базовой нейронной сети"
   ]
  },
  {
   "cell_type": "code",
   "execution_count": 34,
   "id": "5fc0d773",
   "metadata": {},
   "outputs": [
    {
     "name": "stdout",
     "output_type": "stream",
     "text": [
      "Входящих нейронов (параметров) сети будет 14\n"
     ]
    }
   ],
   "source": [
    "print('Входящих нейронов (параметров) сети будет', X_train.shape[1])"
   ]
  },
  {
   "cell_type": "markdown",
   "id": "4fde1595-b1ec-4037-b516-94e6dde5ccf8",
   "metadata": {},
   "source": [
    "<div class=\"alert alert-block alert-info\">\n",
    "<b>Комментарий студента v2:</b> Я подумала и решила ограничиться перебором слоёв с количеством нейронов до 400.\n",
    "Может быть, так удастся рассмотреть более слоистые модели. \n",
    "    \n",
    "</div>"
   ]
  },
  {
   "cell_type": "code",
   "execution_count": 35,
   "id": "df2333c9",
   "metadata": {},
   "outputs": [],
   "source": [
    "n_in_neurons = X_train.shape[1]\n",
    "h1 = [20, 50, 100, 200, 300, 400]\n",
    "h2 = [20, 50, 100, 200, 300, 400]\n",
    "h3 = [20, 50, 100, 200, 300, 400]\n",
    "n_out_neurons = 1\n",
    "\n",
    "\n",
    "\n",
    "    "
   ]
  },
  {
   "cell_type": "markdown",
   "id": "ca67ea28",
   "metadata": {},
   "source": [
    "Создаю подкласс от класса nn.Module и задаю функции создания и работы сети.\n",
    "\n",
    "Подберём количество скрытых слоёв."
   ]
  },
  {
   "cell_type": "markdown",
   "id": "a9093266",
   "metadata": {},
   "source": [
    "<div class=\"alert alert-success\">\n",
    "<h4>✔️ Комментарий ревьюера</h4>\n",
    "Хорошо, что используется класс для построения архитектуры нейросети. Так будет легко вносить изменения или масштабировать сеть.\n",
    "</div>"
   ]
  },
  {
   "cell_type": "markdown",
   "id": "fdd3cb05",
   "metadata": {},
   "source": [
    "<div class=\"alert alert-warning\">\n",
    "<h4>⚠️ Комментарий ревьюера</h4>\n",
    "Model1 - эта сеть получилась без скрытых слоев. В рамках данного проекта можно не рассматривать такую сеть - у нее не хватит возможностей для решения поставленной задачи. Стоит использовать сети как минимум с одним скрытым слоем.\n",
    "</div> "
   ]
  },
  {
   "cell_type": "markdown",
   "id": "e36320c6",
   "metadata": {},
   "source": [
    "<div class=\"alert alert-block alert-info\">\n",
    "<b>Комментарий студента:</b> Я думала, это однослойная. Параметр n_hidden_neurons_1 задаёт число нейронов в этом одном скрытом слое. Ну, так звучит теория на платформе. А ты имеешь ввиду, что линейных функций Linear всего две - принимающая данные и отдающая результат? Тогда однослойной будет Model2, описанная ниже? И тогда слой = это не непосредственно нейроны, а как будто бутерброд из двух слоёв нейронов с некоторой функцией (ф. активации), которая осуществляет трансформацию данных?\n",
    "    \n",
    "</div>"
   ]
  },
  {
   "cell_type": "markdown",
   "id": "57493b78",
   "metadata": {},
   "source": [
    "<div class=\"alert alert-warning\">\n",
    "<h4>⚠️ Комментарий ревьюера v2</h4>\n",
    "Можешь, пожалуйста, указать, где именно указана информация, с которой идет расхождение? Мы постараемся с этим разобраться)\n",
    "    \n",
    "Что касается твоего замечания: нужно обратить внимание на два момента: \n",
    "    \n",
    "1) nn.Linear - это один слой, который имеет какое-то количество входов и выходов. То есть получается так:\n",
    "    <ul>\n",
    "    <li>\n",
    "    Один nn.Linear - однослойная нейронная сеть. Считается, что такая сеть представлена только выходным слоем, вот [тут](https://neerc.ifmo.ru/wiki/index.php?title=%D0%9D%D0%B5%D0%B9%D1%80%D0%BE%D0%BD%D0%BD%D1%8B%D0%B5_%D1%81%D0%B5%D1%82%D0%B8,_%D0%BF%D0%B5%D1%80%D1%86%D0%B5%D0%BF%D1%82%D1%80%D0%BE%D0%BD), например, об этом упоминается.\n",
    "    </li>\n",
    "    <li>\n",
    "    Два nn.Linear - уже многослойная сеть (два слоя). Есть входной и выходной слой, скрытых пока нет.\n",
    "        </li>\n",
    "    <li>\n",
    "    Три nn.Linear - многослойная сеть (три слоя). Есть входной, выходной и один скрытый слой.\n",
    "        </li>\n",
    "    <li>\n",
    "    Четыре nn.Linear - твой вариант, многослойная сеть (четыре слоя). Есть входной, выходной и два скрытых слоя.\n",
    "        </li>\n",
    "    <li>\n",
    "    И так далее...\n",
    "        </li>\n",
    "    </ul>\n",
    "    \n",
    "2) Тут может ввести в заблуждение описание входов и выходов слоя. У тебя это сделано примерно так:\n",
    "    \n",
    "    n_in_neurons = 12\n",
    "    n_hidden_neurons_1 = 10\n",
    "    n_hidden_neurons_2 = 10\n",
    "    n_hidden_neurons_3 = 10\n",
    "    n_out_neurons = 1 \n",
    "    \n",
    "Давай посмотрим на описание класса torch.nn.Linear(in_features, out_features, bias=True, device=None, dtype=None)\n",
    "\n",
    "    Parameters:\n",
    "            in_features (int) – size of each input sample\n",
    "            out_features (int) – size of each output sample\n",
    "            ...\n",
    "    \n",
    "Тут нигде не указано, что класс описывается количеством нейронов - он описывается количеством входов и выходов. Количество нейронов в слое определяется количеством входов (иначе все заданные входы не поместятся), а количество выходов отвечает за количество входов и количество нейронов на следующем слое. То есть по моему примеру выше получается так:\n",
    "    \n",
    "    n_in_neurons = 12 и n_hidden_neurons_1 = 10 - входной слой, 12 нейронов\n",
    "    n_hidden_neurons_1 = 10 и n_hidden_neurons_2 = 10 - первый скрытый слой, 10 нейронов\n",
    "    n_hidden_neurons_2 = 10 и n_hidden_neurons_3 = 10 - второй скрытый слой, 10 нейронов\n",
    "    n_hidden_neurons_3 = 10 и n_out_neurons = 1 - выходной слой, 10 нейронов\n",
    "    \n",
    "Вот и получается, что в этой сети 2 скрытых слоя)\n",
    "</div> "
   ]
  },
  {
   "cell_type": "markdown",
   "id": "41601e26",
   "metadata": {},
   "source": [
    "<div class=\"alert alert-block alert-info\">\n",
    "<b>Комментарий студента v2:</b> Спасибо за разъяснение. Я посчитаю модельки, а потом поищу, что непонятного в теории про слои.\n",
    "    \n",
    "</div>"
   ]
  },
  {
   "cell_type": "code",
   "execution_count": 36,
   "id": "de7c48e9-6ee2-4d25-9707-016030c5782d",
   "metadata": {},
   "outputs": [],
   "source": [
    "class Model1(nn.Module):\n",
    "    def __init__(self, n_in_neurons, n_hidden_neurons_1, n_out_neurons):\n",
    "        super(Model1, self).__init__()\n",
    "        \n",
    "        self.fc1 = nn.Linear(n_in_neurons, n_hidden_neurons_1)\n",
    "        self.act1 = nn.LeakyReLU()\n",
    "        self.fc2 = nn.Linear(n_hidden_neurons_1, n_out_neurons)\n",
    "        \n",
    "        nn.init.kaiming_uniform_(self.fc1.weight, mode='fan_in', nonlinearity='leaky_relu')\n",
    "        \n",
    "    def forward(self, x):\n",
    "        x = self.fc1(x)\n",
    "        x = self.act1(x)\n",
    "        x = self.fc2(x)\n",
    "        \n",
    "        return x          \n"
   ]
  },
  {
   "cell_type": "code",
   "execution_count": 37,
   "id": "4d3dd2c5",
   "metadata": {},
   "outputs": [],
   "source": [
    "class Model2(nn.Module):\n",
    "    def __init__(self, n_in_neurons, n_hidden_neurons_1, n_hidden_neurons_2, n_out_neurons):\n",
    "        super(Model2, self).__init__()\n",
    "        \n",
    "        self.fc1 = nn.Linear(n_in_neurons, n_hidden_neurons_1)\n",
    "        self.act1 = nn.LeakyReLU()\n",
    "        self.fc2 = nn.Linear(n_hidden_neurons_1, n_hidden_neurons_2)\n",
    "        self.act2 = nn.LeakyReLU()\n",
    "        self.fc3 = nn.Linear(n_hidden_neurons_2, n_out_neurons)\n",
    "        \n",
    "        nn.init.kaiming_uniform_(self.fc1.weight, mode='fan_in', nonlinearity='leaky_relu')\n",
    "        nn.init.kaiming_uniform_(self.fc2.weight, mode='fan_in', nonlinearity='leaky_relu')\n",
    "        \n",
    "        \n",
    "    def forward(self, x):\n",
    "        x = self.fc1(x)\n",
    "        x = self.act1(x)\n",
    "        x = self.fc2(x)\n",
    "        x = self.act2(x)\n",
    "        x = self.fc3(x)\n",
    "       \n",
    "        return x          \n",
    "\n"
   ]
  },
  {
   "cell_type": "code",
   "execution_count": 38,
   "id": "43ce8cc3-05ac-4135-910b-8ebd2a19c2b6",
   "metadata": {},
   "outputs": [],
   "source": [
    "class Model3(nn.Module):\n",
    "    def __init__(self, n_in_neurons, n_hidden_neurons_1, n_hidden_neurons_2, n_hidden_neurons_3, n_out_neurons):\n",
    "        super(Model3, self).__init__()\n",
    "        \n",
    "        self.fc1 = nn.Linear(n_in_neurons, n_hidden_neurons_1)\n",
    "        self.act1 = nn.LeakyReLU()\n",
    "        self.fc2 = nn.Linear(n_hidden_neurons_1, n_hidden_neurons_2)\n",
    "        self.act2 = nn.LeakyReLU()\n",
    "        self.fc3 = nn.Linear(n_hidden_neurons_2, n_hidden_neurons_3)\n",
    "        self.act3 = nn.LeakyReLU()\n",
    "        self.fc4 = nn.Linear(n_hidden_neurons_3, n_out_neurons)\n",
    "\n",
    "        nn.init.kaiming_uniform_(self.fc1.weight, mode='fan_in', nonlinearity='leaky_relu')\n",
    "        nn.init.kaiming_uniform_(self.fc2.weight, mode='fan_in', nonlinearity='leaky_relu')\n",
    "        nn.init.kaiming_uniform_(self.fc3.weight, mode='fan_in', nonlinearity='leaky_relu')\n",
    "        \n",
    "    def forward(self, x):\n",
    "        x = self.fc1(x)\n",
    "        x = self.act1(x)\n",
    "        x = self.fc2(x)\n",
    "        x = self.act2(x)\n",
    "        x = self.fc3(x)\n",
    "        x = self.act3(x)\n",
    "        x = self.fc4(x)\n",
    "        #x = self.act4(x)\n",
    "        return x    "
   ]
  },
  {
   "cell_type": "code",
   "execution_count": 39,
   "id": "c584dd55",
   "metadata": {},
   "outputs": [],
   "source": [
    "def learn_model(net, optimizer, num_epochs, batch_size, X_train, y_train, X_test, y_test):\n",
    "    loss = nn.MSELoss()\n",
    "    \n",
    "    num_batches = ceil(len(X_train)/batch_size)\n",
    "    \n",
    "    for epoch in range(num_epochs):\n",
    "        \n",
    "        order = np.random.permutation(len(X_train)) # создайте случайную перестановку индексов объектов\n",
    "        \n",
    "        optimizer.zero_grad()\n",
    "        \n",
    "        for batch_idx in range(num_batches):\n",
    "            start_index = batch_idx * batch_size\n",
    "            # получение индексов текущего батча\n",
    "            batch_indexes = order[start_index:start_index+batch_size]\n",
    "            X_batch = X_train[batch_indexes]\n",
    "            y_batch = y_train[batch_indexes]\n",
    "    \n",
    "            preds = net.forward(X_batch).flatten() \n",
    "                \n",
    "            loss_value = loss(preds, y_batch.flatten())\n",
    "            loss_value.backward()\n",
    "            \n",
    "            if ((batch_idx + 1) % accumulation_iteration == 0) or (batch_idx + 1 == num_batches):\n",
    "                \n",
    "                optimizer.step()\n",
    "                optimizer.zero_grad()\n",
    "                \n",
    "        if epoch == num_epochs - 1:\n",
    "            net.eval()\n",
    "            test_preds = net.forward(X_test).flatten()\n",
    "            RMSE = torch.sqrt(loss(test_preds, y_test.flatten()))\n",
    "            rmse_num = RMSE.detach().cpu().numpy()\n",
    "            \n",
    "            return  rmse_num"
   ]
  },
  {
   "cell_type": "markdown",
   "id": "d17cf911",
   "metadata": {},
   "source": [
    "<div class=\"alert alert-danger\">\n",
    "<h4>❌ Комментарий ревьюера:</h4>\n",
    "Здесь и далее в функциях обучения моделей есть критические недочеты:\n",
    "    \n",
    "    test_preds = net.forward(X_test)\n",
    "    RMSE = torch.sqrt(loss(preds, y_test))\n",
    "    \n",
    "Тут не совпадают данные: расчет ошибки идет по предсказаниям на тренировочной выборке и таргету на тестовой.\n",
    "    \n",
    "Также может быть проблема с несовпадением размерности между тензором предсказаний и тензором таргетов. Из-за этого расчет метрики модет идти неверно, что приведет к завышенным показаниям даже при хорошем обучении модели. Чтобы предотвратить это, стоит использовать метод .flatten() для выравнивания тензора предсказаний. Выглядеть это будет примерно так:\n",
    "    \n",
    "    preds = net.forward(X_batch).flatten()\n",
    "</div>  "
   ]
  },
  {
   "cell_type": "markdown",
   "id": "adb59d9d",
   "metadata": {},
   "source": [
    "<div class=\"alert alert-block alert-info\">\n",
    "<b>Комментарий студента:</b> Исправила.\n",
    "</div>"
   ]
  },
  {
   "cell_type": "markdown",
   "id": "2d448486",
   "metadata": {},
   "source": [
    "<div class=\"alert alert-success\">\n",
    "<h4>✔️ Комментарий ревьюера v2</h4>\n",
    "👍\n",
    "</div>"
   ]
  },
  {
   "cell_type": "code",
   "execution_count": 40,
   "id": "flush-dream",
   "metadata": {},
   "outputs": [],
   "source": [
    "rmse1_1 = []\n",
    "\n",
    "rmse1_2 = []\n",
    "\n",
    "\n",
    "num_epochs = 200\n",
    "\n",
    "batch_size_arr = [10, 20, 40, 80]\n",
    "\n",
    "accumulation_iteration = 5\n",
    "lr = 0.001\n"
   ]
  },
  {
   "cell_type": "markdown",
   "id": "278a045a",
   "metadata": {},
   "source": [
    "<div class=\"alert alert-warning\">\n",
    "<h4>⚠️ Комментарий ревьюера</h4>\n",
    "Возможно, количество эпох слишком маленькое для обучения, и модель просто не успевает доучиться. Можно попробовать увеличить количество эпох. Чтобы не делать эксперимент слишком затратным по времени, можно сократить вариации размеров батчей и количества нейронов.\n",
    "</div> "
   ]
  },
  {
   "cell_type": "markdown",
   "id": "c0c34aa9",
   "metadata": {},
   "source": [
    "<div class=\"alert alert-block alert-info\">\n",
    "<b>Комментарий студента:</b> Уменьшила и там, и там количество данных для перебора, добавила автоматизации для некоторых моментов, чтоб считалось без моего участия.\n",
    "</div>"
   ]
  },
  {
   "cell_type": "code",
   "execution_count": 41,
   "id": "69f47ae8-d12a-4e3b-ab14-d48d2d7c1d30",
   "metadata": {},
   "outputs": [],
   "source": [
    "def optim(num, net, lr):\n",
    "    if num == 1:\n",
    "            return torch.optim.Adam(net.parameters(), lr=lr, weight_decay=0.0001)\n",
    "    else:\n",
    "            return torch.optim.RMSprop(net.parameters(), lr=lr, weight_decay=0.0001)"
   ]
  },
  {
   "cell_type": "code",
   "execution_count": 42,
   "id": "460f3df2",
   "metadata": {},
   "outputs": [],
   "source": [
    "for batch_size in batch_size_arr:\n",
    "\n",
    "    for i in range(len(h1)):\n",
    "\n",
    "        n_hidden_neurons_1 = h1[i]\n",
    "        net = Model1(n_in_neurons, n_hidden_neurons_1, n_out_neurons)\n",
    "        net.to(device)\n",
    "        num = 1\n",
    "        optimizer = optim(num, net, lr)\n",
    "        rmse1_1.append([n_hidden_neurons_1, type(optimizer), batch_size,\n",
    "                          learn_model(net, optimizer, num_epochs, \n",
    "                                                 batch_size, X_train, y_train, X_test, y_test)])\n",
    "        num = 2\n",
    "        optimizer = optim(num, net, lr)\n",
    "        rmse1_2.append([n_hidden_neurons_1, type(optimizer), batch_size,\n",
    "                          learn_model(net, optimizer, num_epochs, \n",
    "                                                 batch_size, X_train, y_train, X_test, y_test)])\n",
    "\n"
   ]
  },
  {
   "cell_type": "code",
   "execution_count": 43,
   "id": "69de0f4d",
   "metadata": {},
   "outputs": [],
   "source": [
    "rmse1_1 = pd.DataFrame(rmse1_1, columns=['n_hidden_neurons_1', 'optimizer type','batch_size', 'rmse'])\n",
    "rmse1_2 = pd.DataFrame(rmse1_2, columns=['n_hidden_neurons_1', 'optimizer type','batch_size', 'rmse'])"
   ]
  },
  {
   "cell_type": "code",
   "execution_count": 44,
   "id": "7d000188-d98a-4dd4-9ac2-387feb2e9afd",
   "metadata": {},
   "outputs": [
    {
     "data": {
      "text/html": [
       "<div>\n",
       "<style scoped>\n",
       "    .dataframe tbody tr th:only-of-type {\n",
       "        vertical-align: middle;\n",
       "    }\n",
       "\n",
       "    .dataframe tbody tr th {\n",
       "        vertical-align: top;\n",
       "    }\n",
       "\n",
       "    .dataframe thead th {\n",
       "        text-align: right;\n",
       "    }\n",
       "</style>\n",
       "<table border=\"1\" class=\"dataframe\">\n",
       "  <thead>\n",
       "    <tr style=\"text-align: right;\">\n",
       "      <th></th>\n",
       "      <th>n_hidden_neurons_1</th>\n",
       "      <th>optimizer type</th>\n",
       "      <th>batch_size</th>\n",
       "      <th>rmse</th>\n",
       "    </tr>\n",
       "  </thead>\n",
       "  <tbody>\n",
       "    <tr>\n",
       "      <th>5</th>\n",
       "      <td>400</td>\n",
       "      <td>&lt;class 'torch.optim.adam.Adam'&gt;</td>\n",
       "      <td>10</td>\n",
       "      <td>14043.546</td>\n",
       "    </tr>\n",
       "  </tbody>\n",
       "</table>\n",
       "</div>"
      ],
      "text/plain": [
       "   n_hidden_neurons_1                   optimizer type  batch_size       rmse\n",
       "5                 400  <class 'torch.optim.adam.Adam'>          10  14043.546"
      ]
     },
     "execution_count": 44,
     "metadata": {},
     "output_type": "execute_result"
    }
   ],
   "source": [
    "rmse1_1.sort_values('rmse').head(1)"
   ]
  },
  {
   "cell_type": "code",
   "execution_count": 45,
   "id": "dedad4f4-8773-4cde-a8f7-49ff4e49d8e3",
   "metadata": {},
   "outputs": [
    {
     "data": {
      "text/html": [
       "<div>\n",
       "<style scoped>\n",
       "    .dataframe tbody tr th:only-of-type {\n",
       "        vertical-align: middle;\n",
       "    }\n",
       "\n",
       "    .dataframe tbody tr th {\n",
       "        vertical-align: top;\n",
       "    }\n",
       "\n",
       "    .dataframe thead th {\n",
       "        text-align: right;\n",
       "    }\n",
       "</style>\n",
       "<table border=\"1\" class=\"dataframe\">\n",
       "  <thead>\n",
       "    <tr style=\"text-align: right;\">\n",
       "      <th></th>\n",
       "      <th>n_hidden_neurons_1</th>\n",
       "      <th>optimizer type</th>\n",
       "      <th>batch_size</th>\n",
       "      <th>rmse</th>\n",
       "    </tr>\n",
       "  </thead>\n",
       "  <tbody>\n",
       "    <tr>\n",
       "      <th>5</th>\n",
       "      <td>400</td>\n",
       "      <td>&lt;class 'torch.optim.rmsprop.RMSprop'&gt;</td>\n",
       "      <td>10</td>\n",
       "      <td>12012.41</td>\n",
       "    </tr>\n",
       "  </tbody>\n",
       "</table>\n",
       "</div>"
      ],
      "text/plain": [
       "   n_hidden_neurons_1                         optimizer type  batch_size  \\\n",
       "5                 400  <class 'torch.optim.rmsprop.RMSprop'>          10   \n",
       "\n",
       "       rmse  \n",
       "5  12012.41  "
      ]
     },
     "execution_count": 45,
     "metadata": {},
     "output_type": "execute_result"
    }
   ],
   "source": [
    "rmse1_2.sort_values('rmse').head(1)"
   ]
  },
  {
   "cell_type": "code",
   "execution_count": 46,
   "id": "060d3f23-d4b2-4707-9a8f-958b60e77668",
   "metadata": {},
   "outputs": [],
   "source": [
    "rmse2_1 = []\n",
    "rmse2_2 = []"
   ]
  },
  {
   "cell_type": "code",
   "execution_count": 47,
   "id": "c89f28bc",
   "metadata": {},
   "outputs": [],
   "source": [
    "for batch_size in batch_size_arr:\n",
    "\n",
    "    for i in range(len(h1)):\n",
    "        n_hidden_neurons_1 = h1[i]\n",
    "        for j in range (len(h2)):\n",
    "            \n",
    "            n_hidden_neurons_2 = h2[j] \n",
    "\n",
    "            net = Model2(n_in_neurons, n_hidden_neurons_1, n_hidden_neurons_2, n_out_neurons)\n",
    "            net.to(device)\n",
    "            num = 1\n",
    "            optimizer = optim(num, net, lr)\n",
    "            rmse2_1.append([n_hidden_neurons_1, n_hidden_neurons_2, type(optimizer), batch_size,\n",
    "                          learn_model(net, optimizer, num_epochs, batch_size, X_train, y_train, X_test, y_test)])\n",
    "            num = 2\n",
    "            optimizer = optim(num, net, lr)\n",
    "            rmse2_2.append([n_hidden_neurons_1, n_hidden_neurons_2, type(optimizer), batch_size,\n",
    "                          learn_model(net, optimizer, num_epochs, batch_size, X_train, y_train, X_test, y_test)])\n",
    "\n",
    "               "
   ]
  },
  {
   "cell_type": "code",
   "execution_count": 48,
   "id": "6e7aab5a-14da-456e-95ad-4671bccfb7c2",
   "metadata": {},
   "outputs": [],
   "source": [
    "rmse2_1 = pd.DataFrame(rmse2_1, columns=['n_hidden_neurons_1', 'n_hidden_neurons_2', 'optimizer type','batch_size', 'rmse'])\n",
    "rmse2_2 = pd.DataFrame(rmse2_2, columns=['n_hidden_neurons_1', 'n_hidden_neurons_2', 'optimizer type','batch_size', 'rmse'])"
   ]
  },
  {
   "cell_type": "code",
   "execution_count": 49,
   "id": "22797a55",
   "metadata": {},
   "outputs": [
    {
     "data": {
      "text/html": [
       "<div>\n",
       "<style scoped>\n",
       "    .dataframe tbody tr th:only-of-type {\n",
       "        vertical-align: middle;\n",
       "    }\n",
       "\n",
       "    .dataframe tbody tr th {\n",
       "        vertical-align: top;\n",
       "    }\n",
       "\n",
       "    .dataframe thead th {\n",
       "        text-align: right;\n",
       "    }\n",
       "</style>\n",
       "<table border=\"1\" class=\"dataframe\">\n",
       "  <thead>\n",
       "    <tr style=\"text-align: right;\">\n",
       "      <th></th>\n",
       "      <th>n_hidden_neurons_1</th>\n",
       "      <th>n_hidden_neurons_2</th>\n",
       "      <th>optimizer type</th>\n",
       "      <th>batch_size</th>\n",
       "      <th>rmse</th>\n",
       "    </tr>\n",
       "  </thead>\n",
       "  <tbody>\n",
       "    <tr>\n",
       "      <th>29</th>\n",
       "      <td>300</td>\n",
       "      <td>400</td>\n",
       "      <td>&lt;class 'torch.optim.adam.Adam'&gt;</td>\n",
       "      <td>10</td>\n",
       "      <td>6492.588</td>\n",
       "    </tr>\n",
       "  </tbody>\n",
       "</table>\n",
       "</div>"
      ],
      "text/plain": [
       "    n_hidden_neurons_1  n_hidden_neurons_2                   optimizer type  \\\n",
       "29                 300                 400  <class 'torch.optim.adam.Adam'>   \n",
       "\n",
       "    batch_size      rmse  \n",
       "29          10  6492.588  "
      ]
     },
     "execution_count": 49,
     "metadata": {},
     "output_type": "execute_result"
    }
   ],
   "source": [
    "rmse2_1.sort_values('rmse').head(1)"
   ]
  },
  {
   "cell_type": "code",
   "execution_count": 50,
   "id": "0095c636",
   "metadata": {
    "scrolled": true
   },
   "outputs": [
    {
     "data": {
      "text/html": [
       "<div>\n",
       "<style scoped>\n",
       "    .dataframe tbody tr th:only-of-type {\n",
       "        vertical-align: middle;\n",
       "    }\n",
       "\n",
       "    .dataframe tbody tr th {\n",
       "        vertical-align: top;\n",
       "    }\n",
       "\n",
       "    .dataframe thead th {\n",
       "        text-align: right;\n",
       "    }\n",
       "</style>\n",
       "<table border=\"1\" class=\"dataframe\">\n",
       "  <thead>\n",
       "    <tr style=\"text-align: right;\">\n",
       "      <th></th>\n",
       "      <th>n_hidden_neurons_1</th>\n",
       "      <th>n_hidden_neurons_2</th>\n",
       "      <th>optimizer type</th>\n",
       "      <th>batch_size</th>\n",
       "      <th>rmse</th>\n",
       "    </tr>\n",
       "  </thead>\n",
       "  <tbody>\n",
       "    <tr>\n",
       "      <th>29</th>\n",
       "      <td>300</td>\n",
       "      <td>400</td>\n",
       "      <td>&lt;class 'torch.optim.rmsprop.RMSprop'&gt;</td>\n",
       "      <td>10</td>\n",
       "      <td>4309.152</td>\n",
       "    </tr>\n",
       "  </tbody>\n",
       "</table>\n",
       "</div>"
      ],
      "text/plain": [
       "    n_hidden_neurons_1  n_hidden_neurons_2  \\\n",
       "29                 300                 400   \n",
       "\n",
       "                           optimizer type  batch_size      rmse  \n",
       "29  <class 'torch.optim.rmsprop.RMSprop'>          10  4309.152  "
      ]
     },
     "execution_count": 50,
     "metadata": {},
     "output_type": "execute_result"
    }
   ],
   "source": [
    "rmse2_2.sort_values('rmse').head(1)\n"
   ]
  },
  {
   "cell_type": "code",
   "execution_count": 51,
   "id": "9e6fcc21-6270-458a-b622-b0888cf87c89",
   "metadata": {},
   "outputs": [],
   "source": [
    "rmse3_1 = []\n",
    "\n",
    "rmse3_2 = []"
   ]
  },
  {
   "cell_type": "code",
   "execution_count": 52,
   "id": "885be7f3-5caa-487a-9893-f7386f440a19",
   "metadata": {},
   "outputs": [],
   "source": [
    "for batch_size in batch_size_arr:\n",
    "\n",
    "    for i in range(len(h1)):\n",
    "        n_hidden_neurons_1 = h1[i]\n",
    "        for j in range (len(h2)):\n",
    "            n_hidden_neurons_2 = h2[j]\n",
    "            for k in range(len(h3)):\n",
    "                \n",
    "                n_hidden_neurons_3 = h3[k]\n",
    "\n",
    "                net = Model3(n_in_neurons, n_hidden_neurons_1, n_hidden_neurons_2, n_hidden_neurons_3, n_out_neurons)\n",
    "                net.to(device)\n",
    "                num = 1\n",
    "                optimizer = optim(num, net, lr)\n",
    "                rmse3_1.append([n_hidden_neurons_1, n_hidden_neurons_2, n_hidden_neurons_3, type(optimizer), batch_size,\n",
    "                              learn_model(net, optimizer, num_epochs, batch_size, X_train, y_train, X_test, y_test,)])\n",
    " \n",
    "                num = 2\n",
    "                optimizer = optim(num, net, lr)                    \n",
    "                rmse3_2.append([n_hidden_neurons_1, n_hidden_neurons_2, n_hidden_neurons_3, type(optimizer), batch_size,\n",
    "                              learn_model(net, optimizer, num_epochs, batch_size, X_train, y_train, X_test, y_test,)])\n",
    "\n"
   ]
  },
  {
   "cell_type": "code",
   "execution_count": 53,
   "id": "165323a5-f8d9-4917-8a64-593464fb010d",
   "metadata": {},
   "outputs": [],
   "source": [
    "rmse3_1 = pd.DataFrame(rmse3_1, columns=['n_hidden_neurons_1',  'n_hidden_neurons_2', 'n_hidden_neurons_3','optimizer type','batch_size', 'rmse'])\n",
    "\n",
    "rmse3_2 = pd.DataFrame(rmse3_2, columns=['n_hidden_neurons_1', 'n_hidden_neurons_2', 'n_hidden_neurons_3', 'optimizer type','batch_size', 'rmse'])"
   ]
  },
  {
   "cell_type": "code",
   "execution_count": 54,
   "id": "c9e05b59-9948-4dc8-80a1-db1dabd2640a",
   "metadata": {},
   "outputs": [
    {
     "data": {
      "text/html": [
       "<div>\n",
       "<style scoped>\n",
       "    .dataframe tbody tr th:only-of-type {\n",
       "        vertical-align: middle;\n",
       "    }\n",
       "\n",
       "    .dataframe tbody tr th {\n",
       "        vertical-align: top;\n",
       "    }\n",
       "\n",
       "    .dataframe thead th {\n",
       "        text-align: right;\n",
       "    }\n",
       "</style>\n",
       "<table border=\"1\" class=\"dataframe\">\n",
       "  <thead>\n",
       "    <tr style=\"text-align: right;\">\n",
       "      <th></th>\n",
       "      <th>n_hidden_neurons_1</th>\n",
       "      <th>n_hidden_neurons_2</th>\n",
       "      <th>n_hidden_neurons_3</th>\n",
       "      <th>optimizer type</th>\n",
       "      <th>batch_size</th>\n",
       "      <th>rmse</th>\n",
       "    </tr>\n",
       "  </thead>\n",
       "  <tbody>\n",
       "    <tr>\n",
       "      <th>177</th>\n",
       "      <td>300</td>\n",
       "      <td>400</td>\n",
       "      <td>200</td>\n",
       "      <td>&lt;class 'torch.optim.adam.Adam'&gt;</td>\n",
       "      <td>10</td>\n",
       "      <td>3726.8247</td>\n",
       "    </tr>\n",
       "  </tbody>\n",
       "</table>\n",
       "</div>"
      ],
      "text/plain": [
       "     n_hidden_neurons_1  n_hidden_neurons_2  n_hidden_neurons_3  \\\n",
       "177                 300                 400                 200   \n",
       "\n",
       "                      optimizer type  batch_size       rmse  \n",
       "177  <class 'torch.optim.adam.Adam'>          10  3726.8247  "
      ]
     },
     "execution_count": 54,
     "metadata": {},
     "output_type": "execute_result"
    }
   ],
   "source": [
    "rmse3_1.sort_values('rmse').head(1)"
   ]
  },
  {
   "cell_type": "code",
   "execution_count": 55,
   "id": "f4307c2f-73f2-43dc-9631-995be941b527",
   "metadata": {},
   "outputs": [
    {
     "data": {
      "text/html": [
       "<div>\n",
       "<style scoped>\n",
       "    .dataframe tbody tr th:only-of-type {\n",
       "        vertical-align: middle;\n",
       "    }\n",
       "\n",
       "    .dataframe tbody tr th {\n",
       "        vertical-align: top;\n",
       "    }\n",
       "\n",
       "    .dataframe thead th {\n",
       "        text-align: right;\n",
       "    }\n",
       "</style>\n",
       "<table border=\"1\" class=\"dataframe\">\n",
       "  <thead>\n",
       "    <tr style=\"text-align: right;\">\n",
       "      <th></th>\n",
       "      <th>n_hidden_neurons_1</th>\n",
       "      <th>n_hidden_neurons_2</th>\n",
       "      <th>n_hidden_neurons_3</th>\n",
       "      <th>optimizer type</th>\n",
       "      <th>batch_size</th>\n",
       "      <th>rmse</th>\n",
       "    </tr>\n",
       "  </thead>\n",
       "  <tbody>\n",
       "    <tr>\n",
       "      <th>863</th>\n",
       "      <td>400</td>\n",
       "      <td>400</td>\n",
       "      <td>400</td>\n",
       "      <td>&lt;class 'torch.optim.rmsprop.RMSprop'&gt;</td>\n",
       "      <td>80</td>\n",
       "      <td>3627.9446</td>\n",
       "    </tr>\n",
       "  </tbody>\n",
       "</table>\n",
       "</div>"
      ],
      "text/plain": [
       "     n_hidden_neurons_1  n_hidden_neurons_2  n_hidden_neurons_3  \\\n",
       "863                 400                 400                 400   \n",
       "\n",
       "                            optimizer type  batch_size       rmse  \n",
       "863  <class 'torch.optim.rmsprop.RMSprop'>          80  3627.9446  "
      ]
     },
     "execution_count": 55,
     "metadata": {},
     "output_type": "execute_result"
    }
   ],
   "source": [
    "rmse3_2.sort_values('rmse').head(1)"
   ]
  },
  {
   "cell_type": "code",
   "execution_count": 56,
   "id": "c0af745c-3881-4319-a74e-708cb7a00d70",
   "metadata": {},
   "outputs": [],
   "source": [
    "arr_rmse = [list(rmse1_1.sort_values('rmse').head(1)['rmse'].astype('float'))[0],\n",
    "            list(rmse1_2.sort_values('rmse').head(1)['rmse'].astype('float'))[0],\n",
    "            list(rmse2_1.sort_values('rmse').head(1)['rmse'].astype('float'))[0],\n",
    "            list(rmse2_2.sort_values('rmse').head(1)['rmse'].astype('float'))[0],\n",
    "            list(rmse3_1.sort_values('rmse').head(1)['rmse'].astype('float'))[0],\n",
    "            list(rmse2_2.sort_values('rmse').head(1)['rmse'].astype('float'))[0]\n",
    "           ]"
   ]
  },
  {
   "cell_type": "code",
   "execution_count": 57,
   "id": "37d6a604-f700-41bb-baa4-ffed714f0ec7",
   "metadata": {},
   "outputs": [],
   "source": [
    "min_rmse = min(arr_rmse)"
   ]
  },
  {
   "cell_type": "code",
   "execution_count": 58,
   "id": "ed92a43f-1207-40d4-bcc8-2310a95a5163",
   "metadata": {},
   "outputs": [],
   "source": [
    "if min_rmse == arr_rmse[0]:\n",
    "    n_hidden_neurons_1_m = list(rmse1_1.sort_values('rmse').head(1)['n_hidden_neurons_1'].astype('int64'))[0]\n",
    "    n_hidden_neurons_2_m = -1\n",
    "    n_hidden_neurons_3_m = -1\n",
    "    batch_size_m = list(rmse1_1.sort_values('rmse').head(1)['batch_size'].astype('int64'))[0]\n",
    "    optimizer_m = 1\n",
    "    \n",
    "elif min_rmse == arr_rmse[1]:\n",
    "    n_hidden_neurons_1_m = list(rmse1_2.sort_values('rmse').head(1)['n_hidden_neurons_1'].astype('int64'))[0]\n",
    "    n_hidden_neurons_2_m = -1\n",
    "    n_hidden_neurons_3_m = -1\n",
    "    batch_size_m = list(rmse1_2.sort_values('rmse').head(1)['batch_size'].astype('int64'))[0]\n",
    "    optimizer_m = 2\n",
    "\n",
    "elif min_rmse == arr_rmse[2]:\n",
    "    n_hidden_neurons_1_m = list(rmse2_1.sort_values('rmse').head(1)['n_hidden_neurons_1'].astype('int64'))[0]\n",
    "    n_hidden_neurons_2_m = list(rmse2_1.sort_values('rmse').head(1)['n_hidden_neurons_2'].astype('int64'))[0]\n",
    "    n_hidden_neurons_3_m = -1\n",
    "    batch_size_m = list(rmse2_1.sort_values('rmse').head(1)['batch_size'].astype('int64'))[0]\n",
    "    optimizer_m = 1\n",
    "\n",
    "elif min_rmse == arr_rmse[3]:\n",
    "    n_hidden_neurons_1_m = list(rmse2_2.sort_values('rmse').head(1)['n_hidden_neurons_1'].astype('int64'))[0]\n",
    "    n_hidden_neurons_2_m = list(rmse2_2.sort_values('rmse').head(1)['n_hidden_neurons_2'].astype('int64'))[0]\n",
    "    n_hidden_neurons_3_m = -1\n",
    "    batch_size_m = list(rmse2_2.sort_values('rmse').head(1)['batch_size'].astype('int64'))[0]\n",
    "    optimizer_m = 2\n",
    "\n",
    "elif min_rmse == arr_rmse[4]:\n",
    "    n_hidden_neurons_1_m = list(rmse3_1.sort_values('rmse').head(1)['n_hidden_neurons_1'].astype('int64'))[0]\n",
    "    n_hidden_neurons_2_m = list(rmse3_1.sort_values('rmse').head(1)['n_hidden_neurons_2'].astype('int64'))[0]\n",
    "    n_hidden_neurons_3_m = list(rmse3_1.sort_values('rmse').head(1)['n_hidden_neurons_3'].astype('int64'))[0]\n",
    "    batch_size_m = list(rmse3_1.sort_values('rmse').head(1)['batch_size'].astype('int64'))[0]\n",
    "    optimizer_m = 1\n",
    "\n",
    "else :\n",
    "    n_hidden_neurons_1_m = list(rmse3_2.sort_values('rmse').head(1)['n_hidden_neurons_1'].astype('int64'))[0]\n",
    "    n_hidden_neurons_2_m = list(rmse3_2.sort_values('rmse').head(1)['n_hidden_neurons_2'].astype('int64'))[0]\n",
    "    n_hidden_neurons_3_m = list(rmse3_2.sort_values('rmse').head(1)['n_hidden_neurons_3'].astype('int64'))[0]\n",
    "    batch_size_m = list(rmse3_2.sort_values('rmse').head(1)['batch_size'].astype('int64'))[0]\n",
    "    optimizer_m = 2\n",
    "\n"
   ]
  },
  {
   "cell_type": "code",
   "execution_count": 59,
   "id": "52d5443a",
   "metadata": {},
   "outputs": [
    {
     "name": "stdout",
     "output_type": "stream",
     "text": [
      "n_hidden_neurons_1_m 300 \n",
      "n_hidden_neurons_2_m 400 \n",
      "n_hidden_neurons_3_m 200 \n",
      "batch_size_m 10 \n",
      "optimizer_m 1\n"
     ]
    }
   ],
   "source": [
    "print('n_hidden_neurons_1_m', n_hidden_neurons_1_m, \n",
    "    '\\nn_hidden_neurons_2_m', n_hidden_neurons_2_m,\n",
    "    '\\nn_hidden_neurons_3_m',n_hidden_neurons_3_m,\n",
    "    '\\nbatch_size_m' ,batch_size_m,\n",
    "    '\\noptimizer_m', optimizer_m)"
   ]
  },
  {
   "cell_type": "markdown",
   "id": "2bc74900",
   "metadata": {},
   "source": [
    "\n",
    "Посмотрим на графике, как она предсказывает температуру звезды. Обучим нейросеть на лучших на текущий момент параметрах. "
   ]
  },
  {
   "cell_type": "code",
   "execution_count": 60,
   "id": "2d174750",
   "metadata": {},
   "outputs": [
    {
     "name": "stdout",
     "output_type": "stream",
     "text": [
      "3857.5046\n"
     ]
    }
   ],
   "source": [
    "n_hidden_neurons_1 = n_hidden_neurons_1_m\n",
    "n_hidden_neurons_2 = n_hidden_neurons_2_m\n",
    "n_hidden_neurons_3 = n_hidden_neurons_3_m\n",
    "batch_size = batch_size_m\n",
    "\n",
    "if n_hidden_neurons_2 == -1:\n",
    "    net = Model1(n_in_neurons, n_hidden_neurons_1, n_out_neurons)\n",
    "#else: #распаковать на две\n",
    "#    net = Model2(n_in_neurons, n_hidden_neurons_1, n_hidden_neurons_2, n_out_neurons)\n",
    "# убрать на две\n",
    "elif n_hidden_neurons_3 == -1:\n",
    "    net = Model2(n_in_neurons, n_hidden_neurons_1, n_hidden_neurons_2, n_out_neurons)\n",
    "else:\n",
    "    net = Model3(n_in_neurons, n_hidden_neurons_1, n_hidden_neurons_2, n_hidden_neurons_3, n_out_neurons)\n",
    "    \n",
    "net.to(device)\n",
    "optimizer = optim(optimizer_m, net, lr)\n",
    "loss = nn.MSELoss()\n",
    "num_batches = ceil(len(X_train)/batch_size)\n",
    "err_train_log = []\n",
    "err_test_log = []\n",
    "for epoch in range(num_epochs):\n",
    "        \n",
    "    order = np.random.permutation(len(X_train)) # создайте случайную перестановку индексов объектов\n",
    "        \n",
    "    optimizer.zero_grad()\n",
    "    err_log=[]    \n",
    "    for batch_idx in range(num_batches):\n",
    "        start_index = batch_idx * batch_size\n",
    "        # получение индексов текущего батча\n",
    "        batch_indexes = order[start_index:start_index+batch_size]\n",
    "        X_batch = X_train[batch_indexes]\n",
    "        y_batch = y_train[batch_indexes]\n",
    "    \n",
    "        preds = net.forward(X_batch).flatten() \n",
    "                \n",
    "        loss_value = loss(preds, y_batch.flatten())\n",
    "\n",
    "        err_log.append(torch.sqrt(loss_value).detach().cpu().numpy())\n",
    "        \n",
    "        loss_value.backward()\n",
    "        \n",
    "        \n",
    "        if ((batch_idx + 1) % accumulation_iteration == 0) or (batch_idx + 1 == num_batches):\n",
    "                \n",
    "            optimizer.step()\n",
    "            optimizer.zero_grad()\n",
    "                \n",
    "    if epoch%5 == 0 or epoch == num_epochs - 1:\n",
    "    \n",
    "        net.eval()\n",
    "        err_train_log.append(np.mean(err_log))\n",
    "        test_preds_first = net.forward(X_test).flatten()\n",
    "        RMSE = torch.sqrt(loss(test_preds_first, y_test.flatten()))\n",
    "        err_test_log.append(RMSE.detach().cpu().numpy())\n",
    "print(RMSE.detach().cpu().numpy())        "
   ]
  },
  {
   "cell_type": "code",
   "execution_count": 61,
   "id": "e23bc847-b651-4c8c-b00e-052f9f463d42",
   "metadata": {},
   "outputs": [
    {
     "data": {
      "image/png": "[encoded data removed]",
      "text/plain": [
       "<Figure size 1000x700 with 1 Axes>"
      ]
     },
     "metadata": {},
     "output_type": "display_data"
    }
   ],
   "source": [
    "x = np.arange(len(err_train_log))\n",
    "\n",
    "fig, ax = plt.subplots()\n",
    "fig.set_figwidth(10)\n",
    "fig.set_figheight(7)\n",
    "ax.set_xticks(x)\n",
    "train = ax.plot(x, err_train_log, label = 'Train loss')\n",
    "test = ax.plot(x, err_test_log, label = 'Test loss')\n",
    "ax.legend()\n",
    "ax.set_title('Потери нейросети', fontsize=20)\n",
    "ax.set_xlabel('Эпохи (200)')\n",
    "ax.set_ylabel('Loss')\n",
    "plt.show()"
   ]
  },
  {
   "cell_type": "markdown",
   "id": "b3902713",
   "metadata": {},
   "source": [
    "<div class=\"alert alert-warning\">\n",
    "<h4>⚠️ Комментарий ревьюера</h4>\n",
    "Переобучение модели отслеживается немного иначе) Его можжно определить по логу самого обучения. Если наблюдается падение ошибки на тренировочной выборке, а на тестовой ошибка растет - это переобучение.\n",
    "</div> "
   ]
  },
  {
   "cell_type": "markdown",
   "id": "6dd5800d",
   "metadata": {},
   "source": [
    "<div class=\"alert alert-block alert-info\">\n",
    "<b>Комментарий студента:</b> Да, не строю график, голословное заявление..\n",
    "</div>"
   ]
  },
  {
   "cell_type": "markdown",
   "id": "b88a1f57",
   "metadata": {},
   "source": [
    "<div class=\"alert alert-success\">\n",
    "<h4>✔️ Комментарий ревьюера v2</h4>\n",
    "С графиком действительно проще заметить переобучение, хорошо, что он теперь есть)\n",
    "</div>"
   ]
  },
  {
   "cell_type": "markdown",
   "id": "6934787d",
   "metadata": {},
   "source": [
    "<div class=\"alert alert-warning\">\n",
    "<h4>⚠️ Комментарий ревьюера</h4>\n",
    "Не стоит светить токеном своих ботов - это небезопасно.\n",
    "</div> "
   ]
  },
  {
   "cell_type": "markdown",
   "id": "2cac0646",
   "metadata": {},
   "source": [
    "<div class=\"alert alert-block alert-info\">\n",
    "<b>Комментарий студента:</b> Прошу прощения, не всё удалила.\n",
    "</div>"
   ]
  },
  {
   "cell_type": "code",
   "execution_count": 62,
   "id": "aab74fb5",
   "metadata": {},
   "outputs": [
    {
     "data": {
      "image/png": "[encoded data removed]",
      "text/plain": [
       "<Figure size 1800x800 with 1 Axes>"
      ]
     },
     "metadata": {},
     "output_type": "display_data"
    }
   ],
   "source": [
    "y1 = torch.FloatTensor(test_preds_first.cpu()).detach().numpy().reshape([-1])\n",
    "y2 = y_test.detach().cpu().numpy().reshape([-1])\n",
    "x = np.arange(len(y1))\n",
    "\n",
    "fig,ax = plt.subplots()\n",
    "fig.set_figwidth(18)\n",
    "fig.set_figheight(8)\n",
    "ax.set_xticks(x)\n",
    "fact = ax.bar(x, y2, width = 0.6, label = 'Факт')\n",
    "forecast = ax.bar(x, y1, width = 0.3, label = 'Прогноз')\n",
    "ax.legend()\n",
    "ax.set_title('Факт-прогноз', fontsize=20)\n",
    "ax.set_xlabel('Номер звезды в таблице')\n",
    "ax.set_ylabel('Температура звезды')\n",
    "plt.show()"
   ]
  },
  {
   "cell_type": "code",
   "execution_count": 63,
   "id": "29d679ae-9e9e-4285-8c9d-3b1d46710107",
   "metadata": {},
   "outputs": [
    {
     "name": "stdout",
     "output_type": "stream",
     "text": [
      "n_hidden_neurons_1_m 300 \n",
      "n_hidden_neurons_2_m 400 \n",
      "n_hidden_neurons_3_m 200 \n",
      "batch_size_m 10 \n",
      "optimizer_m 1 rmse 3726.82470703125 test rmse 3857.5046\n"
     ]
    }
   ],
   "source": [
    "print('n_hidden_neurons_1_m', n_hidden_neurons_1_m, \n",
    "    '\\nn_hidden_neurons_2_m', n_hidden_neurons_2_m,\n",
    "    '\\nn_hidden_neurons_3_m',n_hidden_neurons_3_m,\n",
    "    '\\nbatch_size_m' ,batch_size_m,\n",
    "    '\\noptimizer_m', optimizer_m,\n",
    "    'rmse', min_rmse,\n",
    "     'test rmse', RMSE.detach().cpu().numpy())"
   ]
  },
  {
   "cell_type": "markdown",
   "id": "b8ad11e4",
   "metadata": {},
   "source": [
    "Для этой модели я взяла двуслойную модель с числом нейронов на скрытых слоях по 400, размером батча 10 элементов и оптимизатором Adam.\n",
    "На этих параметрах и в этой архитектуре получилась лучшая метрика RMSE=3686.1548, повторяющаяся на тестовой выборке.\n",
    "\n",
    "У модели есть довольно точные прредсказания, но иногда она сильно ошибается.\n",
    "На низких температурах (<=5000) больше в меньшую сторону, на средних (<20000) - в большую, на больших 20000 Кельвинов - в основном в большую. Пока почти уверенно можно было бы просчитывать звёзды послабее Солнца. Для остальных нужно улучшать модель."
   ]
  },
  {
   "cell_type": "code",
   "execution_count": 64,
   "id": "3d3aa18a-bef2-4b63-82bf-c1dfffa09bb6",
   "metadata": {},
   "outputs": [
    {
     "name": "stdout",
     "output_type": "stream",
     "text": [
      "{'ok': True, 'result': {'message_id': 172, 'from': {'id': 6015117129, 'is_bot': True, 'first_name': 'hi_from_jup', 'username': 'hi_from_jup_bot'}, 'chat': {'id': 916785354, 'first_name': 'Maria', 'username': 'maria_smiles', 'type': 'private'}, 'date': 1692809773, 'text': 'M_Done_first_part!'}}\n"
     ]
    }
   ],
   "source": [
    "import requests\n",
    "url = f\"https://api.telegram.org/bot6015117129:AAGCdFJKD8mCoJc3CdMN-4b7ktiEbhpAsYA/sendMessage?chat_id=916785354&text=M_Done_first_part!\"\n",
    "print(requests.get(url).json())"
   ]
  },
  {
   "cell_type": "markdown",
   "id": "b663d6db",
   "metadata": {},
   "source": [
    "<div class=\"alert alert-danger\">\n",
    "<h4>❌ Комментарий ревьюера:</h4>\n",
    "После получения хорошо обученной модели тут потребуется более подробный вывод)\n",
    "</div>  "
   ]
  },
  {
   "cell_type": "markdown",
   "id": "b811b10a",
   "metadata": {},
   "source": [
    "<div class=\"alert alert-block alert-info\">\n",
    "<b>Комментарий студента:</b> Пока так.\n",
    "</div>"
   ]
  },
  {
   "cell_type": "markdown",
   "id": "50d789b9",
   "metadata": {},
   "source": [
    "<div class=\"alert alert-success\">\n",
    "<h4>✔️ Комментарий ревьюера v2</h4>\n",
    "Хороший вывод по графику, довольно подробный. Наглядно показаны возможности полученной модели. Модель действительно будет сильно ошибаться на \"горячих\" звездах, данных по ним меньше всего.\n",
    "</div>"
   ]
  },
  {
   "cell_type": "markdown",
   "id": "growing-supply",
   "metadata": {},
   "source": [
    "## Улучшение нейронной сети"
   ]
  },
  {
   "cell_type": "markdown",
   "id": "4d21ba70",
   "metadata": {},
   "source": [
    "Введём регуляризацию двух типов - нормализация батчей и отключение нейронов."
   ]
  },
  {
   "cell_type": "code",
   "execution_count": 65,
   "id": "d5687234-72ad-4cf6-b7d9-0c80cf5f2c26",
   "metadata": {},
   "outputs": [],
   "source": [
    "class Model11(nn.Module):\n",
    "    def __init__(self, n_in_neurons, n_hidden_neurons_1, n_out_neurons):\n",
    "        super(Model1, self).__init__()\n",
    "        \n",
    "        self.fc1 = nn.Linear(n_in_neurons, n_hidden_neurons_1)\n",
    "        self.bn1 = nn.BatchNorm1d(n_hidden_neurons_1)\n",
    "        self.act1 = nn.LeakyReLU()\n",
    "        self.fc2 = nn.Linear(n_hidden_neurons_1, n_out_neurons)\n",
    "        \n",
    "        nn.init.kaiming_uniform_(self.fc1.weight, mode='fan_in', nonlinearity='leaky_relu')\n",
    "        \n",
    "    def forward(self, x):\n",
    "        x = self.fc1(x)\n",
    "        x = self.bn1(x)\n",
    "        x = self.act1(x)\n",
    "        x = self.fc2(x)\n",
    "        c\n",
    "        return x          \n"
   ]
  },
  {
   "cell_type": "code",
   "execution_count": 66,
   "id": "45736c2e",
   "metadata": {},
   "outputs": [],
   "source": [
    "class Model22(nn.Module):\n",
    "    def __init__(self, n_in_neurons, n_hidden_neurons_1, n_hidden_neurons_2, n_out_neurons, p1):\n",
    "        super(Model22, self).__init__()\n",
    "        \n",
    "        self.fc1 = nn.Linear(n_in_neurons, n_hidden_neurons_1)\n",
    "        self.bn1 = nn.BatchNorm1d(n_hidden_neurons_1)\n",
    "        self.act1 = nn.LeakyReLU()\n",
    "        \n",
    "        self.fc2 = nn.Linear(n_hidden_neurons_1, n_hidden_neurons_2)\n",
    "        self.bn2 = nn.BatchNorm1d(n_hidden_neurons_2)\n",
    "        self.act2 = nn.LeakyReLU()\n",
    "        self.dp3 = nn.Dropout(p=p1)\n",
    "        self.fc3 = nn.Linear(n_hidden_neurons_2, n_out_neurons)\n",
    "\n",
    "        nn.init.kaiming_uniform_(self.fc1.weight, mode='fan_in', nonlinearity='leaky_relu')\n",
    "        nn.init.kaiming_uniform_(self.fc2.weight, mode='fan_in', nonlinearity='leaky_relu')\n",
    "\n",
    "    \n",
    "    def forward(self, x):\n",
    "        x = self.fc1(x)\n",
    "        x = self.bn1(x)\n",
    "        x = self.act1(x)\n",
    "        \n",
    "        x = self.fc2(x)\n",
    "        x = self.bn2(x)\n",
    "        x = self.act2(x)\n",
    "        x = self.dp3(x)\n",
    "        x = self.fc3(x)\n",
    "       \n",
    "        return x     "
   ]
  },
  {
   "cell_type": "code",
   "execution_count": 67,
   "id": "a7528e56-be30-487f-89dc-e4fb87273466",
   "metadata": {},
   "outputs": [],
   "source": [
    "class Model33(nn.Module):\n",
    "    def __init__(self, n_in_neurons, n_hidden_neurons_1, n_hidden_neurons_2,\n",
    "                 n_hidden_neurons_3, n_out_neurons, p1, p2):\n",
    "        super(Model33, self).__init__()\n",
    "        \n",
    "        self.fc1 = nn.Linear(n_in_neurons, n_hidden_neurons_1)\n",
    "        self.bn1 = nn.BatchNorm1d(n_hidden_neurons_1)\n",
    "        self.act1 = nn.LeakyReLU()\n",
    "        \n",
    "        self.fc2 = nn.Linear(n_hidden_neurons_1, n_hidden_neurons_2)\n",
    "        self.bn1 = nn.BatchNorm1d(n_hidden_neurons_2)\n",
    "        self.act2 = nn.LeakyReLU()\n",
    "        self.dp3 = nn.Dropout(p=p2)\n",
    "        self.fc3 = nn.Linear(n_hidden_neurons_2, n_hidden_neurons_3)\n",
    "        self.bn3 = nn.BatchNorm1d(n_hidden_neurons_3)\n",
    "        self.act3 = nn.LeakyReLU()\n",
    "        self.dp4 = nn.Dropout(p=p1)\n",
    "        self.fc4 = nn.Linear(n_hidden_neurons_3, n_out_neurons)\n",
    "\n",
    "        nn.init.kaiming_uniform_(self.fc1.weight, mode='fan_in', nonlinearity='leaky_relu')\n",
    "        nn.init.kaiming_uniform_(self.fc2.weight, mode='fan_in', nonlinearity='leaky_relu')\n",
    "        nn.init.kaiming_uniform_(self.fc3.weight, mode='fan_in', nonlinearity='leaky_relu')\n",
    "        \n",
    "    def forward(self, x):\n",
    "        x = self.fc1(x)\n",
    "        x = self.act1(x)\n",
    "        \n",
    "        x = self.fc2(x)\n",
    "        x = self.act2(x)\n",
    "        x = self.dp3(x)\n",
    "        x = self.fc3(x)\n",
    "        x = self.act3(x)\n",
    "        x = self.dp4(x)\n",
    "        x = self.fc4(x)\n",
    "        \n",
    "        return x         "
   ]
  },
  {
   "cell_type": "markdown",
   "id": "c64f48c9",
   "metadata": {},
   "source": [
    "Введём диапазоны параметров сети, которые попробуем перебрать для поиска лучшей модели и желаемой точности."
   ]
  },
  {
   "cell_type": "code",
   "execution_count": 68,
   "id": "5c8c1490",
   "metadata": {},
   "outputs": [],
   "source": [
    "p_arr = [0.8, 0.5, 0.1, 0]\n",
    "lr_arr = [0.01, 0.02, 0.025, 0.03]\n",
    "\n",
    "num_epochs_arr = [200, 300, 400, 500]\n",
    "logs = []\n",
    "\n",
    "\n"
   ]
  },
  {
   "cell_type": "code",
   "execution_count": 69,
   "id": "09ff779c",
   "metadata": {},
   "outputs": [],
   "source": [
    "def finding_neverland(net, p1, p2, lr, batch_size, num_epochs):\n",
    "\n",
    "\n",
    "    net.to(device)\n",
    "    optimizer = optim(optimizer_m, net, lr)\n",
    "    loss = nn.MSELoss()\n",
    "    num_batches = ceil(len(X_train)/batch_size)\n",
    "    \n",
    "    for epoch in range(num_epochs):\n",
    "        \n",
    "        order = np.random.permutation(len(X_train)) \n",
    "        \n",
    "        optimizer.zero_grad()\n",
    "        \n",
    "        for batch_idx in range(num_batches):\n",
    "            start_index = batch_idx * batch_size\n",
    "            \n",
    "            batch_indexes = order[start_index:start_index+batch_size]\n",
    "            X_batch = X_train[batch_indexes]\n",
    "            y_batch = y_train[batch_indexes]\n",
    "    \n",
    "            preds = net.forward(X_batch).flatten() \n",
    "                \n",
    "            loss_value = loss(preds, y_batch.flatten())\n",
    "            loss_value.backward()\n",
    "            \n",
    "            if ((batch_idx + 1) % accumulation_iteration == 0) or (batch_idx + 1 == num_batches):\n",
    "                \n",
    "                optimizer.step()\n",
    "                optimizer.zero_grad()\n",
    "                \n",
    "        if epoch == num_epochs - 1:\n",
    "            net.eval()\n",
    "            test_preds = net.forward(X_test).flatten()\n",
    "            RMSE = torch.sqrt(loss(test_preds, y_test.flatten()))\n",
    "            return [RMSE.detach().cpu().numpy(), p1, p2, lr, num_epochs]\n",
    "    "
   ]
  },
  {
   "cell_type": "code",
   "execution_count": 70,
   "id": "a1c03d5a",
   "metadata": {},
   "outputs": [
    {
     "name": "stdout",
     "output_type": "stream",
     "text": [
      "{'ok': True, 'result': {'message_id': 173, 'from': {'id': 6015117129, 'is_bot': True, 'first_name': 'hi_from_jup', 'username': 'hi_from_jup_bot'}, 'chat': {'id': 916785354, 'first_name': 'Maria', 'username': 'maria_smiles', 'type': 'private'}, 'date': 1692809774, 'text': 'M_chose_3!'}}\n"
     ]
    }
   ],
   "source": [
    "if n_hidden_neurons_2 == -1:\n",
    "    \n",
    "    url = f\"https://api.telegram.org/bot6015117129:AAGCdFJKD8mCoJc3CdMN-4b7ktiEbhpAsYA/sendMessage?chat_id=916785354&text=M_chose_1!\"\n",
    "    print(requests.get(url).json())\n",
    "    p1 = -1\n",
    "    p2 = -1\n",
    "    for lr in lr_arr:\n",
    "        for num_epochs in num_epochs_arr:\n",
    "            net = Model11(n_in_neurons, n_hidden_neurons_1, n_out_neurons)\n",
    "            logs.append(finding_neverland(net, p1, p2, lr, batch_size, num_epochs))\n",
    "\n",
    "\n",
    "#else:    #распечатать на две модели\n",
    "#    p2 = -1\n",
    "#    for p1 in p_arr:        \n",
    "#        for lr in lr_arr:\n",
    "#            for num_epochs in num_epochs_arr:\n",
    "#                net = Model22(n_in_neurons, n_hidden_neurons_1, n_hidden_neurons_2, n_out_neurons, p1)\n",
    "#                logs.append(finding_neverland(net, p1, p2, lr, batch_size, num_epochs))\n",
    "\n",
    "#убрать на две модели    \n",
    "elif n_hidden_neurons_3 == -1:\n",
    "    url = f\"https://api.telegram.org/bot6015117129:AAGCdFJKD8mCoJc3CdMN-4b7ktiEbhpAsYA/sendMessage?chat_id=916785354&text=M_chose_2!\"\n",
    "    print(requests.get(url).json())    \n",
    "    p2 = -1\n",
    "    for p1 in p_arr:        \n",
    "        for lr in lr_arr:\n",
    "            for num_epochs in num_epochs_arr:\n",
    "                net = Model22(n_in_neurons, n_hidden_neurons_1, n_hidden_neurons_2, n_out_neurons, p1)\n",
    "                logs.append(finding_neverland(net, p1, p2, lr, batch_size, num_epochs))\n",
    "else:\n",
    "    url = f\"https://api.telegram.org/bot6015117129:AAGCdFJKD8mCoJc3CdMN-4b7ktiEbhpAsYA/sendMessage?chat_id=916785354&text=M_chose_3!\"\n",
    "    print(requests.get(url).json())    \n",
    "    for p1 in p_arr:\n",
    "        for p2 in p_arr:            \n",
    "            for lr in lr_arr:\n",
    "                for num_epochs in num_epochs_arr:\n",
    "                    net = Model33(n_in_neurons, n_hidden_neurons_1, n_hidden_neurons_2, \n",
    "                          n_hidden_neurons_3, n_out_neurons, p1, p2)\n",
    "                    logs.append(finding_neverland(net, p1, p2, lr, batch_size, num_epochs))\n",
    "                \n"
   ]
  },
  {
   "cell_type": "code",
   "execution_count": 71,
   "id": "5e45df43",
   "metadata": {},
   "outputs": [],
   "source": [
    "logs_ = pd.DataFrame(logs, columns=['RMSE', 'p1', 'p2', 'lr', 'num_epochs'])"
   ]
  },
  {
   "cell_type": "code",
   "execution_count": 72,
   "id": "e1e6024e-7aab-47cb-8387-a6c1ddea64f1",
   "metadata": {},
   "outputs": [
    {
     "data": {
      "text/html": [
       "<div>\n",
       "<style scoped>\n",
       "    .dataframe tbody tr th:only-of-type {\n",
       "        vertical-align: middle;\n",
       "    }\n",
       "\n",
       "    .dataframe tbody tr th {\n",
       "        vertical-align: top;\n",
       "    }\n",
       "\n",
       "    .dataframe thead th {\n",
       "        text-align: right;\n",
       "    }\n",
       "</style>\n",
       "<table border=\"1\" class=\"dataframe\">\n",
       "  <thead>\n",
       "    <tr style=\"text-align: right;\">\n",
       "      <th></th>\n",
       "      <th>RMSE</th>\n",
       "      <th>p1</th>\n",
       "      <th>p2</th>\n",
       "      <th>lr</th>\n",
       "      <th>num_epochs</th>\n",
       "    </tr>\n",
       "  </thead>\n",
       "  <tbody>\n",
       "    <tr>\n",
       "      <th>184</th>\n",
       "      <td>3159.558</td>\n",
       "      <td>0.1</td>\n",
       "      <td>0.0</td>\n",
       "      <td>0.025</td>\n",
       "      <td>200</td>\n",
       "    </tr>\n",
       "  </tbody>\n",
       "</table>\n",
       "</div>"
      ],
      "text/plain": [
       "         RMSE   p1   p2     lr  num_epochs\n",
       "184  3159.558  0.1  0.0  0.025         200"
      ]
     },
     "execution_count": 72,
     "metadata": {},
     "output_type": "execute_result"
    }
   ],
   "source": [
    "logs_.sort_values('RMSE').head(1)"
   ]
  },
  {
   "cell_type": "code",
   "execution_count": 73,
   "id": "e771ea49-d38c-43ef-9622-05f99c1c16bc",
   "metadata": {},
   "outputs": [],
   "source": [
    "p1 = list(logs_.sort_values('RMSE').head(1)['p1'].astype('int64'))[0]\n",
    "p2 = list(logs_.sort_values('RMSE').head(1)['p2'].astype('int64'))[0]\n",
    "lr = list(logs_.sort_values('RMSE').head(1)['lr'].astype('float'))[0]\n",
    "num_epochs = list(logs_.sort_values('RMSE').head(1)['num_epochs'].astype('int64'))[0]\n",
    "\n"
   ]
  },
  {
   "cell_type": "code",
   "execution_count": 74,
   "id": "f31b319a",
   "metadata": {},
   "outputs": [
    {
     "name": "stdout",
     "output_type": "stream",
     "text": [
      "p1 0 \n",
      "p2 0 \n",
      "lr 0.025 \n",
      "num_epochs 200\n"
     ]
    }
   ],
   "source": [
    "print('p1', p1,\n",
    "        '\\np2', p2,\n",
    "        '\\nlr', lr,\n",
    "        '\\nnum_epochs', num_epochs)"
   ]
  },
  {
   "cell_type": "markdown",
   "id": "5d282a3b-b110-4c01-9f07-1c6d7fc90d06",
   "metadata": {},
   "source": [
    "Теперь с лучшими параметрами запускаю сеть и смотрим предсказания.\n",
    "Удалось достичь ошибки меньше 4500. На обучении."
   ]
  },
  {
   "cell_type": "markdown",
   "id": "beaa53bc",
   "metadata": {},
   "source": [
    "<div class=\"alert alert-warning\">\n",
    "<h4>⚠️ Комментарий ревьюера v2</h4>\n",
    "Небольшое замечание по формулировке: метрика достигнута на тесте, а не на обучении. На обучении расчитывается loss_value - по нему можно получить RMSE на тренировочной выборке. Но вот этот расчет идет на тестовой:\n",
    "    \n",
    "    test_preds = net.forward(X_test).flatten()\n",
    "    RMSE = torch.sqrt(loss(test_preds, y_test.flatten()))\n",
    "</div> "
   ]
  },
  {
   "cell_type": "markdown",
   "id": "df772797",
   "metadata": {},
   "source": [
    "<div class=\"alert alert-block alert-info\">\n",
    "<b>Комментарий студента v2:</b> Да, действительно. Обычно мы делаем тестом проверку обученной модели при разработке, а потом уже готовую и обученную проверяем валидационной выборкой. Из-за ограниченности данных проверяю готовую модель на тестовой выборке вместо валидационной, поэтому называю ошибку при подборе параметров ошибкой обучения, а при прогонке уже подобранной сети - тестовой. Она выступает в роли валидационной, но название у неё - \"тестовая\", _test.\n",
    "</div>"
   ]
  },
  {
   "cell_type": "code",
   "execution_count": 75,
   "id": "90b82739-0e62-4ca2-ac00-81ff3ff6b2cf",
   "metadata": {},
   "outputs": [],
   "source": [
    "if n_hidden_neurons_2 == -1:\n",
    "    net = Model11(n_in_neurons, n_hidden_neurons_1, n_out_neurons)\n",
    "#else:  #как выше\n",
    "#    net = Model22(n_in_neurons, n_hidden_neurons_1, n_hidden_neurons_2, n_out_neurons, p1)\n",
    "elif n_hidden_neurons_3 == -1:\n",
    "    net = Model22(n_in_neurons, n_hidden_neurons_1, n_hidden_neurons_2, n_out_neurons, p1)\n",
    "else:\n",
    "    net = Model33(n_in_neurons, n_hidden_neurons_1, n_hidden_neurons_2, n_hidden_neurons_3, n_out_neurons, p1, p2)"
   ]
  },
  {
   "cell_type": "code",
   "execution_count": 76,
   "id": "797a6c2f-669c-4c32-b07b-bf572babd1f1",
   "metadata": {},
   "outputs": [
    {
     "name": "stdout",
     "output_type": "stream",
     "text": [
      "4119.9775\n"
     ]
    }
   ],
   "source": [
    "\n",
    "net.to(device)\n",
    "optimizer = optim(optimizer_m, net, lr)\n",
    "loss = nn.MSELoss()\n",
    "num_batches = ceil(len(X_train)/batch_size)\n",
    "\n",
    "err_train_log = []\n",
    "err_test_log = []\n",
    "\n",
    "for epoch in range(num_epochs):\n",
    "        \n",
    "    order = np.random.permutation(len(X_train)) \n",
    "        \n",
    "    optimizer.zero_grad()\n",
    "    err_log=[]    \n",
    "    for batch_idx in range(num_batches):\n",
    "        start_index = batch_idx * batch_size\n",
    "        \n",
    "        batch_indexes = order[start_index:start_index+batch_size]\n",
    "        X_batch = X_train[batch_indexes]\n",
    "        y_batch = y_train[batch_indexes]\n",
    "    \n",
    "        preds = net.forward(X_batch).flatten() \n",
    "                \n",
    "        loss_value = loss(preds, y_batch.flatten())\n",
    "        \n",
    "        err_log.append(torch.sqrt(loss_value).detach().cpu().numpy())\n",
    "        \n",
    "        loss_value.backward()\n",
    "            \n",
    "        if ((batch_idx + 1) % accumulation_iteration == 0) or (batch_idx + 1 == num_batches):\n",
    "                \n",
    "            optimizer.step()\n",
    "            optimizer.zero_grad()\n",
    "                \n",
    "    \n",
    "    net.eval()\n",
    "    err_train_log.append(np.mean(err_log))\n",
    "    test_preds = net.forward(X_test).flatten()\n",
    "    RMSE = torch.sqrt(loss(test_preds, y_test.flatten()))\n",
    "    err_test_log.append(RMSE.detach().cpu().numpy())\n",
    "print(RMSE.detach().cpu().numpy())"
   ]
  },
  {
   "cell_type": "code",
   "execution_count": 77,
   "id": "e9225fbe",
   "metadata": {},
   "outputs": [
    {
     "data": {
      "image/png": "[encoded data removed]",
      "text/plain": [
       "<Figure size 1000x700 with 1 Axes>"
      ]
     },
     "metadata": {},
     "output_type": "display_data"
    }
   ],
   "source": [
    "x = np.arange(len(err_train_log))\n",
    "\n",
    "fig, ax = plt.subplots()\n",
    "fig.set_figwidth(10)\n",
    "fig.set_figheight(7)\n",
    "ax.set_xticks(x)\n",
    "train = ax.plot(x, err_train_log, label = 'Train loss')\n",
    "test = ax.plot(x, err_test_log, label = 'Test loss')\n",
    "ax.legend()\n",
    "ax.set_title('Потери нейросети', fontsize=20)\n",
    "ax.set_xlabel(f'Эпохи ({num_epochs})')\n",
    "ax.set_ylabel('Loss')\n",
    "plt.show()"
   ]
  },
  {
   "cell_type": "code",
   "execution_count": null,
   "id": "757b881b",
   "metadata": {},
   "outputs": [],
   "source": []
  },
  {
   "cell_type": "markdown",
   "id": "fdd5839b",
   "metadata": {},
   "source": [
    "Такое постепенное расхождение говорит о том, что модель переобучилась, если я правильно поняла.\n",
    "\n",
    "Мне кажется, что в первую сотню эпох идёт нормальное обучение, а потом рост ошибки на тесте."
   ]
  },
  {
   "cell_type": "code",
   "execution_count": 78,
   "id": "541b68d6",
   "metadata": {},
   "outputs": [
    {
     "data": {
      "image/png": "[encoded data removed]",
      "text/plain": [
       "<Figure size 1800x800 with 1 Axes>"
      ]
     },
     "metadata": {},
     "output_type": "display_data"
    }
   ],
   "source": [
    "y1 = torch.FloatTensor(test_preds.cpu()).detach().numpy().reshape([-1])\n",
    "y2 = y_test.detach().cpu().numpy().reshape([-1])\n",
    "y3 = torch.FloatTensor(test_preds_first.cpu()).detach().numpy().reshape([-1])\n",
    "x = np.arange(len(y1))\n",
    "\n",
    "fig,ax = plt.subplots()\n",
    "fig.set_figwidth(18)\n",
    "fig.set_figheight(8)\n",
    "ax.set_xticks(x)\n",
    "fact = ax.bar(x, y2, width = 1, label = 'Факт')\n",
    "first_forecast = ax.bar(x, y3, width = 0.6, label = 'Предварительный прогноз')\n",
    "forecast = ax.bar(x, y1, width = 0.3, label = 'Прогноз')\n",
    "\n",
    "ax.legend()\n",
    "ax.set_title('Факт-прогноз', fontsize=20)\n",
    "ax.set_xlabel('Номер звезды в таблице')\n",
    "ax.set_ylabel('Температура звезды')\n",
    "plt.show()"
   ]
  },
  {
   "cell_type": "code",
   "execution_count": 79,
   "id": "7fbcec16-192b-4128-9416-9eb45ea87326",
   "metadata": {},
   "outputs": [
    {
     "name": "stdout",
     "output_type": "stream",
     "text": [
      "n_hidden_neurons_1_m 300 \n",
      "n_hidden_neurons_2_m 400 \n",
      "n_hidden_neurons_3_m 200 \n",
      "batch_size_m 10 \n",
      "optimizer_m 1 p1 0 \n",
      "p2 0 \n",
      "lr 0.025 \n",
      "num_epochs 200 \n",
      "rmse 3159.55810546875 \n",
      "test rmse 4119.9775\n"
     ]
    }
   ],
   "source": [
    "print('n_hidden_neurons_1_m', n_hidden_neurons_1_m, \n",
    "    '\\nn_hidden_neurons_2_m', n_hidden_neurons_2_m,\n",
    "    '\\nn_hidden_neurons_3_m',n_hidden_neurons_3_m,\n",
    "    '\\nbatch_size_m' ,batch_size_m,\n",
    "    '\\noptimizer_m', optimizer_m,\n",
    "    'p1', p1,\n",
    "    '\\np2', p2,\n",
    "    '\\nlr', lr,\n",
    "    '\\nnum_epochs', num_epochs,\n",
    "    '\\nrmse', list(logs_.sort_values('RMSE').head(1)['RMSE'].astype('float'))[0],\n",
    "    '\\ntest rmse', RMSE.detach().cpu().numpy())"
   ]
  },
  {
   "cell_type": "markdown",
   "id": "9341a01a-7867-44e3-8e13-0dd46cce36f8",
   "metadata": {},
   "source": [
    "На обучении получилась метрика меньше 4500 (4349), но на тесте ошибка растёт (5624.7974).\n",
    "На графике видно, что какие-то предсказания модели стали удаваться лучше, а какие-то испортились. На мой взгляд, она всё ещё довольно хаотична в выборе значений для немаленьких звёзд.\n",
    "\n",
    "Возможно, нужно добавить данных, чтоб модели было понятней. "
   ]
  },
  {
   "cell_type": "code",
   "execution_count": 80,
   "id": "4d8a29c0-3388-4e84-a6ed-478a36bbb584",
   "metadata": {},
   "outputs": [
    {
     "name": "stdout",
     "output_type": "stream",
     "text": [
      "{'ok': True, 'result': {'message_id': 174, 'from': {'id': 6015117129, 'is_bot': True, 'first_name': 'hi_from_jup', 'username': 'hi_from_jup_bot'}, 'chat': {'id': 916785354, 'first_name': 'Maria', 'username': 'maria_smiles', 'type': 'private'}, 'date': 1692812869, 'text': 'M_all_sheet_done!'}}\n"
     ]
    }
   ],
   "source": [
    "import requests\n",
    "url = f\"https://api.telegram.org/bot6015117129:AAGCdFJKD8mCoJc3CdMN-4b7ktiEbhpAsYA/sendMessage?chat_id=916785354&text=M_all_sheet_done!\"\n",
    "print(requests.get(url).json())"
   ]
  },
  {
   "cell_type": "markdown",
   "id": "a1088794",
   "metadata": {},
   "source": [
    "<div class=\"alert alert-danger\">\n",
    "<h4>❌ Комментарий ревьюера:</h4>\n",
    "Тут тоже потребуется итоговый вывод.\n",
    "</div>  "
   ]
  },
  {
   "cell_type": "markdown",
   "id": "5834e1b4",
   "metadata": {},
   "source": [
    "<div class=\"alert alert-block alert-info\">\n",
    "<b>Комментарий студента:</b> На три слоя я считаю, но до конца расчётов обычно не доходит - то комп сбоит, то ядро умирает. \n",
    "    Что бы я могла ещё предпринять, как думаешь? Например, есть регуляризации l1 и l2, они учитываются в оптимизаторах, правильно? Может, у тебя есть что-то толковое про эти способы работы с весами с хорошими примерами?\n",
    "</div>"
   ]
  },
  {
   "cell_type": "markdown",
   "id": "dd1bbf31",
   "metadata": {},
   "source": [
    "<div class=\"alert alert-success\">\n",
    "<h4>✔️ Комментарий ревьюера v2</h4>\n",
    "В твоей модели довольно много нейронов получается (1000-2000), поэтому обучение трех слоев с таким количеством нейронов слишком затратно по времени и вычислительным мощностям. Поэтому все \"крашится\".\n",
    "    \n",
    "Давай разберемся, что тут можно еще предпринять. \n",
    "    \n",
    "Действительно, можно добавить регуляризацию. Регуляризация L2, как было уже замечено, реализована в оптимизаторах \"из коробки\", достаточно выставить параметр \"weight_decay\". L1 в PyTorch не представлена, но ее легко реализовать. Выглядеть это будет примерно так:\n",
    "    \n",
    "    loss = loss_fn(outputs, labels)\n",
    "    l1_lambda = 0.001\n",
    "    l1_norm = sum(torch.linalg.norm(p, 1) for p in model.parameters())\n",
    "\n",
    "    loss = loss + l1_lambda * l1_norm\n",
    "    \n",
    "Однако я не думаю, что регуляризация тут сильно поможет, но точно об этом можно узнать только после проведения экспериментов.\n",
    "    \n",
    "Возможно, стоит еще раз пересмотреть подбор дропаута. Сейчас у тебя дропаут-слой находится после первого, в котором и так мало нейронов по сравнению со следующим слоем. Можно попробовать перенести дропаут слой после второго слоя и повторить эксперимент.\n",
    "    \n",
    "Также можно еще раз посмотреть на данные и поработать с ними еще, а именно провести эксперименты с распределением данных, например, попробовать другой random_state. Лучшим вариантом будет использовать стратификацию по столбцу Star color. Он имеет наиболее сильную линейную связь с целевой переменной Temperature и при этом в колонке Star color есть дисбаланс классов. Выглядеть это будет примерно так:\n",
    "\n",
    "    X_train, X_test, y_train, y_test = \\\n",
    "      train_test_split(features, target, shuffle=True, random_state=STATE, test_size=SIZE, stratify=df['Star color'])\n",
    "      \n",
    "Однако обрати внимание, что для использования стратификации в столбце Star color должно быть минимум по 2 примера на каждый цвет. Поэтому может понадобиться дополнительная предобработка данных.\n",
    "\n",
    "Увы, толковых материалов по подбору архитектур и гиперпараметров у меня нет. В этой области еще нет каких-то строгих стандартов и стопроцентно работающих рецептов. Поэтому приходится много экспериментировать)\n",
    "</div>"
   ]
  },
  {
   "cell_type": "markdown",
   "id": "e46482c9-949d-4088-bfca-1ae790f786ba",
   "metadata": {},
   "source": [
    "<div class=\"alert alert-block alert-info\">\n",
    "<b>Комментарий студента v2:</b> Мне понравилось предложение о приёме работы, мне то очень нужно, но я решила посмотреть, как могут повлиять изменения вышеобозначенные. Поставила и меньше эпох, и меньше нейронов. Во-первых, посчиталось за небольшой промежуток времени, во-вторых получился хороший результат. В самом начале меня очень сильно напугала разница между ошибкой 14000+ и требуемой 4500, я решила, что просто так это не может случиться, и надо фигачить. Попробую добавить два скрытых слоя.\n",
    "</div>"
   ]
  },
  {
   "cell_type": "markdown",
   "id": "accurate-infrastructure",
   "metadata": {},
   "source": [
    "## Выводы"
   ]
  },
  {
   "cell_type": "markdown",
   "id": "4a962ab5",
   "metadata": {},
   "source": [
    "<div style=\"border:solid Chocolate 2px; padding: 40px\">\n",
    "\n",
    "<h4>Резюме по работе:</h4>\n",
    "\n",
    "Проделана огромная работа, у тебя получился хороший проект! \n",
    "\n",
    "Особенно хочется отметить внимание к деталям при работе с данными и подробные выводы. Чувствуется хороший исследовательский подход.\n",
    "    \n",
    "Стоит еще раз посмотреть на некоторые решения: возможно, стоит пересмотреть количество эпох для базовой модели, а также вести более подробный лог ее обучения, чтобы отследить недообучение или переобучение. Также не стоит светить токеном своего бота)\n",
    "\n",
    "Нужно обратить внимание на саму функцию обучения модели, а также добавить по результатам шагов выводы. Обрати внимание на комментарии, выделенные красным (со значком ❌): \n",
    "<ul>\n",
    "<li>нужно поправить расчет метрики в функциях обучения по всему проекту;</li>\n",
    "<li>после получения удовлетворительных результатов понадобится вывод по базовой модели (по графику \"план-факт\") и итоговый вывод по проекту.</li>\n",
    "</ul>\n",
    " \n",
    "Желаю удачи и жду твой проект на повторное ревью!\n",
    "\n",
    "</div> "
   ]
  },
  {
   "cell_type": "markdown",
   "id": "bd77b059",
   "metadata": {},
   "source": [
    "<div style=\"border:solid Chocolate 2px; padding: 40px\">\n",
    "\n",
    "<h4>Резюме по работе v2:</h4>\n",
    "\n",
    "Все критические замечания исправлены, целевое значение метрики было достигнуто, хоть и не воспроизведено. Работа может быть принята.\n",
    "    \n",
    "Рекомендую по возможности дополнить эксперименты по улучшению модели: проверить твое предположение о регуляризации, поправить дропаут по моему совету, возможно, пересмотреть распределение данных.\n",
    "    \n",
    "Также есть возможность задать вопросы по проекту, если они остались. Можешь оформить их комментариями под этим резюме.\n",
    "    \n",
    "Если вопросов нет и дополнение экспериментов не планируется, просто верни проект обратно на ревью и я приму работу.\n",
    "\n",
    "</div> "
   ]
  },
  {
   "cell_type": "markdown",
   "id": "52483cbd-b332-4f67-9af9-d492ef280234",
   "metadata": {},
   "source": [
    "<div class=\"alert alert-block alert-info\">\n",
    "<b>Комментарий студента v2:</b> Спасибо за ревью. \n",
    "</div>"
   ]
  },
  {
   "cell_type": "code",
   "execution_count": null,
   "id": "2bef935f-354b-41ad-9772-b52060562b9e",
   "metadata": {},
   "outputs": [],
   "source": []
  }
 ],
 "metadata": {
  "ExecuteTimeLog": [
   {
    "duration": 2158,
    "start_time": "2023-08-14T14:53:58.469Z"
   },
   {
    "duration": 64,
    "start_time": "2023-08-14T14:54:03.267Z"
   },
   {
    "duration": 101,
    "start_time": "2023-08-14T14:54:22.012Z"
   },
   {
    "duration": 16,
    "start_time": "2023-08-14T14:54:30.907Z"
   },
   {
    "duration": 30,
    "start_time": "2023-08-14T14:54:46.855Z"
   },
   {
    "duration": 11,
    "start_time": "2023-08-14T14:55:05.467Z"
   },
   {
    "duration": 4,
    "start_time": "2023-08-14T19:36:48.180Z"
   },
   {
    "duration": 137,
    "start_time": "2023-08-14T19:37:21.515Z"
   },
   {
    "duration": 12,
    "start_time": "2023-08-14T19:37:39.123Z"
   },
   {
    "duration": 11,
    "start_time": "2023-08-14T19:37:56.819Z"
   },
   {
    "duration": 14,
    "start_time": "2023-08-14T19:38:05.818Z"
   },
   {
    "duration": 13,
    "start_time": "2023-08-14T19:38:20.184Z"
   },
   {
    "duration": 10,
    "start_time": "2023-08-14T19:38:26.987Z"
   },
   {
    "duration": 3,
    "start_time": "2023-08-14T19:38:35.091Z"
   },
   {
    "duration": 3,
    "start_time": "2023-08-14T19:38:46.153Z"
   },
   {
    "duration": 5,
    "start_time": "2023-08-14T19:38:56.130Z"
   },
   {
    "duration": 12,
    "start_time": "2023-08-14T19:41:17.658Z"
   },
   {
    "duration": 11,
    "start_time": "2023-08-14T19:41:25.314Z"
   },
   {
    "duration": 3,
    "start_time": "2023-08-14T19:42:11.954Z"
   },
   {
    "duration": 5,
    "start_time": "2023-08-14T19:42:31.209Z"
   },
   {
    "duration": 16,
    "start_time": "2023-08-14T19:51:52.165Z"
   },
   {
    "duration": 13,
    "start_time": "2023-08-14T19:52:16.604Z"
   },
   {
    "duration": 3,
    "start_time": "2023-08-14T19:59:34.689Z"
   },
   {
    "duration": 20,
    "start_time": "2023-08-14T20:00:19.952Z"
   },
   {
    "duration": 4,
    "start_time": "2023-08-14T20:00:48.842Z"
   },
   {
    "duration": 15,
    "start_time": "2023-08-14T20:00:49.385Z"
   },
   {
    "duration": 126,
    "start_time": "2023-08-14T20:02:56.137Z"
   },
   {
    "duration": 4,
    "start_time": "2023-08-14T20:04:30.758Z"
   },
   {
    "duration": 3,
    "start_time": "2023-08-14T20:04:31.969Z"
   },
   {
    "duration": 4,
    "start_time": "2023-08-14T20:04:48.399Z"
   },
   {
    "duration": 5,
    "start_time": "2023-08-14T20:05:22.656Z"
   },
   {
    "duration": 4,
    "start_time": "2023-08-14T20:05:23.230Z"
   },
   {
    "duration": 5,
    "start_time": "2023-08-14T20:05:23.927Z"
   },
   {
    "duration": 5,
    "start_time": "2023-08-14T20:05:50.694Z"
   },
   {
    "duration": 6,
    "start_time": "2023-08-14T20:05:54.095Z"
   },
   {
    "duration": 9,
    "start_time": "2023-08-14T20:14:40.083Z"
   },
   {
    "duration": 4,
    "start_time": "2023-08-14T20:14:54.931Z"
   },
   {
    "duration": 4,
    "start_time": "2023-08-14T20:15:08.850Z"
   },
   {
    "duration": 5,
    "start_time": "2023-08-14T20:15:10.282Z"
   },
   {
    "duration": 3,
    "start_time": "2023-08-14T20:16:09.786Z"
   },
   {
    "duration": 5,
    "start_time": "2023-08-14T20:16:10.898Z"
   },
   {
    "duration": 2278,
    "start_time": "2023-08-14T20:16:21.546Z"
   },
   {
    "duration": 29,
    "start_time": "2023-08-14T20:16:23.826Z"
   },
   {
    "duration": 14,
    "start_time": "2023-08-14T20:16:23.857Z"
   },
   {
    "duration": 107,
    "start_time": "2023-08-14T20:16:25.650Z"
   },
   {
    "duration": 26,
    "start_time": "2023-08-14T20:16:27.842Z"
   },
   {
    "duration": 5,
    "start_time": "2023-08-14T20:16:29.938Z"
   },
   {
    "duration": 84,
    "start_time": "2023-08-14T20:16:31.562Z"
   },
   {
    "duration": 4,
    "start_time": "2023-08-14T20:17:01.754Z"
   },
   {
    "duration": 5,
    "start_time": "2023-08-14T20:17:02.841Z"
   },
   {
    "duration": 5,
    "start_time": "2023-08-14T20:17:04.329Z"
   },
   {
    "duration": 1863,
    "start_time": "2023-08-14T20:17:19.236Z"
   },
   {
    "duration": 28,
    "start_time": "2023-08-14T20:17:21.101Z"
   },
   {
    "duration": 16,
    "start_time": "2023-08-14T20:17:21.131Z"
   },
   {
    "duration": 126,
    "start_time": "2023-08-14T20:17:21.149Z"
   },
   {
    "duration": 25,
    "start_time": "2023-08-14T20:17:21.278Z"
   },
   {
    "duration": 44,
    "start_time": "2023-08-14T20:17:21.304Z"
   },
   {
    "duration": 18,
    "start_time": "2023-08-14T20:17:21.349Z"
   },
   {
    "duration": 40,
    "start_time": "2023-08-14T20:17:21.368Z"
   },
   {
    "duration": 50,
    "start_time": "2023-08-14T20:17:21.410Z"
   },
   {
    "duration": 3,
    "start_time": "2023-08-14T20:20:07.232Z"
   },
   {
    "duration": 28,
    "start_time": "2023-08-14T20:20:08.063Z"
   },
   {
    "duration": 139,
    "start_time": "2023-08-14T20:21:06.824Z"
   },
   {
    "duration": 1353,
    "start_time": "2023-08-14T20:21:22.968Z"
   },
   {
    "duration": 34,
    "start_time": "2023-08-14T20:21:38.000Z"
   },
   {
    "duration": 7,
    "start_time": "2023-08-14T20:24:33.726Z"
   },
   {
    "duration": 6399,
    "start_time": "2023-08-14T20:25:05.158Z"
   },
   {
    "duration": 2278,
    "start_time": "2023-08-15T07:56:03.297Z"
   },
   {
    "duration": 74,
    "start_time": "2023-08-15T07:56:05.577Z"
   },
   {
    "duration": 119,
    "start_time": "2023-08-15T07:56:05.652Z"
   },
   {
    "duration": 42,
    "start_time": "2023-08-15T07:56:05.774Z"
   },
   {
    "duration": 21,
    "start_time": "2023-08-15T07:56:05.818Z"
   },
   {
    "duration": 86,
    "start_time": "2023-08-15T07:56:05.842Z"
   },
   {
    "duration": 4,
    "start_time": "2023-08-15T07:56:06.359Z"
   },
   {
    "duration": 9,
    "start_time": "2023-08-15T07:56:06.673Z"
   },
   {
    "duration": 17,
    "start_time": "2023-08-15T07:56:07.029Z"
   },
   {
    "duration": 7,
    "start_time": "2023-08-15T07:56:07.725Z"
   },
   {
    "duration": 6762,
    "start_time": "2023-08-15T07:56:10.109Z"
   },
   {
    "duration": 15,
    "start_time": "2023-08-15T07:56:27.308Z"
   },
   {
    "duration": 141,
    "start_time": "2023-08-15T07:56:38.642Z"
   },
   {
    "duration": 4,
    "start_time": "2023-08-15T07:56:44.000Z"
   },
   {
    "duration": 16,
    "start_time": "2023-08-15T07:56:45.167Z"
   },
   {
    "duration": 7,
    "start_time": "2023-08-15T07:56:48.996Z"
   },
   {
    "duration": 4389,
    "start_time": "2023-08-15T07:56:51.289Z"
   },
   {
    "duration": 2972,
    "start_time": "2023-08-15T08:20:10.697Z"
   },
   {
    "duration": 202,
    "start_time": "2023-08-15T08:25:41.986Z"
   },
   {
    "duration": 2297,
    "start_time": "2023-08-15T08:26:02.896Z"
   },
   {
    "duration": 253,
    "start_time": "2023-08-15T08:26:51.859Z"
   },
   {
    "duration": 426,
    "start_time": "2023-08-15T08:27:11.499Z"
   },
   {
    "duration": 231,
    "start_time": "2023-08-15T08:27:29.469Z"
   },
   {
    "duration": 215,
    "start_time": "2023-08-15T08:27:56.126Z"
   },
   {
    "duration": 260,
    "start_time": "2023-08-15T08:31:37.784Z"
   },
   {
    "duration": 354,
    "start_time": "2023-08-15T08:38:25.490Z"
   },
   {
    "duration": 270,
    "start_time": "2023-08-15T08:39:00.851Z"
   },
   {
    "duration": 253,
    "start_time": "2023-08-15T08:40:33.896Z"
   },
   {
    "duration": 218,
    "start_time": "2023-08-15T08:41:03.491Z"
   },
   {
    "duration": 249,
    "start_time": "2023-08-15T08:41:31.855Z"
   },
   {
    "duration": 239,
    "start_time": "2023-08-15T08:41:53.572Z"
   },
   {
    "duration": 431,
    "start_time": "2023-08-15T08:42:16.257Z"
   },
   {
    "duration": 242,
    "start_time": "2023-08-15T08:42:35.494Z"
   },
   {
    "duration": 246,
    "start_time": "2023-08-15T08:43:40.865Z"
   },
   {
    "duration": 275,
    "start_time": "2023-08-15T08:44:35.886Z"
   },
   {
    "duration": 255,
    "start_time": "2023-08-15T08:45:01.590Z"
   },
   {
    "duration": 234,
    "start_time": "2023-08-15T08:45:54.586Z"
   },
   {
    "duration": 244,
    "start_time": "2023-08-15T08:46:51.046Z"
   },
   {
    "duration": 1984,
    "start_time": "2023-08-15T10:41:36.306Z"
   },
   {
    "duration": 31,
    "start_time": "2023-08-15T10:41:38.292Z"
   },
   {
    "duration": 134,
    "start_time": "2023-08-15T10:41:38.325Z"
   },
   {
    "duration": 65,
    "start_time": "2023-08-15T10:41:38.461Z"
   },
   {
    "duration": 27,
    "start_time": "2023-08-15T10:41:38.529Z"
   },
   {
    "duration": 69,
    "start_time": "2023-08-15T10:41:38.558Z"
   },
   {
    "duration": 98,
    "start_time": "2023-08-15T10:41:38.629Z"
   },
   {
    "duration": 21,
    "start_time": "2023-08-15T10:41:38.729Z"
   },
   {
    "duration": 96,
    "start_time": "2023-08-15T10:41:38.751Z"
   },
   {
    "duration": 35,
    "start_time": "2023-08-15T10:41:38.849Z"
   },
   {
    "duration": 61,
    "start_time": "2023-08-15T10:41:38.886Z"
   },
   {
    "duration": 4322,
    "start_time": "2023-08-15T10:41:38.949Z"
   },
   {
    "duration": 253,
    "start_time": "2023-08-15T10:41:43.273Z"
   },
   {
    "duration": 10,
    "start_time": "2023-08-15T10:43:08.957Z"
   },
   {
    "duration": 143,
    "start_time": "2023-08-15T10:43:25.315Z"
   },
   {
    "duration": 8,
    "start_time": "2023-08-15T10:43:31.924Z"
   },
   {
    "duration": 20,
    "start_time": "2023-08-15T10:43:36.121Z"
   },
   {
    "duration": 8,
    "start_time": "2023-08-15T10:43:53.330Z"
   },
   {
    "duration": 13,
    "start_time": "2023-08-15T10:45:57.578Z"
   },
   {
    "duration": 303,
    "start_time": "2023-08-15T10:47:33.127Z"
   },
   {
    "duration": 141,
    "start_time": "2023-08-15T10:47:57.899Z"
   },
   {
    "duration": 20,
    "start_time": "2023-08-15T10:48:15.731Z"
   },
   {
    "duration": 255,
    "start_time": "2023-08-15T10:48:22.591Z"
   },
   {
    "duration": 171,
    "start_time": "2023-08-15T10:48:37.088Z"
   },
   {
    "duration": 13,
    "start_time": "2023-08-15T10:49:06.370Z"
   },
   {
    "duration": 12,
    "start_time": "2023-08-15T10:50:51.798Z"
   },
   {
    "duration": 77,
    "start_time": "2023-08-15T10:58:46.127Z"
   },
   {
    "duration": 54,
    "start_time": "2023-08-15T10:59:17.882Z"
   },
   {
    "duration": 68,
    "start_time": "2023-08-15T10:59:22.259Z"
   },
   {
    "duration": 115,
    "start_time": "2023-08-15T10:59:33.822Z"
   },
   {
    "duration": 28,
    "start_time": "2023-08-15T11:00:07.321Z"
   },
   {
    "duration": 26,
    "start_time": "2023-08-15T11:01:23.686Z"
   },
   {
    "duration": 28,
    "start_time": "2023-08-15T11:01:29.109Z"
   },
   {
    "duration": 26,
    "start_time": "2023-08-15T11:01:42.631Z"
   },
   {
    "duration": 24,
    "start_time": "2023-08-15T11:02:08.656Z"
   },
   {
    "duration": 1948,
    "start_time": "2023-08-15T11:04:43.481Z"
   },
   {
    "duration": 31,
    "start_time": "2023-08-15T11:04:45.431Z"
   },
   {
    "duration": 274,
    "start_time": "2023-08-15T11:04:45.464Z"
   },
   {
    "duration": 264,
    "start_time": "2023-08-15T11:04:45.741Z"
   },
   {
    "duration": 75,
    "start_time": "2023-08-15T11:04:46.007Z"
   },
   {
    "duration": 15,
    "start_time": "2023-08-15T11:04:46.084Z"
   },
   {
    "duration": 32,
    "start_time": "2023-08-15T11:04:46.101Z"
   },
   {
    "duration": 5,
    "start_time": "2023-08-15T11:04:46.134Z"
   },
   {
    "duration": 44,
    "start_time": "2023-08-15T11:04:46.140Z"
   },
   {
    "duration": 16,
    "start_time": "2023-08-15T11:04:46.187Z"
   },
   {
    "duration": 18,
    "start_time": "2023-08-15T11:04:46.205Z"
   },
   {
    "duration": 27,
    "start_time": "2023-08-15T11:04:46.225Z"
   },
   {
    "duration": 13,
    "start_time": "2023-08-15T11:04:46.254Z"
   },
   {
    "duration": 4361,
    "start_time": "2023-08-15T11:04:46.270Z"
   },
   {
    "duration": 254,
    "start_time": "2023-08-15T11:04:50.633Z"
   },
   {
    "duration": 28,
    "start_time": "2023-08-15T11:06:16.248Z"
   },
   {
    "duration": 2065,
    "start_time": "2023-08-15T11:11:00.057Z"
   },
   {
    "duration": 31,
    "start_time": "2023-08-15T11:11:02.124Z"
   },
   {
    "duration": 143,
    "start_time": "2023-08-15T11:11:02.157Z"
   },
   {
    "duration": 27,
    "start_time": "2023-08-15T11:11:02.309Z"
   },
   {
    "duration": 5,
    "start_time": "2023-08-15T11:11:02.339Z"
   },
   {
    "duration": 5,
    "start_time": "2023-08-15T11:11:02.347Z"
   },
   {
    "duration": 34,
    "start_time": "2023-08-15T11:11:02.355Z"
   },
   {
    "duration": 23,
    "start_time": "2023-08-15T11:11:02.391Z"
   },
   {
    "duration": 39,
    "start_time": "2023-08-15T11:11:02.416Z"
   },
   {
    "duration": 19,
    "start_time": "2023-08-15T11:11:02.458Z"
   },
   {
    "duration": 37,
    "start_time": "2023-08-15T11:11:02.480Z"
   },
   {
    "duration": 34,
    "start_time": "2023-08-15T11:11:02.519Z"
   },
   {
    "duration": 20,
    "start_time": "2023-08-15T11:11:02.555Z"
   },
   {
    "duration": 4429,
    "start_time": "2023-08-15T11:11:02.578Z"
   },
   {
    "duration": 274,
    "start_time": "2023-08-15T11:11:07.008Z"
   },
   {
    "duration": 512,
    "start_time": "2023-08-15T11:18:55.300Z"
   },
   {
    "duration": 259,
    "start_time": "2023-08-15T11:19:05.363Z"
   },
   {
    "duration": 218,
    "start_time": "2023-08-15T11:19:18.846Z"
   },
   {
    "duration": 258,
    "start_time": "2023-08-15T11:19:31.087Z"
   },
   {
    "duration": 4,
    "start_time": "2023-08-15T11:30:28.142Z"
   },
   {
    "duration": 12,
    "start_time": "2023-08-15T11:30:55.746Z"
   },
   {
    "duration": 168,
    "start_time": "2023-08-15T11:31:01.014Z"
   },
   {
    "duration": 2293,
    "start_time": "2023-08-15T11:32:59.039Z"
   },
   {
    "duration": 3,
    "start_time": "2023-08-15T11:33:59.912Z"
   },
   {
    "duration": 1538,
    "start_time": "2023-08-15T11:34:00.797Z"
   },
   {
    "duration": 1344,
    "start_time": "2023-08-15T11:34:12.061Z"
   },
   {
    "duration": 1606,
    "start_time": "2023-08-15T11:34:19.066Z"
   },
   {
    "duration": 892,
    "start_time": "2023-08-15T11:34:53.638Z"
   },
   {
    "duration": 3,
    "start_time": "2023-08-15T11:34:59.584Z"
   },
   {
    "duration": 1373,
    "start_time": "2023-08-15T11:35:00.016Z"
   },
   {
    "duration": 212,
    "start_time": "2023-08-15T11:35:32.523Z"
   },
   {
    "duration": 1325,
    "start_time": "2023-08-15T11:35:38.811Z"
   },
   {
    "duration": 230,
    "start_time": "2023-08-15T11:35:56.887Z"
   },
   {
    "duration": 1225,
    "start_time": "2023-08-15T11:36:01.864Z"
   },
   {
    "duration": 1290,
    "start_time": "2023-08-15T11:36:08.976Z"
   },
   {
    "duration": 1106,
    "start_time": "2023-08-15T11:36:36.180Z"
   },
   {
    "duration": 6,
    "start_time": "2023-08-15T15:00:49.672Z"
   },
   {
    "duration": 6,
    "start_time": "2023-08-15T15:02:44.294Z"
   },
   {
    "duration": 9,
    "start_time": "2023-08-15T15:03:30.363Z"
   },
   {
    "duration": 17,
    "start_time": "2023-08-15T15:04:46.846Z"
   },
   {
    "duration": 1935,
    "start_time": "2023-08-15T15:05:04.742Z"
   },
   {
    "duration": 13,
    "start_time": "2023-08-15T15:06:03.333Z"
   },
   {
    "duration": 17,
    "start_time": "2023-08-15T15:06:09.117Z"
   },
   {
    "duration": 439,
    "start_time": "2023-08-15T15:07:18.861Z"
   },
   {
    "duration": 6,
    "start_time": "2023-08-15T15:24:52.684Z"
   },
   {
    "duration": 5,
    "start_time": "2023-08-15T15:24:59.484Z"
   },
   {
    "duration": 4,
    "start_time": "2023-08-15T15:25:12.076Z"
   },
   {
    "duration": 6,
    "start_time": "2023-08-15T15:25:27.300Z"
   },
   {
    "duration": 5,
    "start_time": "2023-08-15T15:25:39.788Z"
   },
   {
    "duration": 6,
    "start_time": "2023-08-15T15:25:45.291Z"
   },
   {
    "duration": 16,
    "start_time": "2023-08-15T15:25:50.819Z"
   },
   {
    "duration": 6,
    "start_time": "2023-08-15T15:25:54.455Z"
   },
   {
    "duration": 14,
    "start_time": "2023-08-15T15:55:03.188Z"
   },
   {
    "duration": 3,
    "start_time": "2023-08-15T15:55:06.847Z"
   },
   {
    "duration": 17,
    "start_time": "2023-08-15T15:55:08.084Z"
   },
   {
    "duration": 6,
    "start_time": "2023-08-15T15:56:01.164Z"
   },
   {
    "duration": 4,
    "start_time": "2023-08-15T16:15:19.102Z"
   },
   {
    "duration": 4,
    "start_time": "2023-08-15T16:15:43.805Z"
   },
   {
    "duration": 4,
    "start_time": "2023-08-15T16:17:08.516Z"
   },
   {
    "duration": 22,
    "start_time": "2023-08-15T16:17:09.148Z"
   },
   {
    "duration": 32,
    "start_time": "2023-08-15T16:17:35.821Z"
   },
   {
    "duration": 17,
    "start_time": "2023-08-15T16:18:00.236Z"
   },
   {
    "duration": 6,
    "start_time": "2023-08-15T16:18:32.747Z"
   },
   {
    "duration": 20,
    "start_time": "2023-08-15T16:18:38.035Z"
   },
   {
    "duration": 20,
    "start_time": "2023-08-15T16:19:39.564Z"
   },
   {
    "duration": 4,
    "start_time": "2023-08-15T16:19:59.523Z"
   },
   {
    "duration": 17,
    "start_time": "2023-08-15T16:20:01.082Z"
   },
   {
    "duration": 29,
    "start_time": "2023-08-15T16:20:27.403Z"
   },
   {
    "duration": 3,
    "start_time": "2023-08-15T16:30:49.014Z"
   },
   {
    "duration": 19,
    "start_time": "2023-08-15T16:30:49.591Z"
   },
   {
    "duration": 19,
    "start_time": "2023-08-15T16:31:06.055Z"
   },
   {
    "duration": 19,
    "start_time": "2023-08-15T16:31:34.703Z"
   },
   {
    "duration": 21,
    "start_time": "2023-08-15T16:32:03.127Z"
   },
   {
    "duration": 5,
    "start_time": "2023-08-15T16:36:25.853Z"
   },
   {
    "duration": 18,
    "start_time": "2023-08-15T16:36:34.053Z"
   },
   {
    "duration": 13,
    "start_time": "2023-08-15T16:36:42.477Z"
   },
   {
    "duration": 2103,
    "start_time": "2023-08-15T16:37:09.158Z"
   },
   {
    "duration": 31,
    "start_time": "2023-08-15T16:37:11.263Z"
   },
   {
    "duration": 124,
    "start_time": "2023-08-15T16:37:11.296Z"
   },
   {
    "duration": 25,
    "start_time": "2023-08-15T16:37:11.422Z"
   },
   {
    "duration": 4,
    "start_time": "2023-08-15T16:37:11.450Z"
   },
   {
    "duration": 30,
    "start_time": "2023-08-15T16:37:11.456Z"
   },
   {
    "duration": 4,
    "start_time": "2023-08-15T16:37:11.488Z"
   },
   {
    "duration": 24,
    "start_time": "2023-08-15T16:37:11.494Z"
   },
   {
    "duration": 24,
    "start_time": "2023-08-15T16:37:11.520Z"
   },
   {
    "duration": 13,
    "start_time": "2023-08-15T16:37:11.546Z"
   },
   {
    "duration": 4715,
    "start_time": "2023-08-15T16:37:11.560Z"
   },
   {
    "duration": 4,
    "start_time": "2023-08-15T16:37:16.278Z"
   },
   {
    "duration": 1375,
    "start_time": "2023-08-15T16:37:16.285Z"
   },
   {
    "duration": 288,
    "start_time": "2023-08-15T16:37:17.663Z"
   },
   {
    "duration": 487,
    "start_time": "2023-08-15T16:37:17.953Z"
   },
   {
    "duration": 4,
    "start_time": "2023-08-15T16:37:18.442Z"
   },
   {
    "duration": 77,
    "start_time": "2023-08-15T16:37:18.448Z"
   },
   {
    "duration": 30,
    "start_time": "2023-08-15T16:37:18.527Z"
   },
   {
    "duration": 84,
    "start_time": "2023-08-15T16:37:18.558Z"
   },
   {
    "duration": 14,
    "start_time": "2023-08-15T16:37:18.644Z"
   },
   {
    "duration": 41,
    "start_time": "2023-08-15T16:37:18.660Z"
   },
   {
    "duration": 15,
    "start_time": "2023-08-15T16:37:18.703Z"
   },
   {
    "duration": 153,
    "start_time": "2023-08-15T16:37:18.720Z"
   },
   {
    "duration": 0,
    "start_time": "2023-08-15T16:37:18.875Z"
   },
   {
    "duration": 0,
    "start_time": "2023-08-15T16:37:18.876Z"
   },
   {
    "duration": 16,
    "start_time": "2023-08-15T16:39:11.379Z"
   },
   {
    "duration": 13,
    "start_time": "2023-08-15T16:41:52.859Z"
   },
   {
    "duration": 13,
    "start_time": "2023-08-15T16:42:39.619Z"
   },
   {
    "duration": 6,
    "start_time": "2023-08-15T16:43:00.635Z"
   },
   {
    "duration": 4,
    "start_time": "2023-08-15T16:43:09.320Z"
   },
   {
    "duration": 17,
    "start_time": "2023-08-15T16:43:10.642Z"
   },
   {
    "duration": 3,
    "start_time": "2023-08-15T16:45:11.455Z"
   },
   {
    "duration": 16,
    "start_time": "2023-08-15T16:45:54.905Z"
   },
   {
    "duration": 10,
    "start_time": "2023-08-15T16:46:01.993Z"
   },
   {
    "duration": 8,
    "start_time": "2023-08-15T16:46:12.201Z"
   },
   {
    "duration": 8,
    "start_time": "2023-08-15T16:48:50.666Z"
   },
   {
    "duration": 9,
    "start_time": "2023-08-15T16:49:30.772Z"
   },
   {
    "duration": 7,
    "start_time": "2023-08-15T16:49:33.074Z"
   },
   {
    "duration": 4,
    "start_time": "2023-08-15T16:50:16.671Z"
   },
   {
    "duration": 16,
    "start_time": "2023-08-15T16:50:54.240Z"
   },
   {
    "duration": 29,
    "start_time": "2023-08-15T16:51:13.378Z"
   },
   {
    "duration": 36,
    "start_time": "2023-08-15T16:51:55.783Z"
   },
   {
    "duration": 7,
    "start_time": "2023-08-15T16:53:11.925Z"
   },
   {
    "duration": 2046,
    "start_time": "2023-08-15T16:53:22.180Z"
   },
   {
    "duration": 31,
    "start_time": "2023-08-15T16:53:24.229Z"
   },
   {
    "duration": 122,
    "start_time": "2023-08-15T16:53:24.263Z"
   },
   {
    "duration": 24,
    "start_time": "2023-08-15T16:53:24.387Z"
   },
   {
    "duration": 4,
    "start_time": "2023-08-15T16:53:24.413Z"
   },
   {
    "duration": 26,
    "start_time": "2023-08-15T16:53:24.419Z"
   },
   {
    "duration": 5,
    "start_time": "2023-08-15T16:53:24.447Z"
   },
   {
    "duration": 14,
    "start_time": "2023-08-15T16:53:24.453Z"
   },
   {
    "duration": 14,
    "start_time": "2023-08-15T16:53:24.469Z"
   },
   {
    "duration": 19,
    "start_time": "2023-08-15T16:53:24.508Z"
   },
   {
    "duration": 4502,
    "start_time": "2023-08-15T16:53:24.529Z"
   },
   {
    "duration": 3,
    "start_time": "2023-08-15T16:53:29.034Z"
   },
   {
    "duration": 1406,
    "start_time": "2023-08-15T16:53:29.042Z"
   },
   {
    "duration": 280,
    "start_time": "2023-08-15T16:53:30.450Z"
   },
   {
    "duration": 429,
    "start_time": "2023-08-15T16:53:30.733Z"
   },
   {
    "duration": 4,
    "start_time": "2023-08-15T16:53:31.165Z"
   },
   {
    "duration": 30,
    "start_time": "2023-08-15T16:53:31.171Z"
   },
   {
    "duration": 17,
    "start_time": "2023-08-15T16:53:31.203Z"
   },
   {
    "duration": 33,
    "start_time": "2023-08-15T16:53:31.223Z"
   },
   {
    "duration": 22,
    "start_time": "2023-08-15T16:53:31.259Z"
   },
   {
    "duration": 8,
    "start_time": "2023-08-15T16:53:31.283Z"
   },
   {
    "duration": 22,
    "start_time": "2023-08-15T16:53:31.293Z"
   },
   {
    "duration": 14,
    "start_time": "2023-08-15T16:53:31.318Z"
   },
   {
    "duration": 46,
    "start_time": "2023-08-15T16:53:31.334Z"
   },
   {
    "duration": 40,
    "start_time": "2023-08-15T16:53:31.383Z"
   },
   {
    "duration": 57,
    "start_time": "2023-08-15T16:53:31.425Z"
   },
   {
    "duration": 39,
    "start_time": "2023-08-15T16:53:31.484Z"
   },
   {
    "duration": 64,
    "start_time": "2023-08-15T16:53:31.525Z"
   },
   {
    "duration": 52,
    "start_time": "2023-08-15T16:53:31.591Z"
   },
   {
    "duration": 61,
    "start_time": "2023-08-15T16:53:31.645Z"
   },
   {
    "duration": 6,
    "start_time": "2023-08-15T16:55:28.398Z"
   },
   {
    "duration": 2140,
    "start_time": "2023-08-15T16:55:36.500Z"
   },
   {
    "duration": 31,
    "start_time": "2023-08-15T16:55:38.643Z"
   },
   {
    "duration": 118,
    "start_time": "2023-08-15T16:55:38.675Z"
   },
   {
    "duration": 17,
    "start_time": "2023-08-15T16:55:38.809Z"
   },
   {
    "duration": 4,
    "start_time": "2023-08-15T16:55:38.828Z"
   },
   {
    "duration": 39,
    "start_time": "2023-08-15T16:55:38.834Z"
   },
   {
    "duration": 6,
    "start_time": "2023-08-15T16:55:38.874Z"
   },
   {
    "duration": 31,
    "start_time": "2023-08-15T16:55:38.882Z"
   },
   {
    "duration": 23,
    "start_time": "2023-08-15T16:55:38.916Z"
   },
   {
    "duration": 30,
    "start_time": "2023-08-15T16:55:38.941Z"
   },
   {
    "duration": 4822,
    "start_time": "2023-08-15T16:55:38.973Z"
   },
   {
    "duration": 3,
    "start_time": "2023-08-15T16:55:43.797Z"
   },
   {
    "duration": 1414,
    "start_time": "2023-08-15T16:55:43.802Z"
   },
   {
    "duration": 275,
    "start_time": "2023-08-15T16:55:45.219Z"
   },
   {
    "duration": 456,
    "start_time": "2023-08-15T16:55:45.495Z"
   },
   {
    "duration": 5,
    "start_time": "2023-08-15T16:55:45.953Z"
   },
   {
    "duration": 38,
    "start_time": "2023-08-15T16:55:45.959Z"
   },
   {
    "duration": 36,
    "start_time": "2023-08-15T16:55:46.000Z"
   },
   {
    "duration": 30,
    "start_time": "2023-08-15T16:55:46.038Z"
   },
   {
    "duration": 60,
    "start_time": "2023-08-15T16:55:46.070Z"
   },
   {
    "duration": 33,
    "start_time": "2023-08-15T16:55:46.132Z"
   },
   {
    "duration": 26,
    "start_time": "2023-08-15T16:55:46.167Z"
   },
   {
    "duration": 27,
    "start_time": "2023-08-15T16:55:46.195Z"
   },
   {
    "duration": 41,
    "start_time": "2023-08-15T16:55:46.223Z"
   },
   {
    "duration": 30,
    "start_time": "2023-08-15T16:55:46.266Z"
   },
   {
    "duration": 44,
    "start_time": "2023-08-15T16:55:46.297Z"
   },
   {
    "duration": 27,
    "start_time": "2023-08-15T16:55:46.343Z"
   },
   {
    "duration": 40,
    "start_time": "2023-08-15T16:55:46.371Z"
   },
   {
    "duration": 51,
    "start_time": "2023-08-15T16:55:46.413Z"
   },
   {
    "duration": 48,
    "start_time": "2023-08-15T16:55:46.467Z"
   },
   {
    "duration": 1991,
    "start_time": "2023-08-15T16:58:32.186Z"
   },
   {
    "duration": 31,
    "start_time": "2023-08-15T16:58:34.179Z"
   },
   {
    "duration": 120,
    "start_time": "2023-08-15T16:58:34.212Z"
   },
   {
    "duration": 20,
    "start_time": "2023-08-15T16:58:34.334Z"
   },
   {
    "duration": 5,
    "start_time": "2023-08-15T16:58:34.358Z"
   },
   {
    "duration": 51,
    "start_time": "2023-08-15T16:58:34.366Z"
   },
   {
    "duration": 7,
    "start_time": "2023-08-15T16:58:34.419Z"
   },
   {
    "duration": 13,
    "start_time": "2023-08-15T16:58:34.428Z"
   },
   {
    "duration": 19,
    "start_time": "2023-08-15T16:58:34.444Z"
   },
   {
    "duration": 20,
    "start_time": "2023-08-15T16:58:34.465Z"
   },
   {
    "duration": 4816,
    "start_time": "2023-08-15T16:58:34.487Z"
   },
   {
    "duration": 4,
    "start_time": "2023-08-15T16:58:39.305Z"
   },
   {
    "duration": 1418,
    "start_time": "2023-08-15T16:58:39.311Z"
   },
   {
    "duration": 276,
    "start_time": "2023-08-15T16:58:40.733Z"
   },
   {
    "duration": 459,
    "start_time": "2023-08-15T16:58:41.011Z"
   },
   {
    "duration": 5,
    "start_time": "2023-08-15T16:58:41.472Z"
   },
   {
    "duration": 30,
    "start_time": "2023-08-15T16:58:41.479Z"
   },
   {
    "duration": 15,
    "start_time": "2023-08-15T16:58:41.511Z"
   },
   {
    "duration": 10,
    "start_time": "2023-08-15T16:58:41.528Z"
   },
   {
    "duration": 22,
    "start_time": "2023-08-15T16:58:41.540Z"
   },
   {
    "duration": 9,
    "start_time": "2023-08-15T16:58:41.564Z"
   },
   {
    "duration": 17,
    "start_time": "2023-08-15T16:58:41.575Z"
   },
   {
    "duration": 618,
    "start_time": "2023-08-15T16:58:41.595Z"
   },
   {
    "duration": 0,
    "start_time": "2023-08-15T16:58:42.215Z"
   },
   {
    "duration": 0,
    "start_time": "2023-08-15T16:58:42.216Z"
   },
   {
    "duration": 0,
    "start_time": "2023-08-15T16:58:42.217Z"
   },
   {
    "duration": 0,
    "start_time": "2023-08-15T16:58:42.218Z"
   },
   {
    "duration": 0,
    "start_time": "2023-08-15T16:58:42.220Z"
   },
   {
    "duration": 0,
    "start_time": "2023-08-15T16:58:42.221Z"
   },
   {
    "duration": 0,
    "start_time": "2023-08-15T16:58:42.223Z"
   },
   {
    "duration": 6,
    "start_time": "2023-08-15T16:59:00.317Z"
   },
   {
    "duration": 10,
    "start_time": "2023-08-15T16:59:10.772Z"
   },
   {
    "duration": 11,
    "start_time": "2023-08-15T16:59:11.509Z"
   },
   {
    "duration": 11,
    "start_time": "2023-08-15T16:59:11.981Z"
   },
   {
    "duration": 39,
    "start_time": "2023-08-15T16:59:21.293Z"
   },
   {
    "duration": 40,
    "start_time": "2023-08-15T17:00:30.909Z"
   },
   {
    "duration": 2164,
    "start_time": "2023-08-15T17:04:37.191Z"
   },
   {
    "duration": 31,
    "start_time": "2023-08-15T17:04:39.359Z"
   },
   {
    "duration": 129,
    "start_time": "2023-08-15T17:04:39.392Z"
   },
   {
    "duration": 36,
    "start_time": "2023-08-15T17:04:39.523Z"
   },
   {
    "duration": 6,
    "start_time": "2023-08-15T17:04:39.562Z"
   },
   {
    "duration": 53,
    "start_time": "2023-08-15T17:04:39.570Z"
   },
   {
    "duration": 7,
    "start_time": "2023-08-15T17:04:39.625Z"
   },
   {
    "duration": 31,
    "start_time": "2023-08-15T17:04:39.633Z"
   },
   {
    "duration": 24,
    "start_time": "2023-08-15T17:04:39.667Z"
   },
   {
    "duration": 17,
    "start_time": "2023-08-15T17:04:39.693Z"
   },
   {
    "duration": 4764,
    "start_time": "2023-08-15T17:04:39.712Z"
   },
   {
    "duration": 3,
    "start_time": "2023-08-15T17:04:44.478Z"
   },
   {
    "duration": 1349,
    "start_time": "2023-08-15T17:04:44.483Z"
   },
   {
    "duration": 278,
    "start_time": "2023-08-15T17:04:45.835Z"
   },
   {
    "duration": 433,
    "start_time": "2023-08-15T17:04:46.115Z"
   },
   {
    "duration": 4,
    "start_time": "2023-08-15T17:04:46.550Z"
   },
   {
    "duration": 31,
    "start_time": "2023-08-15T17:04:46.555Z"
   },
   {
    "duration": 16,
    "start_time": "2023-08-15T17:04:46.587Z"
   },
   {
    "duration": 24,
    "start_time": "2023-08-15T17:04:46.605Z"
   },
   {
    "duration": 46,
    "start_time": "2023-08-15T17:04:46.632Z"
   },
   {
    "duration": 27,
    "start_time": "2023-08-15T17:04:46.681Z"
   },
   {
    "duration": 25,
    "start_time": "2023-08-15T17:04:46.710Z"
   },
   {
    "duration": 17,
    "start_time": "2023-08-15T17:04:46.738Z"
   },
   {
    "duration": 16,
    "start_time": "2023-08-15T17:04:46.757Z"
   },
   {
    "duration": 186,
    "start_time": "2023-08-15T17:04:46.775Z"
   },
   {
    "duration": 0,
    "start_time": "2023-08-15T17:04:46.963Z"
   },
   {
    "duration": 1,
    "start_time": "2023-08-15T17:04:46.966Z"
   },
   {
    "duration": 0,
    "start_time": "2023-08-15T17:04:46.968Z"
   },
   {
    "duration": 0,
    "start_time": "2023-08-15T17:04:46.969Z"
   },
   {
    "duration": 0,
    "start_time": "2023-08-15T17:04:46.971Z"
   },
   {
    "duration": 0,
    "start_time": "2023-08-15T17:04:46.973Z"
   },
   {
    "duration": 20,
    "start_time": "2023-08-15T17:05:01.547Z"
   },
   {
    "duration": 12,
    "start_time": "2023-08-15T17:05:21.578Z"
   },
   {
    "duration": 8,
    "start_time": "2023-08-15T17:05:26.882Z"
   },
   {
    "duration": 9,
    "start_time": "2023-08-15T17:05:27.266Z"
   },
   {
    "duration": 32,
    "start_time": "2023-08-15T17:05:29.681Z"
   },
   {
    "duration": 6,
    "start_time": "2023-08-15T17:07:03.167Z"
   },
   {
    "duration": 2026,
    "start_time": "2023-08-15T17:09:44.061Z"
   },
   {
    "duration": 41,
    "start_time": "2023-08-15T17:09:46.090Z"
   },
   {
    "duration": 127,
    "start_time": "2023-08-15T17:09:46.133Z"
   },
   {
    "duration": 35,
    "start_time": "2023-08-15T17:09:46.262Z"
   },
   {
    "duration": 46,
    "start_time": "2023-08-15T17:09:46.300Z"
   },
   {
    "duration": 51,
    "start_time": "2023-08-15T17:09:46.348Z"
   },
   {
    "duration": 32,
    "start_time": "2023-08-15T17:09:46.401Z"
   },
   {
    "duration": 55,
    "start_time": "2023-08-15T17:09:46.435Z"
   },
   {
    "duration": 57,
    "start_time": "2023-08-15T17:09:46.491Z"
   },
   {
    "duration": 18,
    "start_time": "2023-08-15T17:09:46.550Z"
   },
   {
    "duration": 4597,
    "start_time": "2023-08-15T17:09:46.570Z"
   },
   {
    "duration": 4,
    "start_time": "2023-08-15T17:09:51.168Z"
   },
   {
    "duration": 1353,
    "start_time": "2023-08-15T17:09:51.173Z"
   },
   {
    "duration": 257,
    "start_time": "2023-08-15T17:09:52.529Z"
   },
   {
    "duration": 471,
    "start_time": "2023-08-15T17:09:52.788Z"
   },
   {
    "duration": 5,
    "start_time": "2023-08-15T17:09:53.261Z"
   },
   {
    "duration": 32,
    "start_time": "2023-08-15T17:09:53.268Z"
   },
   {
    "duration": 34,
    "start_time": "2023-08-15T17:09:53.302Z"
   },
   {
    "duration": 18,
    "start_time": "2023-08-15T17:09:53.338Z"
   },
   {
    "duration": 16,
    "start_time": "2023-08-15T17:09:53.358Z"
   },
   {
    "duration": 14,
    "start_time": "2023-08-15T17:09:53.376Z"
   },
   {
    "duration": 6,
    "start_time": "2023-08-15T17:09:53.393Z"
   },
   {
    "duration": 49,
    "start_time": "2023-08-15T17:09:53.400Z"
   },
   {
    "duration": 90,
    "start_time": "2023-08-15T17:09:53.451Z"
   },
   {
    "duration": 29,
    "start_time": "2023-08-15T17:09:53.543Z"
   },
   {
    "duration": 19,
    "start_time": "2023-08-15T17:09:53.573Z"
   },
   {
    "duration": 27,
    "start_time": "2023-08-15T17:09:53.594Z"
   },
   {
    "duration": 24,
    "start_time": "2023-08-15T17:09:53.623Z"
   },
   {
    "duration": 176,
    "start_time": "2023-08-15T17:09:53.649Z"
   },
   {
    "duration": 0,
    "start_time": "2023-08-15T17:09:53.827Z"
   },
   {
    "duration": 0,
    "start_time": "2023-08-15T17:09:53.828Z"
   },
   {
    "duration": 0,
    "start_time": "2023-08-15T17:09:53.829Z"
   },
   {
    "duration": 30,
    "start_time": "2023-08-15T17:10:06.543Z"
   },
   {
    "duration": 29,
    "start_time": "2023-08-15T17:10:11.659Z"
   },
   {
    "duration": 2019,
    "start_time": "2023-08-15T17:11:45.035Z"
   },
   {
    "duration": 31,
    "start_time": "2023-08-15T17:11:47.056Z"
   },
   {
    "duration": 170,
    "start_time": "2023-08-15T17:11:47.089Z"
   },
   {
    "duration": 59,
    "start_time": "2023-08-15T17:11:47.261Z"
   },
   {
    "duration": 115,
    "start_time": "2023-08-15T17:11:47.323Z"
   },
   {
    "duration": 199,
    "start_time": "2023-08-15T17:11:47.440Z"
   },
   {
    "duration": 6,
    "start_time": "2023-08-15T17:11:47.641Z"
   },
   {
    "duration": 55,
    "start_time": "2023-08-15T17:11:47.648Z"
   },
   {
    "duration": 62,
    "start_time": "2023-08-15T17:11:47.705Z"
   },
   {
    "duration": 88,
    "start_time": "2023-08-15T17:11:47.769Z"
   },
   {
    "duration": 4384,
    "start_time": "2023-08-15T17:11:47.859Z"
   },
   {
    "duration": 3,
    "start_time": "2023-08-15T17:11:52.244Z"
   },
   {
    "duration": 1326,
    "start_time": "2023-08-15T17:11:52.249Z"
   },
   {
    "duration": 266,
    "start_time": "2023-08-15T17:11:53.580Z"
   },
   {
    "duration": 462,
    "start_time": "2023-08-15T17:11:53.849Z"
   },
   {
    "duration": 5,
    "start_time": "2023-08-15T17:11:54.313Z"
   },
   {
    "duration": 43,
    "start_time": "2023-08-15T17:11:54.319Z"
   },
   {
    "duration": 28,
    "start_time": "2023-08-15T17:11:54.364Z"
   },
   {
    "duration": 11,
    "start_time": "2023-08-15T17:11:54.394Z"
   },
   {
    "duration": 14,
    "start_time": "2023-08-15T17:11:54.407Z"
   },
   {
    "duration": 24,
    "start_time": "2023-08-15T17:11:54.423Z"
   },
   {
    "duration": 18,
    "start_time": "2023-08-15T17:11:54.449Z"
   },
   {
    "duration": 21,
    "start_time": "2023-08-15T17:11:54.468Z"
   },
   {
    "duration": 17,
    "start_time": "2023-08-15T17:11:54.491Z"
   },
   {
    "duration": 50,
    "start_time": "2023-08-15T17:11:54.510Z"
   },
   {
    "duration": 18,
    "start_time": "2023-08-15T17:11:54.562Z"
   },
   {
    "duration": 26,
    "start_time": "2023-08-15T17:11:54.582Z"
   },
   {
    "duration": 18,
    "start_time": "2023-08-15T17:11:54.610Z"
   },
   {
    "duration": 21,
    "start_time": "2023-08-15T17:11:54.630Z"
   },
   {
    "duration": 37,
    "start_time": "2023-08-15T17:11:54.653Z"
   },
   {
    "duration": 50,
    "start_time": "2023-08-15T17:11:54.691Z"
   },
   {
    "duration": 60,
    "start_time": "2023-08-15T17:11:54.742Z"
   },
   {
    "duration": 1986,
    "start_time": "2023-08-15T17:13:16.029Z"
   },
   {
    "duration": 30,
    "start_time": "2023-08-15T17:13:18.017Z"
   },
   {
    "duration": 117,
    "start_time": "2023-08-15T17:13:18.049Z"
   },
   {
    "duration": 25,
    "start_time": "2023-08-15T17:13:18.168Z"
   },
   {
    "duration": 4,
    "start_time": "2023-08-15T17:13:18.196Z"
   },
   {
    "duration": 25,
    "start_time": "2023-08-15T17:13:18.209Z"
   },
   {
    "duration": 6,
    "start_time": "2023-08-15T17:13:18.236Z"
   },
   {
    "duration": 17,
    "start_time": "2023-08-15T17:13:18.244Z"
   },
   {
    "duration": 21,
    "start_time": "2023-08-15T17:13:18.264Z"
   },
   {
    "duration": 28,
    "start_time": "2023-08-15T17:13:18.287Z"
   },
   {
    "duration": 4446,
    "start_time": "2023-08-15T17:13:18.317Z"
   },
   {
    "duration": 3,
    "start_time": "2023-08-15T17:13:22.765Z"
   },
   {
    "duration": 1322,
    "start_time": "2023-08-15T17:13:22.770Z"
   },
   {
    "duration": 263,
    "start_time": "2023-08-15T17:13:24.095Z"
   },
   {
    "duration": 457,
    "start_time": "2023-08-15T17:13:24.360Z"
   },
   {
    "duration": 4,
    "start_time": "2023-08-15T17:13:24.819Z"
   },
   {
    "duration": 35,
    "start_time": "2023-08-15T17:13:24.824Z"
   },
   {
    "duration": 35,
    "start_time": "2023-08-15T17:13:24.861Z"
   },
   {
    "duration": 27,
    "start_time": "2023-08-15T17:13:24.898Z"
   },
   {
    "duration": 102,
    "start_time": "2023-08-15T17:13:24.927Z"
   },
   {
    "duration": 58,
    "start_time": "2023-08-15T17:13:25.031Z"
   },
   {
    "duration": 40,
    "start_time": "2023-08-15T17:13:25.091Z"
   },
   {
    "duration": 22,
    "start_time": "2023-08-15T17:13:25.133Z"
   },
   {
    "duration": 38,
    "start_time": "2023-08-15T17:13:25.157Z"
   },
   {
    "duration": 152,
    "start_time": "2023-08-15T17:13:25.197Z"
   },
   {
    "duration": 0,
    "start_time": "2023-08-15T17:13:25.351Z"
   },
   {
    "duration": 0,
    "start_time": "2023-08-15T17:13:25.353Z"
   },
   {
    "duration": 0,
    "start_time": "2023-08-15T17:13:25.354Z"
   },
   {
    "duration": 0,
    "start_time": "2023-08-15T17:13:25.356Z"
   },
   {
    "duration": 0,
    "start_time": "2023-08-15T17:13:25.357Z"
   },
   {
    "duration": 0,
    "start_time": "2023-08-15T17:13:25.359Z"
   },
   {
    "duration": 0,
    "start_time": "2023-08-15T17:13:25.361Z"
   },
   {
    "duration": 19,
    "start_time": "2023-08-15T17:13:33.557Z"
   },
   {
    "duration": 18,
    "start_time": "2023-08-15T17:15:17.532Z"
   },
   {
    "duration": 2027,
    "start_time": "2023-08-15T17:15:30.520Z"
   },
   {
    "duration": 31,
    "start_time": "2023-08-15T17:15:32.549Z"
   },
   {
    "duration": 116,
    "start_time": "2023-08-15T17:15:32.582Z"
   },
   {
    "duration": 34,
    "start_time": "2023-08-15T17:15:32.700Z"
   },
   {
    "duration": 7,
    "start_time": "2023-08-15T17:15:32.737Z"
   },
   {
    "duration": 30,
    "start_time": "2023-08-15T17:15:32.746Z"
   },
   {
    "duration": 5,
    "start_time": "2023-08-15T17:15:32.778Z"
   },
   {
    "duration": 53,
    "start_time": "2023-08-15T17:15:32.784Z"
   },
   {
    "duration": 34,
    "start_time": "2023-08-15T17:15:32.839Z"
   },
   {
    "duration": 28,
    "start_time": "2023-08-15T17:15:32.875Z"
   },
   {
    "duration": 4503,
    "start_time": "2023-08-15T17:15:32.904Z"
   },
   {
    "duration": 3,
    "start_time": "2023-08-15T17:15:37.408Z"
   },
   {
    "duration": 1280,
    "start_time": "2023-08-15T17:15:37.413Z"
   },
   {
    "duration": 268,
    "start_time": "2023-08-15T17:15:38.696Z"
   },
   {
    "duration": 485,
    "start_time": "2023-08-15T17:15:38.966Z"
   },
   {
    "duration": 4,
    "start_time": "2023-08-15T17:15:39.454Z"
   },
   {
    "duration": 19,
    "start_time": "2023-08-15T17:15:39.460Z"
   },
   {
    "duration": 31,
    "start_time": "2023-08-15T17:15:39.481Z"
   },
   {
    "duration": 5,
    "start_time": "2023-08-15T17:15:39.514Z"
   },
   {
    "duration": 11,
    "start_time": "2023-08-15T17:15:39.521Z"
   },
   {
    "duration": 11,
    "start_time": "2023-08-15T17:15:39.534Z"
   },
   {
    "duration": 9,
    "start_time": "2023-08-15T17:15:39.547Z"
   },
   {
    "duration": 6,
    "start_time": "2023-08-15T17:15:39.557Z"
   },
   {
    "duration": 8,
    "start_time": "2023-08-15T17:15:39.564Z"
   },
   {
    "duration": 15,
    "start_time": "2023-08-15T17:15:39.573Z"
   },
   {
    "duration": 20,
    "start_time": "2023-08-15T17:15:39.590Z"
   },
   {
    "duration": 34,
    "start_time": "2023-08-15T17:15:39.612Z"
   },
   {
    "duration": 9,
    "start_time": "2023-08-15T17:15:39.648Z"
   },
   {
    "duration": 40,
    "start_time": "2023-08-15T17:15:39.659Z"
   },
   {
    "duration": 27,
    "start_time": "2023-08-15T17:15:39.701Z"
   },
   {
    "duration": 35,
    "start_time": "2023-08-15T17:15:39.730Z"
   },
   {
    "duration": 18,
    "start_time": "2023-08-15T17:15:39.767Z"
   },
   {
    "duration": 2054,
    "start_time": "2023-08-15T17:19:49.151Z"
   },
   {
    "duration": 31,
    "start_time": "2023-08-15T17:19:51.207Z"
   },
   {
    "duration": 123,
    "start_time": "2023-08-15T17:19:51.240Z"
   },
   {
    "duration": 33,
    "start_time": "2023-08-15T17:19:51.365Z"
   },
   {
    "duration": 16,
    "start_time": "2023-08-15T17:19:51.400Z"
   },
   {
    "duration": 33,
    "start_time": "2023-08-15T17:19:51.419Z"
   },
   {
    "duration": 7,
    "start_time": "2023-08-15T17:19:51.455Z"
   },
   {
    "duration": 21,
    "start_time": "2023-08-15T17:19:51.464Z"
   },
   {
    "duration": 28,
    "start_time": "2023-08-15T17:19:51.487Z"
   },
   {
    "duration": 16,
    "start_time": "2023-08-15T17:19:51.516Z"
   },
   {
    "duration": 4520,
    "start_time": "2023-08-15T17:19:51.534Z"
   },
   {
    "duration": 4,
    "start_time": "2023-08-15T17:19:56.056Z"
   },
   {
    "duration": 1341,
    "start_time": "2023-08-15T17:19:56.061Z"
   },
   {
    "duration": 262,
    "start_time": "2023-08-15T17:19:57.408Z"
   },
   {
    "duration": 458,
    "start_time": "2023-08-15T17:19:57.672Z"
   },
   {
    "duration": 5,
    "start_time": "2023-08-15T17:19:58.132Z"
   },
   {
    "duration": 31,
    "start_time": "2023-08-15T17:19:58.138Z"
   },
   {
    "duration": 37,
    "start_time": "2023-08-15T17:19:58.171Z"
   },
   {
    "duration": 36,
    "start_time": "2023-08-15T17:19:58.210Z"
   },
   {
    "duration": 12,
    "start_time": "2023-08-15T17:19:58.247Z"
   },
   {
    "duration": 7,
    "start_time": "2023-08-15T17:19:58.261Z"
   },
   {
    "duration": 10,
    "start_time": "2023-08-15T17:19:58.270Z"
   },
   {
    "duration": 8,
    "start_time": "2023-08-15T17:19:58.282Z"
   },
   {
    "duration": 16,
    "start_time": "2023-08-15T17:19:58.292Z"
   },
   {
    "duration": 42,
    "start_time": "2023-08-15T17:19:58.310Z"
   },
   {
    "duration": 19,
    "start_time": "2023-08-15T17:19:58.354Z"
   },
   {
    "duration": 11,
    "start_time": "2023-08-15T17:19:58.375Z"
   },
   {
    "duration": 5,
    "start_time": "2023-08-15T17:19:58.388Z"
   },
   {
    "duration": 26,
    "start_time": "2023-08-15T17:19:58.395Z"
   },
   {
    "duration": 32,
    "start_time": "2023-08-15T17:19:58.423Z"
   },
   {
    "duration": 62,
    "start_time": "2023-08-15T17:19:58.457Z"
   },
   {
    "duration": 10,
    "start_time": "2023-08-15T17:19:58.521Z"
   },
   {
    "duration": 5,
    "start_time": "2023-08-15T17:25:31.575Z"
   },
   {
    "duration": 3,
    "start_time": "2023-08-15T17:26:23.887Z"
   },
   {
    "duration": 4,
    "start_time": "2023-08-15T17:26:29.447Z"
   },
   {
    "duration": 4,
    "start_time": "2023-08-15T17:26:34.068Z"
   },
   {
    "duration": 3,
    "start_time": "2023-08-15T17:30:02.053Z"
   },
   {
    "duration": 152,
    "start_time": "2023-08-15T17:33:10.595Z"
   },
   {
    "duration": 29,
    "start_time": "2023-08-15T17:37:21.531Z"
   },
   {
    "duration": 16,
    "start_time": "2023-08-15T17:38:59.529Z"
   },
   {
    "duration": 5,
    "start_time": "2023-08-15T17:43:20.486Z"
   },
   {
    "duration": 5,
    "start_time": "2023-08-15T17:46:52.237Z"
   },
   {
    "duration": 3,
    "start_time": "2023-08-15T17:47:33.269Z"
   },
   {
    "duration": 375,
    "start_time": "2023-08-15T17:48:16.357Z"
   },
   {
    "duration": 708,
    "start_time": "2023-08-15T17:51:04.803Z"
   },
   {
    "duration": 6007,
    "start_time": "2023-08-15T17:51:29.002Z"
   },
   {
    "duration": 5088,
    "start_time": "2023-08-15T17:51:53.138Z"
   },
   {
    "duration": 6,
    "start_time": "2023-08-15T17:56:04.696Z"
   },
   {
    "duration": 4,
    "start_time": "2023-08-15T17:56:07.808Z"
   },
   {
    "duration": 4,
    "start_time": "2023-08-15T17:56:09.720Z"
   },
   {
    "duration": 5820,
    "start_time": "2023-08-15T17:56:11.692Z"
   },
   {
    "duration": 5,
    "start_time": "2023-08-15T17:57:59.495Z"
   },
   {
    "duration": 6753,
    "start_time": "2023-08-15T17:58:01.687Z"
   },
   {
    "duration": 4,
    "start_time": "2023-08-15T17:58:29.487Z"
   },
   {
    "duration": 6861,
    "start_time": "2023-08-15T17:58:31.371Z"
   },
   {
    "duration": 4,
    "start_time": "2023-08-15T18:00:57.566Z"
   },
   {
    "duration": 6,
    "start_time": "2023-08-15T18:00:58.934Z"
   },
   {
    "duration": 4,
    "start_time": "2023-08-15T18:01:00.647Z"
   },
   {
    "duration": 4,
    "start_time": "2023-08-15T18:01:02.365Z"
   },
   {
    "duration": 10383,
    "start_time": "2023-08-15T18:01:03.734Z"
   },
   {
    "duration": 8,
    "start_time": "2023-08-15T18:01:47.989Z"
   },
   {
    "duration": 4,
    "start_time": "2023-08-15T18:01:52.158Z"
   },
   {
    "duration": 5,
    "start_time": "2023-08-15T18:01:53.397Z"
   },
   {
    "duration": 18590,
    "start_time": "2023-08-15T18:01:54.542Z"
   },
   {
    "duration": 2153,
    "start_time": "2023-08-15T18:02:28.565Z"
   },
   {
    "duration": 548,
    "start_time": "2023-08-15T18:05:15.128Z"
   },
   {
    "duration": 12,
    "start_time": "2023-08-15T18:06:30.203Z"
   },
   {
    "duration": 9,
    "start_time": "2023-08-15T18:07:42.429Z"
   },
   {
    "duration": 181,
    "start_time": "2023-08-15T18:09:43.873Z"
   },
   {
    "duration": 19,
    "start_time": "2023-08-15T18:10:15.525Z"
   },
   {
    "duration": 47,
    "start_time": "2023-08-15T18:10:30.306Z"
   },
   {
    "duration": 6,
    "start_time": "2023-08-15T18:11:10.857Z"
   },
   {
    "duration": 4,
    "start_time": "2023-08-15T18:11:13.497Z"
   },
   {
    "duration": 4,
    "start_time": "2023-08-15T18:11:14.481Z"
   },
   {
    "duration": 590,
    "start_time": "2023-08-15T18:11:15.832Z"
   },
   {
    "duration": 2704,
    "start_time": "2023-08-15T18:11:51.342Z"
   },
   {
    "duration": 7,
    "start_time": "2023-08-15T18:14:30.759Z"
   },
   {
    "duration": 22,
    "start_time": "2023-08-15T18:14:33.047Z"
   },
   {
    "duration": 8,
    "start_time": "2023-08-15T18:16:25.535Z"
   },
   {
    "duration": 5,
    "start_time": "2023-08-15T18:16:27.246Z"
   },
   {
    "duration": 9,
    "start_time": "2023-08-15T18:16:53.935Z"
   },
   {
    "duration": 9,
    "start_time": "2023-08-15T18:16:54.847Z"
   },
   {
    "duration": 5,
    "start_time": "2023-08-15T18:16:56.862Z"
   },
   {
    "duration": 7,
    "start_time": "2023-08-15T18:16:58.420Z"
   },
   {
    "duration": 3397,
    "start_time": "2023-08-15T18:16:59.940Z"
   },
   {
    "duration": 549,
    "start_time": "2023-08-15T18:17:05.439Z"
   },
   {
    "duration": 16,
    "start_time": "2023-08-15T18:17:08.620Z"
   },
   {
    "duration": 6,
    "start_time": "2023-08-15T18:17:50.173Z"
   },
   {
    "duration": 4,
    "start_time": "2023-08-15T18:17:53.069Z"
   },
   {
    "duration": 4,
    "start_time": "2023-08-15T18:17:54.439Z"
   },
   {
    "duration": 2440,
    "start_time": "2023-08-15T18:17:55.805Z"
   },
   {
    "duration": 678,
    "start_time": "2023-08-15T18:18:04.583Z"
   },
   {
    "duration": 5,
    "start_time": "2023-08-15T18:18:08.173Z"
   },
   {
    "duration": 5,
    "start_time": "2023-08-15T18:20:05.448Z"
   },
   {
    "duration": 4,
    "start_time": "2023-08-15T18:20:07.284Z"
   },
   {
    "duration": 3,
    "start_time": "2023-08-15T18:20:08.460Z"
   },
   {
    "duration": 2153,
    "start_time": "2023-08-15T18:20:09.892Z"
   },
   {
    "duration": 503,
    "start_time": "2023-08-15T18:20:13.748Z"
   },
   {
    "duration": 4,
    "start_time": "2023-08-15T18:20:17.186Z"
   },
   {
    "duration": 5,
    "start_time": "2023-08-15T18:20:52.179Z"
   },
   {
    "duration": 8,
    "start_time": "2023-08-15T18:20:55.996Z"
   },
   {
    "duration": 3,
    "start_time": "2023-08-15T18:20:57.396Z"
   },
   {
    "duration": 1321,
    "start_time": "2023-08-15T18:20:58.510Z"
   },
   {
    "duration": 503,
    "start_time": "2023-08-15T18:21:01.179Z"
   },
   {
    "duration": 10,
    "start_time": "2023-08-15T18:21:03.756Z"
   },
   {
    "duration": 3,
    "start_time": "2023-08-15T18:21:23.883Z"
   },
   {
    "duration": 7,
    "start_time": "2023-08-15T18:21:26.587Z"
   },
   {
    "duration": 12,
    "start_time": "2023-08-15T18:21:28.625Z"
   },
   {
    "duration": 14989,
    "start_time": "2023-08-15T18:21:30.437Z"
   },
   {
    "duration": 595,
    "start_time": "2023-08-15T18:21:45.433Z"
   },
   {
    "duration": 36,
    "start_time": "2023-08-15T18:21:46.034Z"
   },
   {
    "duration": 115631,
    "start_time": "2023-08-15T18:22:12.212Z"
   },
   {
    "duration": 497,
    "start_time": "2023-08-15T18:25:03.258Z"
   },
   {
    "duration": 2214,
    "start_time": "2023-08-15T18:25:39.380Z"
   },
   {
    "duration": 60,
    "start_time": "2023-08-15T18:25:41.596Z"
   },
   {
    "duration": 126,
    "start_time": "2023-08-15T18:25:41.658Z"
   },
   {
    "duration": 57,
    "start_time": "2023-08-15T18:25:41.786Z"
   },
   {
    "duration": 10,
    "start_time": "2023-08-15T18:25:41.850Z"
   },
   {
    "duration": 31,
    "start_time": "2023-08-15T18:25:41.863Z"
   },
   {
    "duration": 7,
    "start_time": "2023-08-15T18:25:41.896Z"
   },
   {
    "duration": 54,
    "start_time": "2023-08-15T18:25:41.905Z"
   },
   {
    "duration": 36,
    "start_time": "2023-08-15T18:25:41.961Z"
   },
   {
    "duration": 43,
    "start_time": "2023-08-15T18:25:41.999Z"
   },
   {
    "duration": 4988,
    "start_time": "2023-08-15T18:25:42.048Z"
   },
   {
    "duration": 4,
    "start_time": "2023-08-15T18:25:47.044Z"
   },
   {
    "duration": 1550,
    "start_time": "2023-08-15T18:25:47.050Z"
   },
   {
    "duration": 295,
    "start_time": "2023-08-15T18:25:48.611Z"
   },
   {
    "duration": 470,
    "start_time": "2023-08-15T18:25:48.911Z"
   },
   {
    "duration": 5,
    "start_time": "2023-08-15T18:25:49.383Z"
   },
   {
    "duration": 33,
    "start_time": "2023-08-15T18:25:49.390Z"
   },
   {
    "duration": 59,
    "start_time": "2023-08-15T18:25:49.425Z"
   },
   {
    "duration": 17,
    "start_time": "2023-08-15T18:25:49.486Z"
   },
   {
    "duration": 65,
    "start_time": "2023-08-15T18:25:49.506Z"
   },
   {
    "duration": 6,
    "start_time": "2023-08-15T18:25:49.573Z"
   },
   {
    "duration": 7,
    "start_time": "2023-08-15T18:25:49.581Z"
   },
   {
    "duration": 7,
    "start_time": "2023-08-15T18:25:49.590Z"
   },
   {
    "duration": 55,
    "start_time": "2023-08-15T18:25:49.599Z"
   },
   {
    "duration": 15,
    "start_time": "2023-08-15T18:25:49.656Z"
   },
   {
    "duration": 18,
    "start_time": "2023-08-15T18:25:49.673Z"
   },
   {
    "duration": 52,
    "start_time": "2023-08-15T18:25:49.693Z"
   },
   {
    "duration": 28,
    "start_time": "2023-08-15T18:25:49.746Z"
   },
   {
    "duration": 31,
    "start_time": "2023-08-15T18:25:49.777Z"
   },
   {
    "duration": 63,
    "start_time": "2023-08-15T18:25:49.811Z"
   },
   {
    "duration": 11,
    "start_time": "2023-08-15T18:25:49.876Z"
   },
   {
    "duration": 13,
    "start_time": "2023-08-15T18:25:49.889Z"
   },
   {
    "duration": 53,
    "start_time": "2023-08-15T18:25:49.904Z"
   },
   {
    "duration": 7,
    "start_time": "2023-08-15T18:25:49.959Z"
   },
   {
    "duration": 13,
    "start_time": "2023-08-15T18:25:49.969Z"
   },
   {
    "duration": 23,
    "start_time": "2023-08-15T18:25:49.984Z"
   },
   {
    "duration": 66,
    "start_time": "2023-08-15T18:25:50.011Z"
   },
   {
    "duration": 20738,
    "start_time": "2023-08-15T18:25:50.079Z"
   },
   {
    "duration": 549,
    "start_time": "2023-08-15T18:26:10.821Z"
   },
   {
    "duration": 5,
    "start_time": "2023-08-15T18:26:11.372Z"
   },
   {
    "duration": 2099,
    "start_time": "2023-08-21T03:14:49.233Z"
   },
   {
    "duration": 3,
    "start_time": "2023-08-21T03:14:51.334Z"
   },
   {
    "duration": 106,
    "start_time": "2023-08-21T03:14:51.338Z"
   },
   {
    "duration": 101,
    "start_time": "2023-08-21T03:14:51.446Z"
   },
   {
    "duration": 12,
    "start_time": "2023-08-21T03:14:51.549Z"
   },
   {
    "duration": 41,
    "start_time": "2023-08-21T03:14:51.563Z"
   },
   {
    "duration": 26,
    "start_time": "2023-08-21T03:14:51.606Z"
   },
   {
    "duration": 39,
    "start_time": "2023-08-21T03:14:51.634Z"
   },
   {
    "duration": 23,
    "start_time": "2023-08-21T03:14:51.674Z"
   },
   {
    "duration": 17,
    "start_time": "2023-08-21T03:14:51.699Z"
   },
   {
    "duration": 21,
    "start_time": "2023-08-21T03:14:51.717Z"
   },
   {
    "duration": 25,
    "start_time": "2023-08-21T03:14:51.739Z"
   },
   {
    "duration": 4239,
    "start_time": "2023-08-21T03:14:51.766Z"
   },
   {
    "duration": 3,
    "start_time": "2023-08-21T03:14:56.008Z"
   },
   {
    "duration": 1211,
    "start_time": "2023-08-21T03:14:56.012Z"
   },
   {
    "duration": 7,
    "start_time": "2023-08-21T03:14:57.225Z"
   },
   {
    "duration": 238,
    "start_time": "2023-08-21T03:14:57.234Z"
   },
   {
    "duration": 130,
    "start_time": "2023-08-21T03:14:57.474Z"
   },
   {
    "duration": 0,
    "start_time": "2023-08-21T03:14:57.606Z"
   },
   {
    "duration": 0,
    "start_time": "2023-08-21T03:14:57.608Z"
   },
   {
    "duration": 0,
    "start_time": "2023-08-21T03:14:57.609Z"
   },
   {
    "duration": 0,
    "start_time": "2023-08-21T03:14:57.610Z"
   },
   {
    "duration": 0,
    "start_time": "2023-08-21T03:14:57.611Z"
   },
   {
    "duration": 0,
    "start_time": "2023-08-21T03:14:57.612Z"
   },
   {
    "duration": 0,
    "start_time": "2023-08-21T03:14:57.613Z"
   },
   {
    "duration": 0,
    "start_time": "2023-08-21T03:14:57.614Z"
   },
   {
    "duration": 0,
    "start_time": "2023-08-21T03:14:57.616Z"
   },
   {
    "duration": 0,
    "start_time": "2023-08-21T03:14:57.617Z"
   },
   {
    "duration": 0,
    "start_time": "2023-08-21T03:14:57.618Z"
   },
   {
    "duration": 0,
    "start_time": "2023-08-21T03:14:57.619Z"
   },
   {
    "duration": 0,
    "start_time": "2023-08-21T03:14:57.620Z"
   },
   {
    "duration": 0,
    "start_time": "2023-08-21T03:14:57.621Z"
   },
   {
    "duration": 0,
    "start_time": "2023-08-21T03:14:57.622Z"
   },
   {
    "duration": 0,
    "start_time": "2023-08-21T03:14:57.623Z"
   },
   {
    "duration": 0,
    "start_time": "2023-08-21T03:14:57.624Z"
   },
   {
    "duration": 0,
    "start_time": "2023-08-21T03:14:57.625Z"
   },
   {
    "duration": 0,
    "start_time": "2023-08-21T03:14:57.626Z"
   },
   {
    "duration": 0,
    "start_time": "2023-08-21T03:14:57.627Z"
   },
   {
    "duration": 0,
    "start_time": "2023-08-21T03:14:57.628Z"
   },
   {
    "duration": 0,
    "start_time": "2023-08-21T03:14:57.629Z"
   },
   {
    "duration": 0,
    "start_time": "2023-08-21T03:14:57.630Z"
   },
   {
    "duration": 0,
    "start_time": "2023-08-21T03:14:57.632Z"
   },
   {
    "duration": 0,
    "start_time": "2023-08-21T03:14:57.633Z"
   },
   {
    "duration": 0,
    "start_time": "2023-08-21T03:14:57.681Z"
   },
   {
    "duration": 0,
    "start_time": "2023-08-21T03:14:57.683Z"
   },
   {
    "duration": 0,
    "start_time": "2023-08-21T03:14:57.684Z"
   },
   {
    "duration": 0,
    "start_time": "2023-08-21T03:14:57.686Z"
   },
   {
    "duration": 0,
    "start_time": "2023-08-21T03:14:57.687Z"
   },
   {
    "duration": 0,
    "start_time": "2023-08-21T03:14:57.688Z"
   },
   {
    "duration": 0,
    "start_time": "2023-08-21T03:14:57.690Z"
   },
   {
    "duration": 0,
    "start_time": "2023-08-21T03:14:57.691Z"
   },
   {
    "duration": 0,
    "start_time": "2023-08-21T03:14:57.692Z"
   },
   {
    "duration": 0,
    "start_time": "2023-08-21T03:14:57.693Z"
   },
   {
    "duration": 0,
    "start_time": "2023-08-21T03:14:57.694Z"
   },
   {
    "duration": 0,
    "start_time": "2023-08-21T03:14:57.696Z"
   },
   {
    "duration": 0,
    "start_time": "2023-08-21T03:14:57.696Z"
   },
   {
    "duration": 0,
    "start_time": "2023-08-21T03:14:57.698Z"
   },
   {
    "duration": 0,
    "start_time": "2023-08-21T03:14:57.699Z"
   },
   {
    "duration": 0,
    "start_time": "2023-08-21T03:14:57.700Z"
   },
   {
    "duration": 0,
    "start_time": "2023-08-21T03:14:57.701Z"
   },
   {
    "duration": 0,
    "start_time": "2023-08-21T03:14:57.702Z"
   },
   {
    "duration": 4,
    "start_time": "2023-08-21T03:16:39.500Z"
   },
   {
    "duration": 12,
    "start_time": "2023-08-21T03:16:39.939Z"
   },
   {
    "duration": 7,
    "start_time": "2023-08-21T03:16:42.752Z"
   },
   {
    "duration": 6,
    "start_time": "2023-08-21T03:16:42.761Z"
   },
   {
    "duration": 4,
    "start_time": "2023-08-21T03:16:44.868Z"
   },
   {
    "duration": 3,
    "start_time": "2023-08-21T03:16:45.387Z"
   },
   {
    "duration": 2,
    "start_time": "2023-08-21T03:16:46.211Z"
   },
   {
    "duration": 5,
    "start_time": "2023-08-21T03:16:46.610Z"
   },
   {
    "duration": 13,
    "start_time": "2023-08-21T03:16:47.076Z"
   },
   {
    "duration": 13,
    "start_time": "2023-08-21T03:16:47.490Z"
   },
   {
    "duration": 15292,
    "start_time": "2023-08-21T03:18:08.957Z"
   },
   {
    "duration": 8845,
    "start_time": "2023-08-21T03:18:56.565Z"
   },
   {
    "duration": 2096,
    "start_time": "2023-08-21T03:19:15.824Z"
   },
   {
    "duration": 2,
    "start_time": "2023-08-21T03:19:17.922Z"
   },
   {
    "duration": 5431,
    "start_time": "2023-08-21T03:19:17.926Z"
   },
   {
    "duration": 32,
    "start_time": "2023-08-21T03:19:23.359Z"
   },
   {
    "duration": 17,
    "start_time": "2023-08-21T03:19:23.393Z"
   },
   {
    "duration": 10,
    "start_time": "2023-08-21T03:19:23.412Z"
   },
   {
    "duration": 12,
    "start_time": "2023-08-21T03:19:23.423Z"
   },
   {
    "duration": 6,
    "start_time": "2023-08-21T03:19:23.437Z"
   },
   {
    "duration": 38,
    "start_time": "2023-08-21T03:19:23.444Z"
   },
   {
    "duration": 4,
    "start_time": "2023-08-21T03:19:23.484Z"
   },
   {
    "duration": 8,
    "start_time": "2023-08-21T03:19:23.490Z"
   },
   {
    "duration": 15,
    "start_time": "2023-08-21T03:19:23.500Z"
   },
   {
    "duration": 6,
    "start_time": "2023-08-21T03:19:23.517Z"
   },
   {
    "duration": 4175,
    "start_time": "2023-08-21T03:19:23.526Z"
   },
   {
    "duration": 3,
    "start_time": "2023-08-21T03:19:27.703Z"
   },
   {
    "duration": 1017,
    "start_time": "2023-08-21T03:19:27.708Z"
   },
   {
    "duration": 5,
    "start_time": "2023-08-21T03:19:28.727Z"
   },
   {
    "duration": 214,
    "start_time": "2023-08-21T03:19:28.733Z"
   },
   {
    "duration": 420,
    "start_time": "2023-08-21T03:19:28.949Z"
   },
   {
    "duration": 4,
    "start_time": "2023-08-21T03:19:29.371Z"
   },
   {
    "duration": 8,
    "start_time": "2023-08-21T03:19:29.381Z"
   },
   {
    "duration": 9,
    "start_time": "2023-08-21T03:19:29.391Z"
   },
   {
    "duration": 6,
    "start_time": "2023-08-21T03:19:29.401Z"
   },
   {
    "duration": 8,
    "start_time": "2023-08-21T03:19:29.409Z"
   },
   {
    "duration": 5,
    "start_time": "2023-08-21T03:19:29.418Z"
   },
   {
    "duration": 4,
    "start_time": "2023-08-21T03:19:29.424Z"
   },
   {
    "duration": 6,
    "start_time": "2023-08-21T03:19:29.430Z"
   },
   {
    "duration": 8,
    "start_time": "2023-08-21T03:19:29.437Z"
   },
   {
    "duration": 7,
    "start_time": "2023-08-21T03:19:29.480Z"
   },
   {
    "duration": 7,
    "start_time": "2023-08-21T03:19:29.489Z"
   },
   {
    "duration": 5,
    "start_time": "2023-08-21T03:19:29.497Z"
   },
   {
    "duration": 13,
    "start_time": "2023-08-21T03:19:29.503Z"
   },
   {
    "duration": 10,
    "start_time": "2023-08-21T03:19:29.517Z"
   },
   {
    "duration": 24,
    "start_time": "2023-08-21T03:19:29.529Z"
   },
   {
    "duration": 28,
    "start_time": "2023-08-21T03:19:29.554Z"
   },
   {
    "duration": 3,
    "start_time": "2023-08-21T03:19:29.584Z"
   },
   {
    "duration": 5,
    "start_time": "2023-08-21T03:19:29.589Z"
   },
   {
    "duration": 5,
    "start_time": "2023-08-21T03:19:29.595Z"
   },
   {
    "duration": 6,
    "start_time": "2023-08-21T03:19:29.601Z"
   },
   {
    "duration": 6,
    "start_time": "2023-08-21T03:19:29.609Z"
   },
   {
    "duration": 3,
    "start_time": "2023-08-21T03:19:29.619Z"
   },
   {
    "duration": 319,
    "start_time": "2023-08-21T03:19:29.624Z"
   },
   {
    "duration": 0,
    "start_time": "2023-08-21T03:19:29.945Z"
   },
   {
    "duration": 0,
    "start_time": "2023-08-21T03:19:29.946Z"
   },
   {
    "duration": 0,
    "start_time": "2023-08-21T03:19:29.947Z"
   },
   {
    "duration": 0,
    "start_time": "2023-08-21T03:19:29.948Z"
   },
   {
    "duration": 0,
    "start_time": "2023-08-21T03:19:29.949Z"
   },
   {
    "duration": 0,
    "start_time": "2023-08-21T03:19:29.950Z"
   },
   {
    "duration": 0,
    "start_time": "2023-08-21T03:19:29.952Z"
   },
   {
    "duration": 0,
    "start_time": "2023-08-21T03:19:29.952Z"
   },
   {
    "duration": 0,
    "start_time": "2023-08-21T03:19:29.953Z"
   },
   {
    "duration": 0,
    "start_time": "2023-08-21T03:19:29.954Z"
   },
   {
    "duration": 0,
    "start_time": "2023-08-21T03:19:29.955Z"
   },
   {
    "duration": 0,
    "start_time": "2023-08-21T03:19:29.956Z"
   },
   {
    "duration": 0,
    "start_time": "2023-08-21T03:19:29.957Z"
   },
   {
    "duration": 0,
    "start_time": "2023-08-21T03:19:29.958Z"
   },
   {
    "duration": 0,
    "start_time": "2023-08-21T03:19:29.959Z"
   },
   {
    "duration": 0,
    "start_time": "2023-08-21T03:19:29.960Z"
   },
   {
    "duration": 0,
    "start_time": "2023-08-21T03:19:29.961Z"
   },
   {
    "duration": 0,
    "start_time": "2023-08-21T03:19:29.981Z"
   },
   {
    "duration": 0,
    "start_time": "2023-08-21T03:19:29.982Z"
   },
   {
    "duration": 0,
    "start_time": "2023-08-21T03:19:29.983Z"
   },
   {
    "duration": 6,
    "start_time": "2023-08-21T03:22:15.359Z"
   },
   {
    "duration": 3,
    "start_time": "2023-08-21T03:22:16.463Z"
   },
   {
    "duration": 128,
    "start_time": "2023-08-21T03:22:16.976Z"
   },
   {
    "duration": 3,
    "start_time": "2023-08-21T03:23:28.546Z"
   },
   {
    "duration": 3,
    "start_time": "2023-08-21T03:23:34.258Z"
   },
   {
    "duration": 7,
    "start_time": "2023-08-21T03:26:07.641Z"
   },
   {
    "duration": 4,
    "start_time": "2023-08-21T03:26:11.667Z"
   },
   {
    "duration": 143,
    "start_time": "2023-08-21T03:26:11.995Z"
   },
   {
    "duration": 6,
    "start_time": "2023-08-21T03:26:37.731Z"
   },
   {
    "duration": 3,
    "start_time": "2023-08-21T03:26:38.107Z"
   },
   {
    "duration": 122,
    "start_time": "2023-08-21T03:26:38.460Z"
   },
   {
    "duration": 7,
    "start_time": "2023-08-21T03:26:56.469Z"
   },
   {
    "duration": 4,
    "start_time": "2023-08-21T03:26:57.418Z"
   },
   {
    "duration": 129,
    "start_time": "2023-08-21T03:26:57.618Z"
   },
   {
    "duration": 6,
    "start_time": "2023-08-21T03:27:22.431Z"
   },
   {
    "duration": 3,
    "start_time": "2023-08-21T03:27:22.763Z"
   },
   {
    "duration": 129,
    "start_time": "2023-08-21T03:27:23.059Z"
   },
   {
    "duration": 6,
    "start_time": "2023-08-21T03:29:48.759Z"
   },
   {
    "duration": 3,
    "start_time": "2023-08-21T03:29:49.085Z"
   },
   {
    "duration": 135,
    "start_time": "2023-08-21T03:29:49.477Z"
   },
   {
    "duration": 6,
    "start_time": "2023-08-21T03:30:13.061Z"
   },
   {
    "duration": 3,
    "start_time": "2023-08-21T03:30:13.510Z"
   },
   {
    "duration": 126,
    "start_time": "2023-08-21T03:30:13.976Z"
   },
   {
    "duration": 296252,
    "start_time": "2023-08-21T03:30:51.137Z"
   },
   {
    "duration": 7,
    "start_time": "2023-08-21T03:35:47.391Z"
   },
   {
    "duration": 18,
    "start_time": "2023-08-21T03:35:47.399Z"
   },
   {
    "duration": 130,
    "start_time": "2023-08-21T03:35:47.419Z"
   },
   {
    "duration": 4628,
    "start_time": "2023-08-21T03:36:24.011Z"
   },
   {
    "duration": 2,
    "start_time": "2023-08-21T03:36:28.642Z"
   },
   {
    "duration": 5637,
    "start_time": "2023-08-21T03:36:28.645Z"
   },
   {
    "duration": 80,
    "start_time": "2023-08-21T03:36:34.284Z"
   },
   {
    "duration": 32,
    "start_time": "2023-08-21T03:36:34.367Z"
   },
   {
    "duration": 29,
    "start_time": "2023-08-21T03:36:34.401Z"
   },
   {
    "duration": 17,
    "start_time": "2023-08-21T03:36:34.431Z"
   },
   {
    "duration": 5,
    "start_time": "2023-08-21T03:36:34.451Z"
   },
   {
    "duration": 31,
    "start_time": "2023-08-21T03:36:34.458Z"
   },
   {
    "duration": 4,
    "start_time": "2023-08-21T03:36:34.490Z"
   },
   {
    "duration": 10,
    "start_time": "2023-08-21T03:36:34.496Z"
   },
   {
    "duration": 15,
    "start_time": "2023-08-21T03:36:34.508Z"
   },
   {
    "duration": 7,
    "start_time": "2023-08-21T03:36:34.525Z"
   },
   {
    "duration": 4134,
    "start_time": "2023-08-21T03:36:34.536Z"
   },
   {
    "duration": 2,
    "start_time": "2023-08-21T03:36:38.672Z"
   },
   {
    "duration": 1021,
    "start_time": "2023-08-21T03:36:38.676Z"
   },
   {
    "duration": 4,
    "start_time": "2023-08-21T03:36:39.699Z"
   },
   {
    "duration": 393,
    "start_time": "2023-08-21T03:36:39.707Z"
   },
   {
    "duration": 372,
    "start_time": "2023-08-21T03:36:40.102Z"
   },
   {
    "duration": 6,
    "start_time": "2023-08-21T03:36:40.476Z"
   },
   {
    "duration": 10,
    "start_time": "2023-08-21T03:36:40.484Z"
   },
   {
    "duration": 11,
    "start_time": "2023-08-21T03:36:40.496Z"
   },
   {
    "duration": 14,
    "start_time": "2023-08-21T03:36:40.509Z"
   },
   {
    "duration": 6,
    "start_time": "2023-08-21T03:36:40.525Z"
   },
   {
    "duration": 10,
    "start_time": "2023-08-21T03:36:40.533Z"
   },
   {
    "duration": 4,
    "start_time": "2023-08-21T03:36:40.544Z"
   },
   {
    "duration": 18,
    "start_time": "2023-08-21T03:36:40.550Z"
   },
   {
    "duration": 16,
    "start_time": "2023-08-21T03:36:40.570Z"
   },
   {
    "duration": 20,
    "start_time": "2023-08-21T03:36:40.587Z"
   },
   {
    "duration": 9,
    "start_time": "2023-08-21T03:36:40.609Z"
   },
   {
    "duration": 4,
    "start_time": "2023-08-21T03:36:40.620Z"
   },
   {
    "duration": 12,
    "start_time": "2023-08-21T03:36:40.626Z"
   },
   {
    "duration": 6,
    "start_time": "2023-08-21T03:36:40.640Z"
   },
   {
    "duration": 13,
    "start_time": "2023-08-21T03:36:40.647Z"
   },
   {
    "duration": 6,
    "start_time": "2023-08-21T03:36:40.661Z"
   },
   {
    "duration": 3,
    "start_time": "2023-08-21T03:36:40.668Z"
   },
   {
    "duration": 3,
    "start_time": "2023-08-21T03:36:40.681Z"
   },
   {
    "duration": 6,
    "start_time": "2023-08-21T03:36:40.686Z"
   },
   {
    "duration": 11,
    "start_time": "2023-08-21T03:36:40.693Z"
   },
   {
    "duration": 10,
    "start_time": "2023-08-21T03:36:40.705Z"
   },
   {
    "duration": 8,
    "start_time": "2023-08-21T03:36:40.719Z"
   },
   {
    "duration": 342,
    "start_time": "2023-08-21T03:36:40.728Z"
   },
   {
    "duration": 0,
    "start_time": "2023-08-21T03:36:41.071Z"
   },
   {
    "duration": 1,
    "start_time": "2023-08-21T03:36:41.072Z"
   },
   {
    "duration": 0,
    "start_time": "2023-08-21T03:36:41.073Z"
   },
   {
    "duration": 0,
    "start_time": "2023-08-21T03:36:41.074Z"
   },
   {
    "duration": 0,
    "start_time": "2023-08-21T03:36:41.076Z"
   },
   {
    "duration": 0,
    "start_time": "2023-08-21T03:36:41.080Z"
   },
   {
    "duration": 0,
    "start_time": "2023-08-21T03:36:41.082Z"
   },
   {
    "duration": 0,
    "start_time": "2023-08-21T03:36:41.082Z"
   },
   {
    "duration": 0,
    "start_time": "2023-08-21T03:36:41.083Z"
   },
   {
    "duration": 0,
    "start_time": "2023-08-21T03:36:41.084Z"
   },
   {
    "duration": 0,
    "start_time": "2023-08-21T03:36:41.085Z"
   },
   {
    "duration": 0,
    "start_time": "2023-08-21T03:36:41.086Z"
   },
   {
    "duration": 0,
    "start_time": "2023-08-21T03:36:41.087Z"
   },
   {
    "duration": 0,
    "start_time": "2023-08-21T03:36:41.089Z"
   },
   {
    "duration": 0,
    "start_time": "2023-08-21T03:36:41.090Z"
   },
   {
    "duration": 0,
    "start_time": "2023-08-21T03:36:41.091Z"
   },
   {
    "duration": 0,
    "start_time": "2023-08-21T03:36:41.092Z"
   },
   {
    "duration": 0,
    "start_time": "2023-08-21T03:36:41.093Z"
   },
   {
    "duration": 0,
    "start_time": "2023-08-21T03:36:41.094Z"
   },
   {
    "duration": 0,
    "start_time": "2023-08-21T03:36:41.095Z"
   },
   {
    "duration": 7,
    "start_time": "2023-08-21T03:37:41.666Z"
   },
   {
    "duration": 3,
    "start_time": "2023-08-21T03:37:42.170Z"
   },
   {
    "duration": 151,
    "start_time": "2023-08-21T03:37:42.826Z"
   },
   {
    "duration": 6,
    "start_time": "2023-08-21T03:38:13.195Z"
   },
   {
    "duration": 3,
    "start_time": "2023-08-21T03:38:13.571Z"
   },
   {
    "duration": 165,
    "start_time": "2023-08-21T03:38:13.900Z"
   },
   {
    "duration": 7,
    "start_time": "2023-08-21T03:38:53.843Z"
   },
   {
    "duration": 4,
    "start_time": "2023-08-21T03:38:54.403Z"
   },
   {
    "duration": 48768,
    "start_time": "2023-08-21T03:38:54.925Z"
   },
   {
    "duration": 4,
    "start_time": "2023-08-21T03:39:58.188Z"
   },
   {
    "duration": 8,
    "start_time": "2023-08-21T03:39:59.341Z"
   },
   {
    "duration": 8,
    "start_time": "2023-08-21T03:40:01.261Z"
   },
   {
    "duration": 6,
    "start_time": "2023-08-21T03:40:14.644Z"
   },
   {
    "duration": 3,
    "start_time": "2023-08-21T03:40:15.053Z"
   },
   {
    "duration": 48802,
    "start_time": "2023-08-21T03:40:15.981Z"
   },
   {
    "duration": 4,
    "start_time": "2023-08-21T03:41:04.785Z"
   },
   {
    "duration": 12,
    "start_time": "2023-08-21T03:41:04.791Z"
   },
   {
    "duration": 9,
    "start_time": "2023-08-21T03:41:04.805Z"
   },
   {
    "duration": 3,
    "start_time": "2023-08-21T03:41:04.816Z"
   },
   {
    "duration": 2688,
    "start_time": "2023-08-21T03:42:10.310Z"
   },
   {
    "duration": 2,
    "start_time": "2023-08-21T03:42:13.001Z"
   },
   {
    "duration": 5851,
    "start_time": "2023-08-21T03:42:13.005Z"
   },
   {
    "duration": 31,
    "start_time": "2023-08-21T03:42:18.858Z"
   },
   {
    "duration": 19,
    "start_time": "2023-08-21T03:42:18.891Z"
   },
   {
    "duration": 12,
    "start_time": "2023-08-21T03:42:18.912Z"
   },
   {
    "duration": 11,
    "start_time": "2023-08-21T03:42:18.926Z"
   },
   {
    "duration": 8,
    "start_time": "2023-08-21T03:42:18.939Z"
   },
   {
    "duration": 39,
    "start_time": "2023-08-21T03:42:18.949Z"
   },
   {
    "duration": 4,
    "start_time": "2023-08-21T03:42:18.991Z"
   },
   {
    "duration": 9,
    "start_time": "2023-08-21T03:42:18.996Z"
   },
   {
    "duration": 14,
    "start_time": "2023-08-21T03:42:19.006Z"
   },
   {
    "duration": 7,
    "start_time": "2023-08-21T03:42:19.022Z"
   },
   {
    "duration": 4167,
    "start_time": "2023-08-21T03:42:19.030Z"
   },
   {
    "duration": 2,
    "start_time": "2023-08-21T03:42:23.199Z"
   },
   {
    "duration": 1030,
    "start_time": "2023-08-21T03:42:23.203Z"
   },
   {
    "duration": 4,
    "start_time": "2023-08-21T03:42:24.235Z"
   },
   {
    "duration": 394,
    "start_time": "2023-08-21T03:42:24.241Z"
   },
   {
    "duration": 415,
    "start_time": "2023-08-21T03:42:24.637Z"
   },
   {
    "duration": 4,
    "start_time": "2023-08-21T03:42:25.054Z"
   },
   {
    "duration": 29,
    "start_time": "2023-08-21T03:42:25.059Z"
   },
   {
    "duration": 20,
    "start_time": "2023-08-21T03:42:25.089Z"
   },
   {
    "duration": 10,
    "start_time": "2023-08-21T03:42:25.110Z"
   },
   {
    "duration": 4,
    "start_time": "2023-08-21T03:42:25.123Z"
   },
   {
    "duration": 12,
    "start_time": "2023-08-21T03:42:25.129Z"
   },
   {
    "duration": 18,
    "start_time": "2023-08-21T03:42:25.143Z"
   },
   {
    "duration": 14,
    "start_time": "2023-08-21T03:42:25.163Z"
   },
   {
    "duration": 17,
    "start_time": "2023-08-21T03:42:25.182Z"
   },
   {
    "duration": 27,
    "start_time": "2023-08-21T03:42:25.201Z"
   },
   {
    "duration": 26,
    "start_time": "2023-08-21T03:42:25.230Z"
   },
   {
    "duration": 13,
    "start_time": "2023-08-21T03:42:25.258Z"
   },
   {
    "duration": 29,
    "start_time": "2023-08-21T03:42:25.272Z"
   },
   {
    "duration": 45,
    "start_time": "2023-08-21T03:42:25.304Z"
   },
   {
    "duration": 19,
    "start_time": "2023-08-21T03:42:25.351Z"
   },
   {
    "duration": 11,
    "start_time": "2023-08-21T03:42:25.372Z"
   },
   {
    "duration": 9,
    "start_time": "2023-08-21T03:42:25.384Z"
   },
   {
    "duration": 8,
    "start_time": "2023-08-21T03:42:25.394Z"
   },
   {
    "duration": 7,
    "start_time": "2023-08-21T03:42:25.403Z"
   },
   {
    "duration": 39,
    "start_time": "2023-08-21T03:42:25.411Z"
   },
   {
    "duration": 14,
    "start_time": "2023-08-21T03:42:25.452Z"
   },
   {
    "duration": 9,
    "start_time": "2023-08-21T03:42:25.467Z"
   },
   {
    "duration": 2714,
    "start_time": "2023-08-21T03:42:59.169Z"
   },
   {
    "duration": 2,
    "start_time": "2023-08-21T03:43:01.885Z"
   },
   {
    "duration": 5940,
    "start_time": "2023-08-21T03:43:01.888Z"
   },
   {
    "duration": 41,
    "start_time": "2023-08-21T03:43:07.830Z"
   },
   {
    "duration": 19,
    "start_time": "2023-08-21T03:43:07.874Z"
   },
   {
    "duration": 15,
    "start_time": "2023-08-21T03:43:07.894Z"
   },
   {
    "duration": 24,
    "start_time": "2023-08-21T03:43:07.911Z"
   },
   {
    "duration": 5,
    "start_time": "2023-08-21T03:43:07.937Z"
   },
   {
    "duration": 37,
    "start_time": "2023-08-21T03:43:07.944Z"
   },
   {
    "duration": 6,
    "start_time": "2023-08-21T03:43:07.982Z"
   },
   {
    "duration": 12,
    "start_time": "2023-08-21T03:43:07.990Z"
   },
   {
    "duration": 11,
    "start_time": "2023-08-21T03:43:08.004Z"
   },
   {
    "duration": 6,
    "start_time": "2023-08-21T03:43:08.017Z"
   },
   {
    "duration": 4502,
    "start_time": "2023-08-21T03:43:08.027Z"
   },
   {
    "duration": 3,
    "start_time": "2023-08-21T03:43:12.530Z"
   },
   {
    "duration": 1347,
    "start_time": "2023-08-21T03:43:12.534Z"
   },
   {
    "duration": 5,
    "start_time": "2023-08-21T03:43:13.883Z"
   },
   {
    "duration": 794,
    "start_time": "2023-08-21T03:43:13.890Z"
   },
   {
    "duration": 633,
    "start_time": "2023-08-21T03:43:14.686Z"
   },
   {
    "duration": 4,
    "start_time": "2023-08-21T03:43:15.320Z"
   },
   {
    "duration": 9,
    "start_time": "2023-08-21T03:43:15.381Z"
   },
   {
    "duration": 8,
    "start_time": "2023-08-21T03:43:15.391Z"
   },
   {
    "duration": 6,
    "start_time": "2023-08-21T03:43:15.401Z"
   },
   {
    "duration": 5,
    "start_time": "2023-08-21T03:43:15.408Z"
   },
   {
    "duration": 4,
    "start_time": "2023-08-21T03:43:15.415Z"
   },
   {
    "duration": 15,
    "start_time": "2023-08-21T03:43:15.421Z"
   },
   {
    "duration": 16,
    "start_time": "2023-08-21T03:43:15.482Z"
   },
   {
    "duration": 12,
    "start_time": "2023-08-21T03:43:15.500Z"
   },
   {
    "duration": 8,
    "start_time": "2023-08-21T03:43:15.514Z"
   },
   {
    "duration": 9,
    "start_time": "2023-08-21T03:43:15.523Z"
   },
   {
    "duration": 48,
    "start_time": "2023-08-21T03:43:15.534Z"
   },
   {
    "duration": 15,
    "start_time": "2023-08-21T03:43:15.584Z"
   },
   {
    "duration": 16,
    "start_time": "2023-08-21T03:43:15.601Z"
   },
   {
    "duration": 5,
    "start_time": "2023-08-21T03:43:15.619Z"
   },
   {
    "duration": 6,
    "start_time": "2023-08-21T03:43:15.626Z"
   },
   {
    "duration": 4,
    "start_time": "2023-08-21T03:43:15.633Z"
   },
   {
    "duration": 8,
    "start_time": "2023-08-21T03:43:15.639Z"
   },
   {
    "duration": 5,
    "start_time": "2023-08-21T03:43:15.680Z"
   },
   {
    "duration": 23,
    "start_time": "2023-08-21T03:43:15.687Z"
   },
   {
    "duration": 24,
    "start_time": "2023-08-21T03:43:15.712Z"
   },
   {
    "duration": 26,
    "start_time": "2023-08-21T03:43:15.742Z"
   },
   {
    "duration": 50511,
    "start_time": "2023-08-21T03:43:15.772Z"
   },
   {
    "duration": 5,
    "start_time": "2023-08-21T03:44:06.286Z"
   },
   {
    "duration": 31,
    "start_time": "2023-08-21T03:44:06.293Z"
   },
   {
    "duration": 58,
    "start_time": "2023-08-21T03:44:06.325Z"
   },
   {
    "duration": 18,
    "start_time": "2023-08-21T03:44:06.384Z"
   },
   {
    "duration": 299683,
    "start_time": "2023-08-21T03:44:06.404Z"
   },
   {
    "duration": 5,
    "start_time": "2023-08-21T03:49:06.090Z"
   },
   {
    "duration": 21,
    "start_time": "2023-08-21T03:49:06.097Z"
   },
   {
    "duration": 60,
    "start_time": "2023-08-21T03:49:06.121Z"
   },
   {
    "duration": 5123,
    "start_time": "2023-08-21T03:49:06.182Z"
   },
   {
    "duration": 75,
    "start_time": "2023-08-21T03:49:11.307Z"
   },
   {
    "duration": 419,
    "start_time": "2023-08-21T03:49:11.383Z"
   },
   {
    "duration": 3,
    "start_time": "2023-08-21T03:49:11.803Z"
   },
   {
    "duration": 7,
    "start_time": "2023-08-21T03:49:11.807Z"
   },
   {
    "duration": 5,
    "start_time": "2023-08-21T03:49:11.815Z"
   },
   {
    "duration": 6,
    "start_time": "2023-08-21T03:49:11.821Z"
   },
   {
    "duration": 835774,
    "start_time": "2023-08-21T03:49:11.829Z"
   },
   {
    "duration": 0,
    "start_time": "2023-08-21T04:03:07.605Z"
   },
   {
    "duration": 0,
    "start_time": "2023-08-21T04:03:07.606Z"
   },
   {
    "duration": 0,
    "start_time": "2023-08-21T04:03:07.607Z"
   },
   {
    "duration": 0,
    "start_time": "2023-08-21T04:03:07.609Z"
   },
   {
    "duration": 2233,
    "start_time": "2023-08-21T08:20:10.348Z"
   },
   {
    "duration": 3,
    "start_time": "2023-08-21T08:20:12.584Z"
   },
   {
    "duration": 7,
    "start_time": "2023-08-21T08:20:12.588Z"
   },
   {
    "duration": 75,
    "start_time": "2023-08-21T08:20:13.339Z"
   },
   {
    "duration": 119,
    "start_time": "2023-08-21T08:20:14.773Z"
   },
   {
    "duration": 14,
    "start_time": "2023-08-21T08:20:18.349Z"
   },
   {
    "duration": 12,
    "start_time": "2023-08-21T08:20:21.758Z"
   },
   {
    "duration": 4,
    "start_time": "2023-08-21T08:20:24.666Z"
   },
   {
    "duration": 30,
    "start_time": "2023-08-21T08:20:25.957Z"
   },
   {
    "duration": 5,
    "start_time": "2023-08-21T08:20:28.919Z"
   },
   {
    "duration": 8,
    "start_time": "2023-08-21T08:20:31.787Z"
   },
   {
    "duration": 24,
    "start_time": "2023-08-21T08:20:32.730Z"
   },
   {
    "duration": 12,
    "start_time": "2023-08-21T08:20:36.521Z"
   },
   {
    "duration": 4481,
    "start_time": "2023-08-21T08:20:38.063Z"
   },
   {
    "duration": 4,
    "start_time": "2023-08-21T08:20:42.547Z"
   },
   {
    "duration": 1277,
    "start_time": "2023-08-21T08:20:42.554Z"
   },
   {
    "duration": 11,
    "start_time": "2023-08-21T08:20:43.834Z"
   },
   {
    "duration": 239,
    "start_time": "2023-08-21T08:20:43.847Z"
   },
   {
    "duration": 142,
    "start_time": "2023-08-21T08:20:45.257Z"
   },
   {
    "duration": 4,
    "start_time": "2023-08-21T08:20:47.411Z"
   },
   {
    "duration": 19,
    "start_time": "2023-08-21T08:20:47.715Z"
   },
   {
    "duration": 11,
    "start_time": "2023-08-21T08:20:50.619Z"
   },
   {
    "duration": 6,
    "start_time": "2023-08-21T08:20:51.080Z"
   },
   {
    "duration": 5,
    "start_time": "2023-08-21T08:20:56.181Z"
   },
   {
    "duration": 4,
    "start_time": "2023-08-21T08:20:56.742Z"
   },
   {
    "duration": 4,
    "start_time": "2023-08-21T08:20:58.102Z"
   },
   {
    "duration": 5,
    "start_time": "2023-08-21T08:20:58.451Z"
   },
   {
    "duration": 14,
    "start_time": "2023-08-21T08:20:59.690Z"
   },
   {
    "duration": 15,
    "start_time": "2023-08-21T08:21:00.010Z"
   },
   {
    "duration": 4,
    "start_time": "2023-08-21T08:21:00.343Z"
   },
   {
    "duration": 9,
    "start_time": "2023-08-21T08:21:16.561Z"
   },
   {
    "duration": 8,
    "start_time": "2023-08-21T08:21:37.465Z"
   },
   {
    "duration": 2,
    "start_time": "2023-08-21T08:21:58.042Z"
   },
   {
    "duration": 13,
    "start_time": "2023-08-21T08:21:58.685Z"
   },
   {
    "duration": 18,
    "start_time": "2023-08-21T08:22:00.377Z"
   },
   {
    "duration": 13,
    "start_time": "2023-08-21T08:22:01.647Z"
   },
   {
    "duration": 7,
    "start_time": "2023-08-21T08:22:02.703Z"
   },
   {
    "duration": 4,
    "start_time": "2023-08-21T08:22:06.681Z"
   },
   {
    "duration": 4,
    "start_time": "2023-08-21T08:22:07.712Z"
   },
   {
    "duration": 8,
    "start_time": "2023-08-21T08:22:10.069Z"
   },
   {
    "duration": 8,
    "start_time": "2023-08-21T08:22:14.689Z"
   },
   {
    "duration": 10,
    "start_time": "2023-08-21T08:22:18.458Z"
   },
   {
    "duration": 105,
    "start_time": "2023-08-21T08:22:31.802Z"
   },
   {
    "duration": 4,
    "start_time": "2023-08-21T08:22:48.805Z"
   },
   {
    "duration": 99374,
    "start_time": "2023-08-21T08:23:02.182Z"
   },
   {
    "duration": 0,
    "start_time": "2023-08-21T08:24:41.559Z"
   },
   {
    "duration": 1,
    "start_time": "2023-08-21T08:24:41.560Z"
   },
   {
    "duration": 0,
    "start_time": "2023-08-21T08:24:41.626Z"
   },
   {
    "duration": 0,
    "start_time": "2023-08-21T08:24:41.627Z"
   },
   {
    "duration": 261267,
    "start_time": "2023-08-21T08:26:38.156Z"
   },
   {
    "duration": 16,
    "start_time": "2023-08-21T08:30:59.425Z"
   },
   {
    "duration": 9,
    "start_time": "2023-08-21T08:30:59.445Z"
   },
   {
    "duration": 15,
    "start_time": "2023-08-21T08:30:59.456Z"
   },
   {
    "duration": 5,
    "start_time": "2023-08-21T08:30:59.473Z"
   }
  ],
  "kernelspec": {
   "display_name": "Python 3 (ipykernel)",
   "language": "python",
   "name": "python3"
  },
  "language_info": {
   "codemirror_mode": {
    "name": "ipython",
    "version": 3
   },
   "file_extension": ".py",
   "mimetype": "text/x-python",
   "name": "python",
   "nbconvert_exporter": "python",
   "pygments_lexer": "ipython3",
   "version": "3.9.13"
  },
  "toc": {
   "base_numbering": 1,
   "nav_menu": {},
   "number_sections": false,
   "sideBar": true,
   "skip_h1_title": false,
   "title_cell": "Table of Contents",
   "title_sidebar": "Contents",
   "toc_cell": false,
   "toc_position": {},
   "toc_section_display": true,
   "toc_window_display": false
  },
  "varInspector": {
   "cols": {
    "lenName": 16,
    "lenType": 16,
    "lenVar": 40
   },
   "kernels_config": {
    "python": {
     "delete_cmd_postfix": "",
     "delete_cmd_prefix": "del ",
     "library": "var_list.py",
     "varRefreshCmd": "print(var_dic_list())"
    },
    "r": {
     "delete_cmd_postfix": ") ",
     "delete_cmd_prefix": "rm(",
     "library": "var_list.r",
     "varRefreshCmd": "cat(var_dic_list()) "
    }
   },
   "types_to_exclude": [
    "module",
    "function",
    "builtin_function_or_method",
    "instance",
    "_Feature"
   ],
   "window_display": false
  }
 },
 "nbformat": 4,
 "nbformat_minor": 5
}
